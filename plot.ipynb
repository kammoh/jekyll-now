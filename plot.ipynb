{
 "metadata": {
  "language_info": {
   "codemirror_mode": {
    "name": "ipython",
    "version": 3
   },
   "file_extension": ".py",
   "mimetype": "text/x-python",
   "name": "python",
   "nbconvert_exporter": "python",
   "pygments_lexer": "ipython3",
   "version": "3.8.3-final"
  },
  "orig_nbformat": 2,
  "kernelspec": {
   "name": "python_defaultSpec_1596427257983",
   "display_name": "Python 3.8.3 64-bit"
  }
 },
 "nbformat": 4,
 "nbformat_minor": 2,
 "cells": [
  {
   "cell_type": "code",
   "execution_count": 361,
   "metadata": {
    "tags": []
   },
   "outputs": [
    {
     "output_type": "display_data",
     "data": {
      "application/vnd.plotly.v1+json": {
       "config": {
        "displayModeBar": true,
        "displaylogo": false,
        "modeBarButtonsToRemove": [
         "hoverClosest3d",
         "hoverClosestCartesian",
         "hoverClosestGeo",
         "hoverClosestGl2d",
         "hoverClosestPie",
         "lasso2d",
         "toggleSpikelines",
         " hoverClosestCartesian",
         "hoverCompareCartesian"
        ],
        "plotlyServerURL": "https://plot.ly",
        "responsive": true
       },
       "data": [
        {
         "legendgroup": "BIKE",
         "marker": {
          "color": "#4C78A8",
          "line": {
           "color": "black",
           "width": 0.5
          },
          "opacity": 1,
          "size": 12,
          "symbol": [
           1,
           0
          ]
         },
         "mode": "markers",
         "name": "BIKE (Short Hamming)",
         "showlegend": true,
         "text": [
          null,
          null
         ],
         "type": "scatter",
         "x": [
          1540,
          3082
         ],
         "y": [
          1572,
          3114
         ]
        },
        {
         "legendgroup": "CRYSTALS-KYBER",
         "marker": {
          "color": "#F58518",
          "line": {
           "color": "black",
           "width": 0.5
          },
          "opacity": 1,
          "size": 12,
          "symbol": [
           1,
           0,
           4
          ]
         },
         "mode": "markers",
         "name": "CRYSTALS-KYBER (MLWE)",
         "showlegend": true,
         "text": [
          "KYBER512",
          "KYBER768",
          "KYBER1024"
         ],
         "type": "scatter",
         "x": [
          800,
          1184,
          1568
         ],
         "y": [
          736,
          1088,
          1568
         ]
        },
        {
         "legendgroup": "Classic McEliece",
         "marker": {
          "color": "#E45756",
          "line": {
           "color": "black",
           "width": 0.5
          },
          "opacity": 1,
          "size": 12,
          "symbol": [
           1,
           0,
           4,
           4,
           4
          ]
         },
         "mode": "markers",
         "name": "Classic McEliece (Goppa)",
         "showlegend": true,
         "text": [
          "mceliece348864",
          "mceliece460896",
          "mceliece6688128",
          "mceliece6960119",
          "mceliece8192128"
         ],
         "type": "scatter",
         "x": [
          261120,
          524160,
          1044992,
          1047319,
          1357824
         ],
         "y": [
          128,
          188,
          240,
          226,
          240
         ]
        },
        {
         "legendgroup": "FrodoKEM",
         "marker": {
          "color": "#72B7B2",
          "line": {
           "color": "black",
           "width": 0.5
          },
          "opacity": 1,
          "size": 12,
          "symbol": [
           1,
           0,
           4
          ]
         },
         "mode": "markers",
         "name": "FrodoKEM (LWE)",
         "showlegend": true,
         "text": [
          "Frodo-640",
          "Frodo-976",
          "Frodo-1344"
         ],
         "type": "scatter",
         "x": [
          9616,
          15632,
          21520
         ],
         "y": [
          9720,
          15744,
          21632
         ]
        },
        {
         "legendgroup": "HQC",
         "marker": {
          "color": "#54A24B",
          "line": {
           "color": "black",
           "width": 0.5
          },
          "opacity": 1,
          "size": 12,
          "symbol": [
           1,
           1,
           0,
           0,
           4,
           4
          ]
         },
         "mode": "markers",
         "name": "HQC (Short Hamming)",
         "showlegend": true,
         "text": [
          "hqc-128",
          "hqc-RMRS-128",
          "hqc-192",
          "hqc-RMRS-192",
          "hqc-256",
          "hqc-RMRS-256"
         ],
         "type": "scatter",
         "x": [
          3024,
          2607,
          5690,
          4906,
          8698,
          7535
         ],
         "y": [
          6017,
          5191,
          11364,
          9794,
          17379,
          15047
         ]
        },
        {
         "legendgroup": "NTRU",
         "marker": {
          "color": "#EECA3B",
          "line": {
           "color": "black",
           "width": 0.5
          },
          "opacity": 1,
          "size": 12,
          "symbol": [
           1,
           1,
           0
          ]
         },
         "mode": "markers",
         "name": "NTRU (NTRU)",
         "showlegend": true,
         "text": [
          "ntruhps2048677",
          "ntruhrss701",
          "ntruhps4096821"
         ],
         "type": "scatter",
         "x": [
          931,
          1138,
          1230
         ],
         "y": [
          931,
          1138,
          1230
         ]
        },
        {
         "legendgroup": "NTRU Prime",
         "marker": {
          "color": "#B279A2",
          "line": {
           "color": "black",
           "width": 0.5
          },
          "opacity": 1,
          "size": 12,
          "symbol": [
           1,
           2,
           2,
           0,
           0,
           3,
           3
          ]
         },
         "mode": "markers",
         "name": "NTRU Prime (NTRU)",
         "showlegend": true,
         "text": [
          "sntrup653",
          "sntrup653",
          "ntrulpr653",
          "sntrup761",
          "ntrulpr761",
          "sntrup857",
          "ntrulpr857"
         ],
         "type": "scatter",
         "x": [
          994,
          994,
          897,
          1158,
          1039,
          1184,
          1322
         ],
         "y": [
          897,
          897,
          1025,
          1039,
          1167,
          1312,
          1184
         ]
        },
        {
         "legendgroup": "SABER",
         "marker": {
          "color": "#FF9DA6",
          "line": {
           "color": "black",
           "width": 0.5
          },
          "opacity": 1,
          "size": 12,
          "symbol": [
           1,
           0,
           4
          ]
         },
         "mode": "markers",
         "name": "SABER (MLWR)",
         "showlegend": true,
         "text": [
          "LightSaber",
          "Saber",
          "FireSaber"
         ],
         "type": "scatter",
         "x": [
          672,
          992,
          1312
         ],
         "y": [
          736,
          1088,
          1472
         ]
        },
        {
         "legendgroup": "SIKE",
         "marker": {
          "color": "#9D755D",
          "line": {
           "color": "black",
           "width": 0.5
          },
          "opacity": 1,
          "size": 12,
          "symbol": [
           1,
           1,
           2,
           2,
           0,
           0,
           4,
           4
          ]
         },
         "mode": "markers",
         "name": "SIKE (Isogeny)",
         "showlegend": true,
         "text": [
          "SIKEp434",
          "SIKEp434_compressed",
          "SIKEp503",
          "SIKEp503_compressed",
          "SIKEp610",
          "SIKEp610_compressed",
          "SIKEp751",
          "SIKEp751_compressed"
         ],
         "type": "scatter",
         "x": [
          330,
          197,
          378,
          225,
          462,
          274,
          564,
          335
         ],
         "y": [
          346,
          236,
          402,
          280,
          486,
          336,
          596,
          410
         ]
        },
        {
         "legendgroup": "1",
         "marker": {
          "color": "Black",
          "colorscale": [
           [
            0,
            "#4C78A8"
           ],
           [
            0.1111111111111111,
            "#F58518"
           ],
           [
            0.2222222222222222,
            "#E45756"
           ],
           [
            0.3333333333333333,
            "#72B7B2"
           ],
           [
            0.4444444444444444,
            "#54A24B"
           ],
           [
            0.5555555555555556,
            "#EECA3B"
           ],
           [
            0.6666666666666666,
            "#B279A2"
           ],
           [
            0.7777777777777778,
            "#FF9DA6"
           ],
           [
            0.8888888888888888,
            "#9D755D"
           ],
           [
            1,
            "#BAB0AC"
           ]
          ],
          "line": {
           "color": "orange",
           "width": 1
          },
          "opacity": 1,
          "size": 12,
          "symbol": [
           101,
           101,
           101,
           101,
           101,
           101,
           101,
           101,
           101,
           101,
           101
          ]
         },
         "mode": "markers",
         "name": "Security Level 1",
         "showlegend": true,
         "text": [
          null,
          "KYBER512",
          "mceliece348864",
          "Frodo-640",
          "hqc-128",
          "hqc-RMRS-128",
          "ntruhps2048677",
          "ntruhrss701",
          "LightSaber",
          "SIKEp434",
          "SIKEp434_compressed"
         ],
         "type": "scatter",
         "visible": "legendonly",
         "x": [
          1540,
          800,
          261120,
          9616,
          3024,
          2607,
          931,
          1138,
          672,
          330,
          197
         ],
         "y": [
          1572,
          736,
          128,
          9720,
          6017,
          5191,
          931,
          1138,
          736,
          346,
          236
         ]
        },
        {
         "legendgroup": "2",
         "marker": {
          "color": "Black",
          "colorscale": [
           [
            0,
            "#4C78A8"
           ],
           [
            0.1111111111111111,
            "#F58518"
           ],
           [
            0.2222222222222222,
            "#E45756"
           ],
           [
            0.3333333333333333,
            "#72B7B2"
           ],
           [
            0.4444444444444444,
            "#54A24B"
           ],
           [
            0.5555555555555556,
            "#EECA3B"
           ],
           [
            0.6666666666666666,
            "#B279A2"
           ],
           [
            0.7777777777777778,
            "#FF9DA6"
           ],
           [
            0.8888888888888888,
            "#9D755D"
           ],
           [
            1,
            "#BAB0AC"
           ]
          ],
          "line": {
           "color": "orange",
           "width": 1
          },
          "opacity": 1,
          "size": 12,
          "symbol": [
           102,
           102,
           102,
           102
          ]
         },
         "mode": "markers",
         "name": "Security Level 2",
         "showlegend": true,
         "text": [
          "sntrup653",
          "ntrulpr653",
          "SIKEp503",
          "SIKEp503_compressed"
         ],
         "type": "scatter",
         "visible": "legendonly",
         "x": [
          994,
          897,
          378,
          225
         ],
         "y": [
          897,
          1025,
          402,
          280
         ]
        },
        {
         "legendgroup": "3",
         "marker": {
          "color": "Black",
          "colorscale": [
           [
            0,
            "#4C78A8"
           ],
           [
            0.1111111111111111,
            "#F58518"
           ],
           [
            0.2222222222222222,
            "#E45756"
           ],
           [
            0.3333333333333333,
            "#72B7B2"
           ],
           [
            0.4444444444444444,
            "#54A24B"
           ],
           [
            0.5555555555555556,
            "#EECA3B"
           ],
           [
            0.6666666666666666,
            "#B279A2"
           ],
           [
            0.7777777777777778,
            "#FF9DA6"
           ],
           [
            0.8888888888888888,
            "#9D755D"
           ],
           [
            1,
            "#BAB0AC"
           ]
          ],
          "line": {
           "color": "orange",
           "width": 1
          },
          "opacity": 1,
          "size": 12,
          "symbol": [
           100,
           100,
           100,
           100,
           100,
           100,
           100,
           100,
           100,
           100,
           100,
           100
          ]
         },
         "mode": "markers",
         "name": "Security Level 3",
         "showlegend": true,
         "text": [
          null,
          "KYBER768",
          "mceliece460896",
          "Frodo-976",
          "hqc-192",
          "hqc-RMRS-192",
          "ntruhps4096821",
          "sntrup761",
          "ntrulpr761",
          "Saber",
          "SIKEp610",
          "SIKEp610_compressed"
         ],
         "type": "scatter",
         "visible": "legendonly",
         "x": [
          3082,
          1184,
          524160,
          15632,
          5690,
          4906,
          1230,
          1158,
          1039,
          992,
          462,
          274
         ],
         "y": [
          3114,
          1088,
          188,
          15744,
          11364,
          9794,
          1230,
          1039,
          1167,
          1088,
          486,
          336
         ]
        },
        {
         "legendgroup": "4",
         "marker": {
          "color": "Black",
          "colorscale": [
           [
            0,
            "#4C78A8"
           ],
           [
            0.1111111111111111,
            "#F58518"
           ],
           [
            0.2222222222222222,
            "#E45756"
           ],
           [
            0.3333333333333333,
            "#72B7B2"
           ],
           [
            0.4444444444444444,
            "#54A24B"
           ],
           [
            0.5555555555555556,
            "#EECA3B"
           ],
           [
            0.6666666666666666,
            "#B279A2"
           ],
           [
            0.7777777777777778,
            "#FF9DA6"
           ],
           [
            0.8888888888888888,
            "#9D755D"
           ],
           [
            1,
            "#BAB0AC"
           ]
          ],
          "line": {
           "color": "orange",
           "width": 1
          },
          "opacity": 1,
          "size": 12,
          "symbol": [
           103,
           103
          ]
         },
         "mode": "markers",
         "name": "Security Level 4",
         "showlegend": true,
         "text": [
          "sntrup857",
          "ntrulpr857"
         ],
         "type": "scatter",
         "visible": "legendonly",
         "x": [
          1184,
          1322
         ],
         "y": [
          1312,
          1184
         ]
        },
        {
         "legendgroup": "5",
         "marker": {
          "color": "Black",
          "colorscale": [
           [
            0,
            "#4C78A8"
           ],
           [
            0.1111111111111111,
            "#F58518"
           ],
           [
            0.2222222222222222,
            "#E45756"
           ],
           [
            0.3333333333333333,
            "#72B7B2"
           ],
           [
            0.4444444444444444,
            "#54A24B"
           ],
           [
            0.5555555555555556,
            "#EECA3B"
           ],
           [
            0.6666666666666666,
            "#B279A2"
           ],
           [
            0.7777777777777778,
            "#FF9DA6"
           ],
           [
            0.8888888888888888,
            "#9D755D"
           ],
           [
            1,
            "#BAB0AC"
           ]
          ],
          "line": {
           "color": "orange",
           "width": 1
          },
          "opacity": 1,
          "size": 12,
          "symbol": [
           104,
           104,
           104,
           104,
           104,
           104,
           104,
           104,
           104,
           104
          ]
         },
         "mode": "markers",
         "name": "Security Level 5",
         "showlegend": true,
         "text": [
          "KYBER1024",
          "mceliece6688128",
          "mceliece6960119",
          "mceliece8192128",
          "Frodo-1344",
          "hqc-256",
          "hqc-RMRS-256",
          "FireSaber",
          "SIKEp751",
          "SIKEp751_compressed"
         ],
         "type": "scatter",
         "visible": "legendonly",
         "x": [
          1568,
          1044992,
          1047319,
          1357824,
          21520,
          8698,
          7535,
          1312,
          564,
          335
         ],
         "y": [
          1568,
          240,
          226,
          240,
          21632,
          17379,
          15047,
          1472,
          596,
          410
         ]
        }
       ],
       "layout": {
        "height": 800,
        "legend": {
         "bordercolor": "#ffffff",
         "borderwidth": 4,
         "font": {
          "color": "black",
          "size": 14
         },
         "title": {
          "font": {
           "size": 24
          }
         },
         "x": 0.97,
         "xanchor": "right",
         "y": 0.97,
         "yanchor": "top"
        },
        "template": {
         "data": {
          "bar": [
           {
            "error_x": {
             "color": "#2a3f5f"
            },
            "error_y": {
             "color": "#2a3f5f"
            },
            "marker": {
             "line": {
              "color": "#E5ECF6",
              "width": 0.5
             }
            },
            "type": "bar"
           }
          ],
          "barpolar": [
           {
            "marker": {
             "line": {
              "color": "#E5ECF6",
              "width": 0.5
             }
            },
            "type": "barpolar"
           }
          ],
          "carpet": [
           {
            "aaxis": {
             "endlinecolor": "#2a3f5f",
             "gridcolor": "white",
             "linecolor": "white",
             "minorgridcolor": "white",
             "startlinecolor": "#2a3f5f"
            },
            "baxis": {
             "endlinecolor": "#2a3f5f",
             "gridcolor": "white",
             "linecolor": "white",
             "minorgridcolor": "white",
             "startlinecolor": "#2a3f5f"
            },
            "type": "carpet"
           }
          ],
          "choropleth": [
           {
            "colorbar": {
             "outlinewidth": 0,
             "ticks": ""
            },
            "type": "choropleth"
           }
          ],
          "contour": [
           {
            "colorbar": {
             "outlinewidth": 0,
             "ticks": ""
            },
            "colorscale": [
             [
              0,
              "#0d0887"
             ],
             [
              0.1111111111111111,
              "#46039f"
             ],
             [
              0.2222222222222222,
              "#7201a8"
             ],
             [
              0.3333333333333333,
              "#9c179e"
             ],
             [
              0.4444444444444444,
              "#bd3786"
             ],
             [
              0.5555555555555556,
              "#d8576b"
             ],
             [
              0.6666666666666666,
              "#ed7953"
             ],
             [
              0.7777777777777778,
              "#fb9f3a"
             ],
             [
              0.8888888888888888,
              "#fdca26"
             ],
             [
              1,
              "#f0f921"
             ]
            ],
            "type": "contour"
           }
          ],
          "contourcarpet": [
           {
            "colorbar": {
             "outlinewidth": 0,
             "ticks": ""
            },
            "type": "contourcarpet"
           }
          ],
          "heatmap": [
           {
            "colorbar": {
             "outlinewidth": 0,
             "ticks": ""
            },
            "colorscale": [
             [
              0,
              "#0d0887"
             ],
             [
              0.1111111111111111,
              "#46039f"
             ],
             [
              0.2222222222222222,
              "#7201a8"
             ],
             [
              0.3333333333333333,
              "#9c179e"
             ],
             [
              0.4444444444444444,
              "#bd3786"
             ],
             [
              0.5555555555555556,
              "#d8576b"
             ],
             [
              0.6666666666666666,
              "#ed7953"
             ],
             [
              0.7777777777777778,
              "#fb9f3a"
             ],
             [
              0.8888888888888888,
              "#fdca26"
             ],
             [
              1,
              "#f0f921"
             ]
            ],
            "type": "heatmap"
           }
          ],
          "heatmapgl": [
           {
            "colorbar": {
             "outlinewidth": 0,
             "ticks": ""
            },
            "colorscale": [
             [
              0,
              "#0d0887"
             ],
             [
              0.1111111111111111,
              "#46039f"
             ],
             [
              0.2222222222222222,
              "#7201a8"
             ],
             [
              0.3333333333333333,
              "#9c179e"
             ],
             [
              0.4444444444444444,
              "#bd3786"
             ],
             [
              0.5555555555555556,
              "#d8576b"
             ],
             [
              0.6666666666666666,
              "#ed7953"
             ],
             [
              0.7777777777777778,
              "#fb9f3a"
             ],
             [
              0.8888888888888888,
              "#fdca26"
             ],
             [
              1,
              "#f0f921"
             ]
            ],
            "type": "heatmapgl"
           }
          ],
          "histogram": [
           {
            "marker": {
             "colorbar": {
              "outlinewidth": 0,
              "ticks": ""
             }
            },
            "type": "histogram"
           }
          ],
          "histogram2d": [
           {
            "colorbar": {
             "outlinewidth": 0,
             "ticks": ""
            },
            "colorscale": [
             [
              0,
              "#0d0887"
             ],
             [
              0.1111111111111111,
              "#46039f"
             ],
             [
              0.2222222222222222,
              "#7201a8"
             ],
             [
              0.3333333333333333,
              "#9c179e"
             ],
             [
              0.4444444444444444,
              "#bd3786"
             ],
             [
              0.5555555555555556,
              "#d8576b"
             ],
             [
              0.6666666666666666,
              "#ed7953"
             ],
             [
              0.7777777777777778,
              "#fb9f3a"
             ],
             [
              0.8888888888888888,
              "#fdca26"
             ],
             [
              1,
              "#f0f921"
             ]
            ],
            "type": "histogram2d"
           }
          ],
          "histogram2dcontour": [
           {
            "colorbar": {
             "outlinewidth": 0,
             "ticks": ""
            },
            "colorscale": [
             [
              0,
              "#0d0887"
             ],
             [
              0.1111111111111111,
              "#46039f"
             ],
             [
              0.2222222222222222,
              "#7201a8"
             ],
             [
              0.3333333333333333,
              "#9c179e"
             ],
             [
              0.4444444444444444,
              "#bd3786"
             ],
             [
              0.5555555555555556,
              "#d8576b"
             ],
             [
              0.6666666666666666,
              "#ed7953"
             ],
             [
              0.7777777777777778,
              "#fb9f3a"
             ],
             [
              0.8888888888888888,
              "#fdca26"
             ],
             [
              1,
              "#f0f921"
             ]
            ],
            "type": "histogram2dcontour"
           }
          ],
          "mesh3d": [
           {
            "colorbar": {
             "outlinewidth": 0,
             "ticks": ""
            },
            "type": "mesh3d"
           }
          ],
          "parcoords": [
           {
            "line": {
             "colorbar": {
              "outlinewidth": 0,
              "ticks": ""
             }
            },
            "type": "parcoords"
           }
          ],
          "pie": [
           {
            "automargin": true,
            "type": "pie"
           }
          ],
          "scatter": [
           {
            "marker": {
             "colorbar": {
              "outlinewidth": 0,
              "ticks": ""
             }
            },
            "type": "scatter"
           }
          ],
          "scatter3d": [
           {
            "line": {
             "colorbar": {
              "outlinewidth": 0,
              "ticks": ""
             }
            },
            "marker": {
             "colorbar": {
              "outlinewidth": 0,
              "ticks": ""
             }
            },
            "type": "scatter3d"
           }
          ],
          "scattercarpet": [
           {
            "marker": {
             "colorbar": {
              "outlinewidth": 0,
              "ticks": ""
             }
            },
            "type": "scattercarpet"
           }
          ],
          "scattergeo": [
           {
            "marker": {
             "colorbar": {
              "outlinewidth": 0,
              "ticks": ""
             }
            },
            "type": "scattergeo"
           }
          ],
          "scattergl": [
           {
            "marker": {
             "colorbar": {
              "outlinewidth": 0,
              "ticks": ""
             }
            },
            "type": "scattergl"
           }
          ],
          "scattermapbox": [
           {
            "marker": {
             "colorbar": {
              "outlinewidth": 0,
              "ticks": ""
             }
            },
            "type": "scattermapbox"
           }
          ],
          "scatterpolar": [
           {
            "marker": {
             "colorbar": {
              "outlinewidth": 0,
              "ticks": ""
             }
            },
            "type": "scatterpolar"
           }
          ],
          "scatterpolargl": [
           {
            "marker": {
             "colorbar": {
              "outlinewidth": 0,
              "ticks": ""
             }
            },
            "type": "scatterpolargl"
           }
          ],
          "scatterternary": [
           {
            "marker": {
             "colorbar": {
              "outlinewidth": 0,
              "ticks": ""
             }
            },
            "type": "scatterternary"
           }
          ],
          "surface": [
           {
            "colorbar": {
             "outlinewidth": 0,
             "ticks": ""
            },
            "colorscale": [
             [
              0,
              "#0d0887"
             ],
             [
              0.1111111111111111,
              "#46039f"
             ],
             [
              0.2222222222222222,
              "#7201a8"
             ],
             [
              0.3333333333333333,
              "#9c179e"
             ],
             [
              0.4444444444444444,
              "#bd3786"
             ],
             [
              0.5555555555555556,
              "#d8576b"
             ],
             [
              0.6666666666666666,
              "#ed7953"
             ],
             [
              0.7777777777777778,
              "#fb9f3a"
             ],
             [
              0.8888888888888888,
              "#fdca26"
             ],
             [
              1,
              "#f0f921"
             ]
            ],
            "type": "surface"
           }
          ],
          "table": [
           {
            "cells": {
             "fill": {
              "color": "#EBF0F8"
             },
             "line": {
              "color": "white"
             }
            },
            "header": {
             "fill": {
              "color": "#C8D4E3"
             },
             "line": {
              "color": "white"
             }
            },
            "type": "table"
           }
          ]
         },
         "layout": {
          "annotationdefaults": {
           "arrowcolor": "#2a3f5f",
           "arrowhead": 0,
           "arrowwidth": 1
          },
          "coloraxis": {
           "colorbar": {
            "outlinewidth": 0,
            "ticks": ""
           }
          },
          "colorscale": {
           "diverging": [
            [
             0,
             "#8e0152"
            ],
            [
             0.1,
             "#c51b7d"
            ],
            [
             0.2,
             "#de77ae"
            ],
            [
             0.3,
             "#f1b6da"
            ],
            [
             0.4,
             "#fde0ef"
            ],
            [
             0.5,
             "#f7f7f7"
            ],
            [
             0.6,
             "#e6f5d0"
            ],
            [
             0.7,
             "#b8e186"
            ],
            [
             0.8,
             "#7fbc41"
            ],
            [
             0.9,
             "#4d9221"
            ],
            [
             1,
             "#276419"
            ]
           ],
           "sequential": [
            [
             0,
             "#0d0887"
            ],
            [
             0.1111111111111111,
             "#46039f"
            ],
            [
             0.2222222222222222,
             "#7201a8"
            ],
            [
             0.3333333333333333,
             "#9c179e"
            ],
            [
             0.4444444444444444,
             "#bd3786"
            ],
            [
             0.5555555555555556,
             "#d8576b"
            ],
            [
             0.6666666666666666,
             "#ed7953"
            ],
            [
             0.7777777777777778,
             "#fb9f3a"
            ],
            [
             0.8888888888888888,
             "#fdca26"
            ],
            [
             1,
             "#f0f921"
            ]
           ],
           "sequentialminus": [
            [
             0,
             "#0d0887"
            ],
            [
             0.1111111111111111,
             "#46039f"
            ],
            [
             0.2222222222222222,
             "#7201a8"
            ],
            [
             0.3333333333333333,
             "#9c179e"
            ],
            [
             0.4444444444444444,
             "#bd3786"
            ],
            [
             0.5555555555555556,
             "#d8576b"
            ],
            [
             0.6666666666666666,
             "#ed7953"
            ],
            [
             0.7777777777777778,
             "#fb9f3a"
            ],
            [
             0.8888888888888888,
             "#fdca26"
            ],
            [
             1,
             "#f0f921"
            ]
           ]
          },
          "colorway": [
           "#636efa",
           "#EF553B",
           "#00cc96",
           "#ab63fa",
           "#FFA15A",
           "#19d3f3",
           "#FF6692",
           "#B6E880",
           "#FF97FF",
           "#FECB52"
          ],
          "font": {
           "color": "#2a3f5f"
          },
          "geo": {
           "bgcolor": "white",
           "lakecolor": "white",
           "landcolor": "#E5ECF6",
           "showlakes": true,
           "showland": true,
           "subunitcolor": "white"
          },
          "hoverlabel": {
           "align": "left"
          },
          "hovermode": "closest",
          "mapbox": {
           "style": "light"
          },
          "paper_bgcolor": "white",
          "plot_bgcolor": "#E5ECF6",
          "polar": {
           "angularaxis": {
            "gridcolor": "white",
            "linecolor": "white",
            "ticks": ""
           },
           "bgcolor": "#E5ECF6",
           "radialaxis": {
            "gridcolor": "white",
            "linecolor": "white",
            "ticks": ""
           }
          },
          "scene": {
           "xaxis": {
            "backgroundcolor": "#E5ECF6",
            "gridcolor": "white",
            "gridwidth": 2,
            "linecolor": "white",
            "showbackground": true,
            "ticks": "",
            "zerolinecolor": "white"
           },
           "yaxis": {
            "backgroundcolor": "#E5ECF6",
            "gridcolor": "white",
            "gridwidth": 2,
            "linecolor": "white",
            "showbackground": true,
            "ticks": "",
            "zerolinecolor": "white"
           },
           "zaxis": {
            "backgroundcolor": "#E5ECF6",
            "gridcolor": "white",
            "gridwidth": 2,
            "linecolor": "white",
            "showbackground": true,
            "ticks": "",
            "zerolinecolor": "white"
           }
          },
          "shapedefaults": {
           "line": {
            "color": "#2a3f5f"
           }
          },
          "ternary": {
           "aaxis": {
            "gridcolor": "white",
            "linecolor": "white",
            "ticks": ""
           },
           "baxis": {
            "gridcolor": "white",
            "linecolor": "white",
            "ticks": ""
           },
           "bgcolor": "#E5ECF6",
           "caxis": {
            "gridcolor": "white",
            "linecolor": "white",
            "ticks": ""
           }
          },
          "title": {
           "x": 0.05
          },
          "xaxis": {
           "automargin": true,
           "gridcolor": "white",
           "linecolor": "white",
           "ticks": "",
           "title": {
            "standoff": 15
           },
           "zerolinecolor": "white",
           "zerolinewidth": 2
          },
          "yaxis": {
           "automargin": true,
           "gridcolor": "white",
           "linecolor": "white",
           "ticks": "",
           "title": {
            "standoff": 15
           },
           "zerolinecolor": "white",
           "zerolinewidth": 2
          }
         }
        },
        "width": 1200,
        "xaxis": {
         "tickangle": 45,
         "tickfont": {
          "size": 14
         },
         "tickformat": ",f",
         "tickmode": "array",
         "tickvals": [
          4,
          8,
          16,
          32,
          64,
          128,
          256,
          512,
          1024,
          2048,
          4096,
          8192,
          16384,
          32768,
          65536,
          131072,
          262144,
          524288,
          1048576,
          2097152,
          4194304,
          8388608,
          16777216,
          33554432
         ],
         "title": {
          "font": {
           "size": 22
          },
          "text": "Public Key (bytes)"
         },
         "type": "log"
        },
        "yaxis": {
         "tickfont": {
          "size": 14
         },
         "tickformat": ",f",
         "tickmode": "array",
         "tickvals": [
          4,
          8,
          16,
          32,
          64,
          128,
          256,
          512,
          1024,
          2048,
          4096,
          8192,
          16384,
          32768,
          65536,
          131072,
          262144,
          524288,
          1048576,
          2097152,
          4194304,
          8388608,
          16777216,
          33554432,
          67108864,
          134217728,
          268435456,
          536870912
         ],
         "title": {
          "font": {
           "size": 22
          },
          "text": "Ciphertext (bytes)"
         },
         "type": "log"
        }
       }
      }
     },
     "metadata": {}
    },
    {
     "output_type": "display_data",
     "data": {
      "application/vnd.plotly.v1+json": {
       "config": {
        "displayModeBar": true,
        "displaylogo": false,
        "modeBarButtonsToRemove": [
         "hoverClosest3d",
         "hoverClosestCartesian",
         "hoverClosestGeo",
         "hoverClosestGl2d",
         "hoverClosestPie",
         "lasso2d",
         "toggleSpikelines",
         " hoverClosestCartesian",
         "hoverCompareCartesian"
        ],
        "plotlyServerURL": "https://plot.ly",
        "responsive": true
       },
       "data": [
        {
         "legendgroup": "CRYSTALS-DILITHIUM",
         "marker": {
          "color": "#4C78A8",
          "line": {
           "color": "black",
           "width": 0.5
          },
          "opacity": 1,
          "size": 12,
          "symbol": [
           1,
           2,
           0
          ]
         },
         "mode": "markers",
         "name": "CRYSTALS-DILITHIUM (Fiat-Shamir)",
         "showlegend": true,
         "text": [
          "Dilithium-1024x768",
          "Dilithium-1280x1024",
          "Dilithium-1536x1280"
         ],
         "type": "scatter",
         "x": [
          1184,
          1472,
          1760
         ],
         "y": [
          2044,
          2701,
          3366
         ]
        },
        {
         "legendgroup": "FALCON",
         "marker": {
          "color": "#F58518",
          "line": {
           "color": "black",
           "width": 0.5
          },
          "opacity": 1,
          "size": 12,
          "symbol": [
           1,
           0,
           4
          ]
         },
         "mode": "markers",
         "name": "FALCON (Hash-and-Sign)",
         "showlegend": true,
         "text": [
          "FALCON-512",
          "FALCON-768",
          "FALCON-1024"
         ],
         "type": "scatter",
         "x": [
          897,
          1441,
          1793
         ],
         "y": [
          657,
          994,
          1273
         ]
        },
        {
         "legendgroup": "GeMSS",
         "marker": {
          "color": "#E45756",
          "line": {
           "color": "black",
           "width": 0.5
          },
          "opacity": 1,
          "size": 12,
          "symbol": [
           1,
           1,
           1,
           0,
           0,
           0,
           4,
           4,
           4
          ]
         },
         "mode": "markers",
         "name": "GeMSS (HFE)",
         "showlegend": true,
         "text": [
          "GeMSS128",
          "BlueGeMSS128",
          "RedGeMSS128",
          "GeMSS192",
          "BlueGeMSS192",
          "RedGeMSS192",
          "GeMSS256",
          "BlueGeMSS256",
          "RedGeMSS256"
         ],
         "type": "scatter",
         "x": [
          352190,
          363610,
          375210,
          1237960,
          1264120,
          1290540,
          3040700,
          3087960,
          3135590
         ],
         "y": [
          32,
          34,
          35,
          51,
          53,
          54,
          72,
          74,
          75
         ]
        },
        {
         "legendgroup": "Picnic",
         "marker": {
          "color": "#72B7B2",
          "line": {
           "color": "black",
           "width": 0.5
          },
          "opacity": 1,
          "size": 12,
          "symbol": [
           1,
           1,
           1,
           1,
           0,
           0,
           0,
           0,
           4,
           4,
           4,
           4
          ]
         },
         "mode": "markers",
         "name": "Picnic (ZKP)",
         "showlegend": true,
         "text": [
          "picnic-L1-FS",
          "picnic-L1-UR",
          "picnic-L1-full",
          "picnic3-L1",
          "picnic-L3-FS",
          "picnic-L3-UR",
          "picnic-L3-full",
          "picnic3-L3",
          "picnic-L5-FS",
          "picnic-L5-UR",
          "picnic-L5-full",
          "picnic3-L5"
         ],
         "type": "scatter",
         "x": [
          32,
          32,
          34,
          34,
          48,
          48,
          48,
          48,
          64,
          64,
          64,
          64
         ],
         "y": [
          34032,
          53961,
          320161,
          13802,
          76772,
          121845,
          71179,
          29750,
          132856,
          209506,
          126286,
          54732
         ]
        },
        {
         "legendgroup": "Rainbow",
         "marker": {
          "color": "#54A24B",
          "line": {
           "color": "black",
           "width": 0.5
          },
          "opacity": 1,
          "size": 12,
          "symbol": [
           1,
           1,
           0,
           0,
           4,
           4
          ]
         },
         "mode": "markers",
         "name": "Rainbow (UOV)",
         "showlegend": true,
         "text": [
          "Rainbow-Ia",
          "Rainbow-cyclic/compressed-Ia",
          "Rainbow-IIIc",
          "Rainbow-cyclic/compressed-IIIc",
          "Rainbow-Vc",
          "Rainbow-cyclic/compressed-Vc"
         ],
         "type": "scatter",
         "x": [
          149000,
          58100,
          710600,
          206700,
          1705500,
          491900
         ],
         "y": [
          64,
          64,
          156,
          156,
          204,
          204
         ]
        },
        {
         "legendgroup": "SPHINCS+",
         "marker": {
          "color": "#EECA3B",
          "line": {
           "color": "black",
           "width": 0.5
          },
          "opacity": 1,
          "size": 12,
          "symbol": [
           1,
           1,
           0,
           0,
           4,
           4
          ]
         },
         "mode": "markers",
         "name": "SPHINCS+ (Hash-based)",
         "showlegend": true,
         "text": [
          "SPHINCS -128s",
          "SPHINCS -128f",
          "SPHINCS -192s",
          "SPHINCS -192f",
          "SPHINCS -256s",
          "SPHINCS -256f"
         ],
         "type": "scatter",
         "x": [
          32,
          32,
          48,
          48,
          64,
          64
         ],
         "y": [
          8080,
          16976,
          17064,
          35664,
          29792,
          49216
         ]
        },
        {
         "legendgroup": "1",
         "marker": {
          "color": "Black",
          "colorscale": [
           [
            0,
            "#4C78A8"
           ],
           [
            0.1111111111111111,
            "#F58518"
           ],
           [
            0.2222222222222222,
            "#E45756"
           ],
           [
            0.3333333333333333,
            "#72B7B2"
           ],
           [
            0.4444444444444444,
            "#54A24B"
           ],
           [
            0.5555555555555556,
            "#EECA3B"
           ],
           [
            0.6666666666666666,
            "#B279A2"
           ],
           [
            0.7777777777777778,
            "#FF9DA6"
           ],
           [
            0.8888888888888888,
            "#9D755D"
           ],
           [
            1,
            "#BAB0AC"
           ]
          ],
          "line": {
           "color": "orange",
           "width": 1
          },
          "opacity": 1,
          "size": 12,
          "symbol": [
           101,
           101,
           101,
           101,
           101,
           101,
           101,
           101,
           101,
           101,
           101,
           101,
           101
          ]
         },
         "mode": "markers",
         "name": "Security Level 1",
         "showlegend": true,
         "text": [
          "Dilithium-1024x768",
          "FALCON-512",
          "GeMSS128",
          "BlueGeMSS128",
          "RedGeMSS128",
          "picnic-L1-FS",
          "picnic-L1-UR",
          "picnic-L1-full",
          "picnic3-L1",
          "Rainbow-Ia",
          "Rainbow-cyclic/compressed-Ia",
          "SPHINCS -128s",
          "SPHINCS -128f"
         ],
         "type": "scatter",
         "visible": "legendonly",
         "x": [
          1184,
          897,
          352190,
          363610,
          375210,
          32,
          32,
          34,
          34,
          149000,
          58100,
          32,
          32
         ],
         "y": [
          2044,
          657,
          32,
          34,
          35,
          34032,
          53961,
          320161,
          13802,
          64,
          64,
          8080,
          16976
         ]
        },
        {
         "legendgroup": "2",
         "marker": {
          "color": "Black",
          "colorscale": [
           [
            0,
            "#4C78A8"
           ],
           [
            0.1111111111111111,
            "#F58518"
           ],
           [
            0.2222222222222222,
            "#E45756"
           ],
           [
            0.3333333333333333,
            "#72B7B2"
           ],
           [
            0.4444444444444444,
            "#54A24B"
           ],
           [
            0.5555555555555556,
            "#EECA3B"
           ],
           [
            0.6666666666666666,
            "#B279A2"
           ],
           [
            0.7777777777777778,
            "#FF9DA6"
           ],
           [
            0.8888888888888888,
            "#9D755D"
           ],
           [
            1,
            "#BAB0AC"
           ]
          ],
          "line": {
           "color": "orange",
           "width": 1
          },
          "opacity": 1,
          "size": 12,
          "symbol": [
           102
          ]
         },
         "mode": "markers",
         "name": "Security Level 2",
         "showlegend": true,
         "text": [
          "Dilithium-1280x1024"
         ],
         "type": "scatter",
         "visible": "legendonly",
         "x": [
          1472
         ],
         "y": [
          2701
         ]
        },
        {
         "legendgroup": "3",
         "marker": {
          "color": "Black",
          "colorscale": [
           [
            0,
            "#4C78A8"
           ],
           [
            0.1111111111111111,
            "#F58518"
           ],
           [
            0.2222222222222222,
            "#E45756"
           ],
           [
            0.3333333333333333,
            "#72B7B2"
           ],
           [
            0.4444444444444444,
            "#54A24B"
           ],
           [
            0.5555555555555556,
            "#EECA3B"
           ],
           [
            0.6666666666666666,
            "#B279A2"
           ],
           [
            0.7777777777777778,
            "#FF9DA6"
           ],
           [
            0.8888888888888888,
            "#9D755D"
           ],
           [
            1,
            "#BAB0AC"
           ]
          ],
          "line": {
           "color": "orange",
           "width": 1
          },
          "opacity": 1,
          "size": 12,
          "symbol": [
           100,
           100,
           100,
           100,
           100,
           100,
           100,
           100,
           100,
           100,
           100,
           100,
           100
          ]
         },
         "mode": "markers",
         "name": "Security Level 3",
         "showlegend": true,
         "text": [
          "Dilithium-1536x1280",
          "FALCON-768",
          "GeMSS192",
          "BlueGeMSS192",
          "RedGeMSS192",
          "picnic-L3-FS",
          "picnic-L3-UR",
          "picnic-L3-full",
          "picnic3-L3",
          "Rainbow-IIIc",
          "Rainbow-cyclic/compressed-IIIc",
          "SPHINCS -192s",
          "SPHINCS -192f"
         ],
         "type": "scatter",
         "visible": "legendonly",
         "x": [
          1760,
          1441,
          1237960,
          1264120,
          1290540,
          48,
          48,
          48,
          48,
          710600,
          206700,
          48,
          48
         ],
         "y": [
          3366,
          994,
          51,
          53,
          54,
          76772,
          121845,
          71179,
          29750,
          156,
          156,
          17064,
          35664
         ]
        },
        {
         "legendgroup": "4",
         "marker": {
          "color": "Black",
          "colorscale": [
           [
            0,
            "#4C78A8"
           ],
           [
            0.1111111111111111,
            "#F58518"
           ],
           [
            0.2222222222222222,
            "#E45756"
           ],
           [
            0.3333333333333333,
            "#72B7B2"
           ],
           [
            0.4444444444444444,
            "#54A24B"
           ],
           [
            0.5555555555555556,
            "#EECA3B"
           ],
           [
            0.6666666666666666,
            "#B279A2"
           ],
           [
            0.7777777777777778,
            "#FF9DA6"
           ],
           [
            0.8888888888888888,
            "#9D755D"
           ],
           [
            1,
            "#BAB0AC"
           ]
          ],
          "line": {
           "color": "orange",
           "width": 1
          },
          "opacity": 1,
          "size": 12,
          "symbol": []
         },
         "mode": "markers",
         "name": "Security Level 4",
         "showlegend": true,
         "text": [],
         "type": "scatter",
         "visible": "legendonly",
         "x": [],
         "y": []
        },
        {
         "legendgroup": "5",
         "marker": {
          "color": "Black",
          "colorscale": [
           [
            0,
            "#4C78A8"
           ],
           [
            0.1111111111111111,
            "#F58518"
           ],
           [
            0.2222222222222222,
            "#E45756"
           ],
           [
            0.3333333333333333,
            "#72B7B2"
           ],
           [
            0.4444444444444444,
            "#54A24B"
           ],
           [
            0.5555555555555556,
            "#EECA3B"
           ],
           [
            0.6666666666666666,
            "#B279A2"
           ],
           [
            0.7777777777777778,
            "#FF9DA6"
           ],
           [
            0.8888888888888888,
            "#9D755D"
           ],
           [
            1,
            "#BAB0AC"
           ]
          ],
          "line": {
           "color": "orange",
           "width": 1
          },
          "opacity": 1,
          "size": 12,
          "symbol": [
           104,
           104,
           104,
           104,
           104,
           104,
           104,
           104,
           104,
           104,
           104,
           104
          ]
         },
         "mode": "markers",
         "name": "Security Level 5",
         "showlegend": true,
         "text": [
          "FALCON-1024",
          "GeMSS256",
          "BlueGeMSS256",
          "RedGeMSS256",
          "picnic-L5-FS",
          "picnic-L5-UR",
          "picnic-L5-full",
          "picnic3-L5",
          "Rainbow-Vc",
          "Rainbow-cyclic/compressed-Vc",
          "SPHINCS -256s",
          "SPHINCS -256f"
         ],
         "type": "scatter",
         "visible": "legendonly",
         "x": [
          1793,
          3040700,
          3087960,
          3135590,
          64,
          64,
          64,
          64,
          1705500,
          491900,
          64,
          64
         ],
         "y": [
          1273,
          72,
          74,
          75,
          132856,
          209506,
          126286,
          54732,
          204,
          204,
          29792,
          49216
         ]
        }
       ],
       "layout": {
        "height": 800,
        "legend": {
         "bordercolor": "#ffffff",
         "borderwidth": 4,
         "font": {
          "color": "black",
          "size": 14
         },
         "title": {
          "font": {
           "size": 24
          }
         },
         "x": 0.97,
         "xanchor": "right",
         "y": 0.97,
         "yanchor": "top"
        },
        "template": {
         "data": {
          "bar": [
           {
            "error_x": {
             "color": "#2a3f5f"
            },
            "error_y": {
             "color": "#2a3f5f"
            },
            "marker": {
             "line": {
              "color": "#E5ECF6",
              "width": 0.5
             }
            },
            "type": "bar"
           }
          ],
          "barpolar": [
           {
            "marker": {
             "line": {
              "color": "#E5ECF6",
              "width": 0.5
             }
            },
            "type": "barpolar"
           }
          ],
          "carpet": [
           {
            "aaxis": {
             "endlinecolor": "#2a3f5f",
             "gridcolor": "white",
             "linecolor": "white",
             "minorgridcolor": "white",
             "startlinecolor": "#2a3f5f"
            },
            "baxis": {
             "endlinecolor": "#2a3f5f",
             "gridcolor": "white",
             "linecolor": "white",
             "minorgridcolor": "white",
             "startlinecolor": "#2a3f5f"
            },
            "type": "carpet"
           }
          ],
          "choropleth": [
           {
            "colorbar": {
             "outlinewidth": 0,
             "ticks": ""
            },
            "type": "choropleth"
           }
          ],
          "contour": [
           {
            "colorbar": {
             "outlinewidth": 0,
             "ticks": ""
            },
            "colorscale": [
             [
              0,
              "#0d0887"
             ],
             [
              0.1111111111111111,
              "#46039f"
             ],
             [
              0.2222222222222222,
              "#7201a8"
             ],
             [
              0.3333333333333333,
              "#9c179e"
             ],
             [
              0.4444444444444444,
              "#bd3786"
             ],
             [
              0.5555555555555556,
              "#d8576b"
             ],
             [
              0.6666666666666666,
              "#ed7953"
             ],
             [
              0.7777777777777778,
              "#fb9f3a"
             ],
             [
              0.8888888888888888,
              "#fdca26"
             ],
             [
              1,
              "#f0f921"
             ]
            ],
            "type": "contour"
           }
          ],
          "contourcarpet": [
           {
            "colorbar": {
             "outlinewidth": 0,
             "ticks": ""
            },
            "type": "contourcarpet"
           }
          ],
          "heatmap": [
           {
            "colorbar": {
             "outlinewidth": 0,
             "ticks": ""
            },
            "colorscale": [
             [
              0,
              "#0d0887"
             ],
             [
              0.1111111111111111,
              "#46039f"
             ],
             [
              0.2222222222222222,
              "#7201a8"
             ],
             [
              0.3333333333333333,
              "#9c179e"
             ],
             [
              0.4444444444444444,
              "#bd3786"
             ],
             [
              0.5555555555555556,
              "#d8576b"
             ],
             [
              0.6666666666666666,
              "#ed7953"
             ],
             [
              0.7777777777777778,
              "#fb9f3a"
             ],
             [
              0.8888888888888888,
              "#fdca26"
             ],
             [
              1,
              "#f0f921"
             ]
            ],
            "type": "heatmap"
           }
          ],
          "heatmapgl": [
           {
            "colorbar": {
             "outlinewidth": 0,
             "ticks": ""
            },
            "colorscale": [
             [
              0,
              "#0d0887"
             ],
             [
              0.1111111111111111,
              "#46039f"
             ],
             [
              0.2222222222222222,
              "#7201a8"
             ],
             [
              0.3333333333333333,
              "#9c179e"
             ],
             [
              0.4444444444444444,
              "#bd3786"
             ],
             [
              0.5555555555555556,
              "#d8576b"
             ],
             [
              0.6666666666666666,
              "#ed7953"
             ],
             [
              0.7777777777777778,
              "#fb9f3a"
             ],
             [
              0.8888888888888888,
              "#fdca26"
             ],
             [
              1,
              "#f0f921"
             ]
            ],
            "type": "heatmapgl"
           }
          ],
          "histogram": [
           {
            "marker": {
             "colorbar": {
              "outlinewidth": 0,
              "ticks": ""
             }
            },
            "type": "histogram"
           }
          ],
          "histogram2d": [
           {
            "colorbar": {
             "outlinewidth": 0,
             "ticks": ""
            },
            "colorscale": [
             [
              0,
              "#0d0887"
             ],
             [
              0.1111111111111111,
              "#46039f"
             ],
             [
              0.2222222222222222,
              "#7201a8"
             ],
             [
              0.3333333333333333,
              "#9c179e"
             ],
             [
              0.4444444444444444,
              "#bd3786"
             ],
             [
              0.5555555555555556,
              "#d8576b"
             ],
             [
              0.6666666666666666,
              "#ed7953"
             ],
             [
              0.7777777777777778,
              "#fb9f3a"
             ],
             [
              0.8888888888888888,
              "#fdca26"
             ],
             [
              1,
              "#f0f921"
             ]
            ],
            "type": "histogram2d"
           }
          ],
          "histogram2dcontour": [
           {
            "colorbar": {
             "outlinewidth": 0,
             "ticks": ""
            },
            "colorscale": [
             [
              0,
              "#0d0887"
             ],
             [
              0.1111111111111111,
              "#46039f"
             ],
             [
              0.2222222222222222,
              "#7201a8"
             ],
             [
              0.3333333333333333,
              "#9c179e"
             ],
             [
              0.4444444444444444,
              "#bd3786"
             ],
             [
              0.5555555555555556,
              "#d8576b"
             ],
             [
              0.6666666666666666,
              "#ed7953"
             ],
             [
              0.7777777777777778,
              "#fb9f3a"
             ],
             [
              0.8888888888888888,
              "#fdca26"
             ],
             [
              1,
              "#f0f921"
             ]
            ],
            "type": "histogram2dcontour"
           }
          ],
          "mesh3d": [
           {
            "colorbar": {
             "outlinewidth": 0,
             "ticks": ""
            },
            "type": "mesh3d"
           }
          ],
          "parcoords": [
           {
            "line": {
             "colorbar": {
              "outlinewidth": 0,
              "ticks": ""
             }
            },
            "type": "parcoords"
           }
          ],
          "pie": [
           {
            "automargin": true,
            "type": "pie"
           }
          ],
          "scatter": [
           {
            "marker": {
             "colorbar": {
              "outlinewidth": 0,
              "ticks": ""
             }
            },
            "type": "scatter"
           }
          ],
          "scatter3d": [
           {
            "line": {
             "colorbar": {
              "outlinewidth": 0,
              "ticks": ""
             }
            },
            "marker": {
             "colorbar": {
              "outlinewidth": 0,
              "ticks": ""
             }
            },
            "type": "scatter3d"
           }
          ],
          "scattercarpet": [
           {
            "marker": {
             "colorbar": {
              "outlinewidth": 0,
              "ticks": ""
             }
            },
            "type": "scattercarpet"
           }
          ],
          "scattergeo": [
           {
            "marker": {
             "colorbar": {
              "outlinewidth": 0,
              "ticks": ""
             }
            },
            "type": "scattergeo"
           }
          ],
          "scattergl": [
           {
            "marker": {
             "colorbar": {
              "outlinewidth": 0,
              "ticks": ""
             }
            },
            "type": "scattergl"
           }
          ],
          "scattermapbox": [
           {
            "marker": {
             "colorbar": {
              "outlinewidth": 0,
              "ticks": ""
             }
            },
            "type": "scattermapbox"
           }
          ],
          "scatterpolar": [
           {
            "marker": {
             "colorbar": {
              "outlinewidth": 0,
              "ticks": ""
             }
            },
            "type": "scatterpolar"
           }
          ],
          "scatterpolargl": [
           {
            "marker": {
             "colorbar": {
              "outlinewidth": 0,
              "ticks": ""
             }
            },
            "type": "scatterpolargl"
           }
          ],
          "scatterternary": [
           {
            "marker": {
             "colorbar": {
              "outlinewidth": 0,
              "ticks": ""
             }
            },
            "type": "scatterternary"
           }
          ],
          "surface": [
           {
            "colorbar": {
             "outlinewidth": 0,
             "ticks": ""
            },
            "colorscale": [
             [
              0,
              "#0d0887"
             ],
             [
              0.1111111111111111,
              "#46039f"
             ],
             [
              0.2222222222222222,
              "#7201a8"
             ],
             [
              0.3333333333333333,
              "#9c179e"
             ],
             [
              0.4444444444444444,
              "#bd3786"
             ],
             [
              0.5555555555555556,
              "#d8576b"
             ],
             [
              0.6666666666666666,
              "#ed7953"
             ],
             [
              0.7777777777777778,
              "#fb9f3a"
             ],
             [
              0.8888888888888888,
              "#fdca26"
             ],
             [
              1,
              "#f0f921"
             ]
            ],
            "type": "surface"
           }
          ],
          "table": [
           {
            "cells": {
             "fill": {
              "color": "#EBF0F8"
             },
             "line": {
              "color": "white"
             }
            },
            "header": {
             "fill": {
              "color": "#C8D4E3"
             },
             "line": {
              "color": "white"
             }
            },
            "type": "table"
           }
          ]
         },
         "layout": {
          "annotationdefaults": {
           "arrowcolor": "#2a3f5f",
           "arrowhead": 0,
           "arrowwidth": 1
          },
          "coloraxis": {
           "colorbar": {
            "outlinewidth": 0,
            "ticks": ""
           }
          },
          "colorscale": {
           "diverging": [
            [
             0,
             "#8e0152"
            ],
            [
             0.1,
             "#c51b7d"
            ],
            [
             0.2,
             "#de77ae"
            ],
            [
             0.3,
             "#f1b6da"
            ],
            [
             0.4,
             "#fde0ef"
            ],
            [
             0.5,
             "#f7f7f7"
            ],
            [
             0.6,
             "#e6f5d0"
            ],
            [
             0.7,
             "#b8e186"
            ],
            [
             0.8,
             "#7fbc41"
            ],
            [
             0.9,
             "#4d9221"
            ],
            [
             1,
             "#276419"
            ]
           ],
           "sequential": [
            [
             0,
             "#0d0887"
            ],
            [
             0.1111111111111111,
             "#46039f"
            ],
            [
             0.2222222222222222,
             "#7201a8"
            ],
            [
             0.3333333333333333,
             "#9c179e"
            ],
            [
             0.4444444444444444,
             "#bd3786"
            ],
            [
             0.5555555555555556,
             "#d8576b"
            ],
            [
             0.6666666666666666,
             "#ed7953"
            ],
            [
             0.7777777777777778,
             "#fb9f3a"
            ],
            [
             0.8888888888888888,
             "#fdca26"
            ],
            [
             1,
             "#f0f921"
            ]
           ],
           "sequentialminus": [
            [
             0,
             "#0d0887"
            ],
            [
             0.1111111111111111,
             "#46039f"
            ],
            [
             0.2222222222222222,
             "#7201a8"
            ],
            [
             0.3333333333333333,
             "#9c179e"
            ],
            [
             0.4444444444444444,
             "#bd3786"
            ],
            [
             0.5555555555555556,
             "#d8576b"
            ],
            [
             0.6666666666666666,
             "#ed7953"
            ],
            [
             0.7777777777777778,
             "#fb9f3a"
            ],
            [
             0.8888888888888888,
             "#fdca26"
            ],
            [
             1,
             "#f0f921"
            ]
           ]
          },
          "colorway": [
           "#636efa",
           "#EF553B",
           "#00cc96",
           "#ab63fa",
           "#FFA15A",
           "#19d3f3",
           "#FF6692",
           "#B6E880",
           "#FF97FF",
           "#FECB52"
          ],
          "font": {
           "color": "#2a3f5f"
          },
          "geo": {
           "bgcolor": "white",
           "lakecolor": "white",
           "landcolor": "#E5ECF6",
           "showlakes": true,
           "showland": true,
           "subunitcolor": "white"
          },
          "hoverlabel": {
           "align": "left"
          },
          "hovermode": "closest",
          "mapbox": {
           "style": "light"
          },
          "paper_bgcolor": "white",
          "plot_bgcolor": "#E5ECF6",
          "polar": {
           "angularaxis": {
            "gridcolor": "white",
            "linecolor": "white",
            "ticks": ""
           },
           "bgcolor": "#E5ECF6",
           "radialaxis": {
            "gridcolor": "white",
            "linecolor": "white",
            "ticks": ""
           }
          },
          "scene": {
           "xaxis": {
            "backgroundcolor": "#E5ECF6",
            "gridcolor": "white",
            "gridwidth": 2,
            "linecolor": "white",
            "showbackground": true,
            "ticks": "",
            "zerolinecolor": "white"
           },
           "yaxis": {
            "backgroundcolor": "#E5ECF6",
            "gridcolor": "white",
            "gridwidth": 2,
            "linecolor": "white",
            "showbackground": true,
            "ticks": "",
            "zerolinecolor": "white"
           },
           "zaxis": {
            "backgroundcolor": "#E5ECF6",
            "gridcolor": "white",
            "gridwidth": 2,
            "linecolor": "white",
            "showbackground": true,
            "ticks": "",
            "zerolinecolor": "white"
           }
          },
          "shapedefaults": {
           "line": {
            "color": "#2a3f5f"
           }
          },
          "ternary": {
           "aaxis": {
            "gridcolor": "white",
            "linecolor": "white",
            "ticks": ""
           },
           "baxis": {
            "gridcolor": "white",
            "linecolor": "white",
            "ticks": ""
           },
           "bgcolor": "#E5ECF6",
           "caxis": {
            "gridcolor": "white",
            "linecolor": "white",
            "ticks": ""
           }
          },
          "title": {
           "x": 0.05
          },
          "xaxis": {
           "automargin": true,
           "gridcolor": "white",
           "linecolor": "white",
           "ticks": "",
           "title": {
            "standoff": 15
           },
           "zerolinecolor": "white",
           "zerolinewidth": 2
          },
          "yaxis": {
           "automargin": true,
           "gridcolor": "white",
           "linecolor": "white",
           "ticks": "",
           "title": {
            "standoff": 15
           },
           "zerolinecolor": "white",
           "zerolinewidth": 2
          }
         }
        },
        "width": 1200,
        "xaxis": {
         "tickangle": 45,
         "tickfont": {
          "size": 14
         },
         "tickformat": ",f",
         "tickmode": "array",
         "tickvals": [
          4,
          8,
          16,
          32,
          64,
          128,
          256,
          512,
          1024,
          2048,
          4096,
          8192,
          16384,
          32768,
          65536,
          131072,
          262144,
          524288,
          1048576,
          2097152,
          4194304,
          8388608,
          16777216,
          33554432
         ],
         "title": {
          "font": {
           "size": 22
          },
          "text": "Public Key (bytes)"
         },
         "type": "log"
        },
        "yaxis": {
         "tickfont": {
          "size": 14
         },
         "tickformat": ",f",
         "tickmode": "array",
         "tickvals": [
          4,
          8,
          16,
          32,
          64,
          128,
          256,
          512,
          1024,
          2048,
          4096,
          8192,
          16384,
          32768,
          65536,
          131072,
          262144,
          524288,
          1048576,
          2097152,
          4194304,
          8388608,
          16777216,
          33554432,
          67108864,
          134217728,
          268435456,
          536870912
         ],
         "title": {
          "font": {
           "size": 22
          },
          "text": "Signature Size (bytes)"
         },
         "type": "log"
        }
       }
      }
     },
     "metadata": {}
    }
   ],
   "source": [
    "\n",
    "import pandas as pd\n",
    "\n",
    "import plotly\n",
    "import plotly.graph_objects as go\n",
    "import plotly.express as px\n",
    "\n",
    "\n",
    "\n",
    "for sheet_name in ['KEM-PKE','DS']:\n",
    "    data = pd.read_excel('/Users/kamyar/Downloads/PQC_Round_3_Parameter_Sets.xlsx', sheet_name=sheet_name).sort_values(by=['Candidate', 'Level'])\n",
    "\n",
    "\n",
    "    subfamilies = data['Subfamily'].unique()\n",
    "\n",
    "    x_column = 'KEM Public Key Size' if sheet_name == 'KEM-PKE' else 'Public Key Size'\n",
    "    y_column = 'KEM Ciphertext Size' if sheet_name == 'KEM-PKE' else 'Signature Size'\n",
    "\n",
    "    subfamily_color_map = {k:v for k,v in zip(subfamilies.tolist(), px.colors.qualitative.Plotly) }\n",
    "\n",
    "    level_to_symbols_map = {1:1, 2:2, 3:0, 4:3, 5:4}\n",
    "\n",
    "    level_to_size_map = {i:i*1 + 10 for i in range(1,6)}\n",
    "\n",
    "    fig = go.Figure()\n",
    "    # fig = px.scatter(data, \n",
    "    #     x=x_column, y=y_column,\n",
    "    #     log_x=True, log_y=True, \n",
    "    #     color=\"Candidate\",\n",
    "    #     opacity=0.8,\n",
    "    #     size_max=18,\n",
    "    #     #facet_col='',\n",
    "    #     symbol=\"Level\",\n",
    "    #     size=\"Level\",\n",
    "    #     width=1200, height=800, \n",
    "    #     color_discrete_sequence=px.colors.qualitative.T10, \n",
    "    #     hover_name='Candidate',\n",
    "    #     # title='KEM Ciphertext size vs Public Key size',\n",
    "    #     labels={\n",
    "    #         x_column: \"Public Key (bytes)\",\n",
    "    #         y_column: \"Ciphertext (bytes)\",\n",
    "    #         \"Level\": \"Security Level\"\n",
    "    #     },\n",
    "\n",
    "    # )\n",
    "\n",
    "    candidates = data['Candidate'].unique()\n",
    "    levels = range(1,6)\n",
    "\n",
    "    candidate_colors = data['Candidate'].map( {v:k for k,v in enumerate(candidates)} )\n",
    "\n",
    "    for cnd_idx,cnd in enumerate(candidates):\n",
    "        trace_data = data[(data['Candidate'] == cnd)]\n",
    "        if not 1 in trace_data['Level'].values:\n",
    "            d1 = trace_data.iloc[0]\n",
    "            d1['Level'] = 1\n",
    "            trace_data.loc[-1] = d1  # adding a row\n",
    "            trace_data.index = trace_data.index + 1  # shifting index\n",
    "            trace_data = trace_data.sort_index()  # sorting by index\n",
    "        fig.add_trace(\n",
    "            go.Scatter(\n",
    "                x=trace_data[x_column], y=trace_data[y_column],\n",
    "                mode = \"markers\",\n",
    "                showlegend=True,\n",
    "                legendgroup=cnd,\n",
    "                name=f\"{cnd} ({trace_data.iloc[0]['Subfamily']})\",\n",
    "                # color_discrete_sequence=px.colors.qualitative.T10, \n",
    "                # hover_name='Candidate',\n",
    "                marker_size = 12, #[ s*2 + 12  for s in  data['Level']],\n",
    "                marker_symbol = trace_data['Level'].map(level_to_symbols_map),\n",
    "                marker_color= px.colors.qualitative.T10[cnd_idx],\n",
    "                text = trace_data['Parameter Set'],\n",
    "                # marker_size = trace_data['Level'].map(level_to_size_map),\n",
    "                marker=dict(\n",
    "                    # size=trace_data['Level'],\n",
    "                    # sizemin=7,\n",
    "                    # color=cnd_idx,\n",
    "                    # sizeref=0.5,\n",
    "                    opacity=1,\n",
    "                    line=dict(width=0.5, color='black')\n",
    "                ),\n",
    "            )\n",
    "        )\n",
    "\n",
    "\n",
    "    for lvl in levels:\n",
    "        trace_data = data[ (data['Level'] == lvl)]\n",
    "        fig.add_trace(\n",
    "            go.Scatter(\n",
    "                x=trace_data[x_column], y=trace_data[y_column],\n",
    "                mode = \"markers\",\n",
    "                showlegend=True,\n",
    "                legendgroup=lvl,\n",
    "                name=f\"Security Level {lvl}\",\n",
    "                visible='legendonly',\n",
    "                marker_colorscale=px.colors.qualitative.T10,\n",
    "                marker_color='Black',\n",
    "                marker_size = 12, #[ s*2 + 12  for s in  data['Level']],\n",
    "                marker_symbol = trace_data['Level'].map({k:v+100 for k,v in level_to_symbols_map.items() }),\n",
    "                text = trace_data['Parameter Set'],\n",
    "                # marker_size = trace_data['Level'].map(level_to_size_map),\n",
    "                marker=dict(\n",
    "                    # size=trace_data['Level'],\n",
    "                    # sizemin=7,\n",
    "                    # color=cnd_idx,\n",
    "                    # sizeref=0.5,\n",
    "                    opacity=1,\n",
    "                    line=dict(width=1, color='orange')\n",
    "                ),\n",
    "            )\n",
    "        )\n",
    "\n",
    "\n",
    "    fig.update_layout(\n",
    "        xaxis_type=\"log\", yaxis_type=\"log\",\n",
    "        width=1200, height=800,\n",
    "        xaxis = dict(\n",
    "            tickmode = 'array',\n",
    "            tickvals =[ 2**(2+i) for i in range(0,24) ],\n",
    "            tickformat = ',f'\n",
    "        ),\n",
    "        yaxis = dict(\n",
    "            tickmode = 'array',\n",
    "            tickvals =[ 2**(2+i) for i in range(0,28) ],\n",
    "            tickformat = ',f'\n",
    "        ),\n",
    "    )\n",
    "\n",
    "\n",
    "    fig.update_xaxes(\n",
    "        tickangle=45,\n",
    "        title_text = 'Public Key (bytes)',\n",
    "        title_font=dict(\n",
    "            size=22, \n",
    "            # family='Courier',\n",
    "            # color='crimson'\n",
    "        ),\n",
    "        tickfont=dict(\n",
    "            # family='Rockwell', \n",
    "            # color='crimson', \n",
    "            size=14\n",
    "        ),\n",
    "\n",
    "    )\n",
    "\n",
    "    fig.update_yaxes(\n",
    "        title_text = 'Ciphertext (bytes)' if sheet_name == 'KEM-PKE' else 'Signature Size (bytes)',\n",
    "        title_font=dict(\n",
    "            size=22,\n",
    "            # family='Courier', \n",
    "            # color='crimson'\n",
    "        ),\n",
    "        tickfont=dict(\n",
    "            # family='Rockwell', \n",
    "            # color='crimson', \n",
    "            size=14\n",
    "        ),\n",
    "    )\n",
    "\n",
    "    # fig.update_layout(\n",
    "    #     margin=dict(l=0, r=0, t=0, b=0),\n",
    "    # #     paper_bgcolor=\"LightSteelBlue\",\n",
    "    # )\n",
    "\n",
    "    config={\n",
    "        'displaylogo': False,\n",
    "        'displayModeBar': True,\n",
    "        'modeBarButtonsToRemove': ['hoverClosest3d', 'hoverClosestCartesian', 'hoverClosestGeo' , 'hoverClosestGl2d', 'hoverClosestPie' , \n",
    "            'lasso2d','toggleSpikelines',' hoverClosestCartesian', 'hoverCompareCartesian'], \n",
    "        'responsive': True\n",
    "    }\n",
    "\n",
    "    fig.update_layout(\n",
    "        legend=dict(\n",
    "            yanchor=\"top\",\n",
    "            y=0.97,\n",
    "            xanchor=\"right\",\n",
    "            x=0.97,\n",
    "            # itemsizing='constant',\n",
    "            # traceorder='reversed+grouped',\n",
    "            borderwidth=4,\n",
    "            bordercolor='#ffffff',\n",
    "            # title_font_family=\"Times New Roman\",\n",
    "            title_font_size=24,\n",
    "            # title = 'Legend',\n",
    "            font=dict(\n",
    "                # family=\"Courier\",\n",
    "                size=14,\n",
    "                color=\"black\"\n",
    "            ),\n",
    "        )\n",
    "    )\n",
    "\n",
    "    plot_name = f'plot_{sheet_name.lower()}'\n",
    "\n",
    "    fig.show(config=config)\n",
    "    fig.write_html(f\"{plot_name}.html\", include_plotlyjs='directory',config=config)\n",
    "    fig.write_image(f\"{plot_name}.svg\")\n",
    "    fig.write_image(f\"{plot_name}.pdf\")"
   ]
  },
  {
   "cell_type": "code",
   "execution_count": 370,
   "metadata": {},
   "outputs": [
    {
     "output_type": "display_data",
     "data": {
      "application/vnd.plotly.v1+json": {
       "config": {
        "displayModeBar": true,
        "displaylogo": false,
        "modeBarButtonsToRemove": [
         "hoverClosest3d",
         "hoverClosestCartesian",
         "hoverClosestGeo",
         "hoverClosestGl2d",
         "hoverClosestPie",
         "lasso2d",
         "toggleSpikelines",
         " hoverClosestCartesian",
         "hoverCompareCartesian"
        ],
        "plotlyServerURL": "https://plot.ly",
        "responsive": true
       },
       "data": [
        {
         "hovertemplate": "Candidate=BIKE<br>Level=1<br>KEM Public Key Size=%{x}<br>KEM Ciphertext Size=%{y}<br>size=%{marker.size}<extra></extra>",
         "legendgroup": "BIKE",
         "marker": {
          "color": "#636efa",
          "opacity": 1,
          "size": [
           16
          ],
          "sizemode": "area",
          "sizeref": 0.04,
          "symbol": "circle"
         },
         "mode": "markers",
         "name": "BIKE",
         "orientation": "v",
         "showlegend": true,
         "type": "scatter",
         "x": [
          1540
         ],
         "xaxis": "x",
         "y": [
          1572
         ],
         "yaxis": "y"
        },
        {
         "hovertemplate": "Candidate=BIKE<br>Level=3<br>KEM Public Key Size=%{x}<br>KEM Ciphertext Size=%{y}<br>size=%{marker.size}<extra></extra>",
         "legendgroup": "BIKE",
         "marker": {
          "color": "#636efa",
          "opacity": 1,
          "size": [
           16
          ],
          "sizemode": "area",
          "sizeref": 0.04,
          "symbol": "circle"
         },
         "mode": "markers",
         "name": "BIKE",
         "orientation": "v",
         "showlegend": false,
         "type": "scatter",
         "x": [
          3082
         ],
         "xaxis": "x3",
         "y": [
          3114
         ],
         "yaxis": "y3"
        },
        {
         "hovertemplate": "Candidate=CRYSTALS-KYBER<br>Level=1<br>KEM Public Key Size=%{x}<br>KEM Ciphertext Size=%{y}<br>size=%{marker.size}<extra></extra>",
         "legendgroup": "CRYSTALS-KYBER",
         "marker": {
          "color": "#EF553B",
          "opacity": 1,
          "size": [
           16
          ],
          "sizemode": "area",
          "sizeref": 0.04,
          "symbol": "circle"
         },
         "mode": "markers",
         "name": "CRYSTALS-KYBER",
         "orientation": "v",
         "showlegend": true,
         "type": "scatter",
         "x": [
          800
         ],
         "xaxis": "x",
         "y": [
          736
         ],
         "yaxis": "y"
        },
        {
         "hovertemplate": "Candidate=CRYSTALS-KYBER<br>Level=3<br>KEM Public Key Size=%{x}<br>KEM Ciphertext Size=%{y}<br>size=%{marker.size}<extra></extra>",
         "legendgroup": "CRYSTALS-KYBER",
         "marker": {
          "color": "#EF553B",
          "opacity": 1,
          "size": [
           16
          ],
          "sizemode": "area",
          "sizeref": 0.04,
          "symbol": "circle"
         },
         "mode": "markers",
         "name": "CRYSTALS-KYBER",
         "orientation": "v",
         "showlegend": false,
         "type": "scatter",
         "x": [
          1184
         ],
         "xaxis": "x3",
         "y": [
          1088
         ],
         "yaxis": "y3"
        },
        {
         "hovertemplate": "Candidate=CRYSTALS-KYBER<br>Level=5<br>KEM Public Key Size=%{x}<br>KEM Ciphertext Size=%{y}<br>size=%{marker.size}<extra></extra>",
         "legendgroup": "CRYSTALS-KYBER",
         "marker": {
          "color": "#EF553B",
          "opacity": 1,
          "size": [
           16
          ],
          "sizemode": "area",
          "sizeref": 0.04,
          "symbol": "circle"
         },
         "mode": "markers",
         "name": "CRYSTALS-KYBER",
         "orientation": "v",
         "showlegend": false,
         "type": "scatter",
         "x": [
          1568
         ],
         "xaxis": "x5",
         "y": [
          1568
         ],
         "yaxis": "y5"
        },
        {
         "hovertemplate": "Candidate=Classic McEliece<br>Level=1<br>KEM Public Key Size=%{x}<br>KEM Ciphertext Size=%{y}<br>size=%{marker.size}<extra></extra>",
         "legendgroup": "Classic McEliece",
         "marker": {
          "color": "#00cc96",
          "opacity": 1,
          "size": [
           16
          ],
          "sizemode": "area",
          "sizeref": 0.04,
          "symbol": "circle"
         },
         "mode": "markers",
         "name": "Classic McEliece",
         "orientation": "v",
         "showlegend": true,
         "type": "scatter",
         "x": [
          261120
         ],
         "xaxis": "x",
         "y": [
          128
         ],
         "yaxis": "y"
        },
        {
         "hovertemplate": "Candidate=Classic McEliece<br>Level=3<br>KEM Public Key Size=%{x}<br>KEM Ciphertext Size=%{y}<br>size=%{marker.size}<extra></extra>",
         "legendgroup": "Classic McEliece",
         "marker": {
          "color": "#00cc96",
          "opacity": 1,
          "size": [
           16
          ],
          "sizemode": "area",
          "sizeref": 0.04,
          "symbol": "circle"
         },
         "mode": "markers",
         "name": "Classic McEliece",
         "orientation": "v",
         "showlegend": false,
         "type": "scatter",
         "x": [
          524160
         ],
         "xaxis": "x3",
         "y": [
          188
         ],
         "yaxis": "y3"
        },
        {
         "hovertemplate": "Candidate=Classic McEliece<br>Level=5<br>KEM Public Key Size=%{x}<br>KEM Ciphertext Size=%{y}<br>size=%{marker.size}<extra></extra>",
         "legendgroup": "Classic McEliece",
         "marker": {
          "color": "#00cc96",
          "opacity": 1,
          "size": [
           16,
           16,
           16
          ],
          "sizemode": "area",
          "sizeref": 0.04,
          "symbol": "circle"
         },
         "mode": "markers",
         "name": "Classic McEliece",
         "orientation": "v",
         "showlegend": false,
         "type": "scatter",
         "x": [
          1044992,
          1047319,
          1357824
         ],
         "xaxis": "x5",
         "y": [
          240,
          226,
          240
         ],
         "yaxis": "y5"
        },
        {
         "hovertemplate": "Candidate=FrodoKEM<br>Level=1<br>KEM Public Key Size=%{x}<br>KEM Ciphertext Size=%{y}<br>size=%{marker.size}<extra></extra>",
         "legendgroup": "FrodoKEM",
         "marker": {
          "color": "#ab63fa",
          "opacity": 1,
          "size": [
           16
          ],
          "sizemode": "area",
          "sizeref": 0.04,
          "symbol": "circle"
         },
         "mode": "markers",
         "name": "FrodoKEM",
         "orientation": "v",
         "showlegend": true,
         "type": "scatter",
         "x": [
          9616
         ],
         "xaxis": "x",
         "y": [
          9720
         ],
         "yaxis": "y"
        },
        {
         "hovertemplate": "Candidate=FrodoKEM<br>Level=3<br>KEM Public Key Size=%{x}<br>KEM Ciphertext Size=%{y}<br>size=%{marker.size}<extra></extra>",
         "legendgroup": "FrodoKEM",
         "marker": {
          "color": "#ab63fa",
          "opacity": 1,
          "size": [
           16
          ],
          "sizemode": "area",
          "sizeref": 0.04,
          "symbol": "circle"
         },
         "mode": "markers",
         "name": "FrodoKEM",
         "orientation": "v",
         "showlegend": false,
         "type": "scatter",
         "x": [
          15632
         ],
         "xaxis": "x3",
         "y": [
          15744
         ],
         "yaxis": "y3"
        },
        {
         "hovertemplate": "Candidate=FrodoKEM<br>Level=5<br>KEM Public Key Size=%{x}<br>KEM Ciphertext Size=%{y}<br>size=%{marker.size}<extra></extra>",
         "legendgroup": "FrodoKEM",
         "marker": {
          "color": "#ab63fa",
          "opacity": 1,
          "size": [
           16
          ],
          "sizemode": "area",
          "sizeref": 0.04,
          "symbol": "circle"
         },
         "mode": "markers",
         "name": "FrodoKEM",
         "orientation": "v",
         "showlegend": false,
         "type": "scatter",
         "x": [
          21520
         ],
         "xaxis": "x5",
         "y": [
          21632
         ],
         "yaxis": "y5"
        },
        {
         "hovertemplate": "Candidate=HQC<br>Level=1<br>KEM Public Key Size=%{x}<br>KEM Ciphertext Size=%{y}<br>size=%{marker.size}<extra></extra>",
         "legendgroup": "HQC",
         "marker": {
          "color": "#FFA15A",
          "opacity": 1,
          "size": [
           16,
           16
          ],
          "sizemode": "area",
          "sizeref": 0.04,
          "symbol": "circle"
         },
         "mode": "markers",
         "name": "HQC",
         "orientation": "v",
         "showlegend": true,
         "type": "scatter",
         "x": [
          3024,
          2607
         ],
         "xaxis": "x",
         "y": [
          6017,
          5191
         ],
         "yaxis": "y"
        },
        {
         "hovertemplate": "Candidate=HQC<br>Level=3<br>KEM Public Key Size=%{x}<br>KEM Ciphertext Size=%{y}<br>size=%{marker.size}<extra></extra>",
         "legendgroup": "HQC",
         "marker": {
          "color": "#FFA15A",
          "opacity": 1,
          "size": [
           16,
           16
          ],
          "sizemode": "area",
          "sizeref": 0.04,
          "symbol": "circle"
         },
         "mode": "markers",
         "name": "HQC",
         "orientation": "v",
         "showlegend": false,
         "type": "scatter",
         "x": [
          5690,
          4906
         ],
         "xaxis": "x3",
         "y": [
          11364,
          9794
         ],
         "yaxis": "y3"
        },
        {
         "hovertemplate": "Candidate=HQC<br>Level=5<br>KEM Public Key Size=%{x}<br>KEM Ciphertext Size=%{y}<br>size=%{marker.size}<extra></extra>",
         "legendgroup": "HQC",
         "marker": {
          "color": "#FFA15A",
          "opacity": 1,
          "size": [
           16,
           16
          ],
          "sizemode": "area",
          "sizeref": 0.04,
          "symbol": "circle"
         },
         "mode": "markers",
         "name": "HQC",
         "orientation": "v",
         "showlegend": false,
         "type": "scatter",
         "x": [
          8698,
          7535
         ],
         "xaxis": "x5",
         "y": [
          17379,
          15047
         ],
         "yaxis": "y5"
        },
        {
         "hovertemplate": "Candidate=NTRU<br>Level=1<br>KEM Public Key Size=%{x}<br>KEM Ciphertext Size=%{y}<br>size=%{marker.size}<extra></extra>",
         "legendgroup": "NTRU",
         "marker": {
          "color": "#19d3f3",
          "opacity": 1,
          "size": [
           16,
           16
          ],
          "sizemode": "area",
          "sizeref": 0.04,
          "symbol": "circle"
         },
         "mode": "markers",
         "name": "NTRU",
         "orientation": "v",
         "showlegend": true,
         "type": "scatter",
         "x": [
          931,
          1138
         ],
         "xaxis": "x",
         "y": [
          931,
          1138
         ],
         "yaxis": "y"
        },
        {
         "hovertemplate": "Candidate=NTRU<br>Level=3<br>KEM Public Key Size=%{x}<br>KEM Ciphertext Size=%{y}<br>size=%{marker.size}<extra></extra>",
         "legendgroup": "NTRU",
         "marker": {
          "color": "#19d3f3",
          "opacity": 1,
          "size": [
           16
          ],
          "sizemode": "area",
          "sizeref": 0.04,
          "symbol": "circle"
         },
         "mode": "markers",
         "name": "NTRU",
         "orientation": "v",
         "showlegend": false,
         "type": "scatter",
         "x": [
          1230
         ],
         "xaxis": "x3",
         "y": [
          1230
         ],
         "yaxis": "y3"
        },
        {
         "hovertemplate": "Candidate=SABER<br>Level=1<br>KEM Public Key Size=%{x}<br>KEM Ciphertext Size=%{y}<br>size=%{marker.size}<extra></extra>",
         "legendgroup": "SABER",
         "marker": {
          "color": "#FF6692",
          "opacity": 1,
          "size": [
           16
          ],
          "sizemode": "area",
          "sizeref": 0.04,
          "symbol": "circle"
         },
         "mode": "markers",
         "name": "SABER",
         "orientation": "v",
         "showlegend": true,
         "type": "scatter",
         "x": [
          672
         ],
         "xaxis": "x",
         "y": [
          736
         ],
         "yaxis": "y"
        },
        {
         "hovertemplate": "Candidate=SABER<br>Level=3<br>KEM Public Key Size=%{x}<br>KEM Ciphertext Size=%{y}<br>size=%{marker.size}<extra></extra>",
         "legendgroup": "SABER",
         "marker": {
          "color": "#FF6692",
          "opacity": 1,
          "size": [
           16
          ],
          "sizemode": "area",
          "sizeref": 0.04,
          "symbol": "circle"
         },
         "mode": "markers",
         "name": "SABER",
         "orientation": "v",
         "showlegend": false,
         "type": "scatter",
         "x": [
          992
         ],
         "xaxis": "x3",
         "y": [
          1088
         ],
         "yaxis": "y3"
        },
        {
         "hovertemplate": "Candidate=SABER<br>Level=5<br>KEM Public Key Size=%{x}<br>KEM Ciphertext Size=%{y}<br>size=%{marker.size}<extra></extra>",
         "legendgroup": "SABER",
         "marker": {
          "color": "#FF6692",
          "opacity": 1,
          "size": [
           16
          ],
          "sizemode": "area",
          "sizeref": 0.04,
          "symbol": "circle"
         },
         "mode": "markers",
         "name": "SABER",
         "orientation": "v",
         "showlegend": false,
         "type": "scatter",
         "x": [
          1312
         ],
         "xaxis": "x5",
         "y": [
          1472
         ],
         "yaxis": "y5"
        },
        {
         "hovertemplate": "Candidate=SIKE<br>Level=1<br>KEM Public Key Size=%{x}<br>KEM Ciphertext Size=%{y}<br>size=%{marker.size}<extra></extra>",
         "legendgroup": "SIKE",
         "marker": {
          "color": "#B6E880",
          "opacity": 1,
          "size": [
           16,
           16
          ],
          "sizemode": "area",
          "sizeref": 0.04,
          "symbol": "circle"
         },
         "mode": "markers",
         "name": "SIKE",
         "orientation": "v",
         "showlegend": true,
         "type": "scatter",
         "x": [
          330,
          197
         ],
         "xaxis": "x",
         "y": [
          346,
          236
         ],
         "yaxis": "y"
        },
        {
         "hovertemplate": "Candidate=SIKE<br>Level=2<br>KEM Public Key Size=%{x}<br>KEM Ciphertext Size=%{y}<br>size=%{marker.size}<extra></extra>",
         "legendgroup": "SIKE",
         "marker": {
          "color": "#B6E880",
          "opacity": 1,
          "size": [
           16,
           16
          ],
          "sizemode": "area",
          "sizeref": 0.04,
          "symbol": "circle"
         },
         "mode": "markers",
         "name": "SIKE",
         "orientation": "v",
         "showlegend": false,
         "type": "scatter",
         "x": [
          378,
          225
         ],
         "xaxis": "x2",
         "y": [
          402,
          280
         ],
         "yaxis": "y2"
        },
        {
         "hovertemplate": "Candidate=SIKE<br>Level=3<br>KEM Public Key Size=%{x}<br>KEM Ciphertext Size=%{y}<br>size=%{marker.size}<extra></extra>",
         "legendgroup": "SIKE",
         "marker": {
          "color": "#B6E880",
          "opacity": 1,
          "size": [
           16,
           16
          ],
          "sizemode": "area",
          "sizeref": 0.04,
          "symbol": "circle"
         },
         "mode": "markers",
         "name": "SIKE",
         "orientation": "v",
         "showlegend": false,
         "type": "scatter",
         "x": [
          462,
          274
         ],
         "xaxis": "x3",
         "y": [
          486,
          336
         ],
         "yaxis": "y3"
        },
        {
         "hovertemplate": "Candidate=SIKE<br>Level=5<br>KEM Public Key Size=%{x}<br>KEM Ciphertext Size=%{y}<br>size=%{marker.size}<extra></extra>",
         "legendgroup": "SIKE",
         "marker": {
          "color": "#B6E880",
          "opacity": 1,
          "size": [
           16,
           16
          ],
          "sizemode": "area",
          "sizeref": 0.04,
          "symbol": "circle"
         },
         "mode": "markers",
         "name": "SIKE",
         "orientation": "v",
         "showlegend": false,
         "type": "scatter",
         "x": [
          564,
          335
         ],
         "xaxis": "x5",
         "y": [
          596,
          410
         ],
         "yaxis": "y5"
        },
        {
         "hovertemplate": "Candidate=NTRU Prime<br>Level=2<br>KEM Public Key Size=%{x}<br>KEM Ciphertext Size=%{y}<br>size=%{marker.size}<extra></extra>",
         "legendgroup": "NTRU Prime",
         "marker": {
          "color": "#FF97FF",
          "opacity": 1,
          "size": [
           16,
           16
          ],
          "sizemode": "area",
          "sizeref": 0.04,
          "symbol": "circle"
         },
         "mode": "markers",
         "name": "NTRU Prime",
         "orientation": "v",
         "showlegend": true,
         "type": "scatter",
         "x": [
          994,
          897
         ],
         "xaxis": "x2",
         "y": [
          897,
          1025
         ],
         "yaxis": "y2"
        },
        {
         "hovertemplate": "Candidate=NTRU Prime<br>Level=3<br>KEM Public Key Size=%{x}<br>KEM Ciphertext Size=%{y}<br>size=%{marker.size}<extra></extra>",
         "legendgroup": "NTRU Prime",
         "marker": {
          "color": "#FF97FF",
          "opacity": 1,
          "size": [
           16,
           16
          ],
          "sizemode": "area",
          "sizeref": 0.04,
          "symbol": "circle"
         },
         "mode": "markers",
         "name": "NTRU Prime",
         "orientation": "v",
         "showlegend": false,
         "type": "scatter",
         "x": [
          1158,
          1039
         ],
         "xaxis": "x3",
         "y": [
          1039,
          1167
         ],
         "yaxis": "y3"
        },
        {
         "hovertemplate": "Candidate=NTRU Prime<br>Level=4<br>KEM Public Key Size=%{x}<br>KEM Ciphertext Size=%{y}<br>size=%{marker.size}<extra></extra>",
         "legendgroup": "NTRU Prime",
         "marker": {
          "color": "#FF97FF",
          "opacity": 1,
          "size": [
           16,
           16
          ],
          "sizemode": "area",
          "sizeref": 0.04,
          "symbol": "circle"
         },
         "mode": "markers",
         "name": "NTRU Prime",
         "orientation": "v",
         "showlegend": false,
         "type": "scatter",
         "x": [
          1184,
          1322
         ],
         "xaxis": "x4",
         "y": [
          1312,
          1184
         ],
         "yaxis": "y4"
        }
       ],
       "layout": {
        "annotations": [
         {
          "font": {},
          "showarrow": false,
          "text": "Level=1",
          "x": 0.094,
          "xanchor": "center",
          "xref": "paper",
          "y": 1,
          "yanchor": "bottom",
          "yref": "paper"
         },
         {
          "font": {},
          "showarrow": false,
          "text": "Level=2",
          "x": 0.29700000000000004,
          "xanchor": "center",
          "xref": "paper",
          "y": 1,
          "yanchor": "bottom",
          "yref": "paper"
         },
         {
          "font": {},
          "showarrow": false,
          "text": "Level=3",
          "x": 0.5,
          "xanchor": "center",
          "xref": "paper",
          "y": 1,
          "yanchor": "bottom",
          "yref": "paper"
         },
         {
          "font": {},
          "showarrow": false,
          "text": "Level=4",
          "x": 0.7030000000000001,
          "xanchor": "center",
          "xref": "paper",
          "y": 1,
          "yanchor": "bottom",
          "yref": "paper"
         },
         {
          "font": {},
          "showarrow": false,
          "text": "Level=5",
          "x": 0.906,
          "xanchor": "center",
          "xref": "paper",
          "y": 1,
          "yanchor": "bottom",
          "yref": "paper"
         }
        ],
        "height": 800,
        "legend": {
         "bordercolor": "#ffffff",
         "borderwidth": 1,
         "font": {
          "color": "black",
          "size": 22
         },
         "itemsizing": "constant",
         "title": {
          "text": ""
         },
         "tracegroupgap": 0,
         "x": 0.994,
         "xanchor": "right",
         "y": 0.8,
         "yanchor": "top"
        },
        "margin": {
         "t": 60
        },
        "template": {
         "data": {
          "bar": [
           {
            "error_x": {
             "color": "#2a3f5f"
            },
            "error_y": {
             "color": "#2a3f5f"
            },
            "marker": {
             "line": {
              "color": "#E5ECF6",
              "width": 0.5
             }
            },
            "type": "bar"
           }
          ],
          "barpolar": [
           {
            "marker": {
             "line": {
              "color": "#E5ECF6",
              "width": 0.5
             }
            },
            "type": "barpolar"
           }
          ],
          "carpet": [
           {
            "aaxis": {
             "endlinecolor": "#2a3f5f",
             "gridcolor": "white",
             "linecolor": "white",
             "minorgridcolor": "white",
             "startlinecolor": "#2a3f5f"
            },
            "baxis": {
             "endlinecolor": "#2a3f5f",
             "gridcolor": "white",
             "linecolor": "white",
             "minorgridcolor": "white",
             "startlinecolor": "#2a3f5f"
            },
            "type": "carpet"
           }
          ],
          "choropleth": [
           {
            "colorbar": {
             "outlinewidth": 0,
             "ticks": ""
            },
            "type": "choropleth"
           }
          ],
          "contour": [
           {
            "colorbar": {
             "outlinewidth": 0,
             "ticks": ""
            },
            "colorscale": [
             [
              0,
              "#0d0887"
             ],
             [
              0.1111111111111111,
              "#46039f"
             ],
             [
              0.2222222222222222,
              "#7201a8"
             ],
             [
              0.3333333333333333,
              "#9c179e"
             ],
             [
              0.4444444444444444,
              "#bd3786"
             ],
             [
              0.5555555555555556,
              "#d8576b"
             ],
             [
              0.6666666666666666,
              "#ed7953"
             ],
             [
              0.7777777777777778,
              "#fb9f3a"
             ],
             [
              0.8888888888888888,
              "#fdca26"
             ],
             [
              1,
              "#f0f921"
             ]
            ],
            "type": "contour"
           }
          ],
          "contourcarpet": [
           {
            "colorbar": {
             "outlinewidth": 0,
             "ticks": ""
            },
            "type": "contourcarpet"
           }
          ],
          "heatmap": [
           {
            "colorbar": {
             "outlinewidth": 0,
             "ticks": ""
            },
            "colorscale": [
             [
              0,
              "#0d0887"
             ],
             [
              0.1111111111111111,
              "#46039f"
             ],
             [
              0.2222222222222222,
              "#7201a8"
             ],
             [
              0.3333333333333333,
              "#9c179e"
             ],
             [
              0.4444444444444444,
              "#bd3786"
             ],
             [
              0.5555555555555556,
              "#d8576b"
             ],
             [
              0.6666666666666666,
              "#ed7953"
             ],
             [
              0.7777777777777778,
              "#fb9f3a"
             ],
             [
              0.8888888888888888,
              "#fdca26"
             ],
             [
              1,
              "#f0f921"
             ]
            ],
            "type": "heatmap"
           }
          ],
          "heatmapgl": [
           {
            "colorbar": {
             "outlinewidth": 0,
             "ticks": ""
            },
            "colorscale": [
             [
              0,
              "#0d0887"
             ],
             [
              0.1111111111111111,
              "#46039f"
             ],
             [
              0.2222222222222222,
              "#7201a8"
             ],
             [
              0.3333333333333333,
              "#9c179e"
             ],
             [
              0.4444444444444444,
              "#bd3786"
             ],
             [
              0.5555555555555556,
              "#d8576b"
             ],
             [
              0.6666666666666666,
              "#ed7953"
             ],
             [
              0.7777777777777778,
              "#fb9f3a"
             ],
             [
              0.8888888888888888,
              "#fdca26"
             ],
             [
              1,
              "#f0f921"
             ]
            ],
            "type": "heatmapgl"
           }
          ],
          "histogram": [
           {
            "marker": {
             "colorbar": {
              "outlinewidth": 0,
              "ticks": ""
             }
            },
            "type": "histogram"
           }
          ],
          "histogram2d": [
           {
            "colorbar": {
             "outlinewidth": 0,
             "ticks": ""
            },
            "colorscale": [
             [
              0,
              "#0d0887"
             ],
             [
              0.1111111111111111,
              "#46039f"
             ],
             [
              0.2222222222222222,
              "#7201a8"
             ],
             [
              0.3333333333333333,
              "#9c179e"
             ],
             [
              0.4444444444444444,
              "#bd3786"
             ],
             [
              0.5555555555555556,
              "#d8576b"
             ],
             [
              0.6666666666666666,
              "#ed7953"
             ],
             [
              0.7777777777777778,
              "#fb9f3a"
             ],
             [
              0.8888888888888888,
              "#fdca26"
             ],
             [
              1,
              "#f0f921"
             ]
            ],
            "type": "histogram2d"
           }
          ],
          "histogram2dcontour": [
           {
            "colorbar": {
             "outlinewidth": 0,
             "ticks": ""
            },
            "colorscale": [
             [
              0,
              "#0d0887"
             ],
             [
              0.1111111111111111,
              "#46039f"
             ],
             [
              0.2222222222222222,
              "#7201a8"
             ],
             [
              0.3333333333333333,
              "#9c179e"
             ],
             [
              0.4444444444444444,
              "#bd3786"
             ],
             [
              0.5555555555555556,
              "#d8576b"
             ],
             [
              0.6666666666666666,
              "#ed7953"
             ],
             [
              0.7777777777777778,
              "#fb9f3a"
             ],
             [
              0.8888888888888888,
              "#fdca26"
             ],
             [
              1,
              "#f0f921"
             ]
            ],
            "type": "histogram2dcontour"
           }
          ],
          "mesh3d": [
           {
            "colorbar": {
             "outlinewidth": 0,
             "ticks": ""
            },
            "type": "mesh3d"
           }
          ],
          "parcoords": [
           {
            "line": {
             "colorbar": {
              "outlinewidth": 0,
              "ticks": ""
             }
            },
            "type": "parcoords"
           }
          ],
          "pie": [
           {
            "automargin": true,
            "type": "pie"
           }
          ],
          "scatter": [
           {
            "marker": {
             "colorbar": {
              "outlinewidth": 0,
              "ticks": ""
             }
            },
            "type": "scatter"
           }
          ],
          "scatter3d": [
           {
            "line": {
             "colorbar": {
              "outlinewidth": 0,
              "ticks": ""
             }
            },
            "marker": {
             "colorbar": {
              "outlinewidth": 0,
              "ticks": ""
             }
            },
            "type": "scatter3d"
           }
          ],
          "scattercarpet": [
           {
            "marker": {
             "colorbar": {
              "outlinewidth": 0,
              "ticks": ""
             }
            },
            "type": "scattercarpet"
           }
          ],
          "scattergeo": [
           {
            "marker": {
             "colorbar": {
              "outlinewidth": 0,
              "ticks": ""
             }
            },
            "type": "scattergeo"
           }
          ],
          "scattergl": [
           {
            "marker": {
             "colorbar": {
              "outlinewidth": 0,
              "ticks": ""
             }
            },
            "type": "scattergl"
           }
          ],
          "scattermapbox": [
           {
            "marker": {
             "colorbar": {
              "outlinewidth": 0,
              "ticks": ""
             }
            },
            "type": "scattermapbox"
           }
          ],
          "scatterpolar": [
           {
            "marker": {
             "colorbar": {
              "outlinewidth": 0,
              "ticks": ""
             }
            },
            "type": "scatterpolar"
           }
          ],
          "scatterpolargl": [
           {
            "marker": {
             "colorbar": {
              "outlinewidth": 0,
              "ticks": ""
             }
            },
            "type": "scatterpolargl"
           }
          ],
          "scatterternary": [
           {
            "marker": {
             "colorbar": {
              "outlinewidth": 0,
              "ticks": ""
             }
            },
            "type": "scatterternary"
           }
          ],
          "surface": [
           {
            "colorbar": {
             "outlinewidth": 0,
             "ticks": ""
            },
            "colorscale": [
             [
              0,
              "#0d0887"
             ],
             [
              0.1111111111111111,
              "#46039f"
             ],
             [
              0.2222222222222222,
              "#7201a8"
             ],
             [
              0.3333333333333333,
              "#9c179e"
             ],
             [
              0.4444444444444444,
              "#bd3786"
             ],
             [
              0.5555555555555556,
              "#d8576b"
             ],
             [
              0.6666666666666666,
              "#ed7953"
             ],
             [
              0.7777777777777778,
              "#fb9f3a"
             ],
             [
              0.8888888888888888,
              "#fdca26"
             ],
             [
              1,
              "#f0f921"
             ]
            ],
            "type": "surface"
           }
          ],
          "table": [
           {
            "cells": {
             "fill": {
              "color": "#EBF0F8"
             },
             "line": {
              "color": "white"
             }
            },
            "header": {
             "fill": {
              "color": "#C8D4E3"
             },
             "line": {
              "color": "white"
             }
            },
            "type": "table"
           }
          ]
         },
         "layout": {
          "annotationdefaults": {
           "arrowcolor": "#2a3f5f",
           "arrowhead": 0,
           "arrowwidth": 1
          },
          "coloraxis": {
           "colorbar": {
            "outlinewidth": 0,
            "ticks": ""
           }
          },
          "colorscale": {
           "diverging": [
            [
             0,
             "#8e0152"
            ],
            [
             0.1,
             "#c51b7d"
            ],
            [
             0.2,
             "#de77ae"
            ],
            [
             0.3,
             "#f1b6da"
            ],
            [
             0.4,
             "#fde0ef"
            ],
            [
             0.5,
             "#f7f7f7"
            ],
            [
             0.6,
             "#e6f5d0"
            ],
            [
             0.7,
             "#b8e186"
            ],
            [
             0.8,
             "#7fbc41"
            ],
            [
             0.9,
             "#4d9221"
            ],
            [
             1,
             "#276419"
            ]
           ],
           "sequential": [
            [
             0,
             "#0d0887"
            ],
            [
             0.1111111111111111,
             "#46039f"
            ],
            [
             0.2222222222222222,
             "#7201a8"
            ],
            [
             0.3333333333333333,
             "#9c179e"
            ],
            [
             0.4444444444444444,
             "#bd3786"
            ],
            [
             0.5555555555555556,
             "#d8576b"
            ],
            [
             0.6666666666666666,
             "#ed7953"
            ],
            [
             0.7777777777777778,
             "#fb9f3a"
            ],
            [
             0.8888888888888888,
             "#fdca26"
            ],
            [
             1,
             "#f0f921"
            ]
           ],
           "sequentialminus": [
            [
             0,
             "#0d0887"
            ],
            [
             0.1111111111111111,
             "#46039f"
            ],
            [
             0.2222222222222222,
             "#7201a8"
            ],
            [
             0.3333333333333333,
             "#9c179e"
            ],
            [
             0.4444444444444444,
             "#bd3786"
            ],
            [
             0.5555555555555556,
             "#d8576b"
            ],
            [
             0.6666666666666666,
             "#ed7953"
            ],
            [
             0.7777777777777778,
             "#fb9f3a"
            ],
            [
             0.8888888888888888,
             "#fdca26"
            ],
            [
             1,
             "#f0f921"
            ]
           ]
          },
          "colorway": [
           "#636efa",
           "#EF553B",
           "#00cc96",
           "#ab63fa",
           "#FFA15A",
           "#19d3f3",
           "#FF6692",
           "#B6E880",
           "#FF97FF",
           "#FECB52"
          ],
          "font": {
           "color": "#2a3f5f"
          },
          "geo": {
           "bgcolor": "white",
           "lakecolor": "white",
           "landcolor": "#E5ECF6",
           "showlakes": true,
           "showland": true,
           "subunitcolor": "white"
          },
          "hoverlabel": {
           "align": "left"
          },
          "hovermode": "closest",
          "mapbox": {
           "style": "light"
          },
          "paper_bgcolor": "white",
          "plot_bgcolor": "#E5ECF6",
          "polar": {
           "angularaxis": {
            "gridcolor": "white",
            "linecolor": "white",
            "ticks": ""
           },
           "bgcolor": "#E5ECF6",
           "radialaxis": {
            "gridcolor": "white",
            "linecolor": "white",
            "ticks": ""
           }
          },
          "scene": {
           "xaxis": {
            "backgroundcolor": "#E5ECF6",
            "gridcolor": "white",
            "gridwidth": 2,
            "linecolor": "white",
            "showbackground": true,
            "ticks": "",
            "zerolinecolor": "white"
           },
           "yaxis": {
            "backgroundcolor": "#E5ECF6",
            "gridcolor": "white",
            "gridwidth": 2,
            "linecolor": "white",
            "showbackground": true,
            "ticks": "",
            "zerolinecolor": "white"
           },
           "zaxis": {
            "backgroundcolor": "#E5ECF6",
            "gridcolor": "white",
            "gridwidth": 2,
            "linecolor": "white",
            "showbackground": true,
            "ticks": "",
            "zerolinecolor": "white"
           }
          },
          "shapedefaults": {
           "line": {
            "color": "#2a3f5f"
           }
          },
          "ternary": {
           "aaxis": {
            "gridcolor": "white",
            "linecolor": "white",
            "ticks": ""
           },
           "baxis": {
            "gridcolor": "white",
            "linecolor": "white",
            "ticks": ""
           },
           "bgcolor": "#E5ECF6",
           "caxis": {
            "gridcolor": "white",
            "linecolor": "white",
            "ticks": ""
           }
          },
          "title": {
           "x": 0.05
          },
          "xaxis": {
           "automargin": true,
           "gridcolor": "white",
           "linecolor": "white",
           "ticks": "",
           "title": {
            "standoff": 15
           },
           "zerolinecolor": "white",
           "zerolinewidth": 2
          },
          "yaxis": {
           "automargin": true,
           "gridcolor": "white",
           "linecolor": "white",
           "ticks": "",
           "title": {
            "standoff": 15
           },
           "zerolinecolor": "white",
           "zerolinewidth": 2
          }
         }
        },
        "width": 2400,
        "xaxis": {
         "anchor": "y",
         "domain": [
          0,
          0.188
         ],
         "tickangle": 45,
         "tickfont": {
          "size": 14
         },
         "tickformat": ",f",
         "tickmode": "array",
         "tickvals": [
          8,
          16,
          32,
          64,
          128,
          256,
          512,
          1024,
          2048,
          4096,
          8192,
          16384,
          32768,
          65536,
          131072,
          262144,
          524288,
          1048576,
          2097152,
          4194304,
          8388608,
          16777216,
          33554432,
          67108864,
          134217728,
          268435456,
          536870912,
          1073741824
         ],
         "title": {
          "font": {
           "size": 18
          },
          "standoff": 0,
          "text": "Public Key (bytes)"
         },
         "type": "log"
        },
        "xaxis2": {
         "anchor": "y2",
         "domain": [
          0.203,
          0.391
         ],
         "matches": "x",
         "tickangle": 45,
         "tickfont": {
          "size": 14
         },
         "title": {
          "font": {
           "size": 18
          },
          "standoff": 0,
          "text": "Public Key (bytes)"
         },
         "type": "log"
        },
        "xaxis3": {
         "anchor": "y3",
         "domain": [
          0.406,
          0.5940000000000001
         ],
         "matches": "x",
         "tickangle": 45,
         "tickfont": {
          "size": 14
         },
         "title": {
          "font": {
           "size": 18
          },
          "standoff": 0,
          "text": "Public Key (bytes)"
         },
         "type": "log"
        },
        "xaxis4": {
         "anchor": "y4",
         "domain": [
          0.6090000000000001,
          0.7970000000000002
         ],
         "matches": "x",
         "tickangle": 45,
         "tickfont": {
          "size": 14
         },
         "title": {
          "font": {
           "size": 18
          },
          "standoff": 0,
          "text": "Public Key (bytes)"
         },
         "type": "log"
        },
        "xaxis5": {
         "anchor": "y5",
         "domain": [
          0.812,
          1
         ],
         "matches": "x",
         "tickangle": 45,
         "tickfont": {
          "size": 14
         },
         "title": {
          "font": {
           "size": 18
          },
          "standoff": 0,
          "text": "Public Key (bytes)"
         },
         "type": "log"
        },
        "yaxis": {
         "anchor": "x",
         "domain": [
          0,
          1
         ],
         "tickfont": {
          "size": 14
         },
         "tickformat": ",f",
         "tickmode": "array",
         "tickvals": [
          8,
          16,
          32,
          64,
          128,
          256,
          512,
          1024,
          2048,
          4096,
          8192,
          16384,
          32768,
          65536,
          131072,
          262144,
          524288,
          1048576
         ],
         "title": {
          "font": {
           "size": 18
          },
          "standoff": 0,
          "text": "Ciphertext (bytes)"
         },
         "type": "log"
        },
        "yaxis2": {
         "anchor": "x2",
         "domain": [
          0,
          1
         ],
         "matches": "y",
         "showticklabels": false,
         "tickfont": {
          "size": 14
         },
         "title": {
          "font": {
           "size": 18
          },
          "standoff": 0,
          "text": "Ciphertext (bytes)"
         },
         "type": "log"
        },
        "yaxis3": {
         "anchor": "x3",
         "domain": [
          0,
          1
         ],
         "matches": "y",
         "showticklabels": false,
         "tickfont": {
          "size": 14
         },
         "title": {
          "font": {
           "size": 18
          },
          "standoff": 0,
          "text": "Ciphertext (bytes)"
         },
         "type": "log"
        },
        "yaxis4": {
         "anchor": "x4",
         "domain": [
          0,
          1
         ],
         "matches": "y",
         "showticklabels": false,
         "tickfont": {
          "size": 14
         },
         "title": {
          "font": {
           "size": 18
          },
          "standoff": 0,
          "text": "Ciphertext (bytes)"
         },
         "type": "log"
        },
        "yaxis5": {
         "anchor": "x5",
         "domain": [
          0,
          1
         ],
         "matches": "y",
         "showticklabels": false,
         "tickfont": {
          "size": 14
         },
         "title": {
          "font": {
           "size": 18
          },
          "standoff": 0,
          "text": "Ciphertext (bytes)"
         },
         "type": "log"
        }
       }
      }
     },
     "metadata": {}
    },
    {
     "output_type": "display_data",
     "data": {
      "application/vnd.plotly.v1+json": {
       "config": {
        "displayModeBar": true,
        "displaylogo": false,
        "modeBarButtonsToRemove": [
         "hoverClosest3d",
         "hoverClosestCartesian",
         "hoverClosestGeo",
         "hoverClosestGl2d",
         "hoverClosestPie",
         "lasso2d",
         "toggleSpikelines",
         " hoverClosestCartesian",
         "hoverCompareCartesian"
        ],
        "plotlyServerURL": "https://plot.ly",
        "responsive": true
       },
       "data": [
        {
         "hovertemplate": "Candidate=CRYSTALS-DILITHIUM<br>Level=1<br>Public Key Size=%{x}<br>Signature Size=%{y}<br>size=%{marker.size}<extra></extra>",
         "legendgroup": "CRYSTALS-DILITHIUM",
         "marker": {
          "color": "#636efa",
          "opacity": 1,
          "size": [
           16
          ],
          "sizemode": "area",
          "sizeref": 0.04,
          "symbol": "circle"
         },
         "mode": "markers",
         "name": "CRYSTALS-DILITHIUM",
         "orientation": "v",
         "showlegend": true,
         "type": "scatter",
         "x": [
          1184
         ],
         "xaxis": "x",
         "y": [
          2044
         ],
         "yaxis": "y"
        },
        {
         "hovertemplate": "Candidate=CRYSTALS-DILITHIUM<br>Level=2<br>Public Key Size=%{x}<br>Signature Size=%{y}<br>size=%{marker.size}<extra></extra>",
         "legendgroup": "CRYSTALS-DILITHIUM",
         "marker": {
          "color": "#636efa",
          "opacity": 1,
          "size": [
           16
          ],
          "sizemode": "area",
          "sizeref": 0.04,
          "symbol": "circle"
         },
         "mode": "markers",
         "name": "CRYSTALS-DILITHIUM",
         "orientation": "v",
         "showlegend": false,
         "type": "scatter",
         "x": [
          1472
         ],
         "xaxis": "x2",
         "y": [
          2701
         ],
         "yaxis": "y2"
        },
        {
         "hovertemplate": "Candidate=CRYSTALS-DILITHIUM<br>Level=3<br>Public Key Size=%{x}<br>Signature Size=%{y}<br>size=%{marker.size}<extra></extra>",
         "legendgroup": "CRYSTALS-DILITHIUM",
         "marker": {
          "color": "#636efa",
          "opacity": 1,
          "size": [
           16
          ],
          "sizemode": "area",
          "sizeref": 0.04,
          "symbol": "circle"
         },
         "mode": "markers",
         "name": "CRYSTALS-DILITHIUM",
         "orientation": "v",
         "showlegend": false,
         "type": "scatter",
         "x": [
          1760
         ],
         "xaxis": "x3",
         "y": [
          3366
         ],
         "yaxis": "y3"
        },
        {
         "hovertemplate": "Candidate=FALCON<br>Level=1<br>Public Key Size=%{x}<br>Signature Size=%{y}<br>size=%{marker.size}<extra></extra>",
         "legendgroup": "FALCON",
         "marker": {
          "color": "#EF553B",
          "opacity": 1,
          "size": [
           16
          ],
          "sizemode": "area",
          "sizeref": 0.04,
          "symbol": "circle"
         },
         "mode": "markers",
         "name": "FALCON",
         "orientation": "v",
         "showlegend": true,
         "type": "scatter",
         "x": [
          897
         ],
         "xaxis": "x",
         "y": [
          657
         ],
         "yaxis": "y"
        },
        {
         "hovertemplate": "Candidate=FALCON<br>Level=3<br>Public Key Size=%{x}<br>Signature Size=%{y}<br>size=%{marker.size}<extra></extra>",
         "legendgroup": "FALCON",
         "marker": {
          "color": "#EF553B",
          "opacity": 1,
          "size": [
           16
          ],
          "sizemode": "area",
          "sizeref": 0.04,
          "symbol": "circle"
         },
         "mode": "markers",
         "name": "FALCON",
         "orientation": "v",
         "showlegend": false,
         "type": "scatter",
         "x": [
          1441
         ],
         "xaxis": "x3",
         "y": [
          994
         ],
         "yaxis": "y3"
        },
        {
         "hovertemplate": "Candidate=FALCON<br>Level=5<br>Public Key Size=%{x}<br>Signature Size=%{y}<br>size=%{marker.size}<extra></extra>",
         "legendgroup": "FALCON",
         "marker": {
          "color": "#EF553B",
          "opacity": 1,
          "size": [
           16
          ],
          "sizemode": "area",
          "sizeref": 0.04,
          "symbol": "circle"
         },
         "mode": "markers",
         "name": "FALCON",
         "orientation": "v",
         "showlegend": false,
         "type": "scatter",
         "x": [
          1793
         ],
         "xaxis": "x4",
         "y": [
          1273
         ],
         "yaxis": "y4"
        },
        {
         "hovertemplate": "Candidate=GeMSS<br>Level=1<br>Public Key Size=%{x}<br>Signature Size=%{y}<br>size=%{marker.size}<extra></extra>",
         "legendgroup": "GeMSS",
         "marker": {
          "color": "#00cc96",
          "opacity": 1,
          "size": [
           16,
           16,
           16
          ],
          "sizemode": "area",
          "sizeref": 0.04,
          "symbol": "circle"
         },
         "mode": "markers",
         "name": "GeMSS",
         "orientation": "v",
         "showlegend": true,
         "type": "scatter",
         "x": [
          352190,
          363610,
          375210
         ],
         "xaxis": "x",
         "y": [
          32,
          34,
          35
         ],
         "yaxis": "y"
        },
        {
         "hovertemplate": "Candidate=GeMSS<br>Level=3<br>Public Key Size=%{x}<br>Signature Size=%{y}<br>size=%{marker.size}<extra></extra>",
         "legendgroup": "GeMSS",
         "marker": {
          "color": "#00cc96",
          "opacity": 1,
          "size": [
           16,
           16,
           16
          ],
          "sizemode": "area",
          "sizeref": 0.04,
          "symbol": "circle"
         },
         "mode": "markers",
         "name": "GeMSS",
         "orientation": "v",
         "showlegend": false,
         "type": "scatter",
         "x": [
          1237960,
          1264120,
          1290540
         ],
         "xaxis": "x3",
         "y": [
          51,
          53,
          54
         ],
         "yaxis": "y3"
        },
        {
         "hovertemplate": "Candidate=GeMSS<br>Level=5<br>Public Key Size=%{x}<br>Signature Size=%{y}<br>size=%{marker.size}<extra></extra>",
         "legendgroup": "GeMSS",
         "marker": {
          "color": "#00cc96",
          "opacity": 1,
          "size": [
           16,
           16,
           16
          ],
          "sizemode": "area",
          "sizeref": 0.04,
          "symbol": "circle"
         },
         "mode": "markers",
         "name": "GeMSS",
         "orientation": "v",
         "showlegend": false,
         "type": "scatter",
         "x": [
          3040700,
          3087960,
          3135590
         ],
         "xaxis": "x4",
         "y": [
          72,
          74,
          75
         ],
         "yaxis": "y4"
        },
        {
         "hovertemplate": "Candidate=Picnic<br>Level=1<br>Public Key Size=%{x}<br>Signature Size=%{y}<br>size=%{marker.size}<extra></extra>",
         "legendgroup": "Picnic",
         "marker": {
          "color": "#ab63fa",
          "opacity": 1,
          "size": [
           16,
           16,
           16,
           16
          ],
          "sizemode": "area",
          "sizeref": 0.04,
          "symbol": "circle"
         },
         "mode": "markers",
         "name": "Picnic",
         "orientation": "v",
         "showlegend": true,
         "type": "scatter",
         "x": [
          32,
          32,
          34,
          34
         ],
         "xaxis": "x",
         "y": [
          34032,
          53961,
          320161,
          13802
         ],
         "yaxis": "y"
        },
        {
         "hovertemplate": "Candidate=Picnic<br>Level=3<br>Public Key Size=%{x}<br>Signature Size=%{y}<br>size=%{marker.size}<extra></extra>",
         "legendgroup": "Picnic",
         "marker": {
          "color": "#ab63fa",
          "opacity": 1,
          "size": [
           16,
           16,
           16,
           16
          ],
          "sizemode": "area",
          "sizeref": 0.04,
          "symbol": "circle"
         },
         "mode": "markers",
         "name": "Picnic",
         "orientation": "v",
         "showlegend": false,
         "type": "scatter",
         "x": [
          48,
          48,
          48,
          48
         ],
         "xaxis": "x3",
         "y": [
          76772,
          121845,
          71179,
          29750
         ],
         "yaxis": "y3"
        },
        {
         "hovertemplate": "Candidate=Picnic<br>Level=5<br>Public Key Size=%{x}<br>Signature Size=%{y}<br>size=%{marker.size}<extra></extra>",
         "legendgroup": "Picnic",
         "marker": {
          "color": "#ab63fa",
          "opacity": 1,
          "size": [
           16,
           16,
           16,
           16
          ],
          "sizemode": "area",
          "sizeref": 0.04,
          "symbol": "circle"
         },
         "mode": "markers",
         "name": "Picnic",
         "orientation": "v",
         "showlegend": false,
         "type": "scatter",
         "x": [
          64,
          64,
          64,
          64
         ],
         "xaxis": "x4",
         "y": [
          132856,
          209506,
          126286,
          54732
         ],
         "yaxis": "y4"
        },
        {
         "hovertemplate": "Candidate=Rainbow<br>Level=1<br>Public Key Size=%{x}<br>Signature Size=%{y}<br>size=%{marker.size}<extra></extra>",
         "legendgroup": "Rainbow",
         "marker": {
          "color": "#FFA15A",
          "opacity": 1,
          "size": [
           16,
           16
          ],
          "sizemode": "area",
          "sizeref": 0.04,
          "symbol": "circle"
         },
         "mode": "markers",
         "name": "Rainbow",
         "orientation": "v",
         "showlegend": true,
         "type": "scatter",
         "x": [
          149000,
          58100
         ],
         "xaxis": "x",
         "y": [
          64,
          64
         ],
         "yaxis": "y"
        },
        {
         "hovertemplate": "Candidate=Rainbow<br>Level=3<br>Public Key Size=%{x}<br>Signature Size=%{y}<br>size=%{marker.size}<extra></extra>",
         "legendgroup": "Rainbow",
         "marker": {
          "color": "#FFA15A",
          "opacity": 1,
          "size": [
           16,
           16
          ],
          "sizemode": "area",
          "sizeref": 0.04,
          "symbol": "circle"
         },
         "mode": "markers",
         "name": "Rainbow",
         "orientation": "v",
         "showlegend": false,
         "type": "scatter",
         "x": [
          710600,
          206700
         ],
         "xaxis": "x3",
         "y": [
          156,
          156
         ],
         "yaxis": "y3"
        },
        {
         "hovertemplate": "Candidate=Rainbow<br>Level=5<br>Public Key Size=%{x}<br>Signature Size=%{y}<br>size=%{marker.size}<extra></extra>",
         "legendgroup": "Rainbow",
         "marker": {
          "color": "#FFA15A",
          "opacity": 1,
          "size": [
           16,
           16
          ],
          "sizemode": "area",
          "sizeref": 0.04,
          "symbol": "circle"
         },
         "mode": "markers",
         "name": "Rainbow",
         "orientation": "v",
         "showlegend": false,
         "type": "scatter",
         "x": [
          1705500,
          491900
         ],
         "xaxis": "x4",
         "y": [
          204,
          204
         ],
         "yaxis": "y4"
        },
        {
         "hovertemplate": "Candidate=SPHINCS+<br>Level=1<br>Public Key Size=%{x}<br>Signature Size=%{y}<br>size=%{marker.size}<extra></extra>",
         "legendgroup": "SPHINCS+",
         "marker": {
          "color": "#19d3f3",
          "opacity": 1,
          "size": [
           16,
           16
          ],
          "sizemode": "area",
          "sizeref": 0.04,
          "symbol": "circle"
         },
         "mode": "markers",
         "name": "SPHINCS+",
         "orientation": "v",
         "showlegend": true,
         "type": "scatter",
         "x": [
          32,
          32
         ],
         "xaxis": "x",
         "y": [
          8080,
          16976
         ],
         "yaxis": "y"
        },
        {
         "hovertemplate": "Candidate=SPHINCS+<br>Level=3<br>Public Key Size=%{x}<br>Signature Size=%{y}<br>size=%{marker.size}<extra></extra>",
         "legendgroup": "SPHINCS+",
         "marker": {
          "color": "#19d3f3",
          "opacity": 1,
          "size": [
           16,
           16
          ],
          "sizemode": "area",
          "sizeref": 0.04,
          "symbol": "circle"
         },
         "mode": "markers",
         "name": "SPHINCS+",
         "orientation": "v",
         "showlegend": false,
         "type": "scatter",
         "x": [
          48,
          48
         ],
         "xaxis": "x3",
         "y": [
          17064,
          35664
         ],
         "yaxis": "y3"
        },
        {
         "hovertemplate": "Candidate=SPHINCS+<br>Level=5<br>Public Key Size=%{x}<br>Signature Size=%{y}<br>size=%{marker.size}<extra></extra>",
         "legendgroup": "SPHINCS+",
         "marker": {
          "color": "#19d3f3",
          "opacity": 1,
          "size": [
           16,
           16
          ],
          "sizemode": "area",
          "sizeref": 0.04,
          "symbol": "circle"
         },
         "mode": "markers",
         "name": "SPHINCS+",
         "orientation": "v",
         "showlegend": false,
         "type": "scatter",
         "x": [
          64,
          64
         ],
         "xaxis": "x4",
         "y": [
          29792,
          49216
         ],
         "yaxis": "y4"
        }
       ],
       "layout": {
        "annotations": [
         {
          "font": {},
          "showarrow": false,
          "text": "Level=1",
          "x": 0.119375,
          "xanchor": "center",
          "xref": "paper",
          "y": 1,
          "yanchor": "bottom",
          "yref": "paper"
         },
         {
          "font": {},
          "showarrow": false,
          "text": "Level=2",
          "x": 0.37312499999999993,
          "xanchor": "center",
          "xref": "paper",
          "y": 1,
          "yanchor": "bottom",
          "yref": "paper"
         },
         {
          "font": {},
          "showarrow": false,
          "text": "Level=3",
          "x": 0.626875,
          "xanchor": "center",
          "xref": "paper",
          "y": 1,
          "yanchor": "bottom",
          "yref": "paper"
         },
         {
          "font": {},
          "showarrow": false,
          "text": "Level=5",
          "x": 0.880625,
          "xanchor": "center",
          "xref": "paper",
          "y": 1,
          "yanchor": "bottom",
          "yref": "paper"
         }
        ],
        "height": 800,
        "legend": {
         "bordercolor": "#ffffff",
         "borderwidth": 1,
         "font": {
          "color": "black",
          "size": 22
         },
         "itemsizing": "constant",
         "title": {
          "text": ""
         },
         "tracegroupgap": 0,
         "x": 0.994,
         "xanchor": "right",
         "y": 0.8,
         "yanchor": "top"
        },
        "margin": {
         "t": 60
        },
        "template": {
         "data": {
          "bar": [
           {
            "error_x": {
             "color": "#2a3f5f"
            },
            "error_y": {
             "color": "#2a3f5f"
            },
            "marker": {
             "line": {
              "color": "#E5ECF6",
              "width": 0.5
             }
            },
            "type": "bar"
           }
          ],
          "barpolar": [
           {
            "marker": {
             "line": {
              "color": "#E5ECF6",
              "width": 0.5
             }
            },
            "type": "barpolar"
           }
          ],
          "carpet": [
           {
            "aaxis": {
             "endlinecolor": "#2a3f5f",
             "gridcolor": "white",
             "linecolor": "white",
             "minorgridcolor": "white",
             "startlinecolor": "#2a3f5f"
            },
            "baxis": {
             "endlinecolor": "#2a3f5f",
             "gridcolor": "white",
             "linecolor": "white",
             "minorgridcolor": "white",
             "startlinecolor": "#2a3f5f"
            },
            "type": "carpet"
           }
          ],
          "choropleth": [
           {
            "colorbar": {
             "outlinewidth": 0,
             "ticks": ""
            },
            "type": "choropleth"
           }
          ],
          "contour": [
           {
            "colorbar": {
             "outlinewidth": 0,
             "ticks": ""
            },
            "colorscale": [
             [
              0,
              "#0d0887"
             ],
             [
              0.1111111111111111,
              "#46039f"
             ],
             [
              0.2222222222222222,
              "#7201a8"
             ],
             [
              0.3333333333333333,
              "#9c179e"
             ],
             [
              0.4444444444444444,
              "#bd3786"
             ],
             [
              0.5555555555555556,
              "#d8576b"
             ],
             [
              0.6666666666666666,
              "#ed7953"
             ],
             [
              0.7777777777777778,
              "#fb9f3a"
             ],
             [
              0.8888888888888888,
              "#fdca26"
             ],
             [
              1,
              "#f0f921"
             ]
            ],
            "type": "contour"
           }
          ],
          "contourcarpet": [
           {
            "colorbar": {
             "outlinewidth": 0,
             "ticks": ""
            },
            "type": "contourcarpet"
           }
          ],
          "heatmap": [
           {
            "colorbar": {
             "outlinewidth": 0,
             "ticks": ""
            },
            "colorscale": [
             [
              0,
              "#0d0887"
             ],
             [
              0.1111111111111111,
              "#46039f"
             ],
             [
              0.2222222222222222,
              "#7201a8"
             ],
             [
              0.3333333333333333,
              "#9c179e"
             ],
             [
              0.4444444444444444,
              "#bd3786"
             ],
             [
              0.5555555555555556,
              "#d8576b"
             ],
             [
              0.6666666666666666,
              "#ed7953"
             ],
             [
              0.7777777777777778,
              "#fb9f3a"
             ],
             [
              0.8888888888888888,
              "#fdca26"
             ],
             [
              1,
              "#f0f921"
             ]
            ],
            "type": "heatmap"
           }
          ],
          "heatmapgl": [
           {
            "colorbar": {
             "outlinewidth": 0,
             "ticks": ""
            },
            "colorscale": [
             [
              0,
              "#0d0887"
             ],
             [
              0.1111111111111111,
              "#46039f"
             ],
             [
              0.2222222222222222,
              "#7201a8"
             ],
             [
              0.3333333333333333,
              "#9c179e"
             ],
             [
              0.4444444444444444,
              "#bd3786"
             ],
             [
              0.5555555555555556,
              "#d8576b"
             ],
             [
              0.6666666666666666,
              "#ed7953"
             ],
             [
              0.7777777777777778,
              "#fb9f3a"
             ],
             [
              0.8888888888888888,
              "#fdca26"
             ],
             [
              1,
              "#f0f921"
             ]
            ],
            "type": "heatmapgl"
           }
          ],
          "histogram": [
           {
            "marker": {
             "colorbar": {
              "outlinewidth": 0,
              "ticks": ""
             }
            },
            "type": "histogram"
           }
          ],
          "histogram2d": [
           {
            "colorbar": {
             "outlinewidth": 0,
             "ticks": ""
            },
            "colorscale": [
             [
              0,
              "#0d0887"
             ],
             [
              0.1111111111111111,
              "#46039f"
             ],
             [
              0.2222222222222222,
              "#7201a8"
             ],
             [
              0.3333333333333333,
              "#9c179e"
             ],
             [
              0.4444444444444444,
              "#bd3786"
             ],
             [
              0.5555555555555556,
              "#d8576b"
             ],
             [
              0.6666666666666666,
              "#ed7953"
             ],
             [
              0.7777777777777778,
              "#fb9f3a"
             ],
             [
              0.8888888888888888,
              "#fdca26"
             ],
             [
              1,
              "#f0f921"
             ]
            ],
            "type": "histogram2d"
           }
          ],
          "histogram2dcontour": [
           {
            "colorbar": {
             "outlinewidth": 0,
             "ticks": ""
            },
            "colorscale": [
             [
              0,
              "#0d0887"
             ],
             [
              0.1111111111111111,
              "#46039f"
             ],
             [
              0.2222222222222222,
              "#7201a8"
             ],
             [
              0.3333333333333333,
              "#9c179e"
             ],
             [
              0.4444444444444444,
              "#bd3786"
             ],
             [
              0.5555555555555556,
              "#d8576b"
             ],
             [
              0.6666666666666666,
              "#ed7953"
             ],
             [
              0.7777777777777778,
              "#fb9f3a"
             ],
             [
              0.8888888888888888,
              "#fdca26"
             ],
             [
              1,
              "#f0f921"
             ]
            ],
            "type": "histogram2dcontour"
           }
          ],
          "mesh3d": [
           {
            "colorbar": {
             "outlinewidth": 0,
             "ticks": ""
            },
            "type": "mesh3d"
           }
          ],
          "parcoords": [
           {
            "line": {
             "colorbar": {
              "outlinewidth": 0,
              "ticks": ""
             }
            },
            "type": "parcoords"
           }
          ],
          "pie": [
           {
            "automargin": true,
            "type": "pie"
           }
          ],
          "scatter": [
           {
            "marker": {
             "colorbar": {
              "outlinewidth": 0,
              "ticks": ""
             }
            },
            "type": "scatter"
           }
          ],
          "scatter3d": [
           {
            "line": {
             "colorbar": {
              "outlinewidth": 0,
              "ticks": ""
             }
            },
            "marker": {
             "colorbar": {
              "outlinewidth": 0,
              "ticks": ""
             }
            },
            "type": "scatter3d"
           }
          ],
          "scattercarpet": [
           {
            "marker": {
             "colorbar": {
              "outlinewidth": 0,
              "ticks": ""
             }
            },
            "type": "scattercarpet"
           }
          ],
          "scattergeo": [
           {
            "marker": {
             "colorbar": {
              "outlinewidth": 0,
              "ticks": ""
             }
            },
            "type": "scattergeo"
           }
          ],
          "scattergl": [
           {
            "marker": {
             "colorbar": {
              "outlinewidth": 0,
              "ticks": ""
             }
            },
            "type": "scattergl"
           }
          ],
          "scattermapbox": [
           {
            "marker": {
             "colorbar": {
              "outlinewidth": 0,
              "ticks": ""
             }
            },
            "type": "scattermapbox"
           }
          ],
          "scatterpolar": [
           {
            "marker": {
             "colorbar": {
              "outlinewidth": 0,
              "ticks": ""
             }
            },
            "type": "scatterpolar"
           }
          ],
          "scatterpolargl": [
           {
            "marker": {
             "colorbar": {
              "outlinewidth": 0,
              "ticks": ""
             }
            },
            "type": "scatterpolargl"
           }
          ],
          "scatterternary": [
           {
            "marker": {
             "colorbar": {
              "outlinewidth": 0,
              "ticks": ""
             }
            },
            "type": "scatterternary"
           }
          ],
          "surface": [
           {
            "colorbar": {
             "outlinewidth": 0,
             "ticks": ""
            },
            "colorscale": [
             [
              0,
              "#0d0887"
             ],
             [
              0.1111111111111111,
              "#46039f"
             ],
             [
              0.2222222222222222,
              "#7201a8"
             ],
             [
              0.3333333333333333,
              "#9c179e"
             ],
             [
              0.4444444444444444,
              "#bd3786"
             ],
             [
              0.5555555555555556,
              "#d8576b"
             ],
             [
              0.6666666666666666,
              "#ed7953"
             ],
             [
              0.7777777777777778,
              "#fb9f3a"
             ],
             [
              0.8888888888888888,
              "#fdca26"
             ],
             [
              1,
              "#f0f921"
             ]
            ],
            "type": "surface"
           }
          ],
          "table": [
           {
            "cells": {
             "fill": {
              "color": "#EBF0F8"
             },
             "line": {
              "color": "white"
             }
            },
            "header": {
             "fill": {
              "color": "#C8D4E3"
             },
             "line": {
              "color": "white"
             }
            },
            "type": "table"
           }
          ]
         },
         "layout": {
          "annotationdefaults": {
           "arrowcolor": "#2a3f5f",
           "arrowhead": 0,
           "arrowwidth": 1
          },
          "coloraxis": {
           "colorbar": {
            "outlinewidth": 0,
            "ticks": ""
           }
          },
          "colorscale": {
           "diverging": [
            [
             0,
             "#8e0152"
            ],
            [
             0.1,
             "#c51b7d"
            ],
            [
             0.2,
             "#de77ae"
            ],
            [
             0.3,
             "#f1b6da"
            ],
            [
             0.4,
             "#fde0ef"
            ],
            [
             0.5,
             "#f7f7f7"
            ],
            [
             0.6,
             "#e6f5d0"
            ],
            [
             0.7,
             "#b8e186"
            ],
            [
             0.8,
             "#7fbc41"
            ],
            [
             0.9,
             "#4d9221"
            ],
            [
             1,
             "#276419"
            ]
           ],
           "sequential": [
            [
             0,
             "#0d0887"
            ],
            [
             0.1111111111111111,
             "#46039f"
            ],
            [
             0.2222222222222222,
             "#7201a8"
            ],
            [
             0.3333333333333333,
             "#9c179e"
            ],
            [
             0.4444444444444444,
             "#bd3786"
            ],
            [
             0.5555555555555556,
             "#d8576b"
            ],
            [
             0.6666666666666666,
             "#ed7953"
            ],
            [
             0.7777777777777778,
             "#fb9f3a"
            ],
            [
             0.8888888888888888,
             "#fdca26"
            ],
            [
             1,
             "#f0f921"
            ]
           ],
           "sequentialminus": [
            [
             0,
             "#0d0887"
            ],
            [
             0.1111111111111111,
             "#46039f"
            ],
            [
             0.2222222222222222,
             "#7201a8"
            ],
            [
             0.3333333333333333,
             "#9c179e"
            ],
            [
             0.4444444444444444,
             "#bd3786"
            ],
            [
             0.5555555555555556,
             "#d8576b"
            ],
            [
             0.6666666666666666,
             "#ed7953"
            ],
            [
             0.7777777777777778,
             "#fb9f3a"
            ],
            [
             0.8888888888888888,
             "#fdca26"
            ],
            [
             1,
             "#f0f921"
            ]
           ]
          },
          "colorway": [
           "#636efa",
           "#EF553B",
           "#00cc96",
           "#ab63fa",
           "#FFA15A",
           "#19d3f3",
           "#FF6692",
           "#B6E880",
           "#FF97FF",
           "#FECB52"
          ],
          "font": {
           "color": "#2a3f5f"
          },
          "geo": {
           "bgcolor": "white",
           "lakecolor": "white",
           "landcolor": "#E5ECF6",
           "showlakes": true,
           "showland": true,
           "subunitcolor": "white"
          },
          "hoverlabel": {
           "align": "left"
          },
          "hovermode": "closest",
          "mapbox": {
           "style": "light"
          },
          "paper_bgcolor": "white",
          "plot_bgcolor": "#E5ECF6",
          "polar": {
           "angularaxis": {
            "gridcolor": "white",
            "linecolor": "white",
            "ticks": ""
           },
           "bgcolor": "#E5ECF6",
           "radialaxis": {
            "gridcolor": "white",
            "linecolor": "white",
            "ticks": ""
           }
          },
          "scene": {
           "xaxis": {
            "backgroundcolor": "#E5ECF6",
            "gridcolor": "white",
            "gridwidth": 2,
            "linecolor": "white",
            "showbackground": true,
            "ticks": "",
            "zerolinecolor": "white"
           },
           "yaxis": {
            "backgroundcolor": "#E5ECF6",
            "gridcolor": "white",
            "gridwidth": 2,
            "linecolor": "white",
            "showbackground": true,
            "ticks": "",
            "zerolinecolor": "white"
           },
           "zaxis": {
            "backgroundcolor": "#E5ECF6",
            "gridcolor": "white",
            "gridwidth": 2,
            "linecolor": "white",
            "showbackground": true,
            "ticks": "",
            "zerolinecolor": "white"
           }
          },
          "shapedefaults": {
           "line": {
            "color": "#2a3f5f"
           }
          },
          "ternary": {
           "aaxis": {
            "gridcolor": "white",
            "linecolor": "white",
            "ticks": ""
           },
           "baxis": {
            "gridcolor": "white",
            "linecolor": "white",
            "ticks": ""
           },
           "bgcolor": "#E5ECF6",
           "caxis": {
            "gridcolor": "white",
            "linecolor": "white",
            "ticks": ""
           }
          },
          "title": {
           "x": 0.05
          },
          "xaxis": {
           "automargin": true,
           "gridcolor": "white",
           "linecolor": "white",
           "ticks": "",
           "title": {
            "standoff": 15
           },
           "zerolinecolor": "white",
           "zerolinewidth": 2
          },
          "yaxis": {
           "automargin": true,
           "gridcolor": "white",
           "linecolor": "white",
           "ticks": "",
           "title": {
            "standoff": 15
           },
           "zerolinecolor": "white",
           "zerolinewidth": 2
          }
         }
        },
        "width": 2400,
        "xaxis": {
         "anchor": "y",
         "domain": [
          0,
          0.23875
         ],
         "tickangle": 45,
         "tickfont": {
          "size": 14
         },
         "tickformat": ",f",
         "tickmode": "array",
         "tickvals": [
          8,
          16,
          32,
          64,
          128,
          256,
          512,
          1024,
          2048,
          4096,
          8192,
          16384,
          32768,
          65536,
          131072,
          262144,
          524288,
          1048576,
          2097152,
          4194304,
          8388608,
          16777216,
          33554432,
          67108864,
          134217728,
          268435456,
          536870912,
          1073741824
         ],
         "title": {
          "font": {
           "size": 18
          },
          "standoff": 0,
          "text": "Public Key (bytes)"
         },
         "type": "log"
        },
        "xaxis2": {
         "anchor": "y2",
         "domain": [
          0.25375,
          0.49249999999999994
         ],
         "matches": "x",
         "tickangle": 45,
         "tickfont": {
          "size": 14
         },
         "title": {
          "font": {
           "size": 18
          },
          "standoff": 0,
          "text": "Public Key (bytes)"
         },
         "type": "log"
        },
        "xaxis3": {
         "anchor": "y3",
         "domain": [
          0.5075,
          0.74625
         ],
         "matches": "x",
         "tickangle": 45,
         "tickfont": {
          "size": 14
         },
         "title": {
          "font": {
           "size": 18
          },
          "standoff": 0,
          "text": "Public Key (bytes)"
         },
         "type": "log"
        },
        "xaxis4": {
         "anchor": "y4",
         "domain": [
          0.76125,
          1
         ],
         "matches": "x",
         "tickangle": 45,
         "tickfont": {
          "size": 14
         },
         "title": {
          "font": {
           "size": 18
          },
          "standoff": 0,
          "text": "Public Key (bytes)"
         },
         "type": "log"
        },
        "yaxis": {
         "anchor": "x",
         "domain": [
          0,
          1
         ],
         "tickfont": {
          "size": 14
         },
         "tickformat": ",f",
         "tickmode": "array",
         "tickvals": [
          8,
          16,
          32,
          64,
          128,
          256,
          512,
          1024,
          2048,
          4096,
          8192,
          16384,
          32768,
          65536,
          131072,
          262144,
          524288,
          1048576
         ],
         "title": {
          "font": {
           "size": 18
          },
          "standoff": 0,
          "text": "Signature Size (bytes)"
         },
         "type": "log"
        },
        "yaxis2": {
         "anchor": "x2",
         "domain": [
          0,
          1
         ],
         "matches": "y",
         "showticklabels": false,
         "tickfont": {
          "size": 14
         },
         "title": {
          "font": {
           "size": 18
          },
          "standoff": 0,
          "text": "Signature Size (bytes)"
         },
         "type": "log"
        },
        "yaxis3": {
         "anchor": "x3",
         "domain": [
          0,
          1
         ],
         "matches": "y",
         "showticklabels": false,
         "tickfont": {
          "size": 14
         },
         "title": {
          "font": {
           "size": 18
          },
          "standoff": 0,
          "text": "Signature Size (bytes)"
         },
         "type": "log"
        },
        "yaxis4": {
         "anchor": "x4",
         "domain": [
          0,
          1
         ],
         "matches": "y",
         "showticklabels": false,
         "tickfont": {
          "size": 14
         },
         "title": {
          "font": {
           "size": 18
          },
          "standoff": 0,
          "text": "Signature Size (bytes)"
         },
         "type": "log"
        }
       }
      }
     },
     "metadata": {}
    }
   ],
   "source": [
    "from plotly.subplots import make_subplots\n",
    "\n",
    "for sheet_name in ['KEM-PKE','DS']:\n",
    "    data = pd.read_excel('/Users/kamyar/Downloads/PQC_Round_3_Parameter_Sets.xlsx', sheet_name=sheet_name).sort_values(by=['Level','Candidate', ])\n",
    "\n",
    "\n",
    "    subfamilies = data['Subfamily'].unique()\n",
    "\n",
    "    x_column = 'KEM Public Key Size' if sheet_name == 'KEM-PKE' else 'Public Key Size'\n",
    "    y_column = 'KEM Ciphertext Size' if sheet_name == 'KEM-PKE' else 'Signature Size'\n",
    "\n",
    "\n",
    "\n",
    "    fig = make_subplots(rows=1, cols=5)\n",
    "    # fig = go.Figure()\n",
    "    fig = px.scatter(data, \n",
    "        x=x_column, y=y_column,\n",
    "        log_x=True, log_y=True, \n",
    "        color=\"Candidate\",\n",
    "        opacity=1,\n",
    "        # size_max=12,\n",
    "        size=[16 for _ in range(0, len(data))],\n",
    "        facet_col=\"Level\",\n",
    "        width=1800, height=800,\n",
    "        facet_col_spacing=0.015,\n",
    "        # color_discrete_sequence=px.colors.qualitative.T10, \n",
    "        # hover_name='Candidate',\n",
    "        # title='KEM Ciphertext size vs Public Key size',\n",
    "        # labels={\n",
    "        #     x_column: \"Public Key (bytes)\",\n",
    "        #     y_column: \"Ciphertext (bytes)\",\n",
    "        #     \"Level\": \"Security Level\"\n",
    "        # },\n",
    "\n",
    "    )\n",
    "\n",
    "    # candidates = data['Candidate'].unique()\n",
    "    # levels = range(1,6)\n",
    "\n",
    "    # candidate_colors = data['Candidate'].map( {v:k for k,v in enumerate(candidates)} )\n",
    "\n",
    "    # for lvl in levels:\n",
    "    #     for cnd_idx,cnd in enumerate(candidates):\n",
    "    #         trace_data = data[(data['Level'] == lvl) & (data['Candidate'] == cnd)]\n",
    "    #         if len(trace_data) > 0:\n",
    "    #             fig.add_trace(\n",
    "    #                 go.Scatter(\n",
    "    #                     x=trace_data[x_column], y=trace_data[y_column],\n",
    "    #                     mode = \"markers\",\n",
    "    #                     showlegend=True,\n",
    "    #                     legendgroup=cnd,\n",
    "    #                     name=f\"{cnd} ({trace_data.iloc[0]['Subfamily']})\",\n",
    "    #                     # color_discrete_sequence=px.colors.qualitative.T10, \n",
    "    #                     # hover_name='Candidate',\n",
    "    #                     marker_size = 12, #[ s*2 + 12  for s in  data['Level']],\n",
    "    #                     marker_symbol = trace_data['Level'].map(level_to_symbols_map),\n",
    "    #                     marker_color= px.colors.qualitative.T10[cnd_idx],\n",
    "    #                     text = trace_data['Parameter Set'],\n",
    "    #                     # marker_size = trace_data['Level'].map(level_to_size_map),\n",
    "    #                     marker=dict(\n",
    "    #                         # size=trace_data['Level'],\n",
    "    #                         # sizemin=7,\n",
    "    #                         # color=cnd_idx,\n",
    "    #                         # sizeref=0.5,\n",
    "    #                         opacity=1,\n",
    "    #                         line=dict(width=0.5, color='black')\n",
    "    #                     ),\n",
    "    #                 ),\n",
    "    #                 row=1, col=lvl\n",
    "    #             )\n",
    "\n",
    "\n",
    "    fig.update_layout(\n",
    "        xaxis_type=\"log\", yaxis_type=\"log\",\n",
    "        width=2400, height=800,\n",
    "        xaxis = dict(\n",
    "            tickmode = 'array',\n",
    "            tickvals =[ 2**(3+i) for i in range(0,28) ],\n",
    "            tickformat = ',f'\n",
    "        ),\n",
    "        yaxis = dict(\n",
    "            tickmode = 'array',\n",
    "            tickvals =[ 2**(3+i) for i in range(0,18) ],\n",
    "            tickformat = ',f'\n",
    "        ),\n",
    "    )\n",
    "\n",
    "\n",
    "    fig.update_xaxes(\n",
    "        tickangle=45,\n",
    "        title_text = 'Public Key (bytes)',\n",
    "        title_standoff = 0,\n",
    "        title_font=dict(\n",
    "            size=18, \n",
    "            # family='Courier',\n",
    "            # color='crimson'\n",
    "        ),\n",
    "        tickfont=dict(\n",
    "            # family='Rockwell', \n",
    "            # color='crimson', \n",
    "            size=14\n",
    "        ),\n",
    "\n",
    "    )\n",
    "\n",
    "    fig.update_yaxes(\n",
    "        title_text = 'Ciphertext (bytes)' if sheet_name == 'KEM-PKE' else 'Signature Size (bytes)',\n",
    "        title_standoff = 0,\n",
    "        title_font=dict(\n",
    "            size=18,\n",
    "            # family='Courier', \n",
    "            # color='crimson'\n",
    "        ),\n",
    "        tickfont=dict(\n",
    "            # family='Rockwell', \n",
    "            # color='crimson', \n",
    "            size=14\n",
    "        ),\n",
    "    )\n",
    "\n",
    "    # fig.update_layout(\n",
    "    #     margin=dict(l=0, r=0, t=0, b=0),\n",
    "    # #     paper_bgcolor=\"LightSteelBlue\",\n",
    "    # )\n",
    "\n",
    "    config={\n",
    "        'displaylogo': False,\n",
    "        'displayModeBar': True,\n",
    "        'modeBarButtonsToRemove': ['hoverClosest3d', 'hoverClosestCartesian', 'hoverClosestGeo' , 'hoverClosestGl2d', 'hoverClosestPie' , \n",
    "            'lasso2d','toggleSpikelines',' hoverClosestCartesian', 'hoverCompareCartesian'], \n",
    "        'responsive': True\n",
    "    }\n",
    "\n",
    "    fig.update_layout(\n",
    "        legend=dict(\n",
    "            yanchor=\"top\",\n",
    "            y=0.80,\n",
    "            xanchor=\"right\",\n",
    "            x=0.994,\n",
    "            # itemsizing='constant',\n",
    "            # traceorder='reversed+grouped',\n",
    "            borderwidth=1,\n",
    "            bordercolor='#ffffff',\n",
    "            # title_font_family=\"Times New Roman\",\n",
    "            title_font_size=20,\n",
    "            title = '',\n",
    "            font=dict(\n",
    "                # family=\"Courier\",\n",
    "                size=22,\n",
    "                color=\"black\"\n",
    "            ),\n",
    "        )\n",
    "    )\n",
    "\n",
    "    plot_name = f'plot_facets_{sheet_name.lower()}'\n",
    "\n",
    "    fig.show(config=config)\n",
    "    fig.write_html(f\"{plot_name}.html\", include_plotlyjs='directory',config=config)\n",
    "    fig.write_image(f\"{plot_name}.svg\")\n",
    "    fig.write_image(f\"{plot_name}.pdf\")"
   ]
  },
  {
   "cell_type": "code",
   "execution_count": null,
   "metadata": {},
   "outputs": [],
   "source": []
  }
 ]
}