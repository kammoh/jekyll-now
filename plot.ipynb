{
 "metadata": {
  "language_info": {
   "codemirror_mode": {
    "name": "ipython",
    "version": 3
   },
   "file_extension": ".py",
   "mimetype": "text/x-python",
   "name": "python",
   "nbconvert_exporter": "python",
   "pygments_lexer": "ipython3",
   "version": "3.8.3-final"
  },
  "orig_nbformat": 2,
  "kernelspec": {
   "name": "python_defaultSpec_1596427257983",
   "display_name": "Python 3.8.3 64-bit"
  }
 },
 "nbformat": 4,
 "nbformat_minor": 2,
 "cells": [
  {
   "cell_type": "code",
   "execution_count": 482,
   "metadata": {
    "tags": []
   },
   "outputs": [
    {
     "output_type": "display_data",
     "data": {
      "application/vnd.plotly.v1+json": {
       "config": {
        "displayModeBar": true,
        "displaylogo": false,
        "modeBarButtonsToRemove": [
         "hoverClosest3d",
         "hoverClosestCartesian",
         "hoverClosestGeo",
         "hoverClosestGl2d",
         "hoverClosestPie",
         "lasso2d",
         "toggleSpikelines",
         " hoverClosestCartesian",
         "hoverCompareCartesian"
        ],
        "plotlyServerURL": "https://plot.ly",
        "responsive": true
       },
       "data": [
        {
         "hoverinfo": "x+y+text",
         "hovertemplate": "<b>%{text}</b> <br><br> Public Key: %{x:,f} <br> Ciphertext: %{y:,f}<extra></extra>",
         "legendgroup": "BIKE",
         "marker": {
          "color": "#4C78A8",
          "line": {
           "color": "black",
           "width": 0.5
          },
          "opacity": 0.9,
          "size": 12,
          "symbol": [
           1,
           0
          ]
         },
         "mode": "markers",
         "name": "BIKE (Short Hamming)",
         "showlegend": true,
         "text": [
          "BIKE-Level-1",
          "BIKE-Level-3"
         ],
         "type": "scatter",
         "x": [
          1540,
          3082
         ],
         "y": [
          1572,
          3114
         ]
        },
        {
         "hoverinfo": "x+y+text",
         "hovertemplate": "<b>%{text}</b> <br><br> Public Key: %{x:,f} <br> Ciphertext: %{y:,f}<extra></extra>",
         "legendgroup": "CRYSTALS-KYBER",
         "marker": {
          "color": "#F58518",
          "line": {
           "color": "black",
           "width": 0.5
          },
          "opacity": 0.9,
          "size": 12,
          "symbol": [
           1,
           0,
           4
          ]
         },
         "mode": "markers",
         "name": "CRYSTALS-KYBER (MLWE)",
         "showlegend": true,
         "text": [
          "KYBER512",
          "KYBER768",
          "KYBER1024"
         ],
         "type": "scatter",
         "x": [
          800,
          1184,
          1568
         ],
         "y": [
          736,
          1088,
          1568
         ]
        },
        {
         "hoverinfo": "x+y+text",
         "hovertemplate": "<b>%{text}</b> <br><br> Public Key: %{x:,f} <br> Ciphertext: %{y:,f}<extra></extra>",
         "legendgroup": "Classic McEliece",
         "marker": {
          "color": "#E45756",
          "line": {
           "color": "black",
           "width": 0.5
          },
          "opacity": 0.9,
          "size": 12,
          "symbol": [
           1,
           0,
           4,
           4,
           4
          ]
         },
         "mode": "markers",
         "name": "Classic McEliece (Goppa)",
         "showlegend": true,
         "text": [
          "mceliece348864",
          "mceliece460896",
          "mceliece6688128",
          "mceliece6960119",
          "mceliece8192128"
         ],
         "type": "scatter",
         "x": [
          261120,
          524160,
          1044992,
          1047319,
          1357824
         ],
         "y": [
          128,
          188,
          240,
          226,
          240
         ]
        },
        {
         "hoverinfo": "x+y+text",
         "hovertemplate": "<b>%{text}</b> <br><br> Public Key: %{x:,f} <br> Ciphertext: %{y:,f}<extra></extra>",
         "legendgroup": "FrodoKEM",
         "marker": {
          "color": "#72B7B2",
          "line": {
           "color": "black",
           "width": 0.5
          },
          "opacity": 0.9,
          "size": 12,
          "symbol": [
           1,
           0,
           4
          ]
         },
         "mode": "markers",
         "name": "FrodoKEM (LWE)",
         "showlegend": true,
         "text": [
          "Frodo-640",
          "Frodo-976",
          "Frodo-1344"
         ],
         "type": "scatter",
         "x": [
          9616,
          15632,
          21520
         ],
         "y": [
          9720,
          15744,
          21632
         ]
        },
        {
         "hoverinfo": "x+y+text",
         "hovertemplate": "<b>%{text}</b> <br><br> Public Key: %{x:,f} <br> Ciphertext: %{y:,f}<extra></extra>",
         "legendgroup": "HQC",
         "marker": {
          "color": "#54A24B",
          "line": {
           "color": "black",
           "width": 0.5
          },
          "opacity": 0.9,
          "size": 12,
          "symbol": [
           1,
           1,
           0,
           0,
           4,
           4
          ]
         },
         "mode": "markers",
         "name": "HQC (Short Hamming)",
         "showlegend": true,
         "text": [
          "hqc-128",
          "hqc-RMRS-128",
          "hqc-192",
          "hqc-RMRS-192",
          "hqc-256",
          "hqc-RMRS-256"
         ],
         "type": "scatter",
         "x": [
          3024,
          2607,
          5690,
          4906,
          8698,
          7535
         ],
         "y": [
          6017,
          5191,
          11364,
          9794,
          17379,
          15047
         ]
        },
        {
         "hoverinfo": "x+y+text",
         "hovertemplate": "<b>%{text}</b> <br><br> Public Key: %{x:,f} <br> Ciphertext: %{y:,f}<extra></extra>",
         "legendgroup": "NTRU",
         "marker": {
          "color": "#EECA3B",
          "line": {
           "color": "black",
           "width": 0.5
          },
          "opacity": 0.9,
          "size": 12,
          "symbol": [
           1,
           1,
           0
          ]
         },
         "mode": "markers",
         "name": "NTRU (NTRU)",
         "showlegend": true,
         "text": [
          "ntruhps2048677",
          "ntruhrss701",
          "ntruhps4096821"
         ],
         "type": "scatter",
         "x": [
          931,
          1138,
          1230
         ],
         "y": [
          931,
          1138,
          1230
         ]
        },
        {
         "hoverinfo": "x+y+text",
         "hovertemplate": "<b>%{text}</b> <br><br> Public Key: %{x:,f} <br> Ciphertext: %{y:,f}<extra></extra>",
         "legendgroup": "NTRU Prime",
         "marker": {
          "color": "#B279A2",
          "line": {
           "color": "black",
           "width": 0.5
          },
          "opacity": 0.9,
          "size": 12,
          "symbol": [
           1,
           2,
           2,
           0,
           0,
           3,
           3
          ]
         },
         "mode": "markers",
         "name": "NTRU Prime (NTRU)",
         "showlegend": true,
         "text": [
          "sntrup653",
          "sntrup653",
          "ntrulpr653",
          "sntrup761",
          "ntrulpr761",
          "sntrup857",
          "ntrulpr857"
         ],
         "type": "scatter",
         "x": [
          994,
          994,
          897,
          1158,
          1039,
          1184,
          1322
         ],
         "y": [
          897,
          897,
          1025,
          1039,
          1167,
          1312,
          1184
         ]
        },
        {
         "hoverinfo": "x+y+text",
         "hovertemplate": "<b>%{text}</b> <br><br> Public Key: %{x:,f} <br> Ciphertext: %{y:,f}<extra></extra>",
         "legendgroup": "SABER",
         "marker": {
          "color": "#FF9DA6",
          "line": {
           "color": "black",
           "width": 0.5
          },
          "opacity": 0.9,
          "size": 12,
          "symbol": [
           1,
           0,
           4
          ]
         },
         "mode": "markers",
         "name": "SABER (MLWR)",
         "showlegend": true,
         "text": [
          "LightSaber",
          "Saber",
          "FireSaber"
         ],
         "type": "scatter",
         "x": [
          672,
          992,
          1312
         ],
         "y": [
          736,
          1088,
          1472
         ]
        },
        {
         "hoverinfo": "x+y+text",
         "hovertemplate": "<b>%{text}</b> <br><br> Public Key: %{x:,f} <br> Ciphertext: %{y:,f}<extra></extra>",
         "legendgroup": "SIKE",
         "marker": {
          "color": "#9D755D",
          "line": {
           "color": "black",
           "width": 0.5
          },
          "opacity": 0.9,
          "size": 12,
          "symbol": [
           1,
           1,
           2,
           2,
           0,
           0,
           4,
           4
          ]
         },
         "mode": "markers",
         "name": "SIKE (Isogeny)",
         "showlegend": true,
         "text": [
          "SIKEp434",
          "SIKEp434_compressed",
          "SIKEp503",
          "SIKEp503_compressed",
          "SIKEp610",
          "SIKEp610_compressed",
          "SIKEp751",
          "SIKEp751_compressed"
         ],
         "type": "scatter",
         "x": [
          330,
          197,
          378,
          225,
          462,
          274,
          564,
          335
         ],
         "y": [
          346,
          236,
          402,
          280,
          486,
          336,
          596,
          410
         ]
        },
        {
         "hoverinfo": "none",
         "hoverlabel": {
          "namelength": 0
         },
         "legendgroup": "1",
         "marker": {
          "color": "Black",
          "line": {
           "color": "black",
           "width": 0.5
          },
          "size": 12,
          "symbol": [
           101,
           101,
           101,
           101,
           101,
           101,
           101,
           101,
           101,
           101,
           101
          ]
         },
         "mode": "markers",
         "name": "Security Level 1",
         "showlegend": true,
         "type": "scatter",
         "x": [
          1540,
          800,
          261120,
          9616,
          3024,
          2607,
          931,
          1138,
          672,
          330,
          197
         ],
         "y": [
          1572,
          736,
          128,
          9720,
          6017,
          5191,
          931,
          1138,
          736,
          346,
          236
         ]
        },
        {
         "hoverinfo": "none",
         "hoverlabel": {
          "namelength": 0
         },
         "legendgroup": "2",
         "marker": {
          "color": "Black",
          "line": {
           "color": "black",
           "width": 0.5
          },
          "size": 12,
          "symbol": [
           102,
           102,
           102,
           102
          ]
         },
         "mode": "markers",
         "name": "Security Level 2",
         "showlegend": true,
         "type": "scatter",
         "x": [
          994,
          897,
          378,
          225
         ],
         "y": [
          897,
          1025,
          402,
          280
         ]
        },
        {
         "hoverinfo": "none",
         "hoverlabel": {
          "namelength": 0
         },
         "legendgroup": "3",
         "marker": {
          "color": "Black",
          "line": {
           "color": "black",
           "width": 0.5
          },
          "size": 12,
          "symbol": [
           100,
           100,
           100,
           100,
           100,
           100,
           100,
           100,
           100,
           100,
           100,
           100
          ]
         },
         "mode": "markers",
         "name": "Security Level 3",
         "showlegend": true,
         "type": "scatter",
         "x": [
          3082,
          1184,
          524160,
          15632,
          5690,
          4906,
          1230,
          1158,
          1039,
          992,
          462,
          274
         ],
         "y": [
          3114,
          1088,
          188,
          15744,
          11364,
          9794,
          1230,
          1039,
          1167,
          1088,
          486,
          336
         ]
        },
        {
         "hoverinfo": "none",
         "hoverlabel": {
          "namelength": 0
         },
         "legendgroup": "4",
         "marker": {
          "color": "Black",
          "line": {
           "color": "black",
           "width": 0.5
          },
          "size": 12,
          "symbol": [
           103,
           103
          ]
         },
         "mode": "markers",
         "name": "Security Level 4",
         "showlegend": true,
         "type": "scatter",
         "x": [
          1184,
          1322
         ],
         "y": [
          1312,
          1184
         ]
        },
        {
         "hoverinfo": "none",
         "hoverlabel": {
          "namelength": 0
         },
         "legendgroup": "5",
         "marker": {
          "color": "Black",
          "line": {
           "color": "black",
           "width": 0.5
          },
          "size": 12,
          "symbol": [
           104,
           104,
           104,
           104,
           104,
           104,
           104,
           104,
           104,
           104
          ]
         },
         "mode": "markers",
         "name": "Security Level 5",
         "showlegend": true,
         "type": "scatter",
         "x": [
          1568,
          1044992,
          1047319,
          1357824,
          21520,
          8698,
          7535,
          1312,
          564,
          335
         ],
         "y": [
          1568,
          240,
          226,
          240,
          21632,
          17379,
          15047,
          1472,
          596,
          410
         ]
        },
        {
         "hoverinfo": "x+y+text",
         "hovertemplate": "<b>%{text}</b> <br><br> Public Key: %{x:,f} <br> Ciphertext: %{y:,f}<extra></extra>",
         "legendgroup": "BIKE",
         "marker": {
          "color": "#4C78A8",
          "line": {
           "color": "black",
           "width": 0.5
          },
          "opacity": 0.9,
          "size": 12,
          "symbol": [
           1,
           0
          ]
         },
         "mode": "markers",
         "name": "BIKE (Short Hamming)",
         "showlegend": false,
         "text": [
          "BIKE-Level-1",
          "BIKE-Level-3"
         ],
         "type": "scatter",
         "x": [
          1540,
          3082
         ],
         "y": [
          1572,
          3114
         ]
        },
        {
         "hoverinfo": "x+y+text",
         "hovertemplate": "<b>%{text}</b> <br><br> Public Key: %{x:,f} <br> Ciphertext: %{y:,f}<extra></extra>",
         "legendgroup": "CRYSTALS-KYBER",
         "marker": {
          "color": "#F58518",
          "line": {
           "color": "black",
           "width": 0.5
          },
          "opacity": 0.9,
          "size": 12,
          "symbol": [
           1,
           0,
           4
          ]
         },
         "mode": "markers",
         "name": "CRYSTALS-KYBER (MLWE)",
         "showlegend": false,
         "text": [
          "KYBER512",
          "KYBER768",
          "KYBER1024"
         ],
         "type": "scatter",
         "x": [
          800,
          1184,
          1568
         ],
         "y": [
          736,
          1088,
          1568
         ]
        },
        {
         "hoverinfo": "x+y+text",
         "hovertemplate": "<b>%{text}</b> <br><br> Public Key: %{x:,f} <br> Ciphertext: %{y:,f}<extra></extra>",
         "legendgroup": "Classic McEliece",
         "marker": {
          "color": "#E45756",
          "line": {
           "color": "black",
           "width": 0.5
          },
          "opacity": 0.9,
          "size": 12,
          "symbol": [
           1,
           0,
           4,
           4,
           4
          ]
         },
         "mode": "markers",
         "name": "Classic McEliece (Goppa)",
         "showlegend": false,
         "text": [
          "mceliece348864",
          "mceliece460896",
          "mceliece6688128",
          "mceliece6960119",
          "mceliece8192128"
         ],
         "type": "scatter",
         "x": [
          261120,
          524160,
          1044992,
          1047319,
          1357824
         ],
         "y": [
          128,
          188,
          240,
          226,
          240
         ]
        },
        {
         "hoverinfo": "x+y+text",
         "hovertemplate": "<b>%{text}</b> <br><br> Public Key: %{x:,f} <br> Ciphertext: %{y:,f}<extra></extra>",
         "legendgroup": "FrodoKEM",
         "marker": {
          "color": "#72B7B2",
          "line": {
           "color": "black",
           "width": 0.5
          },
          "opacity": 0.9,
          "size": 12,
          "symbol": [
           1,
           0,
           4
          ]
         },
         "mode": "markers",
         "name": "FrodoKEM (LWE)",
         "showlegend": false,
         "text": [
          "Frodo-640",
          "Frodo-976",
          "Frodo-1344"
         ],
         "type": "scatter",
         "x": [
          9616,
          15632,
          21520
         ],
         "y": [
          9720,
          15744,
          21632
         ]
        },
        {
         "hoverinfo": "x+y+text",
         "hovertemplate": "<b>%{text}</b> <br><br> Public Key: %{x:,f} <br> Ciphertext: %{y:,f}<extra></extra>",
         "legendgroup": "HQC",
         "marker": {
          "color": "#54A24B",
          "line": {
           "color": "black",
           "width": 0.5
          },
          "opacity": 0.9,
          "size": 12,
          "symbol": [
           1,
           1,
           0,
           0,
           4,
           4
          ]
         },
         "mode": "markers",
         "name": "HQC (Short Hamming)",
         "showlegend": false,
         "text": [
          "hqc-128",
          "hqc-RMRS-128",
          "hqc-192",
          "hqc-RMRS-192",
          "hqc-256",
          "hqc-RMRS-256"
         ],
         "type": "scatter",
         "x": [
          3024,
          2607,
          5690,
          4906,
          8698,
          7535
         ],
         "y": [
          6017,
          5191,
          11364,
          9794,
          17379,
          15047
         ]
        },
        {
         "hoverinfo": "x+y+text",
         "hovertemplate": "<b>%{text}</b> <br><br> Public Key: %{x:,f} <br> Ciphertext: %{y:,f}<extra></extra>",
         "legendgroup": "NTRU",
         "marker": {
          "color": "#EECA3B",
          "line": {
           "color": "black",
           "width": 0.5
          },
          "opacity": 0.9,
          "size": 12,
          "symbol": [
           1,
           1,
           0
          ]
         },
         "mode": "markers",
         "name": "NTRU (NTRU)",
         "showlegend": false,
         "text": [
          "ntruhps2048677",
          "ntruhrss701",
          "ntruhps4096821"
         ],
         "type": "scatter",
         "x": [
          931,
          1138,
          1230
         ],
         "y": [
          931,
          1138,
          1230
         ]
        },
        {
         "hoverinfo": "x+y+text",
         "hovertemplate": "<b>%{text}</b> <br><br> Public Key: %{x:,f} <br> Ciphertext: %{y:,f}<extra></extra>",
         "legendgroup": "NTRU Prime",
         "marker": {
          "color": "#B279A2",
          "line": {
           "color": "black",
           "width": 0.5
          },
          "opacity": 0.9,
          "size": 12,
          "symbol": [
           1,
           2,
           2,
           0,
           0,
           3,
           3
          ]
         },
         "mode": "markers",
         "name": "NTRU Prime (NTRU)",
         "showlegend": false,
         "text": [
          "sntrup653",
          "sntrup653",
          "ntrulpr653",
          "sntrup761",
          "ntrulpr761",
          "sntrup857",
          "ntrulpr857"
         ],
         "type": "scatter",
         "x": [
          994,
          994,
          897,
          1158,
          1039,
          1184,
          1322
         ],
         "y": [
          897,
          897,
          1025,
          1039,
          1167,
          1312,
          1184
         ]
        },
        {
         "hoverinfo": "x+y+text",
         "hovertemplate": "<b>%{text}</b> <br><br> Public Key: %{x:,f} <br> Ciphertext: %{y:,f}<extra></extra>",
         "legendgroup": "SABER",
         "marker": {
          "color": "#FF9DA6",
          "line": {
           "color": "black",
           "width": 0.5
          },
          "opacity": 0.9,
          "size": 12,
          "symbol": [
           1,
           0,
           4
          ]
         },
         "mode": "markers",
         "name": "SABER (MLWR)",
         "showlegend": false,
         "text": [
          "LightSaber",
          "Saber",
          "FireSaber"
         ],
         "type": "scatter",
         "x": [
          672,
          992,
          1312
         ],
         "y": [
          736,
          1088,
          1472
         ]
        },
        {
         "hoverinfo": "x+y+text",
         "hovertemplate": "<b>%{text}</b> <br><br> Public Key: %{x:,f} <br> Ciphertext: %{y:,f}<extra></extra>",
         "legendgroup": "SIKE",
         "marker": {
          "color": "#9D755D",
          "line": {
           "color": "black",
           "width": 0.5
          },
          "opacity": 0.9,
          "size": 12,
          "symbol": [
           1,
           1,
           2,
           2,
           0,
           0,
           4,
           4
          ]
         },
         "mode": "markers",
         "name": "SIKE (Isogeny)",
         "showlegend": false,
         "text": [
          "SIKEp434",
          "SIKEp434_compressed",
          "SIKEp503",
          "SIKEp503_compressed",
          "SIKEp610",
          "SIKEp610_compressed",
          "SIKEp751",
          "SIKEp751_compressed"
         ],
         "type": "scatter",
         "x": [
          330,
          197,
          378,
          225,
          462,
          274,
          564,
          335
         ],
         "y": [
          346,
          236,
          402,
          280,
          486,
          336,
          596,
          410
         ]
        }
       ],
       "layout": {
        "height": 800,
        "legend": {
         "bordercolor": "#ffffff",
         "borderwidth": 2,
         "font": {
          "color": "black",
          "size": 14
         },
         "itemsizing": "constant",
         "x": 0.97,
         "xanchor": "right",
         "y": 0.96,
         "yanchor": "top"
        },
        "template": {
         "data": {
          "bar": [
           {
            "error_x": {
             "color": "#2a3f5f"
            },
            "error_y": {
             "color": "#2a3f5f"
            },
            "marker": {
             "line": {
              "color": "#E5ECF6",
              "width": 0.5
             }
            },
            "type": "bar"
           }
          ],
          "barpolar": [
           {
            "marker": {
             "line": {
              "color": "#E5ECF6",
              "width": 0.5
             }
            },
            "type": "barpolar"
           }
          ],
          "carpet": [
           {
            "aaxis": {
             "endlinecolor": "#2a3f5f",
             "gridcolor": "white",
             "linecolor": "white",
             "minorgridcolor": "white",
             "startlinecolor": "#2a3f5f"
            },
            "baxis": {
             "endlinecolor": "#2a3f5f",
             "gridcolor": "white",
             "linecolor": "white",
             "minorgridcolor": "white",
             "startlinecolor": "#2a3f5f"
            },
            "type": "carpet"
           }
          ],
          "choropleth": [
           {
            "colorbar": {
             "outlinewidth": 0,
             "ticks": ""
            },
            "type": "choropleth"
           }
          ],
          "contour": [
           {
            "colorbar": {
             "outlinewidth": 0,
             "ticks": ""
            },
            "colorscale": [
             [
              0,
              "#0d0887"
             ],
             [
              0.1111111111111111,
              "#46039f"
             ],
             [
              0.2222222222222222,
              "#7201a8"
             ],
             [
              0.3333333333333333,
              "#9c179e"
             ],
             [
              0.4444444444444444,
              "#bd3786"
             ],
             [
              0.5555555555555556,
              "#d8576b"
             ],
             [
              0.6666666666666666,
              "#ed7953"
             ],
             [
              0.7777777777777778,
              "#fb9f3a"
             ],
             [
              0.8888888888888888,
              "#fdca26"
             ],
             [
              1,
              "#f0f921"
             ]
            ],
            "type": "contour"
           }
          ],
          "contourcarpet": [
           {
            "colorbar": {
             "outlinewidth": 0,
             "ticks": ""
            },
            "type": "contourcarpet"
           }
          ],
          "heatmap": [
           {
            "colorbar": {
             "outlinewidth": 0,
             "ticks": ""
            },
            "colorscale": [
             [
              0,
              "#0d0887"
             ],
             [
              0.1111111111111111,
              "#46039f"
             ],
             [
              0.2222222222222222,
              "#7201a8"
             ],
             [
              0.3333333333333333,
              "#9c179e"
             ],
             [
              0.4444444444444444,
              "#bd3786"
             ],
             [
              0.5555555555555556,
              "#d8576b"
             ],
             [
              0.6666666666666666,
              "#ed7953"
             ],
             [
              0.7777777777777778,
              "#fb9f3a"
             ],
             [
              0.8888888888888888,
              "#fdca26"
             ],
             [
              1,
              "#f0f921"
             ]
            ],
            "type": "heatmap"
           }
          ],
          "heatmapgl": [
           {
            "colorbar": {
             "outlinewidth": 0,
             "ticks": ""
            },
            "colorscale": [
             [
              0,
              "#0d0887"
             ],
             [
              0.1111111111111111,
              "#46039f"
             ],
             [
              0.2222222222222222,
              "#7201a8"
             ],
             [
              0.3333333333333333,
              "#9c179e"
             ],
             [
              0.4444444444444444,
              "#bd3786"
             ],
             [
              0.5555555555555556,
              "#d8576b"
             ],
             [
              0.6666666666666666,
              "#ed7953"
             ],
             [
              0.7777777777777778,
              "#fb9f3a"
             ],
             [
              0.8888888888888888,
              "#fdca26"
             ],
             [
              1,
              "#f0f921"
             ]
            ],
            "type": "heatmapgl"
           }
          ],
          "histogram": [
           {
            "marker": {
             "colorbar": {
              "outlinewidth": 0,
              "ticks": ""
             }
            },
            "type": "histogram"
           }
          ],
          "histogram2d": [
           {
            "colorbar": {
             "outlinewidth": 0,
             "ticks": ""
            },
            "colorscale": [
             [
              0,
              "#0d0887"
             ],
             [
              0.1111111111111111,
              "#46039f"
             ],
             [
              0.2222222222222222,
              "#7201a8"
             ],
             [
              0.3333333333333333,
              "#9c179e"
             ],
             [
              0.4444444444444444,
              "#bd3786"
             ],
             [
              0.5555555555555556,
              "#d8576b"
             ],
             [
              0.6666666666666666,
              "#ed7953"
             ],
             [
              0.7777777777777778,
              "#fb9f3a"
             ],
             [
              0.8888888888888888,
              "#fdca26"
             ],
             [
              1,
              "#f0f921"
             ]
            ],
            "type": "histogram2d"
           }
          ],
          "histogram2dcontour": [
           {
            "colorbar": {
             "outlinewidth": 0,
             "ticks": ""
            },
            "colorscale": [
             [
              0,
              "#0d0887"
             ],
             [
              0.1111111111111111,
              "#46039f"
             ],
             [
              0.2222222222222222,
              "#7201a8"
             ],
             [
              0.3333333333333333,
              "#9c179e"
             ],
             [
              0.4444444444444444,
              "#bd3786"
             ],
             [
              0.5555555555555556,
              "#d8576b"
             ],
             [
              0.6666666666666666,
              "#ed7953"
             ],
             [
              0.7777777777777778,
              "#fb9f3a"
             ],
             [
              0.8888888888888888,
              "#fdca26"
             ],
             [
              1,
              "#f0f921"
             ]
            ],
            "type": "histogram2dcontour"
           }
          ],
          "mesh3d": [
           {
            "colorbar": {
             "outlinewidth": 0,
             "ticks": ""
            },
            "type": "mesh3d"
           }
          ],
          "parcoords": [
           {
            "line": {
             "colorbar": {
              "outlinewidth": 0,
              "ticks": ""
             }
            },
            "type": "parcoords"
           }
          ],
          "pie": [
           {
            "automargin": true,
            "type": "pie"
           }
          ],
          "scatter": [
           {
            "marker": {
             "colorbar": {
              "outlinewidth": 0,
              "ticks": ""
             }
            },
            "type": "scatter"
           }
          ],
          "scatter3d": [
           {
            "line": {
             "colorbar": {
              "outlinewidth": 0,
              "ticks": ""
             }
            },
            "marker": {
             "colorbar": {
              "outlinewidth": 0,
              "ticks": ""
             }
            },
            "type": "scatter3d"
           }
          ],
          "scattercarpet": [
           {
            "marker": {
             "colorbar": {
              "outlinewidth": 0,
              "ticks": ""
             }
            },
            "type": "scattercarpet"
           }
          ],
          "scattergeo": [
           {
            "marker": {
             "colorbar": {
              "outlinewidth": 0,
              "ticks": ""
             }
            },
            "type": "scattergeo"
           }
          ],
          "scattergl": [
           {
            "marker": {
             "colorbar": {
              "outlinewidth": 0,
              "ticks": ""
             }
            },
            "type": "scattergl"
           }
          ],
          "scattermapbox": [
           {
            "marker": {
             "colorbar": {
              "outlinewidth": 0,
              "ticks": ""
             }
            },
            "type": "scattermapbox"
           }
          ],
          "scatterpolar": [
           {
            "marker": {
             "colorbar": {
              "outlinewidth": 0,
              "ticks": ""
             }
            },
            "type": "scatterpolar"
           }
          ],
          "scatterpolargl": [
           {
            "marker": {
             "colorbar": {
              "outlinewidth": 0,
              "ticks": ""
             }
            },
            "type": "scatterpolargl"
           }
          ],
          "scatterternary": [
           {
            "marker": {
             "colorbar": {
              "outlinewidth": 0,
              "ticks": ""
             }
            },
            "type": "scatterternary"
           }
          ],
          "surface": [
           {
            "colorbar": {
             "outlinewidth": 0,
             "ticks": ""
            },
            "colorscale": [
             [
              0,
              "#0d0887"
             ],
             [
              0.1111111111111111,
              "#46039f"
             ],
             [
              0.2222222222222222,
              "#7201a8"
             ],
             [
              0.3333333333333333,
              "#9c179e"
             ],
             [
              0.4444444444444444,
              "#bd3786"
             ],
             [
              0.5555555555555556,
              "#d8576b"
             ],
             [
              0.6666666666666666,
              "#ed7953"
             ],
             [
              0.7777777777777778,
              "#fb9f3a"
             ],
             [
              0.8888888888888888,
              "#fdca26"
             ],
             [
              1,
              "#f0f921"
             ]
            ],
            "type": "surface"
           }
          ],
          "table": [
           {
            "cells": {
             "fill": {
              "color": "#EBF0F8"
             },
             "line": {
              "color": "white"
             }
            },
            "header": {
             "fill": {
              "color": "#C8D4E3"
             },
             "line": {
              "color": "white"
             }
            },
            "type": "table"
           }
          ]
         },
         "layout": {
          "annotationdefaults": {
           "arrowcolor": "#2a3f5f",
           "arrowhead": 0,
           "arrowwidth": 1
          },
          "coloraxis": {
           "colorbar": {
            "outlinewidth": 0,
            "ticks": ""
           }
          },
          "colorscale": {
           "diverging": [
            [
             0,
             "#8e0152"
            ],
            [
             0.1,
             "#c51b7d"
            ],
            [
             0.2,
             "#de77ae"
            ],
            [
             0.3,
             "#f1b6da"
            ],
            [
             0.4,
             "#fde0ef"
            ],
            [
             0.5,
             "#f7f7f7"
            ],
            [
             0.6,
             "#e6f5d0"
            ],
            [
             0.7,
             "#b8e186"
            ],
            [
             0.8,
             "#7fbc41"
            ],
            [
             0.9,
             "#4d9221"
            ],
            [
             1,
             "#276419"
            ]
           ],
           "sequential": [
            [
             0,
             "#0d0887"
            ],
            [
             0.1111111111111111,
             "#46039f"
            ],
            [
             0.2222222222222222,
             "#7201a8"
            ],
            [
             0.3333333333333333,
             "#9c179e"
            ],
            [
             0.4444444444444444,
             "#bd3786"
            ],
            [
             0.5555555555555556,
             "#d8576b"
            ],
            [
             0.6666666666666666,
             "#ed7953"
            ],
            [
             0.7777777777777778,
             "#fb9f3a"
            ],
            [
             0.8888888888888888,
             "#fdca26"
            ],
            [
             1,
             "#f0f921"
            ]
           ],
           "sequentialminus": [
            [
             0,
             "#0d0887"
            ],
            [
             0.1111111111111111,
             "#46039f"
            ],
            [
             0.2222222222222222,
             "#7201a8"
            ],
            [
             0.3333333333333333,
             "#9c179e"
            ],
            [
             0.4444444444444444,
             "#bd3786"
            ],
            [
             0.5555555555555556,
             "#d8576b"
            ],
            [
             0.6666666666666666,
             "#ed7953"
            ],
            [
             0.7777777777777778,
             "#fb9f3a"
            ],
            [
             0.8888888888888888,
             "#fdca26"
            ],
            [
             1,
             "#f0f921"
            ]
           ]
          },
          "colorway": [
           "#636efa",
           "#EF553B",
           "#00cc96",
           "#ab63fa",
           "#FFA15A",
           "#19d3f3",
           "#FF6692",
           "#B6E880",
           "#FF97FF",
           "#FECB52"
          ],
          "font": {
           "color": "#2a3f5f"
          },
          "geo": {
           "bgcolor": "white",
           "lakecolor": "white",
           "landcolor": "#E5ECF6",
           "showlakes": true,
           "showland": true,
           "subunitcolor": "white"
          },
          "hoverlabel": {
           "align": "left"
          },
          "hovermode": "closest",
          "mapbox": {
           "style": "light"
          },
          "paper_bgcolor": "white",
          "plot_bgcolor": "#E5ECF6",
          "polar": {
           "angularaxis": {
            "gridcolor": "white",
            "linecolor": "white",
            "ticks": ""
           },
           "bgcolor": "#E5ECF6",
           "radialaxis": {
            "gridcolor": "white",
            "linecolor": "white",
            "ticks": ""
           }
          },
          "scene": {
           "xaxis": {
            "backgroundcolor": "#E5ECF6",
            "gridcolor": "white",
            "gridwidth": 2,
            "linecolor": "white",
            "showbackground": true,
            "ticks": "",
            "zerolinecolor": "white"
           },
           "yaxis": {
            "backgroundcolor": "#E5ECF6",
            "gridcolor": "white",
            "gridwidth": 2,
            "linecolor": "white",
            "showbackground": true,
            "ticks": "",
            "zerolinecolor": "white"
           },
           "zaxis": {
            "backgroundcolor": "#E5ECF6",
            "gridcolor": "white",
            "gridwidth": 2,
            "linecolor": "white",
            "showbackground": true,
            "ticks": "",
            "zerolinecolor": "white"
           }
          },
          "shapedefaults": {
           "line": {
            "color": "#2a3f5f"
           }
          },
          "ternary": {
           "aaxis": {
            "gridcolor": "white",
            "linecolor": "white",
            "ticks": ""
           },
           "baxis": {
            "gridcolor": "white",
            "linecolor": "white",
            "ticks": ""
           },
           "bgcolor": "#E5ECF6",
           "caxis": {
            "gridcolor": "white",
            "linecolor": "white",
            "ticks": ""
           }
          },
          "title": {
           "x": 0.05
          },
          "xaxis": {
           "automargin": true,
           "gridcolor": "white",
           "linecolor": "white",
           "ticks": "",
           "title": {
            "standoff": 15
           },
           "zerolinecolor": "white",
           "zerolinewidth": 2
          },
          "yaxis": {
           "automargin": true,
           "gridcolor": "white",
           "linecolor": "white",
           "ticks": "",
           "title": {
            "standoff": 15
           },
           "zerolinecolor": "white",
           "zerolinewidth": 2
          }
         }
        },
        "width": 1200,
        "xaxis": {
         "tickangle": 45,
         "tickfont": {
          "size": 14
         },
         "tickformat": ",f",
         "tickmode": "array",
         "tickvals": [
          4,
          8,
          16,
          32,
          64,
          128,
          256,
          512,
          1024,
          2048,
          4096,
          8192,
          16384,
          32768,
          65536,
          131072,
          262144,
          524288,
          1048576,
          2097152,
          4194304,
          8388608,
          16777216,
          33554432
         ],
         "title": {
          "font": {
           "size": 22
          },
          "text": "Public Key (bytes)"
         },
         "type": "log"
        },
        "yaxis": {
         "tickfont": {
          "size": 14
         },
         "tickformat": ",f",
         "tickmode": "array",
         "tickvals": [
          4,
          8,
          16,
          32,
          64,
          128,
          256,
          512,
          1024,
          2048,
          4096,
          8192,
          16384,
          32768,
          65536,
          131072,
          262144,
          524288,
          1048576,
          2097152,
          4194304,
          8388608,
          16777216,
          33554432,
          67108864,
          134217728,
          268435456,
          536870912
         ],
         "title": {
          "font": {
           "size": 22
          },
          "text": "Ciphertext (bytes)"
         },
         "type": "log"
        }
       }
      },
      "text/html": "<div>\n        \n        \n            <div id=\"cdba00bb-222e-4812-854c-744b3ad1370c\" class=\"plotly-graph-div\" style=\"height:800px; width:1200px;\"></div>\n            <script type=\"text/javascript\">\n                require([\"plotly\"], function(Plotly) {\n                    window.PLOTLYENV=window.PLOTLYENV || {};\n                    \n                if (document.getElementById(\"cdba00bb-222e-4812-854c-744b3ad1370c\")) {\n                    Plotly.newPlot(\n                        'cdba00bb-222e-4812-854c-744b3ad1370c',\n                        [{\"hoverinfo\": \"x+y+text\", \"hovertemplate\": \"<b>%{text}</b> <br><br> Public Key: %{x:,f} <br> Ciphertext: %{y:,f}<extra></extra>\", \"legendgroup\": \"BIKE\", \"marker\": {\"color\": \"#4C78A8\", \"line\": {\"color\": \"black\", \"width\": 0.5}, \"opacity\": 0.9, \"size\": 12, \"symbol\": [1, 0]}, \"mode\": \"markers\", \"name\": \"BIKE (Short Hamming)\", \"showlegend\": true, \"text\": [\"BIKE-Level-1\", \"BIKE-Level-3\"], \"type\": \"scatter\", \"x\": [1540, 3082], \"y\": [1572, 3114]}, {\"hoverinfo\": \"x+y+text\", \"hovertemplate\": \"<b>%{text}</b> <br><br> Public Key: %{x:,f} <br> Ciphertext: %{y:,f}<extra></extra>\", \"legendgroup\": \"CRYSTALS-KYBER\", \"marker\": {\"color\": \"#F58518\", \"line\": {\"color\": \"black\", \"width\": 0.5}, \"opacity\": 0.9, \"size\": 12, \"symbol\": [1, 0, 4]}, \"mode\": \"markers\", \"name\": \"CRYSTALS-KYBER (MLWE)\", \"showlegend\": true, \"text\": [\"KYBER512\", \"KYBER768\", \"KYBER1024\"], \"type\": \"scatter\", \"x\": [800, 1184, 1568], \"y\": [736, 1088, 1568]}, {\"hoverinfo\": \"x+y+text\", \"hovertemplate\": \"<b>%{text}</b> <br><br> Public Key: %{x:,f} <br> Ciphertext: %{y:,f}<extra></extra>\", \"legendgroup\": \"Classic McEliece\", \"marker\": {\"color\": \"#E45756\", \"line\": {\"color\": \"black\", \"width\": 0.5}, \"opacity\": 0.9, \"size\": 12, \"symbol\": [1, 0, 4, 4, 4]}, \"mode\": \"markers\", \"name\": \"Classic McEliece (Goppa)\", \"showlegend\": true, \"text\": [\"mceliece348864\", \"mceliece460896\", \"mceliece6688128\", \"mceliece6960119\", \"mceliece8192128\"], \"type\": \"scatter\", \"x\": [261120, 524160, 1044992, 1047319, 1357824], \"y\": [128, 188, 240, 226, 240]}, {\"hoverinfo\": \"x+y+text\", \"hovertemplate\": \"<b>%{text}</b> <br><br> Public Key: %{x:,f} <br> Ciphertext: %{y:,f}<extra></extra>\", \"legendgroup\": \"FrodoKEM\", \"marker\": {\"color\": \"#72B7B2\", \"line\": {\"color\": \"black\", \"width\": 0.5}, \"opacity\": 0.9, \"size\": 12, \"symbol\": [1, 0, 4]}, \"mode\": \"markers\", \"name\": \"FrodoKEM (LWE)\", \"showlegend\": true, \"text\": [\"Frodo-640\", \"Frodo-976\", \"Frodo-1344\"], \"type\": \"scatter\", \"x\": [9616, 15632, 21520], \"y\": [9720, 15744, 21632]}, {\"hoverinfo\": \"x+y+text\", \"hovertemplate\": \"<b>%{text}</b> <br><br> Public Key: %{x:,f} <br> Ciphertext: %{y:,f}<extra></extra>\", \"legendgroup\": \"HQC\", \"marker\": {\"color\": \"#54A24B\", \"line\": {\"color\": \"black\", \"width\": 0.5}, \"opacity\": 0.9, \"size\": 12, \"symbol\": [1, 1, 0, 0, 4, 4]}, \"mode\": \"markers\", \"name\": \"HQC (Short Hamming)\", \"showlegend\": true, \"text\": [\"hqc-128\", \"hqc-RMRS-128\", \"hqc-192\", \"hqc-RMRS-192\", \"hqc-256\", \"hqc-RMRS-256\"], \"type\": \"scatter\", \"x\": [3024, 2607, 5690, 4906, 8698, 7535], \"y\": [6017, 5191, 11364, 9794, 17379, 15047]}, {\"hoverinfo\": \"x+y+text\", \"hovertemplate\": \"<b>%{text}</b> <br><br> Public Key: %{x:,f} <br> Ciphertext: %{y:,f}<extra></extra>\", \"legendgroup\": \"NTRU\", \"marker\": {\"color\": \"#EECA3B\", \"line\": {\"color\": \"black\", \"width\": 0.5}, \"opacity\": 0.9, \"size\": 12, \"symbol\": [1, 1, 0]}, \"mode\": \"markers\", \"name\": \"NTRU (NTRU)\", \"showlegend\": true, \"text\": [\"ntruhps2048677\", \"ntruhrss701\", \"ntruhps4096821\"], \"type\": \"scatter\", \"x\": [931, 1138, 1230], \"y\": [931, 1138, 1230]}, {\"hoverinfo\": \"x+y+text\", \"hovertemplate\": \"<b>%{text}</b> <br><br> Public Key: %{x:,f} <br> Ciphertext: %{y:,f}<extra></extra>\", \"legendgroup\": \"NTRU Prime\", \"marker\": {\"color\": \"#B279A2\", \"line\": {\"color\": \"black\", \"width\": 0.5}, \"opacity\": 0.9, \"size\": 12, \"symbol\": [1, 2, 2, 0, 0, 3, 3]}, \"mode\": \"markers\", \"name\": \"NTRU Prime (NTRU)\", \"showlegend\": true, \"text\": [\"sntrup653\", \"sntrup653\", \"ntrulpr653\", \"sntrup761\", \"ntrulpr761\", \"sntrup857\", \"ntrulpr857\"], \"type\": \"scatter\", \"x\": [994, 994, 897, 1158, 1039, 1184, 1322], \"y\": [897, 897, 1025, 1039, 1167, 1312, 1184]}, {\"hoverinfo\": \"x+y+text\", \"hovertemplate\": \"<b>%{text}</b> <br><br> Public Key: %{x:,f} <br> Ciphertext: %{y:,f}<extra></extra>\", \"legendgroup\": \"SABER\", \"marker\": {\"color\": \"#FF9DA6\", \"line\": {\"color\": \"black\", \"width\": 0.5}, \"opacity\": 0.9, \"size\": 12, \"symbol\": [1, 0, 4]}, \"mode\": \"markers\", \"name\": \"SABER (MLWR)\", \"showlegend\": true, \"text\": [\"LightSaber\", \"Saber\", \"FireSaber\"], \"type\": \"scatter\", \"x\": [672, 992, 1312], \"y\": [736, 1088, 1472]}, {\"hoverinfo\": \"x+y+text\", \"hovertemplate\": \"<b>%{text}</b> <br><br> Public Key: %{x:,f} <br> Ciphertext: %{y:,f}<extra></extra>\", \"legendgroup\": \"SIKE\", \"marker\": {\"color\": \"#9D755D\", \"line\": {\"color\": \"black\", \"width\": 0.5}, \"opacity\": 0.9, \"size\": 12, \"symbol\": [1, 1, 2, 2, 0, 0, 4, 4]}, \"mode\": \"markers\", \"name\": \"SIKE (Isogeny)\", \"showlegend\": true, \"text\": [\"SIKEp434\", \"SIKEp434_compressed\", \"SIKEp503\", \"SIKEp503_compressed\", \"SIKEp610\", \"SIKEp610_compressed\", \"SIKEp751\", \"SIKEp751_compressed\"], \"type\": \"scatter\", \"x\": [330, 197, 378, 225, 462, 274, 564, 335], \"y\": [346, 236, 402, 280, 486, 336, 596, 410]}, {\"hoverinfo\": \"none\", \"hoverlabel\": {\"namelength\": 0}, \"legendgroup\": \"1\", \"marker\": {\"color\": \"Black\", \"line\": {\"color\": \"black\", \"width\": 0.5}, \"size\": 12, \"symbol\": [101, 101, 101, 101, 101, 101, 101, 101, 101, 101, 101]}, \"mode\": \"markers\", \"name\": \"Security Level 1\", \"showlegend\": true, \"type\": \"scatter\", \"x\": [1540, 800, 261120, 9616, 3024, 2607, 931, 1138, 672, 330, 197], \"y\": [1572, 736, 128, 9720, 6017, 5191, 931, 1138, 736, 346, 236]}, {\"hoverinfo\": \"none\", \"hoverlabel\": {\"namelength\": 0}, \"legendgroup\": \"2\", \"marker\": {\"color\": \"Black\", \"line\": {\"color\": \"black\", \"width\": 0.5}, \"size\": 12, \"symbol\": [102, 102, 102, 102]}, \"mode\": \"markers\", \"name\": \"Security Level 2\", \"showlegend\": true, \"type\": \"scatter\", \"x\": [994, 897, 378, 225], \"y\": [897, 1025, 402, 280]}, {\"hoverinfo\": \"none\", \"hoverlabel\": {\"namelength\": 0}, \"legendgroup\": \"3\", \"marker\": {\"color\": \"Black\", \"line\": {\"color\": \"black\", \"width\": 0.5}, \"size\": 12, \"symbol\": [100, 100, 100, 100, 100, 100, 100, 100, 100, 100, 100, 100]}, \"mode\": \"markers\", \"name\": \"Security Level 3\", \"showlegend\": true, \"type\": \"scatter\", \"x\": [3082, 1184, 524160, 15632, 5690, 4906, 1230, 1158, 1039, 992, 462, 274], \"y\": [3114, 1088, 188, 15744, 11364, 9794, 1230, 1039, 1167, 1088, 486, 336]}, {\"hoverinfo\": \"none\", \"hoverlabel\": {\"namelength\": 0}, \"legendgroup\": \"4\", \"marker\": {\"color\": \"Black\", \"line\": {\"color\": \"black\", \"width\": 0.5}, \"size\": 12, \"symbol\": [103, 103]}, \"mode\": \"markers\", \"name\": \"Security Level 4\", \"showlegend\": true, \"type\": \"scatter\", \"x\": [1184, 1322], \"y\": [1312, 1184]}, {\"hoverinfo\": \"none\", \"hoverlabel\": {\"namelength\": 0}, \"legendgroup\": \"5\", \"marker\": {\"color\": \"Black\", \"line\": {\"color\": \"black\", \"width\": 0.5}, \"size\": 12, \"symbol\": [104, 104, 104, 104, 104, 104, 104, 104, 104, 104]}, \"mode\": \"markers\", \"name\": \"Security Level 5\", \"showlegend\": true, \"type\": \"scatter\", \"x\": [1568, 1044992, 1047319, 1357824, 21520, 8698, 7535, 1312, 564, 335], \"y\": [1568, 240, 226, 240, 21632, 17379, 15047, 1472, 596, 410]}, {\"hoverinfo\": \"x+y+text\", \"hovertemplate\": \"<b>%{text}</b> <br><br> Public Key: %{x:,f} <br> Ciphertext: %{y:,f}<extra></extra>\", \"legendgroup\": \"BIKE\", \"marker\": {\"color\": \"#4C78A8\", \"line\": {\"color\": \"black\", \"width\": 0.5}, \"opacity\": 0.9, \"size\": 12, \"symbol\": [1, 0]}, \"mode\": \"markers\", \"name\": \"BIKE (Short Hamming)\", \"showlegend\": false, \"text\": [\"BIKE-Level-1\", \"BIKE-Level-3\"], \"type\": \"scatter\", \"x\": [1540, 3082], \"y\": [1572, 3114]}, {\"hoverinfo\": \"x+y+text\", \"hovertemplate\": \"<b>%{text}</b> <br><br> Public Key: %{x:,f} <br> Ciphertext: %{y:,f}<extra></extra>\", \"legendgroup\": \"CRYSTALS-KYBER\", \"marker\": {\"color\": \"#F58518\", \"line\": {\"color\": \"black\", \"width\": 0.5}, \"opacity\": 0.9, \"size\": 12, \"symbol\": [1, 0, 4]}, \"mode\": \"markers\", \"name\": \"CRYSTALS-KYBER (MLWE)\", \"showlegend\": false, \"text\": [\"KYBER512\", \"KYBER768\", \"KYBER1024\"], \"type\": \"scatter\", \"x\": [800, 1184, 1568], \"y\": [736, 1088, 1568]}, {\"hoverinfo\": \"x+y+text\", \"hovertemplate\": \"<b>%{text}</b> <br><br> Public Key: %{x:,f} <br> Ciphertext: %{y:,f}<extra></extra>\", \"legendgroup\": \"Classic McEliece\", \"marker\": {\"color\": \"#E45756\", \"line\": {\"color\": \"black\", \"width\": 0.5}, \"opacity\": 0.9, \"size\": 12, \"symbol\": [1, 0, 4, 4, 4]}, \"mode\": \"markers\", \"name\": \"Classic McEliece (Goppa)\", \"showlegend\": false, \"text\": [\"mceliece348864\", \"mceliece460896\", \"mceliece6688128\", \"mceliece6960119\", \"mceliece8192128\"], \"type\": \"scatter\", \"x\": [261120, 524160, 1044992, 1047319, 1357824], \"y\": [128, 188, 240, 226, 240]}, {\"hoverinfo\": \"x+y+text\", \"hovertemplate\": \"<b>%{text}</b> <br><br> Public Key: %{x:,f} <br> Ciphertext: %{y:,f}<extra></extra>\", \"legendgroup\": \"FrodoKEM\", \"marker\": {\"color\": \"#72B7B2\", \"line\": {\"color\": \"black\", \"width\": 0.5}, \"opacity\": 0.9, \"size\": 12, \"symbol\": [1, 0, 4]}, \"mode\": \"markers\", \"name\": \"FrodoKEM (LWE)\", \"showlegend\": false, \"text\": [\"Frodo-640\", \"Frodo-976\", \"Frodo-1344\"], \"type\": \"scatter\", \"x\": [9616, 15632, 21520], \"y\": [9720, 15744, 21632]}, {\"hoverinfo\": \"x+y+text\", \"hovertemplate\": \"<b>%{text}</b> <br><br> Public Key: %{x:,f} <br> Ciphertext: %{y:,f}<extra></extra>\", \"legendgroup\": \"HQC\", \"marker\": {\"color\": \"#54A24B\", \"line\": {\"color\": \"black\", \"width\": 0.5}, \"opacity\": 0.9, \"size\": 12, \"symbol\": [1, 1, 0, 0, 4, 4]}, \"mode\": \"markers\", \"name\": \"HQC (Short Hamming)\", \"showlegend\": false, \"text\": [\"hqc-128\", \"hqc-RMRS-128\", \"hqc-192\", \"hqc-RMRS-192\", \"hqc-256\", \"hqc-RMRS-256\"], \"type\": \"scatter\", \"x\": [3024, 2607, 5690, 4906, 8698, 7535], \"y\": [6017, 5191, 11364, 9794, 17379, 15047]}, {\"hoverinfo\": \"x+y+text\", \"hovertemplate\": \"<b>%{text}</b> <br><br> Public Key: %{x:,f} <br> Ciphertext: %{y:,f}<extra></extra>\", \"legendgroup\": \"NTRU\", \"marker\": {\"color\": \"#EECA3B\", \"line\": {\"color\": \"black\", \"width\": 0.5}, \"opacity\": 0.9, \"size\": 12, \"symbol\": [1, 1, 0]}, \"mode\": \"markers\", \"name\": \"NTRU (NTRU)\", \"showlegend\": false, \"text\": [\"ntruhps2048677\", \"ntruhrss701\", \"ntruhps4096821\"], \"type\": \"scatter\", \"x\": [931, 1138, 1230], \"y\": [931, 1138, 1230]}, {\"hoverinfo\": \"x+y+text\", \"hovertemplate\": \"<b>%{text}</b> <br><br> Public Key: %{x:,f} <br> Ciphertext: %{y:,f}<extra></extra>\", \"legendgroup\": \"NTRU Prime\", \"marker\": {\"color\": \"#B279A2\", \"line\": {\"color\": \"black\", \"width\": 0.5}, \"opacity\": 0.9, \"size\": 12, \"symbol\": [1, 2, 2, 0, 0, 3, 3]}, \"mode\": \"markers\", \"name\": \"NTRU Prime (NTRU)\", \"showlegend\": false, \"text\": [\"sntrup653\", \"sntrup653\", \"ntrulpr653\", \"sntrup761\", \"ntrulpr761\", \"sntrup857\", \"ntrulpr857\"], \"type\": \"scatter\", \"x\": [994, 994, 897, 1158, 1039, 1184, 1322], \"y\": [897, 897, 1025, 1039, 1167, 1312, 1184]}, {\"hoverinfo\": \"x+y+text\", \"hovertemplate\": \"<b>%{text}</b> <br><br> Public Key: %{x:,f} <br> Ciphertext: %{y:,f}<extra></extra>\", \"legendgroup\": \"SABER\", \"marker\": {\"color\": \"#FF9DA6\", \"line\": {\"color\": \"black\", \"width\": 0.5}, \"opacity\": 0.9, \"size\": 12, \"symbol\": [1, 0, 4]}, \"mode\": \"markers\", \"name\": \"SABER (MLWR)\", \"showlegend\": false, \"text\": [\"LightSaber\", \"Saber\", \"FireSaber\"], \"type\": \"scatter\", \"x\": [672, 992, 1312], \"y\": [736, 1088, 1472]}, {\"hoverinfo\": \"x+y+text\", \"hovertemplate\": \"<b>%{text}</b> <br><br> Public Key: %{x:,f} <br> Ciphertext: %{y:,f}<extra></extra>\", \"legendgroup\": \"SIKE\", \"marker\": {\"color\": \"#9D755D\", \"line\": {\"color\": \"black\", \"width\": 0.5}, \"opacity\": 0.9, \"size\": 12, \"symbol\": [1, 1, 2, 2, 0, 0, 4, 4]}, \"mode\": \"markers\", \"name\": \"SIKE (Isogeny)\", \"showlegend\": false, \"text\": [\"SIKEp434\", \"SIKEp434_compressed\", \"SIKEp503\", \"SIKEp503_compressed\", \"SIKEp610\", \"SIKEp610_compressed\", \"SIKEp751\", \"SIKEp751_compressed\"], \"type\": \"scatter\", \"x\": [330, 197, 378, 225, 462, 274, 564, 335], \"y\": [346, 236, 402, 280, 486, 336, 596, 410]}],\n                        {\"height\": 800, \"legend\": {\"bordercolor\": \"#ffffff\", \"borderwidth\": 2, \"font\": {\"color\": \"black\", \"size\": 14}, \"itemsizing\": \"constant\", \"x\": 0.97, \"xanchor\": \"right\", \"y\": 0.96, \"yanchor\": \"top\"}, \"template\": {\"data\": {\"bar\": [{\"error_x\": {\"color\": \"#2a3f5f\"}, \"error_y\": {\"color\": \"#2a3f5f\"}, \"marker\": {\"line\": {\"color\": \"#E5ECF6\", \"width\": 0.5}}, \"type\": \"bar\"}], \"barpolar\": [{\"marker\": {\"line\": {\"color\": \"#E5ECF6\", \"width\": 0.5}}, \"type\": \"barpolar\"}], \"carpet\": [{\"aaxis\": {\"endlinecolor\": \"#2a3f5f\", \"gridcolor\": \"white\", \"linecolor\": \"white\", \"minorgridcolor\": \"white\", \"startlinecolor\": \"#2a3f5f\"}, \"baxis\": {\"endlinecolor\": \"#2a3f5f\", \"gridcolor\": \"white\", \"linecolor\": \"white\", \"minorgridcolor\": \"white\", \"startlinecolor\": \"#2a3f5f\"}, \"type\": \"carpet\"}], \"choropleth\": [{\"colorbar\": {\"outlinewidth\": 0, \"ticks\": \"\"}, \"type\": \"choropleth\"}], \"contour\": [{\"colorbar\": {\"outlinewidth\": 0, \"ticks\": \"\"}, \"colorscale\": [[0.0, \"#0d0887\"], [0.1111111111111111, \"#46039f\"], [0.2222222222222222, \"#7201a8\"], [0.3333333333333333, \"#9c179e\"], [0.4444444444444444, \"#bd3786\"], [0.5555555555555556, \"#d8576b\"], [0.6666666666666666, \"#ed7953\"], [0.7777777777777778, \"#fb9f3a\"], [0.8888888888888888, \"#fdca26\"], [1.0, \"#f0f921\"]], \"type\": \"contour\"}], \"contourcarpet\": [{\"colorbar\": {\"outlinewidth\": 0, \"ticks\": \"\"}, \"type\": \"contourcarpet\"}], \"heatmap\": [{\"colorbar\": {\"outlinewidth\": 0, \"ticks\": \"\"}, \"colorscale\": [[0.0, \"#0d0887\"], [0.1111111111111111, \"#46039f\"], [0.2222222222222222, \"#7201a8\"], [0.3333333333333333, \"#9c179e\"], [0.4444444444444444, \"#bd3786\"], [0.5555555555555556, \"#d8576b\"], [0.6666666666666666, \"#ed7953\"], [0.7777777777777778, \"#fb9f3a\"], [0.8888888888888888, \"#fdca26\"], [1.0, \"#f0f921\"]], \"type\": \"heatmap\"}], \"heatmapgl\": [{\"colorbar\": {\"outlinewidth\": 0, \"ticks\": \"\"}, \"colorscale\": [[0.0, \"#0d0887\"], [0.1111111111111111, \"#46039f\"], [0.2222222222222222, \"#7201a8\"], [0.3333333333333333, \"#9c179e\"], [0.4444444444444444, \"#bd3786\"], [0.5555555555555556, \"#d8576b\"], [0.6666666666666666, \"#ed7953\"], [0.7777777777777778, \"#fb9f3a\"], [0.8888888888888888, \"#fdca26\"], [1.0, \"#f0f921\"]], \"type\": \"heatmapgl\"}], \"histogram\": [{\"marker\": {\"colorbar\": {\"outlinewidth\": 0, \"ticks\": \"\"}}, \"type\": \"histogram\"}], \"histogram2d\": [{\"colorbar\": {\"outlinewidth\": 0, \"ticks\": \"\"}, \"colorscale\": [[0.0, \"#0d0887\"], [0.1111111111111111, \"#46039f\"], [0.2222222222222222, \"#7201a8\"], [0.3333333333333333, \"#9c179e\"], [0.4444444444444444, \"#bd3786\"], [0.5555555555555556, \"#d8576b\"], [0.6666666666666666, \"#ed7953\"], [0.7777777777777778, \"#fb9f3a\"], [0.8888888888888888, \"#fdca26\"], [1.0, \"#f0f921\"]], \"type\": \"histogram2d\"}], \"histogram2dcontour\": [{\"colorbar\": {\"outlinewidth\": 0, \"ticks\": \"\"}, \"colorscale\": [[0.0, \"#0d0887\"], [0.1111111111111111, \"#46039f\"], [0.2222222222222222, \"#7201a8\"], [0.3333333333333333, \"#9c179e\"], [0.4444444444444444, \"#bd3786\"], [0.5555555555555556, \"#d8576b\"], [0.6666666666666666, \"#ed7953\"], [0.7777777777777778, \"#fb9f3a\"], [0.8888888888888888, \"#fdca26\"], [1.0, \"#f0f921\"]], \"type\": \"histogram2dcontour\"}], \"mesh3d\": [{\"colorbar\": {\"outlinewidth\": 0, \"ticks\": \"\"}, \"type\": \"mesh3d\"}], \"parcoords\": [{\"line\": {\"colorbar\": {\"outlinewidth\": 0, \"ticks\": \"\"}}, \"type\": \"parcoords\"}], \"pie\": [{\"automargin\": true, \"type\": \"pie\"}], \"scatter\": [{\"marker\": {\"colorbar\": {\"outlinewidth\": 0, \"ticks\": \"\"}}, \"type\": \"scatter\"}], \"scatter3d\": [{\"line\": {\"colorbar\": {\"outlinewidth\": 0, \"ticks\": \"\"}}, \"marker\": {\"colorbar\": {\"outlinewidth\": 0, \"ticks\": \"\"}}, \"type\": \"scatter3d\"}], \"scattercarpet\": [{\"marker\": {\"colorbar\": {\"outlinewidth\": 0, \"ticks\": \"\"}}, \"type\": \"scattercarpet\"}], \"scattergeo\": [{\"marker\": {\"colorbar\": {\"outlinewidth\": 0, \"ticks\": \"\"}}, \"type\": \"scattergeo\"}], \"scattergl\": [{\"marker\": {\"colorbar\": {\"outlinewidth\": 0, \"ticks\": \"\"}}, \"type\": \"scattergl\"}], \"scattermapbox\": [{\"marker\": {\"colorbar\": {\"outlinewidth\": 0, \"ticks\": \"\"}}, \"type\": \"scattermapbox\"}], \"scatterpolar\": [{\"marker\": {\"colorbar\": {\"outlinewidth\": 0, \"ticks\": \"\"}}, \"type\": \"scatterpolar\"}], \"scatterpolargl\": [{\"marker\": {\"colorbar\": {\"outlinewidth\": 0, \"ticks\": \"\"}}, \"type\": \"scatterpolargl\"}], \"scatterternary\": [{\"marker\": {\"colorbar\": {\"outlinewidth\": 0, \"ticks\": \"\"}}, \"type\": \"scatterternary\"}], \"surface\": [{\"colorbar\": {\"outlinewidth\": 0, \"ticks\": \"\"}, \"colorscale\": [[0.0, \"#0d0887\"], [0.1111111111111111, \"#46039f\"], [0.2222222222222222, \"#7201a8\"], [0.3333333333333333, \"#9c179e\"], [0.4444444444444444, \"#bd3786\"], [0.5555555555555556, \"#d8576b\"], [0.6666666666666666, \"#ed7953\"], [0.7777777777777778, \"#fb9f3a\"], [0.8888888888888888, \"#fdca26\"], [1.0, \"#f0f921\"]], \"type\": \"surface\"}], \"table\": [{\"cells\": {\"fill\": {\"color\": \"#EBF0F8\"}, \"line\": {\"color\": \"white\"}}, \"header\": {\"fill\": {\"color\": \"#C8D4E3\"}, \"line\": {\"color\": \"white\"}}, \"type\": \"table\"}]}, \"layout\": {\"annotationdefaults\": {\"arrowcolor\": \"#2a3f5f\", \"arrowhead\": 0, \"arrowwidth\": 1}, \"coloraxis\": {\"colorbar\": {\"outlinewidth\": 0, \"ticks\": \"\"}}, \"colorscale\": {\"diverging\": [[0, \"#8e0152\"], [0.1, \"#c51b7d\"], [0.2, \"#de77ae\"], [0.3, \"#f1b6da\"], [0.4, \"#fde0ef\"], [0.5, \"#f7f7f7\"], [0.6, \"#e6f5d0\"], [0.7, \"#b8e186\"], [0.8, \"#7fbc41\"], [0.9, \"#4d9221\"], [1, \"#276419\"]], \"sequential\": [[0.0, \"#0d0887\"], [0.1111111111111111, \"#46039f\"], [0.2222222222222222, \"#7201a8\"], [0.3333333333333333, \"#9c179e\"], [0.4444444444444444, \"#bd3786\"], [0.5555555555555556, \"#d8576b\"], [0.6666666666666666, \"#ed7953\"], [0.7777777777777778, \"#fb9f3a\"], [0.8888888888888888, \"#fdca26\"], [1.0, \"#f0f921\"]], \"sequentialminus\": [[0.0, \"#0d0887\"], [0.1111111111111111, \"#46039f\"], [0.2222222222222222, \"#7201a8\"], [0.3333333333333333, \"#9c179e\"], [0.4444444444444444, \"#bd3786\"], [0.5555555555555556, \"#d8576b\"], [0.6666666666666666, \"#ed7953\"], [0.7777777777777778, \"#fb9f3a\"], [0.8888888888888888, \"#fdca26\"], [1.0, \"#f0f921\"]]}, \"colorway\": [\"#636efa\", \"#EF553B\", \"#00cc96\", \"#ab63fa\", \"#FFA15A\", \"#19d3f3\", \"#FF6692\", \"#B6E880\", \"#FF97FF\", \"#FECB52\"], \"font\": {\"color\": \"#2a3f5f\"}, \"geo\": {\"bgcolor\": \"white\", \"lakecolor\": \"white\", \"landcolor\": \"#E5ECF6\", \"showlakes\": true, \"showland\": true, \"subunitcolor\": \"white\"}, \"hoverlabel\": {\"align\": \"left\"}, \"hovermode\": \"closest\", \"mapbox\": {\"style\": \"light\"}, \"paper_bgcolor\": \"white\", \"plot_bgcolor\": \"#E5ECF6\", \"polar\": {\"angularaxis\": {\"gridcolor\": \"white\", \"linecolor\": \"white\", \"ticks\": \"\"}, \"bgcolor\": \"#E5ECF6\", \"radialaxis\": {\"gridcolor\": \"white\", \"linecolor\": \"white\", \"ticks\": \"\"}}, \"scene\": {\"xaxis\": {\"backgroundcolor\": \"#E5ECF6\", \"gridcolor\": \"white\", \"gridwidth\": 2, \"linecolor\": \"white\", \"showbackground\": true, \"ticks\": \"\", \"zerolinecolor\": \"white\"}, \"yaxis\": {\"backgroundcolor\": \"#E5ECF6\", \"gridcolor\": \"white\", \"gridwidth\": 2, \"linecolor\": \"white\", \"showbackground\": true, \"ticks\": \"\", \"zerolinecolor\": \"white\"}, \"zaxis\": {\"backgroundcolor\": \"#E5ECF6\", \"gridcolor\": \"white\", \"gridwidth\": 2, \"linecolor\": \"white\", \"showbackground\": true, \"ticks\": \"\", \"zerolinecolor\": \"white\"}}, \"shapedefaults\": {\"line\": {\"color\": \"#2a3f5f\"}}, \"ternary\": {\"aaxis\": {\"gridcolor\": \"white\", \"linecolor\": \"white\", \"ticks\": \"\"}, \"baxis\": {\"gridcolor\": \"white\", \"linecolor\": \"white\", \"ticks\": \"\"}, \"bgcolor\": \"#E5ECF6\", \"caxis\": {\"gridcolor\": \"white\", \"linecolor\": \"white\", \"ticks\": \"\"}}, \"title\": {\"x\": 0.05}, \"xaxis\": {\"automargin\": true, \"gridcolor\": \"white\", \"linecolor\": \"white\", \"ticks\": \"\", \"title\": {\"standoff\": 15}, \"zerolinecolor\": \"white\", \"zerolinewidth\": 2}, \"yaxis\": {\"automargin\": true, \"gridcolor\": \"white\", \"linecolor\": \"white\", \"ticks\": \"\", \"title\": {\"standoff\": 15}, \"zerolinecolor\": \"white\", \"zerolinewidth\": 2}}}, \"width\": 1200, \"xaxis\": {\"tickangle\": 45, \"tickfont\": {\"size\": 14}, \"tickformat\": \",f\", \"tickmode\": \"array\", \"tickvals\": [4, 8, 16, 32, 64, 128, 256, 512, 1024, 2048, 4096, 8192, 16384, 32768, 65536, 131072, 262144, 524288, 1048576, 2097152, 4194304, 8388608, 16777216, 33554432], \"title\": {\"font\": {\"size\": 22}, \"text\": \"Public Key (bytes)\"}, \"type\": \"log\"}, \"yaxis\": {\"tickfont\": {\"size\": 14}, \"tickformat\": \",f\", \"tickmode\": \"array\", \"tickvals\": [4, 8, 16, 32, 64, 128, 256, 512, 1024, 2048, 4096, 8192, 16384, 32768, 65536, 131072, 262144, 524288, 1048576, 2097152, 4194304, 8388608, 16777216, 33554432, 67108864, 134217728, 268435456, 536870912], \"title\": {\"font\": {\"size\": 22}, \"text\": \"Ciphertext (bytes)\"}, \"type\": \"log\"}},\n                        {\"displaylogo\": false, \"displayModeBar\": true, \"modeBarButtonsToRemove\": [\"hoverClosest3d\", \"hoverClosestCartesian\", \"hoverClosestGeo\", \"hoverClosestGl2d\", \"hoverClosestPie\", \"lasso2d\", \"toggleSpikelines\", \" hoverClosestCartesian\", \"hoverCompareCartesian\"], \"responsive\": true}\n                    ).then(function(){\n                            \nvar gd = document.getElementById('cdba00bb-222e-4812-854c-744b3ad1370c');\nvar x = new MutationObserver(function (mutations, observer) {{\n        var display = window.getComputedStyle(gd).display;\n        if (!display || display === 'none') {{\n            console.log([gd, 'removed!']);\n            Plotly.purge(gd);\n            observer.disconnect();\n        }}\n}});\n\n// Listen for the removal of the full notebook cells\nvar notebookContainer = gd.closest('#notebook-container');\nif (notebookContainer) {{\n    x.observe(notebookContainer, {childList: true});\n}}\n\n// Listen for the clearing of the current output cell\nvar outputEl = gd.closest('.output');\nif (outputEl) {{\n    x.observe(outputEl, {childList: true});\n}}\n\n                        })\n                };\n                });\n            </script>\n        </div>"
     },
     "metadata": {}
    },
    {
     "output_type": "display_data",
     "data": {
      "application/vnd.plotly.v1+json": {
       "config": {
        "displayModeBar": true,
        "displaylogo": false,
        "modeBarButtonsToRemove": [
         "hoverClosest3d",
         "hoverClosestCartesian",
         "hoverClosestGeo",
         "hoverClosestGl2d",
         "hoverClosestPie",
         "lasso2d",
         "toggleSpikelines",
         " hoverClosestCartesian",
         "hoverCompareCartesian"
        ],
        "plotlyServerURL": "https://plot.ly",
        "responsive": true
       },
       "data": [
        {
         "hoverinfo": "x+y+text",
         "hovertemplate": "<b>%{text}</b> <br><br> Public Key: %{x:,f} <br> Signature: %{y:,f}<extra></extra>",
         "legendgroup": "CRYSTALS-DILITHIUM",
         "marker": {
          "color": "#4C78A8",
          "line": {
           "color": "black",
           "width": 0.5
          },
          "opacity": 0.9,
          "size": 12,
          "symbol": [
           1,
           2,
           0
          ]
         },
         "mode": "markers",
         "name": "CRYSTALS-DILITHIUM (Fiat-Shamir)",
         "showlegend": true,
         "text": [
          "Dilithium-1024x768",
          "Dilithium-1280x1024",
          "Dilithium-1536x1280"
         ],
         "type": "scatter",
         "x": [
          1184,
          1472,
          1760
         ],
         "y": [
          2044,
          2701,
          3366
         ]
        },
        {
         "hoverinfo": "x+y+text",
         "hovertemplate": "<b>%{text}</b> <br><br> Public Key: %{x:,f} <br> Signature: %{y:,f}<extra></extra>",
         "legendgroup": "FALCON",
         "marker": {
          "color": "#F58518",
          "line": {
           "color": "black",
           "width": 0.5
          },
          "opacity": 0.9,
          "size": 12,
          "symbol": [
           1,
           0,
           4
          ]
         },
         "mode": "markers",
         "name": "FALCON (Hash-and-Sign)",
         "showlegend": true,
         "text": [
          "FALCON-512",
          "FALCON-768",
          "FALCON-1024"
         ],
         "type": "scatter",
         "x": [
          897,
          1441,
          1793
         ],
         "y": [
          657,
          994,
          1273
         ]
        },
        {
         "hoverinfo": "x+y+text",
         "hovertemplate": "<b>%{text}</b> <br><br> Public Key: %{x:,f} <br> Signature: %{y:,f}<extra></extra>",
         "legendgroup": "GeMSS",
         "marker": {
          "color": "#E45756",
          "line": {
           "color": "black",
           "width": 0.5
          },
          "opacity": 0.9,
          "size": 12,
          "symbol": [
           1,
           1,
           1,
           0,
           0,
           0,
           4,
           4,
           4
          ]
         },
         "mode": "markers",
         "name": "GeMSS (HFE)",
         "showlegend": true,
         "text": [
          "GeMSS128",
          "BlueGeMSS128",
          "RedGeMSS128",
          "GeMSS192",
          "BlueGeMSS192",
          "RedGeMSS192",
          "GeMSS256",
          "BlueGeMSS256",
          "RedGeMSS256"
         ],
         "type": "scatter",
         "x": [
          352190,
          363610,
          375210,
          1237960,
          1264120,
          1290540,
          3040700,
          3087960,
          3135590
         ],
         "y": [
          32,
          34,
          35,
          51,
          53,
          54,
          72,
          74,
          75
         ]
        },
        {
         "hoverinfo": "x+y+text",
         "hovertemplate": "<b>%{text}</b> <br><br> Public Key: %{x:,f} <br> Signature: %{y:,f}<extra></extra>",
         "legendgroup": "Picnic",
         "marker": {
          "color": "#72B7B2",
          "line": {
           "color": "black",
           "width": 0.5
          },
          "opacity": 0.9,
          "size": 12,
          "symbol": [
           1,
           1,
           1,
           1,
           0,
           0,
           0,
           0,
           4,
           4,
           4,
           4
          ]
         },
         "mode": "markers",
         "name": "Picnic (ZKP)",
         "showlegend": true,
         "text": [
          "picnic-L1-FS",
          "picnic-L1-UR",
          "picnic-L1-full",
          "picnic3-L1",
          "picnic-L3-FS",
          "picnic-L3-UR",
          "picnic-L3-full",
          "picnic3-L3",
          "picnic-L5-FS",
          "picnic-L5-UR",
          "picnic-L5-full",
          "picnic3-L5"
         ],
         "type": "scatter",
         "x": [
          32,
          32,
          34,
          34,
          48,
          48,
          48,
          48,
          64,
          64,
          64,
          64
         ],
         "y": [
          34032,
          53961,
          320161,
          13802,
          76772,
          121845,
          71179,
          29750,
          132856,
          209506,
          126286,
          54732
         ]
        },
        {
         "hoverinfo": "x+y+text",
         "hovertemplate": "<b>%{text}</b> <br><br> Public Key: %{x:,f} <br> Signature: %{y:,f}<extra></extra>",
         "legendgroup": "Rainbow",
         "marker": {
          "color": "#54A24B",
          "line": {
           "color": "black",
           "width": 0.5
          },
          "opacity": 0.9,
          "size": 12,
          "symbol": [
           1,
           1,
           0,
           0,
           4,
           4
          ]
         },
         "mode": "markers",
         "name": "Rainbow (UOV)",
         "showlegend": true,
         "text": [
          "Rainbow-Ia",
          "Rainbow-cyclic/compressed-Ia",
          "Rainbow-IIIc",
          "Rainbow-cyclic/compressed-IIIc",
          "Rainbow-Vc",
          "Rainbow-cyclic/compressed-Vc"
         ],
         "type": "scatter",
         "x": [
          149000,
          58100,
          710600,
          206700,
          1705500,
          491900
         ],
         "y": [
          64,
          64,
          156,
          156,
          204,
          204
         ]
        },
        {
         "hoverinfo": "x+y+text",
         "hovertemplate": "<b>%{text}</b> <br><br> Public Key: %{x:,f} <br> Signature: %{y:,f}<extra></extra>",
         "legendgroup": "SPHINCS+",
         "marker": {
          "color": "#EECA3B",
          "line": {
           "color": "black",
           "width": 0.5
          },
          "opacity": 0.9,
          "size": 12,
          "symbol": [
           1,
           1,
           0,
           0,
           4,
           4
          ]
         },
         "mode": "markers",
         "name": "SPHINCS+ (Hash-based)",
         "showlegend": true,
         "text": [
          "SPHINCS -128s",
          "SPHINCS -128f",
          "SPHINCS -192s",
          "SPHINCS -192f",
          "SPHINCS -256s",
          "SPHINCS -256f"
         ],
         "type": "scatter",
         "x": [
          32,
          32,
          48,
          48,
          64,
          64
         ],
         "y": [
          8080,
          16976,
          17064,
          35664,
          29792,
          49216
         ]
        },
        {
         "hoverinfo": "none",
         "hoverlabel": {
          "namelength": 0
         },
         "legendgroup": "1",
         "marker": {
          "color": "Black",
          "line": {
           "color": "black",
           "width": 0.5
          },
          "size": 12,
          "symbol": [
           101,
           101,
           101,
           101,
           101,
           101,
           101,
           101,
           101,
           101,
           101,
           101,
           101
          ]
         },
         "mode": "markers",
         "name": "Security Level 1",
         "showlegend": true,
         "type": "scatter",
         "x": [
          1184,
          897,
          352190,
          363610,
          375210,
          32,
          32,
          34,
          34,
          149000,
          58100,
          32,
          32
         ],
         "y": [
          2044,
          657,
          32,
          34,
          35,
          34032,
          53961,
          320161,
          13802,
          64,
          64,
          8080,
          16976
         ]
        },
        {
         "hoverinfo": "none",
         "hoverlabel": {
          "namelength": 0
         },
         "legendgroup": "2",
         "marker": {
          "color": "Black",
          "line": {
           "color": "black",
           "width": 0.5
          },
          "size": 12,
          "symbol": [
           102
          ]
         },
         "mode": "markers",
         "name": "Security Level 2",
         "showlegend": true,
         "type": "scatter",
         "x": [
          1472
         ],
         "y": [
          2701
         ]
        },
        {
         "hoverinfo": "none",
         "hoverlabel": {
          "namelength": 0
         },
         "legendgroup": "3",
         "marker": {
          "color": "Black",
          "line": {
           "color": "black",
           "width": 0.5
          },
          "size": 12,
          "symbol": [
           100,
           100,
           100,
           100,
           100,
           100,
           100,
           100,
           100,
           100,
           100,
           100,
           100
          ]
         },
         "mode": "markers",
         "name": "Security Level 3",
         "showlegend": true,
         "type": "scatter",
         "x": [
          1760,
          1441,
          1237960,
          1264120,
          1290540,
          48,
          48,
          48,
          48,
          710600,
          206700,
          48,
          48
         ],
         "y": [
          3366,
          994,
          51,
          53,
          54,
          76772,
          121845,
          71179,
          29750,
          156,
          156,
          17064,
          35664
         ]
        },
        {
         "hoverinfo": "none",
         "hoverlabel": {
          "namelength": 0
         },
         "legendgroup": "4",
         "marker": {
          "color": "Black",
          "line": {
           "color": "black",
           "width": 0.5
          },
          "size": 12,
          "symbol": []
         },
         "mode": "markers",
         "name": "Security Level 4",
         "showlegend": true,
         "type": "scatter",
         "x": [],
         "y": []
        },
        {
         "hoverinfo": "none",
         "hoverlabel": {
          "namelength": 0
         },
         "legendgroup": "5",
         "marker": {
          "color": "Black",
          "line": {
           "color": "black",
           "width": 0.5
          },
          "size": 12,
          "symbol": [
           104,
           104,
           104,
           104,
           104,
           104,
           104,
           104,
           104,
           104,
           104,
           104
          ]
         },
         "mode": "markers",
         "name": "Security Level 5",
         "showlegend": true,
         "type": "scatter",
         "x": [
          1793,
          3040700,
          3087960,
          3135590,
          64,
          64,
          64,
          64,
          1705500,
          491900,
          64,
          64
         ],
         "y": [
          1273,
          72,
          74,
          75,
          132856,
          209506,
          126286,
          54732,
          204,
          204,
          29792,
          49216
         ]
        },
        {
         "hoverinfo": "x+y+text",
         "hovertemplate": "<b>%{text}</b> <br><br> Public Key: %{x:,f} <br> Signature: %{y:,f}<extra></extra>",
         "legendgroup": "CRYSTALS-DILITHIUM",
         "marker": {
          "color": "#4C78A8",
          "line": {
           "color": "black",
           "width": 0.5
          },
          "opacity": 0.9,
          "size": 12,
          "symbol": [
           1,
           2,
           0
          ]
         },
         "mode": "markers",
         "name": "CRYSTALS-DILITHIUM (Fiat-Shamir)",
         "showlegend": false,
         "text": [
          "Dilithium-1024x768",
          "Dilithium-1280x1024",
          "Dilithium-1536x1280"
         ],
         "type": "scatter",
         "x": [
          1184,
          1472,
          1760
         ],
         "y": [
          2044,
          2701,
          3366
         ]
        },
        {
         "hoverinfo": "x+y+text",
         "hovertemplate": "<b>%{text}</b> <br><br> Public Key: %{x:,f} <br> Signature: %{y:,f}<extra></extra>",
         "legendgroup": "FALCON",
         "marker": {
          "color": "#F58518",
          "line": {
           "color": "black",
           "width": 0.5
          },
          "opacity": 0.9,
          "size": 12,
          "symbol": [
           1,
           0,
           4
          ]
         },
         "mode": "markers",
         "name": "FALCON (Hash-and-Sign)",
         "showlegend": false,
         "text": [
          "FALCON-512",
          "FALCON-768",
          "FALCON-1024"
         ],
         "type": "scatter",
         "x": [
          897,
          1441,
          1793
         ],
         "y": [
          657,
          994,
          1273
         ]
        },
        {
         "hoverinfo": "x+y+text",
         "hovertemplate": "<b>%{text}</b> <br><br> Public Key: %{x:,f} <br> Signature: %{y:,f}<extra></extra>",
         "legendgroup": "GeMSS",
         "marker": {
          "color": "#E45756",
          "line": {
           "color": "black",
           "width": 0.5
          },
          "opacity": 0.9,
          "size": 12,
          "symbol": [
           1,
           1,
           1,
           0,
           0,
           0,
           4,
           4,
           4
          ]
         },
         "mode": "markers",
         "name": "GeMSS (HFE)",
         "showlegend": false,
         "text": [
          "GeMSS128",
          "BlueGeMSS128",
          "RedGeMSS128",
          "GeMSS192",
          "BlueGeMSS192",
          "RedGeMSS192",
          "GeMSS256",
          "BlueGeMSS256",
          "RedGeMSS256"
         ],
         "type": "scatter",
         "x": [
          352190,
          363610,
          375210,
          1237960,
          1264120,
          1290540,
          3040700,
          3087960,
          3135590
         ],
         "y": [
          32,
          34,
          35,
          51,
          53,
          54,
          72,
          74,
          75
         ]
        },
        {
         "hoverinfo": "x+y+text",
         "hovertemplate": "<b>%{text}</b> <br><br> Public Key: %{x:,f} <br> Signature: %{y:,f}<extra></extra>",
         "legendgroup": "Picnic",
         "marker": {
          "color": "#72B7B2",
          "line": {
           "color": "black",
           "width": 0.5
          },
          "opacity": 0.9,
          "size": 12,
          "symbol": [
           1,
           1,
           1,
           1,
           0,
           0,
           0,
           0,
           4,
           4,
           4,
           4
          ]
         },
         "mode": "markers",
         "name": "Picnic (ZKP)",
         "showlegend": false,
         "text": [
          "picnic-L1-FS",
          "picnic-L1-UR",
          "picnic-L1-full",
          "picnic3-L1",
          "picnic-L3-FS",
          "picnic-L3-UR",
          "picnic-L3-full",
          "picnic3-L3",
          "picnic-L5-FS",
          "picnic-L5-UR",
          "picnic-L5-full",
          "picnic3-L5"
         ],
         "type": "scatter",
         "x": [
          32,
          32,
          34,
          34,
          48,
          48,
          48,
          48,
          64,
          64,
          64,
          64
         ],
         "y": [
          34032,
          53961,
          320161,
          13802,
          76772,
          121845,
          71179,
          29750,
          132856,
          209506,
          126286,
          54732
         ]
        },
        {
         "hoverinfo": "x+y+text",
         "hovertemplate": "<b>%{text}</b> <br><br> Public Key: %{x:,f} <br> Signature: %{y:,f}<extra></extra>",
         "legendgroup": "Rainbow",
         "marker": {
          "color": "#54A24B",
          "line": {
           "color": "black",
           "width": 0.5
          },
          "opacity": 0.9,
          "size": 12,
          "symbol": [
           1,
           1,
           0,
           0,
           4,
           4
          ]
         },
         "mode": "markers",
         "name": "Rainbow (UOV)",
         "showlegend": false,
         "text": [
          "Rainbow-Ia",
          "Rainbow-cyclic/compressed-Ia",
          "Rainbow-IIIc",
          "Rainbow-cyclic/compressed-IIIc",
          "Rainbow-Vc",
          "Rainbow-cyclic/compressed-Vc"
         ],
         "type": "scatter",
         "x": [
          149000,
          58100,
          710600,
          206700,
          1705500,
          491900
         ],
         "y": [
          64,
          64,
          156,
          156,
          204,
          204
         ]
        },
        {
         "hoverinfo": "x+y+text",
         "hovertemplate": "<b>%{text}</b> <br><br> Public Key: %{x:,f} <br> Signature: %{y:,f}<extra></extra>",
         "legendgroup": "SPHINCS+",
         "marker": {
          "color": "#EECA3B",
          "line": {
           "color": "black",
           "width": 0.5
          },
          "opacity": 0.9,
          "size": 12,
          "symbol": [
           1,
           1,
           0,
           0,
           4,
           4
          ]
         },
         "mode": "markers",
         "name": "SPHINCS+ (Hash-based)",
         "showlegend": false,
         "text": [
          "SPHINCS -128s",
          "SPHINCS -128f",
          "SPHINCS -192s",
          "SPHINCS -192f",
          "SPHINCS -256s",
          "SPHINCS -256f"
         ],
         "type": "scatter",
         "x": [
          32,
          32,
          48,
          48,
          64,
          64
         ],
         "y": [
          8080,
          16976,
          17064,
          35664,
          29792,
          49216
         ]
        }
       ],
       "layout": {
        "height": 800,
        "legend": {
         "bordercolor": "#ffffff",
         "borderwidth": 2,
         "font": {
          "color": "black",
          "size": 14
         },
         "itemsizing": "constant",
         "x": 0.97,
         "xanchor": "right",
         "y": 0.96,
         "yanchor": "top"
        },
        "template": {
         "data": {
          "bar": [
           {
            "error_x": {
             "color": "#2a3f5f"
            },
            "error_y": {
             "color": "#2a3f5f"
            },
            "marker": {
             "line": {
              "color": "#E5ECF6",
              "width": 0.5
             }
            },
            "type": "bar"
           }
          ],
          "barpolar": [
           {
            "marker": {
             "line": {
              "color": "#E5ECF6",
              "width": 0.5
             }
            },
            "type": "barpolar"
           }
          ],
          "carpet": [
           {
            "aaxis": {
             "endlinecolor": "#2a3f5f",
             "gridcolor": "white",
             "linecolor": "white",
             "minorgridcolor": "white",
             "startlinecolor": "#2a3f5f"
            },
            "baxis": {
             "endlinecolor": "#2a3f5f",
             "gridcolor": "white",
             "linecolor": "white",
             "minorgridcolor": "white",
             "startlinecolor": "#2a3f5f"
            },
            "type": "carpet"
           }
          ],
          "choropleth": [
           {
            "colorbar": {
             "outlinewidth": 0,
             "ticks": ""
            },
            "type": "choropleth"
           }
          ],
          "contour": [
           {
            "colorbar": {
             "outlinewidth": 0,
             "ticks": ""
            },
            "colorscale": [
             [
              0,
              "#0d0887"
             ],
             [
              0.1111111111111111,
              "#46039f"
             ],
             [
              0.2222222222222222,
              "#7201a8"
             ],
             [
              0.3333333333333333,
              "#9c179e"
             ],
             [
              0.4444444444444444,
              "#bd3786"
             ],
             [
              0.5555555555555556,
              "#d8576b"
             ],
             [
              0.6666666666666666,
              "#ed7953"
             ],
             [
              0.7777777777777778,
              "#fb9f3a"
             ],
             [
              0.8888888888888888,
              "#fdca26"
             ],
             [
              1,
              "#f0f921"
             ]
            ],
            "type": "contour"
           }
          ],
          "contourcarpet": [
           {
            "colorbar": {
             "outlinewidth": 0,
             "ticks": ""
            },
            "type": "contourcarpet"
           }
          ],
          "heatmap": [
           {
            "colorbar": {
             "outlinewidth": 0,
             "ticks": ""
            },
            "colorscale": [
             [
              0,
              "#0d0887"
             ],
             [
              0.1111111111111111,
              "#46039f"
             ],
             [
              0.2222222222222222,
              "#7201a8"
             ],
             [
              0.3333333333333333,
              "#9c179e"
             ],
             [
              0.4444444444444444,
              "#bd3786"
             ],
             [
              0.5555555555555556,
              "#d8576b"
             ],
             [
              0.6666666666666666,
              "#ed7953"
             ],
             [
              0.7777777777777778,
              "#fb9f3a"
             ],
             [
              0.8888888888888888,
              "#fdca26"
             ],
             [
              1,
              "#f0f921"
             ]
            ],
            "type": "heatmap"
           }
          ],
          "heatmapgl": [
           {
            "colorbar": {
             "outlinewidth": 0,
             "ticks": ""
            },
            "colorscale": [
             [
              0,
              "#0d0887"
             ],
             [
              0.1111111111111111,
              "#46039f"
             ],
             [
              0.2222222222222222,
              "#7201a8"
             ],
             [
              0.3333333333333333,
              "#9c179e"
             ],
             [
              0.4444444444444444,
              "#bd3786"
             ],
             [
              0.5555555555555556,
              "#d8576b"
             ],
             [
              0.6666666666666666,
              "#ed7953"
             ],
             [
              0.7777777777777778,
              "#fb9f3a"
             ],
             [
              0.8888888888888888,
              "#fdca26"
             ],
             [
              1,
              "#f0f921"
             ]
            ],
            "type": "heatmapgl"
           }
          ],
          "histogram": [
           {
            "marker": {
             "colorbar": {
              "outlinewidth": 0,
              "ticks": ""
             }
            },
            "type": "histogram"
           }
          ],
          "histogram2d": [
           {
            "colorbar": {
             "outlinewidth": 0,
             "ticks": ""
            },
            "colorscale": [
             [
              0,
              "#0d0887"
             ],
             [
              0.1111111111111111,
              "#46039f"
             ],
             [
              0.2222222222222222,
              "#7201a8"
             ],
             [
              0.3333333333333333,
              "#9c179e"
             ],
             [
              0.4444444444444444,
              "#bd3786"
             ],
             [
              0.5555555555555556,
              "#d8576b"
             ],
             [
              0.6666666666666666,
              "#ed7953"
             ],
             [
              0.7777777777777778,
              "#fb9f3a"
             ],
             [
              0.8888888888888888,
              "#fdca26"
             ],
             [
              1,
              "#f0f921"
             ]
            ],
            "type": "histogram2d"
           }
          ],
          "histogram2dcontour": [
           {
            "colorbar": {
             "outlinewidth": 0,
             "ticks": ""
            },
            "colorscale": [
             [
              0,
              "#0d0887"
             ],
             [
              0.1111111111111111,
              "#46039f"
             ],
             [
              0.2222222222222222,
              "#7201a8"
             ],
             [
              0.3333333333333333,
              "#9c179e"
             ],
             [
              0.4444444444444444,
              "#bd3786"
             ],
             [
              0.5555555555555556,
              "#d8576b"
             ],
             [
              0.6666666666666666,
              "#ed7953"
             ],
             [
              0.7777777777777778,
              "#fb9f3a"
             ],
             [
              0.8888888888888888,
              "#fdca26"
             ],
             [
              1,
              "#f0f921"
             ]
            ],
            "type": "histogram2dcontour"
           }
          ],
          "mesh3d": [
           {
            "colorbar": {
             "outlinewidth": 0,
             "ticks": ""
            },
            "type": "mesh3d"
           }
          ],
          "parcoords": [
           {
            "line": {
             "colorbar": {
              "outlinewidth": 0,
              "ticks": ""
             }
            },
            "type": "parcoords"
           }
          ],
          "pie": [
           {
            "automargin": true,
            "type": "pie"
           }
          ],
          "scatter": [
           {
            "marker": {
             "colorbar": {
              "outlinewidth": 0,
              "ticks": ""
             }
            },
            "type": "scatter"
           }
          ],
          "scatter3d": [
           {
            "line": {
             "colorbar": {
              "outlinewidth": 0,
              "ticks": ""
             }
            },
            "marker": {
             "colorbar": {
              "outlinewidth": 0,
              "ticks": ""
             }
            },
            "type": "scatter3d"
           }
          ],
          "scattercarpet": [
           {
            "marker": {
             "colorbar": {
              "outlinewidth": 0,
              "ticks": ""
             }
            },
            "type": "scattercarpet"
           }
          ],
          "scattergeo": [
           {
            "marker": {
             "colorbar": {
              "outlinewidth": 0,
              "ticks": ""
             }
            },
            "type": "scattergeo"
           }
          ],
          "scattergl": [
           {
            "marker": {
             "colorbar": {
              "outlinewidth": 0,
              "ticks": ""
             }
            },
            "type": "scattergl"
           }
          ],
          "scattermapbox": [
           {
            "marker": {
             "colorbar": {
              "outlinewidth": 0,
              "ticks": ""
             }
            },
            "type": "scattermapbox"
           }
          ],
          "scatterpolar": [
           {
            "marker": {
             "colorbar": {
              "outlinewidth": 0,
              "ticks": ""
             }
            },
            "type": "scatterpolar"
           }
          ],
          "scatterpolargl": [
           {
            "marker": {
             "colorbar": {
              "outlinewidth": 0,
              "ticks": ""
             }
            },
            "type": "scatterpolargl"
           }
          ],
          "scatterternary": [
           {
            "marker": {
             "colorbar": {
              "outlinewidth": 0,
              "ticks": ""
             }
            },
            "type": "scatterternary"
           }
          ],
          "surface": [
           {
            "colorbar": {
             "outlinewidth": 0,
             "ticks": ""
            },
            "colorscale": [
             [
              0,
              "#0d0887"
             ],
             [
              0.1111111111111111,
              "#46039f"
             ],
             [
              0.2222222222222222,
              "#7201a8"
             ],
             [
              0.3333333333333333,
              "#9c179e"
             ],
             [
              0.4444444444444444,
              "#bd3786"
             ],
             [
              0.5555555555555556,
              "#d8576b"
             ],
             [
              0.6666666666666666,
              "#ed7953"
             ],
             [
              0.7777777777777778,
              "#fb9f3a"
             ],
             [
              0.8888888888888888,
              "#fdca26"
             ],
             [
              1,
              "#f0f921"
             ]
            ],
            "type": "surface"
           }
          ],
          "table": [
           {
            "cells": {
             "fill": {
              "color": "#EBF0F8"
             },
             "line": {
              "color": "white"
             }
            },
            "header": {
             "fill": {
              "color": "#C8D4E3"
             },
             "line": {
              "color": "white"
             }
            },
            "type": "table"
           }
          ]
         },
         "layout": {
          "annotationdefaults": {
           "arrowcolor": "#2a3f5f",
           "arrowhead": 0,
           "arrowwidth": 1
          },
          "coloraxis": {
           "colorbar": {
            "outlinewidth": 0,
            "ticks": ""
           }
          },
          "colorscale": {
           "diverging": [
            [
             0,
             "#8e0152"
            ],
            [
             0.1,
             "#c51b7d"
            ],
            [
             0.2,
             "#de77ae"
            ],
            [
             0.3,
             "#f1b6da"
            ],
            [
             0.4,
             "#fde0ef"
            ],
            [
             0.5,
             "#f7f7f7"
            ],
            [
             0.6,
             "#e6f5d0"
            ],
            [
             0.7,
             "#b8e186"
            ],
            [
             0.8,
             "#7fbc41"
            ],
            [
             0.9,
             "#4d9221"
            ],
            [
             1,
             "#276419"
            ]
           ],
           "sequential": [
            [
             0,
             "#0d0887"
            ],
            [
             0.1111111111111111,
             "#46039f"
            ],
            [
             0.2222222222222222,
             "#7201a8"
            ],
            [
             0.3333333333333333,
             "#9c179e"
            ],
            [
             0.4444444444444444,
             "#bd3786"
            ],
            [
             0.5555555555555556,
             "#d8576b"
            ],
            [
             0.6666666666666666,
             "#ed7953"
            ],
            [
             0.7777777777777778,
             "#fb9f3a"
            ],
            [
             0.8888888888888888,
             "#fdca26"
            ],
            [
             1,
             "#f0f921"
            ]
           ],
           "sequentialminus": [
            [
             0,
             "#0d0887"
            ],
            [
             0.1111111111111111,
             "#46039f"
            ],
            [
             0.2222222222222222,
             "#7201a8"
            ],
            [
             0.3333333333333333,
             "#9c179e"
            ],
            [
             0.4444444444444444,
             "#bd3786"
            ],
            [
             0.5555555555555556,
             "#d8576b"
            ],
            [
             0.6666666666666666,
             "#ed7953"
            ],
            [
             0.7777777777777778,
             "#fb9f3a"
            ],
            [
             0.8888888888888888,
             "#fdca26"
            ],
            [
             1,
             "#f0f921"
            ]
           ]
          },
          "colorway": [
           "#636efa",
           "#EF553B",
           "#00cc96",
           "#ab63fa",
           "#FFA15A",
           "#19d3f3",
           "#FF6692",
           "#B6E880",
           "#FF97FF",
           "#FECB52"
          ],
          "font": {
           "color": "#2a3f5f"
          },
          "geo": {
           "bgcolor": "white",
           "lakecolor": "white",
           "landcolor": "#E5ECF6",
           "showlakes": true,
           "showland": true,
           "subunitcolor": "white"
          },
          "hoverlabel": {
           "align": "left"
          },
          "hovermode": "closest",
          "mapbox": {
           "style": "light"
          },
          "paper_bgcolor": "white",
          "plot_bgcolor": "#E5ECF6",
          "polar": {
           "angularaxis": {
            "gridcolor": "white",
            "linecolor": "white",
            "ticks": ""
           },
           "bgcolor": "#E5ECF6",
           "radialaxis": {
            "gridcolor": "white",
            "linecolor": "white",
            "ticks": ""
           }
          },
          "scene": {
           "xaxis": {
            "backgroundcolor": "#E5ECF6",
            "gridcolor": "white",
            "gridwidth": 2,
            "linecolor": "white",
            "showbackground": true,
            "ticks": "",
            "zerolinecolor": "white"
           },
           "yaxis": {
            "backgroundcolor": "#E5ECF6",
            "gridcolor": "white",
            "gridwidth": 2,
            "linecolor": "white",
            "showbackground": true,
            "ticks": "",
            "zerolinecolor": "white"
           },
           "zaxis": {
            "backgroundcolor": "#E5ECF6",
            "gridcolor": "white",
            "gridwidth": 2,
            "linecolor": "white",
            "showbackground": true,
            "ticks": "",
            "zerolinecolor": "white"
           }
          },
          "shapedefaults": {
           "line": {
            "color": "#2a3f5f"
           }
          },
          "ternary": {
           "aaxis": {
            "gridcolor": "white",
            "linecolor": "white",
            "ticks": ""
           },
           "baxis": {
            "gridcolor": "white",
            "linecolor": "white",
            "ticks": ""
           },
           "bgcolor": "#E5ECF6",
           "caxis": {
            "gridcolor": "white",
            "linecolor": "white",
            "ticks": ""
           }
          },
          "title": {
           "x": 0.05
          },
          "xaxis": {
           "automargin": true,
           "gridcolor": "white",
           "linecolor": "white",
           "ticks": "",
           "title": {
            "standoff": 15
           },
           "zerolinecolor": "white",
           "zerolinewidth": 2
          },
          "yaxis": {
           "automargin": true,
           "gridcolor": "white",
           "linecolor": "white",
           "ticks": "",
           "title": {
            "standoff": 15
           },
           "zerolinecolor": "white",
           "zerolinewidth": 2
          }
         }
        },
        "width": 1200,
        "xaxis": {
         "tickangle": 45,
         "tickfont": {
          "size": 14
         },
         "tickformat": ",f",
         "tickmode": "array",
         "tickvals": [
          4,
          8,
          16,
          32,
          64,
          128,
          256,
          512,
          1024,
          2048,
          4096,
          8192,
          16384,
          32768,
          65536,
          131072,
          262144,
          524288,
          1048576,
          2097152,
          4194304,
          8388608,
          16777216,
          33554432
         ],
         "title": {
          "font": {
           "size": 22
          },
          "text": "Public Key (bytes)"
         },
         "type": "log"
        },
        "yaxis": {
         "tickfont": {
          "size": 14
         },
         "tickformat": ",f",
         "tickmode": "array",
         "tickvals": [
          4,
          8,
          16,
          32,
          64,
          128,
          256,
          512,
          1024,
          2048,
          4096,
          8192,
          16384,
          32768,
          65536,
          131072,
          262144,
          524288,
          1048576,
          2097152,
          4194304,
          8388608,
          16777216,
          33554432,
          67108864,
          134217728,
          268435456,
          536870912
         ],
         "title": {
          "font": {
           "size": 22
          },
          "text": "Signature Size (bytes)"
         },
         "type": "log"
        }
       }
      },
      "text/html": "<div>\n        \n        \n            <div id=\"6403a119-f942-4e10-88af-9203aa134a8d\" class=\"plotly-graph-div\" style=\"height:800px; width:1200px;\"></div>\n            <script type=\"text/javascript\">\n                require([\"plotly\"], function(Plotly) {\n                    window.PLOTLYENV=window.PLOTLYENV || {};\n                    \n                if (document.getElementById(\"6403a119-f942-4e10-88af-9203aa134a8d\")) {\n                    Plotly.newPlot(\n                        '6403a119-f942-4e10-88af-9203aa134a8d',\n                        [{\"hoverinfo\": \"x+y+text\", \"hovertemplate\": \"<b>%{text}</b> <br><br> Public Key: %{x:,f} <br> Signature: %{y:,f}<extra></extra>\", \"legendgroup\": \"CRYSTALS-DILITHIUM\", \"marker\": {\"color\": \"#4C78A8\", \"line\": {\"color\": \"black\", \"width\": 0.5}, \"opacity\": 0.9, \"size\": 12, \"symbol\": [1, 2, 0]}, \"mode\": \"markers\", \"name\": \"CRYSTALS-DILITHIUM (Fiat-Shamir)\", \"showlegend\": true, \"text\": [\"Dilithium-1024x768\", \"Dilithium-1280x1024\", \"Dilithium-1536x1280\"], \"type\": \"scatter\", \"x\": [1184, 1472, 1760], \"y\": [2044, 2701, 3366]}, {\"hoverinfo\": \"x+y+text\", \"hovertemplate\": \"<b>%{text}</b> <br><br> Public Key: %{x:,f} <br> Signature: %{y:,f}<extra></extra>\", \"legendgroup\": \"FALCON\", \"marker\": {\"color\": \"#F58518\", \"line\": {\"color\": \"black\", \"width\": 0.5}, \"opacity\": 0.9, \"size\": 12, \"symbol\": [1, 0, 4]}, \"mode\": \"markers\", \"name\": \"FALCON (Hash-and-Sign)\", \"showlegend\": true, \"text\": [\"FALCON-512\", \"FALCON-768\", \"FALCON-1024\"], \"type\": \"scatter\", \"x\": [897, 1441, 1793], \"y\": [657, 994, 1273]}, {\"hoverinfo\": \"x+y+text\", \"hovertemplate\": \"<b>%{text}</b> <br><br> Public Key: %{x:,f} <br> Signature: %{y:,f}<extra></extra>\", \"legendgroup\": \"GeMSS\", \"marker\": {\"color\": \"#E45756\", \"line\": {\"color\": \"black\", \"width\": 0.5}, \"opacity\": 0.9, \"size\": 12, \"symbol\": [1, 1, 1, 0, 0, 0, 4, 4, 4]}, \"mode\": \"markers\", \"name\": \"GeMSS (HFE)\", \"showlegend\": true, \"text\": [\"GeMSS128\", \"BlueGeMSS128\", \"RedGeMSS128\", \"GeMSS192\", \"BlueGeMSS192\", \"RedGeMSS192\", \"GeMSS256\", \"BlueGeMSS256\", \"RedGeMSS256\"], \"type\": \"scatter\", \"x\": [352190, 363610, 375210, 1237960, 1264120, 1290540, 3040700, 3087960, 3135590], \"y\": [32, 34, 35, 51, 53, 54, 72, 74, 75]}, {\"hoverinfo\": \"x+y+text\", \"hovertemplate\": \"<b>%{text}</b> <br><br> Public Key: %{x:,f} <br> Signature: %{y:,f}<extra></extra>\", \"legendgroup\": \"Picnic\", \"marker\": {\"color\": \"#72B7B2\", \"line\": {\"color\": \"black\", \"width\": 0.5}, \"opacity\": 0.9, \"size\": 12, \"symbol\": [1, 1, 1, 1, 0, 0, 0, 0, 4, 4, 4, 4]}, \"mode\": \"markers\", \"name\": \"Picnic (ZKP)\", \"showlegend\": true, \"text\": [\"picnic-L1-FS\", \"picnic-L1-UR\", \"picnic-L1-full\", \"picnic3-L1\", \"picnic-L3-FS\", \"picnic-L3-UR\", \"picnic-L3-full\", \"picnic3-L3\", \"picnic-L5-FS\", \"picnic-L5-UR\", \"picnic-L5-full\", \"picnic3-L5\"], \"type\": \"scatter\", \"x\": [32, 32, 34, 34, 48, 48, 48, 48, 64, 64, 64, 64], \"y\": [34032, 53961, 320161, 13802, 76772, 121845, 71179, 29750, 132856, 209506, 126286, 54732]}, {\"hoverinfo\": \"x+y+text\", \"hovertemplate\": \"<b>%{text}</b> <br><br> Public Key: %{x:,f} <br> Signature: %{y:,f}<extra></extra>\", \"legendgroup\": \"Rainbow\", \"marker\": {\"color\": \"#54A24B\", \"line\": {\"color\": \"black\", \"width\": 0.5}, \"opacity\": 0.9, \"size\": 12, \"symbol\": [1, 1, 0, 0, 4, 4]}, \"mode\": \"markers\", \"name\": \"Rainbow (UOV)\", \"showlegend\": true, \"text\": [\"Rainbow-Ia\", \"Rainbow-cyclic/compressed-Ia\", \"Rainbow-IIIc\", \"Rainbow-cyclic/compressed-IIIc\", \"Rainbow-Vc\", \"Rainbow-cyclic/compressed-Vc\"], \"type\": \"scatter\", \"x\": [149000, 58100, 710600, 206700, 1705500, 491900], \"y\": [64, 64, 156, 156, 204, 204]}, {\"hoverinfo\": \"x+y+text\", \"hovertemplate\": \"<b>%{text}</b> <br><br> Public Key: %{x:,f} <br> Signature: %{y:,f}<extra></extra>\", \"legendgroup\": \"SPHINCS+\", \"marker\": {\"color\": \"#EECA3B\", \"line\": {\"color\": \"black\", \"width\": 0.5}, \"opacity\": 0.9, \"size\": 12, \"symbol\": [1, 1, 0, 0, 4, 4]}, \"mode\": \"markers\", \"name\": \"SPHINCS+ (Hash-based)\", \"showlegend\": true, \"text\": [\"SPHINCS -128s\", \"SPHINCS -128f\", \"SPHINCS -192s\", \"SPHINCS -192f\", \"SPHINCS -256s\", \"SPHINCS -256f\"], \"type\": \"scatter\", \"x\": [32, 32, 48, 48, 64, 64], \"y\": [8080, 16976, 17064, 35664, 29792, 49216]}, {\"hoverinfo\": \"none\", \"hoverlabel\": {\"namelength\": 0}, \"legendgroup\": \"1\", \"marker\": {\"color\": \"Black\", \"line\": {\"color\": \"black\", \"width\": 0.5}, \"size\": 12, \"symbol\": [101, 101, 101, 101, 101, 101, 101, 101, 101, 101, 101, 101, 101]}, \"mode\": \"markers\", \"name\": \"Security Level 1\", \"showlegend\": true, \"type\": \"scatter\", \"x\": [1184, 897, 352190, 363610, 375210, 32, 32, 34, 34, 149000, 58100, 32, 32], \"y\": [2044, 657, 32, 34, 35, 34032, 53961, 320161, 13802, 64, 64, 8080, 16976]}, {\"hoverinfo\": \"none\", \"hoverlabel\": {\"namelength\": 0}, \"legendgroup\": \"2\", \"marker\": {\"color\": \"Black\", \"line\": {\"color\": \"black\", \"width\": 0.5}, \"size\": 12, \"symbol\": [102]}, \"mode\": \"markers\", \"name\": \"Security Level 2\", \"showlegend\": true, \"type\": \"scatter\", \"x\": [1472], \"y\": [2701]}, {\"hoverinfo\": \"none\", \"hoverlabel\": {\"namelength\": 0}, \"legendgroup\": \"3\", \"marker\": {\"color\": \"Black\", \"line\": {\"color\": \"black\", \"width\": 0.5}, \"size\": 12, \"symbol\": [100, 100, 100, 100, 100, 100, 100, 100, 100, 100, 100, 100, 100]}, \"mode\": \"markers\", \"name\": \"Security Level 3\", \"showlegend\": true, \"type\": \"scatter\", \"x\": [1760, 1441, 1237960, 1264120, 1290540, 48, 48, 48, 48, 710600, 206700, 48, 48], \"y\": [3366, 994, 51, 53, 54, 76772, 121845, 71179, 29750, 156, 156, 17064, 35664]}, {\"hoverinfo\": \"none\", \"hoverlabel\": {\"namelength\": 0}, \"legendgroup\": \"4\", \"marker\": {\"color\": \"Black\", \"line\": {\"color\": \"black\", \"width\": 0.5}, \"size\": 12, \"symbol\": []}, \"mode\": \"markers\", \"name\": \"Security Level 4\", \"showlegend\": true, \"type\": \"scatter\", \"x\": [], \"y\": []}, {\"hoverinfo\": \"none\", \"hoverlabel\": {\"namelength\": 0}, \"legendgroup\": \"5\", \"marker\": {\"color\": \"Black\", \"line\": {\"color\": \"black\", \"width\": 0.5}, \"size\": 12, \"symbol\": [104, 104, 104, 104, 104, 104, 104, 104, 104, 104, 104, 104]}, \"mode\": \"markers\", \"name\": \"Security Level 5\", \"showlegend\": true, \"type\": \"scatter\", \"x\": [1793, 3040700, 3087960, 3135590, 64, 64, 64, 64, 1705500, 491900, 64, 64], \"y\": [1273, 72, 74, 75, 132856, 209506, 126286, 54732, 204, 204, 29792, 49216]}, {\"hoverinfo\": \"x+y+text\", \"hovertemplate\": \"<b>%{text}</b> <br><br> Public Key: %{x:,f} <br> Signature: %{y:,f}<extra></extra>\", \"legendgroup\": \"CRYSTALS-DILITHIUM\", \"marker\": {\"color\": \"#4C78A8\", \"line\": {\"color\": \"black\", \"width\": 0.5}, \"opacity\": 0.9, \"size\": 12, \"symbol\": [1, 2, 0]}, \"mode\": \"markers\", \"name\": \"CRYSTALS-DILITHIUM (Fiat-Shamir)\", \"showlegend\": false, \"text\": [\"Dilithium-1024x768\", \"Dilithium-1280x1024\", \"Dilithium-1536x1280\"], \"type\": \"scatter\", \"x\": [1184, 1472, 1760], \"y\": [2044, 2701, 3366]}, {\"hoverinfo\": \"x+y+text\", \"hovertemplate\": \"<b>%{text}</b> <br><br> Public Key: %{x:,f} <br> Signature: %{y:,f}<extra></extra>\", \"legendgroup\": \"FALCON\", \"marker\": {\"color\": \"#F58518\", \"line\": {\"color\": \"black\", \"width\": 0.5}, \"opacity\": 0.9, \"size\": 12, \"symbol\": [1, 0, 4]}, \"mode\": \"markers\", \"name\": \"FALCON (Hash-and-Sign)\", \"showlegend\": false, \"text\": [\"FALCON-512\", \"FALCON-768\", \"FALCON-1024\"], \"type\": \"scatter\", \"x\": [897, 1441, 1793], \"y\": [657, 994, 1273]}, {\"hoverinfo\": \"x+y+text\", \"hovertemplate\": \"<b>%{text}</b> <br><br> Public Key: %{x:,f} <br> Signature: %{y:,f}<extra></extra>\", \"legendgroup\": \"GeMSS\", \"marker\": {\"color\": \"#E45756\", \"line\": {\"color\": \"black\", \"width\": 0.5}, \"opacity\": 0.9, \"size\": 12, \"symbol\": [1, 1, 1, 0, 0, 0, 4, 4, 4]}, \"mode\": \"markers\", \"name\": \"GeMSS (HFE)\", \"showlegend\": false, \"text\": [\"GeMSS128\", \"BlueGeMSS128\", \"RedGeMSS128\", \"GeMSS192\", \"BlueGeMSS192\", \"RedGeMSS192\", \"GeMSS256\", \"BlueGeMSS256\", \"RedGeMSS256\"], \"type\": \"scatter\", \"x\": [352190, 363610, 375210, 1237960, 1264120, 1290540, 3040700, 3087960, 3135590], \"y\": [32, 34, 35, 51, 53, 54, 72, 74, 75]}, {\"hoverinfo\": \"x+y+text\", \"hovertemplate\": \"<b>%{text}</b> <br><br> Public Key: %{x:,f} <br> Signature: %{y:,f}<extra></extra>\", \"legendgroup\": \"Picnic\", \"marker\": {\"color\": \"#72B7B2\", \"line\": {\"color\": \"black\", \"width\": 0.5}, \"opacity\": 0.9, \"size\": 12, \"symbol\": [1, 1, 1, 1, 0, 0, 0, 0, 4, 4, 4, 4]}, \"mode\": \"markers\", \"name\": \"Picnic (ZKP)\", \"showlegend\": false, \"text\": [\"picnic-L1-FS\", \"picnic-L1-UR\", \"picnic-L1-full\", \"picnic3-L1\", \"picnic-L3-FS\", \"picnic-L3-UR\", \"picnic-L3-full\", \"picnic3-L3\", \"picnic-L5-FS\", \"picnic-L5-UR\", \"picnic-L5-full\", \"picnic3-L5\"], \"type\": \"scatter\", \"x\": [32, 32, 34, 34, 48, 48, 48, 48, 64, 64, 64, 64], \"y\": [34032, 53961, 320161, 13802, 76772, 121845, 71179, 29750, 132856, 209506, 126286, 54732]}, {\"hoverinfo\": \"x+y+text\", \"hovertemplate\": \"<b>%{text}</b> <br><br> Public Key: %{x:,f} <br> Signature: %{y:,f}<extra></extra>\", \"legendgroup\": \"Rainbow\", \"marker\": {\"color\": \"#54A24B\", \"line\": {\"color\": \"black\", \"width\": 0.5}, \"opacity\": 0.9, \"size\": 12, \"symbol\": [1, 1, 0, 0, 4, 4]}, \"mode\": \"markers\", \"name\": \"Rainbow (UOV)\", \"showlegend\": false, \"text\": [\"Rainbow-Ia\", \"Rainbow-cyclic/compressed-Ia\", \"Rainbow-IIIc\", \"Rainbow-cyclic/compressed-IIIc\", \"Rainbow-Vc\", \"Rainbow-cyclic/compressed-Vc\"], \"type\": \"scatter\", \"x\": [149000, 58100, 710600, 206700, 1705500, 491900], \"y\": [64, 64, 156, 156, 204, 204]}, {\"hoverinfo\": \"x+y+text\", \"hovertemplate\": \"<b>%{text}</b> <br><br> Public Key: %{x:,f} <br> Signature: %{y:,f}<extra></extra>\", \"legendgroup\": \"SPHINCS+\", \"marker\": {\"color\": \"#EECA3B\", \"line\": {\"color\": \"black\", \"width\": 0.5}, \"opacity\": 0.9, \"size\": 12, \"symbol\": [1, 1, 0, 0, 4, 4]}, \"mode\": \"markers\", \"name\": \"SPHINCS+ (Hash-based)\", \"showlegend\": false, \"text\": [\"SPHINCS -128s\", \"SPHINCS -128f\", \"SPHINCS -192s\", \"SPHINCS -192f\", \"SPHINCS -256s\", \"SPHINCS -256f\"], \"type\": \"scatter\", \"x\": [32, 32, 48, 48, 64, 64], \"y\": [8080, 16976, 17064, 35664, 29792, 49216]}],\n                        {\"height\": 800, \"legend\": {\"bordercolor\": \"#ffffff\", \"borderwidth\": 2, \"font\": {\"color\": \"black\", \"size\": 14}, \"itemsizing\": \"constant\", \"x\": 0.97, \"xanchor\": \"right\", \"y\": 0.96, \"yanchor\": \"top\"}, \"template\": {\"data\": {\"bar\": [{\"error_x\": {\"color\": \"#2a3f5f\"}, \"error_y\": {\"color\": \"#2a3f5f\"}, \"marker\": {\"line\": {\"color\": \"#E5ECF6\", \"width\": 0.5}}, \"type\": \"bar\"}], \"barpolar\": [{\"marker\": {\"line\": {\"color\": \"#E5ECF6\", \"width\": 0.5}}, \"type\": \"barpolar\"}], \"carpet\": [{\"aaxis\": {\"endlinecolor\": \"#2a3f5f\", \"gridcolor\": \"white\", \"linecolor\": \"white\", \"minorgridcolor\": \"white\", \"startlinecolor\": \"#2a3f5f\"}, \"baxis\": {\"endlinecolor\": \"#2a3f5f\", \"gridcolor\": \"white\", \"linecolor\": \"white\", \"minorgridcolor\": \"white\", \"startlinecolor\": \"#2a3f5f\"}, \"type\": \"carpet\"}], \"choropleth\": [{\"colorbar\": {\"outlinewidth\": 0, \"ticks\": \"\"}, \"type\": \"choropleth\"}], \"contour\": [{\"colorbar\": {\"outlinewidth\": 0, \"ticks\": \"\"}, \"colorscale\": [[0.0, \"#0d0887\"], [0.1111111111111111, \"#46039f\"], [0.2222222222222222, \"#7201a8\"], [0.3333333333333333, \"#9c179e\"], [0.4444444444444444, \"#bd3786\"], [0.5555555555555556, \"#d8576b\"], [0.6666666666666666, \"#ed7953\"], [0.7777777777777778, \"#fb9f3a\"], [0.8888888888888888, \"#fdca26\"], [1.0, \"#f0f921\"]], \"type\": \"contour\"}], \"contourcarpet\": [{\"colorbar\": {\"outlinewidth\": 0, \"ticks\": \"\"}, \"type\": \"contourcarpet\"}], \"heatmap\": [{\"colorbar\": {\"outlinewidth\": 0, \"ticks\": \"\"}, \"colorscale\": [[0.0, \"#0d0887\"], [0.1111111111111111, \"#46039f\"], [0.2222222222222222, \"#7201a8\"], [0.3333333333333333, \"#9c179e\"], [0.4444444444444444, \"#bd3786\"], [0.5555555555555556, \"#d8576b\"], [0.6666666666666666, \"#ed7953\"], [0.7777777777777778, \"#fb9f3a\"], [0.8888888888888888, \"#fdca26\"], [1.0, \"#f0f921\"]], \"type\": \"heatmap\"}], \"heatmapgl\": [{\"colorbar\": {\"outlinewidth\": 0, \"ticks\": \"\"}, \"colorscale\": [[0.0, \"#0d0887\"], [0.1111111111111111, \"#46039f\"], [0.2222222222222222, \"#7201a8\"], [0.3333333333333333, \"#9c179e\"], [0.4444444444444444, \"#bd3786\"], [0.5555555555555556, \"#d8576b\"], [0.6666666666666666, \"#ed7953\"], [0.7777777777777778, \"#fb9f3a\"], [0.8888888888888888, \"#fdca26\"], [1.0, \"#f0f921\"]], \"type\": \"heatmapgl\"}], \"histogram\": [{\"marker\": {\"colorbar\": {\"outlinewidth\": 0, \"ticks\": \"\"}}, \"type\": \"histogram\"}], \"histogram2d\": [{\"colorbar\": {\"outlinewidth\": 0, \"ticks\": \"\"}, \"colorscale\": [[0.0, \"#0d0887\"], [0.1111111111111111, \"#46039f\"], [0.2222222222222222, \"#7201a8\"], [0.3333333333333333, \"#9c179e\"], [0.4444444444444444, \"#bd3786\"], [0.5555555555555556, \"#d8576b\"], [0.6666666666666666, \"#ed7953\"], [0.7777777777777778, \"#fb9f3a\"], [0.8888888888888888, \"#fdca26\"], [1.0, \"#f0f921\"]], \"type\": \"histogram2d\"}], \"histogram2dcontour\": [{\"colorbar\": {\"outlinewidth\": 0, \"ticks\": \"\"}, \"colorscale\": [[0.0, \"#0d0887\"], [0.1111111111111111, \"#46039f\"], [0.2222222222222222, \"#7201a8\"], [0.3333333333333333, \"#9c179e\"], [0.4444444444444444, \"#bd3786\"], [0.5555555555555556, \"#d8576b\"], [0.6666666666666666, \"#ed7953\"], [0.7777777777777778, \"#fb9f3a\"], [0.8888888888888888, \"#fdca26\"], [1.0, \"#f0f921\"]], \"type\": \"histogram2dcontour\"}], \"mesh3d\": [{\"colorbar\": {\"outlinewidth\": 0, \"ticks\": \"\"}, \"type\": \"mesh3d\"}], \"parcoords\": [{\"line\": {\"colorbar\": {\"outlinewidth\": 0, \"ticks\": \"\"}}, \"type\": \"parcoords\"}], \"pie\": [{\"automargin\": true, \"type\": \"pie\"}], \"scatter\": [{\"marker\": {\"colorbar\": {\"outlinewidth\": 0, \"ticks\": \"\"}}, \"type\": \"scatter\"}], \"scatter3d\": [{\"line\": {\"colorbar\": {\"outlinewidth\": 0, \"ticks\": \"\"}}, \"marker\": {\"colorbar\": {\"outlinewidth\": 0, \"ticks\": \"\"}}, \"type\": \"scatter3d\"}], \"scattercarpet\": [{\"marker\": {\"colorbar\": {\"outlinewidth\": 0, \"ticks\": \"\"}}, \"type\": \"scattercarpet\"}], \"scattergeo\": [{\"marker\": {\"colorbar\": {\"outlinewidth\": 0, \"ticks\": \"\"}}, \"type\": \"scattergeo\"}], \"scattergl\": [{\"marker\": {\"colorbar\": {\"outlinewidth\": 0, \"ticks\": \"\"}}, \"type\": \"scattergl\"}], \"scattermapbox\": [{\"marker\": {\"colorbar\": {\"outlinewidth\": 0, \"ticks\": \"\"}}, \"type\": \"scattermapbox\"}], \"scatterpolar\": [{\"marker\": {\"colorbar\": {\"outlinewidth\": 0, \"ticks\": \"\"}}, \"type\": \"scatterpolar\"}], \"scatterpolargl\": [{\"marker\": {\"colorbar\": {\"outlinewidth\": 0, \"ticks\": \"\"}}, \"type\": \"scatterpolargl\"}], \"scatterternary\": [{\"marker\": {\"colorbar\": {\"outlinewidth\": 0, \"ticks\": \"\"}}, \"type\": \"scatterternary\"}], \"surface\": [{\"colorbar\": {\"outlinewidth\": 0, \"ticks\": \"\"}, \"colorscale\": [[0.0, \"#0d0887\"], [0.1111111111111111, \"#46039f\"], [0.2222222222222222, \"#7201a8\"], [0.3333333333333333, \"#9c179e\"], [0.4444444444444444, \"#bd3786\"], [0.5555555555555556, \"#d8576b\"], [0.6666666666666666, \"#ed7953\"], [0.7777777777777778, \"#fb9f3a\"], [0.8888888888888888, \"#fdca26\"], [1.0, \"#f0f921\"]], \"type\": \"surface\"}], \"table\": [{\"cells\": {\"fill\": {\"color\": \"#EBF0F8\"}, \"line\": {\"color\": \"white\"}}, \"header\": {\"fill\": {\"color\": \"#C8D4E3\"}, \"line\": {\"color\": \"white\"}}, \"type\": \"table\"}]}, \"layout\": {\"annotationdefaults\": {\"arrowcolor\": \"#2a3f5f\", \"arrowhead\": 0, \"arrowwidth\": 1}, \"coloraxis\": {\"colorbar\": {\"outlinewidth\": 0, \"ticks\": \"\"}}, \"colorscale\": {\"diverging\": [[0, \"#8e0152\"], [0.1, \"#c51b7d\"], [0.2, \"#de77ae\"], [0.3, \"#f1b6da\"], [0.4, \"#fde0ef\"], [0.5, \"#f7f7f7\"], [0.6, \"#e6f5d0\"], [0.7, \"#b8e186\"], [0.8, \"#7fbc41\"], [0.9, \"#4d9221\"], [1, \"#276419\"]], \"sequential\": [[0.0, \"#0d0887\"], [0.1111111111111111, \"#46039f\"], [0.2222222222222222, \"#7201a8\"], [0.3333333333333333, \"#9c179e\"], [0.4444444444444444, \"#bd3786\"], [0.5555555555555556, \"#d8576b\"], [0.6666666666666666, \"#ed7953\"], [0.7777777777777778, \"#fb9f3a\"], [0.8888888888888888, \"#fdca26\"], [1.0, \"#f0f921\"]], \"sequentialminus\": [[0.0, \"#0d0887\"], [0.1111111111111111, \"#46039f\"], [0.2222222222222222, \"#7201a8\"], [0.3333333333333333, \"#9c179e\"], [0.4444444444444444, \"#bd3786\"], [0.5555555555555556, \"#d8576b\"], [0.6666666666666666, \"#ed7953\"], [0.7777777777777778, \"#fb9f3a\"], [0.8888888888888888, \"#fdca26\"], [1.0, \"#f0f921\"]]}, \"colorway\": [\"#636efa\", \"#EF553B\", \"#00cc96\", \"#ab63fa\", \"#FFA15A\", \"#19d3f3\", \"#FF6692\", \"#B6E880\", \"#FF97FF\", \"#FECB52\"], \"font\": {\"color\": \"#2a3f5f\"}, \"geo\": {\"bgcolor\": \"white\", \"lakecolor\": \"white\", \"landcolor\": \"#E5ECF6\", \"showlakes\": true, \"showland\": true, \"subunitcolor\": \"white\"}, \"hoverlabel\": {\"align\": \"left\"}, \"hovermode\": \"closest\", \"mapbox\": {\"style\": \"light\"}, \"paper_bgcolor\": \"white\", \"plot_bgcolor\": \"#E5ECF6\", \"polar\": {\"angularaxis\": {\"gridcolor\": \"white\", \"linecolor\": \"white\", \"ticks\": \"\"}, \"bgcolor\": \"#E5ECF6\", \"radialaxis\": {\"gridcolor\": \"white\", \"linecolor\": \"white\", \"ticks\": \"\"}}, \"scene\": {\"xaxis\": {\"backgroundcolor\": \"#E5ECF6\", \"gridcolor\": \"white\", \"gridwidth\": 2, \"linecolor\": \"white\", \"showbackground\": true, \"ticks\": \"\", \"zerolinecolor\": \"white\"}, \"yaxis\": {\"backgroundcolor\": \"#E5ECF6\", \"gridcolor\": \"white\", \"gridwidth\": 2, \"linecolor\": \"white\", \"showbackground\": true, \"ticks\": \"\", \"zerolinecolor\": \"white\"}, \"zaxis\": {\"backgroundcolor\": \"#E5ECF6\", \"gridcolor\": \"white\", \"gridwidth\": 2, \"linecolor\": \"white\", \"showbackground\": true, \"ticks\": \"\", \"zerolinecolor\": \"white\"}}, \"shapedefaults\": {\"line\": {\"color\": \"#2a3f5f\"}}, \"ternary\": {\"aaxis\": {\"gridcolor\": \"white\", \"linecolor\": \"white\", \"ticks\": \"\"}, \"baxis\": {\"gridcolor\": \"white\", \"linecolor\": \"white\", \"ticks\": \"\"}, \"bgcolor\": \"#E5ECF6\", \"caxis\": {\"gridcolor\": \"white\", \"linecolor\": \"white\", \"ticks\": \"\"}}, \"title\": {\"x\": 0.05}, \"xaxis\": {\"automargin\": true, \"gridcolor\": \"white\", \"linecolor\": \"white\", \"ticks\": \"\", \"title\": {\"standoff\": 15}, \"zerolinecolor\": \"white\", \"zerolinewidth\": 2}, \"yaxis\": {\"automargin\": true, \"gridcolor\": \"white\", \"linecolor\": \"white\", \"ticks\": \"\", \"title\": {\"standoff\": 15}, \"zerolinecolor\": \"white\", \"zerolinewidth\": 2}}}, \"width\": 1200, \"xaxis\": {\"tickangle\": 45, \"tickfont\": {\"size\": 14}, \"tickformat\": \",f\", \"tickmode\": \"array\", \"tickvals\": [4, 8, 16, 32, 64, 128, 256, 512, 1024, 2048, 4096, 8192, 16384, 32768, 65536, 131072, 262144, 524288, 1048576, 2097152, 4194304, 8388608, 16777216, 33554432], \"title\": {\"font\": {\"size\": 22}, \"text\": \"Public Key (bytes)\"}, \"type\": \"log\"}, \"yaxis\": {\"tickfont\": {\"size\": 14}, \"tickformat\": \",f\", \"tickmode\": \"array\", \"tickvals\": [4, 8, 16, 32, 64, 128, 256, 512, 1024, 2048, 4096, 8192, 16384, 32768, 65536, 131072, 262144, 524288, 1048576, 2097152, 4194304, 8388608, 16777216, 33554432, 67108864, 134217728, 268435456, 536870912], \"title\": {\"font\": {\"size\": 22}, \"text\": \"Signature Size (bytes)\"}, \"type\": \"log\"}},\n                        {\"displaylogo\": false, \"displayModeBar\": true, \"modeBarButtonsToRemove\": [\"hoverClosest3d\", \"hoverClosestCartesian\", \"hoverClosestGeo\", \"hoverClosestGl2d\", \"hoverClosestPie\", \"lasso2d\", \"toggleSpikelines\", \" hoverClosestCartesian\", \"hoverCompareCartesian\"], \"responsive\": true}\n                    ).then(function(){\n                            \nvar gd = document.getElementById('6403a119-f942-4e10-88af-9203aa134a8d');\nvar x = new MutationObserver(function (mutations, observer) {{\n        var display = window.getComputedStyle(gd).display;\n        if (!display || display === 'none') {{\n            console.log([gd, 'removed!']);\n            Plotly.purge(gd);\n            observer.disconnect();\n        }}\n}});\n\n// Listen for the removal of the full notebook cells\nvar notebookContainer = gd.closest('#notebook-container');\nif (notebookContainer) {{\n    x.observe(notebookContainer, {childList: true});\n}}\n\n// Listen for the clearing of the current output cell\nvar outputEl = gd.closest('.output');\nif (outputEl) {{\n    x.observe(outputEl, {childList: true});\n}}\n\n                        })\n                };\n                });\n            </script>\n        </div>"
     },
     "metadata": {}
    }
   ],
   "source": [
    "\n",
    "import pandas as pd\n",
    "\n",
    "import plotly\n",
    "import plotly.graph_objects as go\n",
    "import plotly.express as px\n",
    "\n",
    "\n",
    "\n",
    "for sheet_name in ['KEM-PKE','DS']:\n",
    "    data = pd.read_excel('/Users/kamyar/Downloads/PQC_Round_3_Parameter_Sets.xlsx', sheet_name=sheet_name).sort_values(by=['Candidate', 'Level'])\n",
    "\n",
    "\n",
    "    subfamilies = data['Subfamily'].unique()\n",
    "\n",
    "    x_column = 'KEM Public Key Size' if sheet_name == 'KEM-PKE' else 'Public Key Size'\n",
    "    y_column = 'KEM Ciphertext Size' if sheet_name == 'KEM-PKE' else 'Signature Size'\n",
    "\n",
    "    subfamily_color_map = {k:v for k,v in zip(subfamilies.tolist(), px.colors.qualitative.Plotly) }\n",
    "\n",
    "    level_to_symbols_map = {1:1, 2:2, 3:0, 4:3, 5:4}\n",
    "\n",
    "    level_to_size_map = {i:i*1 + 10 for i in range(1,6)}\n",
    "\n",
    "    fig = go.Figure()\n",
    "    # fig = px.scatter(data, \n",
    "    #     x=x_column, y=y_column,\n",
    "    #     log_x=True, log_y=True, \n",
    "    #     color=\"Candidate\",\n",
    "    #     opacity=0.8,\n",
    "    #     size_max=18,\n",
    "    #     #facet_col='',\n",
    "    #     symbol=\"Level\",\n",
    "    #     size=\"Level\",\n",
    "    #     width=1200, height=800, \n",
    "    #     color_discrete_sequence=px.colors.qualitative.T10, \n",
    "    #     hover_name='Candidate',\n",
    "    #     # title='KEM Ciphertext size vs Public Key size',\n",
    "    #     labels={\n",
    "    #         x_column: \"Public Key (bytes)\",\n",
    "    #         y_column: \"Ciphertext (bytes)\",\n",
    "    #         \"Level\": \"Security Level\"\n",
    "    #     },\n",
    "\n",
    "    # )\n",
    "\n",
    "    candidates = data['Candidate'].unique()\n",
    "    levels = range(1,6)\n",
    "\n",
    "    candidate_colors = data['Candidate'].map( {v:k for k,v in enumerate(candidates)} )\n",
    "\n",
    "    def cnd_traces(showlegend):\n",
    "        for cnd_idx,cnd in enumerate(candidates):\n",
    "            trace_data = data[(data['Candidate'] == cnd)]\n",
    "            if not 1 in trace_data['Level'].values:\n",
    "                d1 = trace_data.iloc[0]\n",
    "                d1['Level'] = 1\n",
    "                trace_data.loc[-1] = d1  # adding a row\n",
    "                trace_data.index = trace_data.index + 1  # shifting index\n",
    "                trace_data = trace_data.sort_index()  # sorting by index\n",
    "            fig.add_trace(\n",
    "                go.Scatter(\n",
    "                    x=trace_data[x_column], y=trace_data[y_column],\n",
    "                    mode = \"markers\",\n",
    "                    showlegend=showlegend,\n",
    "                    legendgroup = cnd,\n",
    "                    hovertext = None,\n",
    "                    name=f\"{cnd} ({trace_data.iloc[0]['Subfamily']})\",\n",
    "                    text = trace_data['Parameter Set'],\n",
    "                    hoverinfo = 'x+y+text',\n",
    "                    hovertemplate ='<b>%{text}</b> <br>' + '<br> Public Key: %{x:,f} <br> ' + ('Ciphertext' if sheet_name == 'KEM-PKE' else 'Signature') + ': %{y:,f}<extra></extra>',\n",
    "                    # color_discrete_sequence=px.colors.qualitative.T10, \n",
    "                    # hover_name='Candidate',\n",
    "                    marker_size = 12, #[ s*2 + 12  for s in  data['Level']],\n",
    "                    marker_symbol = trace_data['Level'].map(level_to_symbols_map),\n",
    "                    marker_color= px.colors.qualitative.T10[cnd_idx],\n",
    "                    # marker_size = trace_data['Level'].map(level_to_size_map),\n",
    "                    marker=dict(\n",
    "                        # size=trace_data['Level'],\n",
    "                        # sizemin=7,\n",
    "                        # color=cnd_idx,\n",
    "                        # sizeref=0.5,\n",
    "                        opacity=0.9,\n",
    "                        # line=dict(width=0.5, color='black')\n",
    "                    ),\n",
    "                )\n",
    "            )\n",
    "\n",
    "    cnd_traces(True)\n",
    "\n",
    "\n",
    "\n",
    "    for lvl in levels:\n",
    "        trace_data = data[ (data['Level'] == lvl)]\n",
    "        fig.add_trace(\n",
    "            go.Scatter(\n",
    "                x=trace_data[x_column], y=trace_data[y_column],\n",
    "                mode = \"markers\",\n",
    "                showlegend=True,\n",
    "                legendgroup=lvl,\n",
    "                # opacity=0.1,\n",
    "                name=f\"Security Level {lvl}\",\n",
    "                # visible='legendonly',\n",
    "                hoverinfo='none',\n",
    "                hoverlabel = dict(namelength=0),\n",
    "                marker_color='Black',\n",
    "                marker_size = 12, #[ s*2 + 12  for s in  data['Level']],\n",
    "                marker_symbol = trace_data['Level'].map({k:v+100 for k,v in level_to_symbols_map.items() }),\n",
    "                # text = trace_data['Parameter Set'],\n",
    "                # marker_size = trace_data['Level'].map(level_to_size_map),\n",
    "                marker=dict(\n",
    "                    # size=trace_data['Level'],\n",
    "                    # sizemin=7,\n",
    "                    # color=cnd_idx,\n",
    "                    # sizeref=0.5,\n",
    "                    # opacity=0.95,\n",
    "                    # line=dict(width=1, color='orange')\n",
    "                ),\n",
    "            )\n",
    "        )\n",
    "    \n",
    "    cnd_traces(False)\n",
    "\n",
    "    fig.update_traces(marker=dict(line=dict(width=0.5,\n",
    "                                color='black')),\n",
    "                                selector=dict(mode='markers'))\n",
    "\n",
    "\n",
    "    fig.update_layout(\n",
    "        xaxis_type=\"log\", yaxis_type=\"log\",\n",
    "        width=1200, height=800,\n",
    "        xaxis = dict(\n",
    "            tickmode = 'array',\n",
    "            tickvals =[ 2**(2+i) for i in range(0,24) ],\n",
    "            tickformat = ',f'\n",
    "        ),\n",
    "        yaxis = dict(\n",
    "            tickmode = 'array',\n",
    "            tickvals =[ 2**(2+i) for i in range(0,28) ],\n",
    "            tickformat = ',f'\n",
    "        ),\n",
    "    )\n",
    "\n",
    "\n",
    "    fig.update_xaxes(\n",
    "        tickangle=45,\n",
    "        title_text = 'Public Key (bytes)',\n",
    "        title_font=dict(\n",
    "            size=22, \n",
    "            # family='Courier',\n",
    "            # color='crimson'\n",
    "        ),\n",
    "        tickfont=dict(\n",
    "            # family='Rockwell', \n",
    "            # color='crimson', \n",
    "            size=14\n",
    "        ),\n",
    "\n",
    "    )\n",
    "\n",
    "    fig.update_yaxes(\n",
    "        title_text = 'Ciphertext (bytes)' if sheet_name == 'KEM-PKE' else 'Signature Size (bytes)',\n",
    "        title_font=dict(\n",
    "            size=22,\n",
    "            # family='Courier', \n",
    "            # color='crimson'\n",
    "        ),\n",
    "        tickfont=dict(\n",
    "            # family='Rockwell', \n",
    "            # color='crimson', \n",
    "            size=14\n",
    "        ),\n",
    "    )\n",
    "\n",
    "    # fig.update_layout(\n",
    "    #     margin=dict(l=0, r=0, t=0, b=0),\n",
    "    # #     paper_bgcolor=\"LightSteelBlue\",\n",
    "    # )\n",
    "\n",
    "    config={\n",
    "        'displaylogo': False,\n",
    "        'displayModeBar': True,\n",
    "        'modeBarButtonsToRemove': ['hoverClosest3d', 'hoverClosestCartesian', 'hoverClosestGeo' , 'hoverClosestGl2d', 'hoverClosestPie' , \n",
    "            'lasso2d','toggleSpikelines',' hoverClosestCartesian', 'hoverCompareCartesian'], \n",
    "        'responsive': True\n",
    "    }\n",
    "\n",
    "    fig.update_layout(\n",
    "        legend=dict(\n",
    "            yanchor=\"top\",\n",
    "            y=0.96,\n",
    "            xanchor=\"right\",\n",
    "            x=0.97,\n",
    "            # itemsizing='constant',\n",
    "            # traceorder='grouped',\n",
    "            borderwidth=2,\n",
    "            bordercolor='#ffffff',\n",
    "            itemsizing='constant',\n",
    "            # title_font_family=\"Times New Roman\",\n",
    "            # title_font_size=24,\n",
    "            # title = 'Legend',\n",
    "            font=dict(\n",
    "                # family=\"Courier\",\n",
    "                size=14,\n",
    "                color=\"black\"\n",
    "            ),\n",
    "        )\n",
    "\n",
    "        # margin=dict(l=1,r=1,t=1,b=1),\n",
    "    )\n",
    "\n",
    "    plot_name = f'plot_{sheet_name.lower()}'\n",
    "\n",
    "    fig.show(config=config)\n",
    "    fig.write_html(f\"{plot_name}.html\", include_plotlyjs='directory',config=config)\n",
    "    fig.write_image(f\"{plot_name}.svg\")\n",
    "    fig.write_image(f\"{plot_name}.pdf\")"
   ]
  },
  {
   "cell_type": "code",
   "execution_count": 466,
   "metadata": {},
   "outputs": [
    {
     "output_type": "display_data",
     "data": {
      "application/vnd.plotly.v1+json": {
       "config": {
        "displayModeBar": true,
        "displaylogo": false,
        "modeBarButtonsToRemove": [
         "hoverClosest3d",
         "hoverClosestCartesian",
         "hoverClosestGeo",
         "hoverClosestGl2d",
         "hoverClosestPie",
         "lasso2d",
         "toggleSpikelines",
         " hoverClosestCartesian",
         "hoverCompareCartesian"
        ],
        "plotlyServerURL": "https://plot.ly",
        "responsive": true
       },
       "data": [
        {
         "hovertemplate": "<b>%{hovertext}</b><br><br>Candidate=BIKE<br>Security Level=1<br>Public Key (bytes)=%{x}<br>Ciphertext (bytes)=%{y}<extra></extra>",
         "hovertext": [
          "BIKE"
         ],
         "legendgroup": "BIKE",
         "marker": {
          "color": "#4C78A8",
          "line": {
           "color": "black",
           "width": 0.5
          },
          "opacity": 1,
          "size": 12,
          "symbol": "circle"
         },
         "mode": "markers",
         "name": "BIKE",
         "orientation": "v",
         "showlegend": true,
         "type": "scatter",
         "x": [
          1540
         ],
         "xaxis": "x",
         "y": [
          1572
         ],
         "yaxis": "y"
        },
        {
         "hovertemplate": "<b>%{hovertext}</b><br><br>Candidate=BIKE<br>Security Level=3<br>Public Key (bytes)=%{x}<br>Ciphertext (bytes)=%{y}<extra></extra>",
         "hovertext": [
          "BIKE"
         ],
         "legendgroup": "BIKE",
         "marker": {
          "color": "#4C78A8",
          "line": {
           "color": "black",
           "width": 0.5
          },
          "opacity": 1,
          "size": 12,
          "symbol": "circle"
         },
         "mode": "markers",
         "name": "BIKE",
         "orientation": "v",
         "showlegend": false,
         "type": "scatter",
         "x": [
          3082
         ],
         "xaxis": "x2",
         "y": [
          3114
         ],
         "yaxis": "y2"
        },
        {
         "hovertemplate": "<b>%{hovertext}</b><br><br>Candidate=CRYSTALS-KYBER<br>Security Level=1<br>Public Key (bytes)=%{x}<br>Ciphertext (bytes)=%{y}<extra></extra>",
         "hovertext": [
          "CRYSTALS-KYBER"
         ],
         "legendgroup": "CRYSTALS-KYBER",
         "marker": {
          "color": "#F58518",
          "line": {
           "color": "black",
           "width": 0.5
          },
          "opacity": 1,
          "size": 12,
          "symbol": "circle"
         },
         "mode": "markers",
         "name": "CRYSTALS-KYBER",
         "orientation": "v",
         "showlegend": true,
         "type": "scatter",
         "x": [
          800
         ],
         "xaxis": "x",
         "y": [
          736
         ],
         "yaxis": "y"
        },
        {
         "hovertemplate": "<b>%{hovertext}</b><br><br>Candidate=CRYSTALS-KYBER<br>Security Level=3<br>Public Key (bytes)=%{x}<br>Ciphertext (bytes)=%{y}<extra></extra>",
         "hovertext": [
          "CRYSTALS-KYBER"
         ],
         "legendgroup": "CRYSTALS-KYBER",
         "marker": {
          "color": "#F58518",
          "line": {
           "color": "black",
           "width": 0.5
          },
          "opacity": 1,
          "size": 12,
          "symbol": "circle"
         },
         "mode": "markers",
         "name": "CRYSTALS-KYBER",
         "orientation": "v",
         "showlegend": false,
         "type": "scatter",
         "x": [
          1184
         ],
         "xaxis": "x2",
         "y": [
          1088
         ],
         "yaxis": "y2"
        },
        {
         "hovertemplate": "<b>%{hovertext}</b><br><br>Candidate=CRYSTALS-KYBER<br>Security Level=5<br>Public Key (bytes)=%{x}<br>Ciphertext (bytes)=%{y}<extra></extra>",
         "hovertext": [
          "CRYSTALS-KYBER"
         ],
         "legendgroup": "CRYSTALS-KYBER",
         "marker": {
          "color": "#F58518",
          "line": {
           "color": "black",
           "width": 0.5
          },
          "opacity": 1,
          "size": 12,
          "symbol": "circle"
         },
         "mode": "markers",
         "name": "CRYSTALS-KYBER",
         "orientation": "v",
         "showlegend": false,
         "type": "scatter",
         "x": [
          1568
         ],
         "xaxis": "x3",
         "y": [
          1568
         ],
         "yaxis": "y3"
        },
        {
         "hovertemplate": "<b>%{hovertext}</b><br><br>Candidate=Classic McEliece<br>Security Level=1<br>Public Key (bytes)=%{x}<br>Ciphertext (bytes)=%{y}<extra></extra>",
         "hovertext": [
          "Classic McEliece"
         ],
         "legendgroup": "Classic McEliece",
         "marker": {
          "color": "#E45756",
          "line": {
           "color": "black",
           "width": 0.5
          },
          "opacity": 1,
          "size": 12,
          "symbol": "circle"
         },
         "mode": "markers",
         "name": "Classic McEliece",
         "orientation": "v",
         "showlegend": true,
         "type": "scatter",
         "x": [
          261120
         ],
         "xaxis": "x",
         "y": [
          128
         ],
         "yaxis": "y"
        },
        {
         "hovertemplate": "<b>%{hovertext}</b><br><br>Candidate=Classic McEliece<br>Security Level=3<br>Public Key (bytes)=%{x}<br>Ciphertext (bytes)=%{y}<extra></extra>",
         "hovertext": [
          "Classic McEliece"
         ],
         "legendgroup": "Classic McEliece",
         "marker": {
          "color": "#E45756",
          "line": {
           "color": "black",
           "width": 0.5
          },
          "opacity": 1,
          "size": 12,
          "symbol": "circle"
         },
         "mode": "markers",
         "name": "Classic McEliece",
         "orientation": "v",
         "showlegend": false,
         "type": "scatter",
         "x": [
          524160
         ],
         "xaxis": "x2",
         "y": [
          188
         ],
         "yaxis": "y2"
        },
        {
         "hovertemplate": "<b>%{hovertext}</b><br><br>Candidate=Classic McEliece<br>Security Level=5<br>Public Key (bytes)=%{x}<br>Ciphertext (bytes)=%{y}<extra></extra>",
         "hovertext": [
          "Classic McEliece",
          "Classic McEliece",
          "Classic McEliece"
         ],
         "legendgroup": "Classic McEliece",
         "marker": {
          "color": "#E45756",
          "line": {
           "color": "black",
           "width": 0.5
          },
          "opacity": 1,
          "size": 12,
          "symbol": "circle"
         },
         "mode": "markers",
         "name": "Classic McEliece",
         "orientation": "v",
         "showlegend": false,
         "type": "scatter",
         "x": [
          1044992,
          1047319,
          1357824
         ],
         "xaxis": "x3",
         "y": [
          240,
          226,
          240
         ],
         "yaxis": "y3"
        },
        {
         "hovertemplate": "<b>%{hovertext}</b><br><br>Candidate=FrodoKEM<br>Security Level=1<br>Public Key (bytes)=%{x}<br>Ciphertext (bytes)=%{y}<extra></extra>",
         "hovertext": [
          "FrodoKEM"
         ],
         "legendgroup": "FrodoKEM",
         "marker": {
          "color": "#72B7B2",
          "line": {
           "color": "black",
           "width": 0.5
          },
          "opacity": 1,
          "size": 12,
          "symbol": "circle"
         },
         "mode": "markers",
         "name": "FrodoKEM",
         "orientation": "v",
         "showlegend": true,
         "type": "scatter",
         "x": [
          9616
         ],
         "xaxis": "x",
         "y": [
          9720
         ],
         "yaxis": "y"
        },
        {
         "hovertemplate": "<b>%{hovertext}</b><br><br>Candidate=FrodoKEM<br>Security Level=3<br>Public Key (bytes)=%{x}<br>Ciphertext (bytes)=%{y}<extra></extra>",
         "hovertext": [
          "FrodoKEM"
         ],
         "legendgroup": "FrodoKEM",
         "marker": {
          "color": "#72B7B2",
          "line": {
           "color": "black",
           "width": 0.5
          },
          "opacity": 1,
          "size": 12,
          "symbol": "circle"
         },
         "mode": "markers",
         "name": "FrodoKEM",
         "orientation": "v",
         "showlegend": false,
         "type": "scatter",
         "x": [
          15632
         ],
         "xaxis": "x2",
         "y": [
          15744
         ],
         "yaxis": "y2"
        },
        {
         "hovertemplate": "<b>%{hovertext}</b><br><br>Candidate=FrodoKEM<br>Security Level=5<br>Public Key (bytes)=%{x}<br>Ciphertext (bytes)=%{y}<extra></extra>",
         "hovertext": [
          "FrodoKEM"
         ],
         "legendgroup": "FrodoKEM",
         "marker": {
          "color": "#72B7B2",
          "line": {
           "color": "black",
           "width": 0.5
          },
          "opacity": 1,
          "size": 12,
          "symbol": "circle"
         },
         "mode": "markers",
         "name": "FrodoKEM",
         "orientation": "v",
         "showlegend": false,
         "type": "scatter",
         "x": [
          21520
         ],
         "xaxis": "x3",
         "y": [
          21632
         ],
         "yaxis": "y3"
        },
        {
         "hovertemplate": "<b>%{hovertext}</b><br><br>Candidate=HQC<br>Security Level=1<br>Public Key (bytes)=%{x}<br>Ciphertext (bytes)=%{y}<extra></extra>",
         "hovertext": [
          "HQC",
          "HQC"
         ],
         "legendgroup": "HQC",
         "marker": {
          "color": "#54A24B",
          "line": {
           "color": "black",
           "width": 0.5
          },
          "opacity": 1,
          "size": 12,
          "symbol": "circle"
         },
         "mode": "markers",
         "name": "HQC",
         "orientation": "v",
         "showlegend": true,
         "type": "scatter",
         "x": [
          3024,
          2607
         ],
         "xaxis": "x",
         "y": [
          6017,
          5191
         ],
         "yaxis": "y"
        },
        {
         "hovertemplate": "<b>%{hovertext}</b><br><br>Candidate=HQC<br>Security Level=3<br>Public Key (bytes)=%{x}<br>Ciphertext (bytes)=%{y}<extra></extra>",
         "hovertext": [
          "HQC",
          "HQC"
         ],
         "legendgroup": "HQC",
         "marker": {
          "color": "#54A24B",
          "line": {
           "color": "black",
           "width": 0.5
          },
          "opacity": 1,
          "size": 12,
          "symbol": "circle"
         },
         "mode": "markers",
         "name": "HQC",
         "orientation": "v",
         "showlegend": false,
         "type": "scatter",
         "x": [
          5690,
          4906
         ],
         "xaxis": "x2",
         "y": [
          11364,
          9794
         ],
         "yaxis": "y2"
        },
        {
         "hovertemplate": "<b>%{hovertext}</b><br><br>Candidate=HQC<br>Security Level=5<br>Public Key (bytes)=%{x}<br>Ciphertext (bytes)=%{y}<extra></extra>",
         "hovertext": [
          "HQC",
          "HQC"
         ],
         "legendgroup": "HQC",
         "marker": {
          "color": "#54A24B",
          "line": {
           "color": "black",
           "width": 0.5
          },
          "opacity": 1,
          "size": 12,
          "symbol": "circle"
         },
         "mode": "markers",
         "name": "HQC",
         "orientation": "v",
         "showlegend": false,
         "type": "scatter",
         "x": [
          8698,
          7535
         ],
         "xaxis": "x3",
         "y": [
          17379,
          15047
         ],
         "yaxis": "y3"
        },
        {
         "hovertemplate": "<b>%{hovertext}</b><br><br>Candidate=NTRU<br>Security Level=1<br>Public Key (bytes)=%{x}<br>Ciphertext (bytes)=%{y}<extra></extra>",
         "hovertext": [
          "NTRU",
          "NTRU"
         ],
         "legendgroup": "NTRU",
         "marker": {
          "color": "#EECA3B",
          "line": {
           "color": "black",
           "width": 0.5
          },
          "opacity": 1,
          "size": 12,
          "symbol": "circle"
         },
         "mode": "markers",
         "name": "NTRU",
         "orientation": "v",
         "showlegend": true,
         "type": "scatter",
         "x": [
          931,
          1138
         ],
         "xaxis": "x",
         "y": [
          931,
          1138
         ],
         "yaxis": "y"
        },
        {
         "hovertemplate": "<b>%{hovertext}</b><br><br>Candidate=NTRU<br>Security Level=3<br>Public Key (bytes)=%{x}<br>Ciphertext (bytes)=%{y}<extra></extra>",
         "hovertext": [
          "NTRU"
         ],
         "legendgroup": "NTRU",
         "marker": {
          "color": "#EECA3B",
          "line": {
           "color": "black",
           "width": 0.5
          },
          "opacity": 1,
          "size": 12,
          "symbol": "circle"
         },
         "mode": "markers",
         "name": "NTRU",
         "orientation": "v",
         "showlegend": false,
         "type": "scatter",
         "x": [
          1230
         ],
         "xaxis": "x2",
         "y": [
          1230
         ],
         "yaxis": "y2"
        },
        {
         "hovertemplate": "<b>%{hovertext}</b><br><br>Candidate=NTRU Prime<br>Security Level=3<br>Public Key (bytes)=%{x}<br>Ciphertext (bytes)=%{y}<extra></extra>",
         "hovertext": [
          "NTRU Prime",
          "NTRU Prime"
         ],
         "legendgroup": "NTRU Prime",
         "marker": {
          "color": "#B279A2",
          "line": {
           "color": "black",
           "width": 0.5
          },
          "opacity": 1,
          "size": 12,
          "symbol": "circle"
         },
         "mode": "markers",
         "name": "NTRU Prime",
         "orientation": "v",
         "showlegend": true,
         "type": "scatter",
         "x": [
          1158,
          1039
         ],
         "xaxis": "x2",
         "y": [
          1039,
          1167
         ],
         "yaxis": "y2"
        },
        {
         "hovertemplate": "<b>%{hovertext}</b><br><br>Candidate=NTRU Prime<br>Security Level=2<br>Public Key (bytes)=%{x}<br>Ciphertext (bytes)=%{y}<extra></extra>",
         "hovertext": [
          "NTRU Prime",
          "NTRU Prime"
         ],
         "legendgroup": "NTRU Prime",
         "marker": {
          "color": "#B279A2",
          "line": {
           "color": "black",
           "width": 0.5
          },
          "opacity": 1,
          "size": 12,
          "symbol": "circle"
         },
         "mode": "markers",
         "name": "NTRU Prime",
         "orientation": "v",
         "showlegend": false,
         "type": "scatter",
         "x": [
          994,
          897
         ],
         "xaxis": "x4",
         "y": [
          897,
          1025
         ],
         "yaxis": "y4"
        },
        {
         "hovertemplate": "<b>%{hovertext}</b><br><br>Candidate=NTRU Prime<br>Security Level=4<br>Public Key (bytes)=%{x}<br>Ciphertext (bytes)=%{y}<extra></extra>",
         "hovertext": [
          "NTRU Prime",
          "NTRU Prime"
         ],
         "legendgroup": "NTRU Prime",
         "marker": {
          "color": "#B279A2",
          "line": {
           "color": "black",
           "width": 0.5
          },
          "opacity": 1,
          "size": 12,
          "symbol": "circle"
         },
         "mode": "markers",
         "name": "NTRU Prime",
         "orientation": "v",
         "showlegend": false,
         "type": "scatter",
         "x": [
          1184,
          1322
         ],
         "xaxis": "x5",
         "y": [
          1312,
          1184
         ],
         "yaxis": "y5"
        },
        {
         "hovertemplate": "<b>%{hovertext}</b><br><br>Candidate=SABER<br>Security Level=1<br>Public Key (bytes)=%{x}<br>Ciphertext (bytes)=%{y}<extra></extra>",
         "hovertext": [
          "SABER"
         ],
         "legendgroup": "SABER",
         "marker": {
          "color": "#FF9DA6",
          "line": {
           "color": "black",
           "width": 0.5
          },
          "opacity": 1,
          "size": 12,
          "symbol": "circle"
         },
         "mode": "markers",
         "name": "SABER",
         "orientation": "v",
         "showlegend": true,
         "type": "scatter",
         "x": [
          672
         ],
         "xaxis": "x",
         "y": [
          736
         ],
         "yaxis": "y"
        },
        {
         "hovertemplate": "<b>%{hovertext}</b><br><br>Candidate=SABER<br>Security Level=3<br>Public Key (bytes)=%{x}<br>Ciphertext (bytes)=%{y}<extra></extra>",
         "hovertext": [
          "SABER"
         ],
         "legendgroup": "SABER",
         "marker": {
          "color": "#FF9DA6",
          "line": {
           "color": "black",
           "width": 0.5
          },
          "opacity": 1,
          "size": 12,
          "symbol": "circle"
         },
         "mode": "markers",
         "name": "SABER",
         "orientation": "v",
         "showlegend": false,
         "type": "scatter",
         "x": [
          992
         ],
         "xaxis": "x2",
         "y": [
          1088
         ],
         "yaxis": "y2"
        },
        {
         "hovertemplate": "<b>%{hovertext}</b><br><br>Candidate=SABER<br>Security Level=5<br>Public Key (bytes)=%{x}<br>Ciphertext (bytes)=%{y}<extra></extra>",
         "hovertext": [
          "SABER"
         ],
         "legendgroup": "SABER",
         "marker": {
          "color": "#FF9DA6",
          "line": {
           "color": "black",
           "width": 0.5
          },
          "opacity": 1,
          "size": 12,
          "symbol": "circle"
         },
         "mode": "markers",
         "name": "SABER",
         "orientation": "v",
         "showlegend": false,
         "type": "scatter",
         "x": [
          1312
         ],
         "xaxis": "x3",
         "y": [
          1472
         ],
         "yaxis": "y3"
        },
        {
         "hovertemplate": "<b>%{hovertext}</b><br><br>Candidate=SIKE<br>Security Level=1<br>Public Key (bytes)=%{x}<br>Ciphertext (bytes)=%{y}<extra></extra>",
         "hovertext": [
          "SIKE",
          "SIKE"
         ],
         "legendgroup": "SIKE",
         "marker": {
          "color": "#9D755D",
          "line": {
           "color": "black",
           "width": 0.5
          },
          "opacity": 1,
          "size": 12,
          "symbol": "circle"
         },
         "mode": "markers",
         "name": "SIKE",
         "orientation": "v",
         "showlegend": true,
         "type": "scatter",
         "x": [
          330,
          197
         ],
         "xaxis": "x",
         "y": [
          346,
          236
         ],
         "yaxis": "y"
        },
        {
         "hovertemplate": "<b>%{hovertext}</b><br><br>Candidate=SIKE<br>Security Level=3<br>Public Key (bytes)=%{x}<br>Ciphertext (bytes)=%{y}<extra></extra>",
         "hovertext": [
          "SIKE",
          "SIKE"
         ],
         "legendgroup": "SIKE",
         "marker": {
          "color": "#9D755D",
          "line": {
           "color": "black",
           "width": 0.5
          },
          "opacity": 1,
          "size": 12,
          "symbol": "circle"
         },
         "mode": "markers",
         "name": "SIKE",
         "orientation": "v",
         "showlegend": false,
         "type": "scatter",
         "x": [
          462,
          274
         ],
         "xaxis": "x2",
         "y": [
          486,
          336
         ],
         "yaxis": "y2"
        },
        {
         "hovertemplate": "<b>%{hovertext}</b><br><br>Candidate=SIKE<br>Security Level=5<br>Public Key (bytes)=%{x}<br>Ciphertext (bytes)=%{y}<extra></extra>",
         "hovertext": [
          "SIKE",
          "SIKE"
         ],
         "legendgroup": "SIKE",
         "marker": {
          "color": "#9D755D",
          "line": {
           "color": "black",
           "width": 0.5
          },
          "opacity": 1,
          "size": 12,
          "symbol": "circle"
         },
         "mode": "markers",
         "name": "SIKE",
         "orientation": "v",
         "showlegend": false,
         "type": "scatter",
         "x": [
          564,
          335
         ],
         "xaxis": "x3",
         "y": [
          596,
          410
         ],
         "yaxis": "y3"
        },
        {
         "hovertemplate": "<b>%{hovertext}</b><br><br>Candidate=SIKE<br>Security Level=2<br>Public Key (bytes)=%{x}<br>Ciphertext (bytes)=%{y}<extra></extra>",
         "hovertext": [
          "SIKE",
          "SIKE"
         ],
         "legendgroup": "SIKE",
         "marker": {
          "color": "#9D755D",
          "line": {
           "color": "black",
           "width": 0.5
          },
          "opacity": 1,
          "size": 12,
          "symbol": "circle"
         },
         "mode": "markers",
         "name": "SIKE",
         "orientation": "v",
         "showlegend": false,
         "type": "scatter",
         "x": [
          378,
          225
         ],
         "xaxis": "x4",
         "y": [
          402,
          280
         ],
         "yaxis": "y4"
        }
       ],
       "layout": {
        "annotations": [
         {
          "font": {
           "color": "black",
           "size": 20
          },
          "showarrow": false,
          "text": "Security Level 1",
          "x": 0.0976,
          "xanchor": "center",
          "xref": "paper",
          "y": 1,
          "yanchor": "bottom",
          "yref": "paper"
         },
         {
          "font": {
           "color": "black",
           "size": 20
          },
          "showarrow": false,
          "text": "Security Level 3",
          "x": 0.2988,
          "xanchor": "center",
          "xref": "paper",
          "y": 1,
          "yanchor": "bottom",
          "yref": "paper"
         },
         {
          "font": {
           "color": "black",
           "size": 20
          },
          "showarrow": false,
          "text": "Security Level 5",
          "x": 0.5,
          "xanchor": "center",
          "xref": "paper",
          "y": 1,
          "yanchor": "bottom",
          "yref": "paper"
         },
         {
          "font": {
           "color": "black",
           "size": 20
          },
          "showarrow": false,
          "text": "Security Level 2",
          "x": 0.7012,
          "xanchor": "center",
          "xref": "paper",
          "y": 1,
          "yanchor": "bottom",
          "yref": "paper"
         },
         {
          "font": {
           "color": "black",
           "size": 20
          },
          "showarrow": false,
          "text": "Security Level 4",
          "x": 0.9024000000000001,
          "xanchor": "center",
          "xref": "paper",
          "y": 1,
          "yanchor": "bottom",
          "yref": "paper"
         }
        ],
        "height": 800,
        "legend": {
         "bordercolor": "#ffffff",
         "borderwidth": 1,
         "font": {
          "color": "black",
          "size": 14
         },
         "title": {
          "text": ""
         },
         "tracegroupgap": 0,
         "x": 0.99,
         "xanchor": "right",
         "y": 0.6,
         "yanchor": "middle"
        },
        "margin": {
         "t": 60
        },
        "template": {
         "data": {
          "bar": [
           {
            "error_x": {
             "color": "#2a3f5f"
            },
            "error_y": {
             "color": "#2a3f5f"
            },
            "marker": {
             "line": {
              "color": "#E5ECF6",
              "width": 0.5
             }
            },
            "type": "bar"
           }
          ],
          "barpolar": [
           {
            "marker": {
             "line": {
              "color": "#E5ECF6",
              "width": 0.5
             }
            },
            "type": "barpolar"
           }
          ],
          "carpet": [
           {
            "aaxis": {
             "endlinecolor": "#2a3f5f",
             "gridcolor": "white",
             "linecolor": "white",
             "minorgridcolor": "white",
             "startlinecolor": "#2a3f5f"
            },
            "baxis": {
             "endlinecolor": "#2a3f5f",
             "gridcolor": "white",
             "linecolor": "white",
             "minorgridcolor": "white",
             "startlinecolor": "#2a3f5f"
            },
            "type": "carpet"
           }
          ],
          "choropleth": [
           {
            "colorbar": {
             "outlinewidth": 0,
             "ticks": ""
            },
            "type": "choropleth"
           }
          ],
          "contour": [
           {
            "colorbar": {
             "outlinewidth": 0,
             "ticks": ""
            },
            "colorscale": [
             [
              0,
              "#0d0887"
             ],
             [
              0.1111111111111111,
              "#46039f"
             ],
             [
              0.2222222222222222,
              "#7201a8"
             ],
             [
              0.3333333333333333,
              "#9c179e"
             ],
             [
              0.4444444444444444,
              "#bd3786"
             ],
             [
              0.5555555555555556,
              "#d8576b"
             ],
             [
              0.6666666666666666,
              "#ed7953"
             ],
             [
              0.7777777777777778,
              "#fb9f3a"
             ],
             [
              0.8888888888888888,
              "#fdca26"
             ],
             [
              1,
              "#f0f921"
             ]
            ],
            "type": "contour"
           }
          ],
          "contourcarpet": [
           {
            "colorbar": {
             "outlinewidth": 0,
             "ticks": ""
            },
            "type": "contourcarpet"
           }
          ],
          "heatmap": [
           {
            "colorbar": {
             "outlinewidth": 0,
             "ticks": ""
            },
            "colorscale": [
             [
              0,
              "#0d0887"
             ],
             [
              0.1111111111111111,
              "#46039f"
             ],
             [
              0.2222222222222222,
              "#7201a8"
             ],
             [
              0.3333333333333333,
              "#9c179e"
             ],
             [
              0.4444444444444444,
              "#bd3786"
             ],
             [
              0.5555555555555556,
              "#d8576b"
             ],
             [
              0.6666666666666666,
              "#ed7953"
             ],
             [
              0.7777777777777778,
              "#fb9f3a"
             ],
             [
              0.8888888888888888,
              "#fdca26"
             ],
             [
              1,
              "#f0f921"
             ]
            ],
            "type": "heatmap"
           }
          ],
          "heatmapgl": [
           {
            "colorbar": {
             "outlinewidth": 0,
             "ticks": ""
            },
            "colorscale": [
             [
              0,
              "#0d0887"
             ],
             [
              0.1111111111111111,
              "#46039f"
             ],
             [
              0.2222222222222222,
              "#7201a8"
             ],
             [
              0.3333333333333333,
              "#9c179e"
             ],
             [
              0.4444444444444444,
              "#bd3786"
             ],
             [
              0.5555555555555556,
              "#d8576b"
             ],
             [
              0.6666666666666666,
              "#ed7953"
             ],
             [
              0.7777777777777778,
              "#fb9f3a"
             ],
             [
              0.8888888888888888,
              "#fdca26"
             ],
             [
              1,
              "#f0f921"
             ]
            ],
            "type": "heatmapgl"
           }
          ],
          "histogram": [
           {
            "marker": {
             "colorbar": {
              "outlinewidth": 0,
              "ticks": ""
             }
            },
            "type": "histogram"
           }
          ],
          "histogram2d": [
           {
            "colorbar": {
             "outlinewidth": 0,
             "ticks": ""
            },
            "colorscale": [
             [
              0,
              "#0d0887"
             ],
             [
              0.1111111111111111,
              "#46039f"
             ],
             [
              0.2222222222222222,
              "#7201a8"
             ],
             [
              0.3333333333333333,
              "#9c179e"
             ],
             [
              0.4444444444444444,
              "#bd3786"
             ],
             [
              0.5555555555555556,
              "#d8576b"
             ],
             [
              0.6666666666666666,
              "#ed7953"
             ],
             [
              0.7777777777777778,
              "#fb9f3a"
             ],
             [
              0.8888888888888888,
              "#fdca26"
             ],
             [
              1,
              "#f0f921"
             ]
            ],
            "type": "histogram2d"
           }
          ],
          "histogram2dcontour": [
           {
            "colorbar": {
             "outlinewidth": 0,
             "ticks": ""
            },
            "colorscale": [
             [
              0,
              "#0d0887"
             ],
             [
              0.1111111111111111,
              "#46039f"
             ],
             [
              0.2222222222222222,
              "#7201a8"
             ],
             [
              0.3333333333333333,
              "#9c179e"
             ],
             [
              0.4444444444444444,
              "#bd3786"
             ],
             [
              0.5555555555555556,
              "#d8576b"
             ],
             [
              0.6666666666666666,
              "#ed7953"
             ],
             [
              0.7777777777777778,
              "#fb9f3a"
             ],
             [
              0.8888888888888888,
              "#fdca26"
             ],
             [
              1,
              "#f0f921"
             ]
            ],
            "type": "histogram2dcontour"
           }
          ],
          "mesh3d": [
           {
            "colorbar": {
             "outlinewidth": 0,
             "ticks": ""
            },
            "type": "mesh3d"
           }
          ],
          "parcoords": [
           {
            "line": {
             "colorbar": {
              "outlinewidth": 0,
              "ticks": ""
             }
            },
            "type": "parcoords"
           }
          ],
          "pie": [
           {
            "automargin": true,
            "type": "pie"
           }
          ],
          "scatter": [
           {
            "marker": {
             "colorbar": {
              "outlinewidth": 0,
              "ticks": ""
             }
            },
            "type": "scatter"
           }
          ],
          "scatter3d": [
           {
            "line": {
             "colorbar": {
              "outlinewidth": 0,
              "ticks": ""
             }
            },
            "marker": {
             "colorbar": {
              "outlinewidth": 0,
              "ticks": ""
             }
            },
            "type": "scatter3d"
           }
          ],
          "scattercarpet": [
           {
            "marker": {
             "colorbar": {
              "outlinewidth": 0,
              "ticks": ""
             }
            },
            "type": "scattercarpet"
           }
          ],
          "scattergeo": [
           {
            "marker": {
             "colorbar": {
              "outlinewidth": 0,
              "ticks": ""
             }
            },
            "type": "scattergeo"
           }
          ],
          "scattergl": [
           {
            "marker": {
             "colorbar": {
              "outlinewidth": 0,
              "ticks": ""
             }
            },
            "type": "scattergl"
           }
          ],
          "scattermapbox": [
           {
            "marker": {
             "colorbar": {
              "outlinewidth": 0,
              "ticks": ""
             }
            },
            "type": "scattermapbox"
           }
          ],
          "scatterpolar": [
           {
            "marker": {
             "colorbar": {
              "outlinewidth": 0,
              "ticks": ""
             }
            },
            "type": "scatterpolar"
           }
          ],
          "scatterpolargl": [
           {
            "marker": {
             "colorbar": {
              "outlinewidth": 0,
              "ticks": ""
             }
            },
            "type": "scatterpolargl"
           }
          ],
          "scatterternary": [
           {
            "marker": {
             "colorbar": {
              "outlinewidth": 0,
              "ticks": ""
             }
            },
            "type": "scatterternary"
           }
          ],
          "surface": [
           {
            "colorbar": {
             "outlinewidth": 0,
             "ticks": ""
            },
            "colorscale": [
             [
              0,
              "#0d0887"
             ],
             [
              0.1111111111111111,
              "#46039f"
             ],
             [
              0.2222222222222222,
              "#7201a8"
             ],
             [
              0.3333333333333333,
              "#9c179e"
             ],
             [
              0.4444444444444444,
              "#bd3786"
             ],
             [
              0.5555555555555556,
              "#d8576b"
             ],
             [
              0.6666666666666666,
              "#ed7953"
             ],
             [
              0.7777777777777778,
              "#fb9f3a"
             ],
             [
              0.8888888888888888,
              "#fdca26"
             ],
             [
              1,
              "#f0f921"
             ]
            ],
            "type": "surface"
           }
          ],
          "table": [
           {
            "cells": {
             "fill": {
              "color": "#EBF0F8"
             },
             "line": {
              "color": "white"
             }
            },
            "header": {
             "fill": {
              "color": "#C8D4E3"
             },
             "line": {
              "color": "white"
             }
            },
            "type": "table"
           }
          ]
         },
         "layout": {
          "annotationdefaults": {
           "arrowcolor": "#2a3f5f",
           "arrowhead": 0,
           "arrowwidth": 1
          },
          "coloraxis": {
           "colorbar": {
            "outlinewidth": 0,
            "ticks": ""
           }
          },
          "colorscale": {
           "diverging": [
            [
             0,
             "#8e0152"
            ],
            [
             0.1,
             "#c51b7d"
            ],
            [
             0.2,
             "#de77ae"
            ],
            [
             0.3,
             "#f1b6da"
            ],
            [
             0.4,
             "#fde0ef"
            ],
            [
             0.5,
             "#f7f7f7"
            ],
            [
             0.6,
             "#e6f5d0"
            ],
            [
             0.7,
             "#b8e186"
            ],
            [
             0.8,
             "#7fbc41"
            ],
            [
             0.9,
             "#4d9221"
            ],
            [
             1,
             "#276419"
            ]
           ],
           "sequential": [
            [
             0,
             "#0d0887"
            ],
            [
             0.1111111111111111,
             "#46039f"
            ],
            [
             0.2222222222222222,
             "#7201a8"
            ],
            [
             0.3333333333333333,
             "#9c179e"
            ],
            [
             0.4444444444444444,
             "#bd3786"
            ],
            [
             0.5555555555555556,
             "#d8576b"
            ],
            [
             0.6666666666666666,
             "#ed7953"
            ],
            [
             0.7777777777777778,
             "#fb9f3a"
            ],
            [
             0.8888888888888888,
             "#fdca26"
            ],
            [
             1,
             "#f0f921"
            ]
           ],
           "sequentialminus": [
            [
             0,
             "#0d0887"
            ],
            [
             0.1111111111111111,
             "#46039f"
            ],
            [
             0.2222222222222222,
             "#7201a8"
            ],
            [
             0.3333333333333333,
             "#9c179e"
            ],
            [
             0.4444444444444444,
             "#bd3786"
            ],
            [
             0.5555555555555556,
             "#d8576b"
            ],
            [
             0.6666666666666666,
             "#ed7953"
            ],
            [
             0.7777777777777778,
             "#fb9f3a"
            ],
            [
             0.8888888888888888,
             "#fdca26"
            ],
            [
             1,
             "#f0f921"
            ]
           ]
          },
          "colorway": [
           "#636efa",
           "#EF553B",
           "#00cc96",
           "#ab63fa",
           "#FFA15A",
           "#19d3f3",
           "#FF6692",
           "#B6E880",
           "#FF97FF",
           "#FECB52"
          ],
          "font": {
           "color": "#2a3f5f"
          },
          "geo": {
           "bgcolor": "white",
           "lakecolor": "white",
           "landcolor": "#E5ECF6",
           "showlakes": true,
           "showland": true,
           "subunitcolor": "white"
          },
          "hoverlabel": {
           "align": "left"
          },
          "hovermode": "closest",
          "mapbox": {
           "style": "light"
          },
          "paper_bgcolor": "white",
          "plot_bgcolor": "#E5ECF6",
          "polar": {
           "angularaxis": {
            "gridcolor": "white",
            "linecolor": "white",
            "ticks": ""
           },
           "bgcolor": "#E5ECF6",
           "radialaxis": {
            "gridcolor": "white",
            "linecolor": "white",
            "ticks": ""
           }
          },
          "scene": {
           "xaxis": {
            "backgroundcolor": "#E5ECF6",
            "gridcolor": "white",
            "gridwidth": 2,
            "linecolor": "white",
            "showbackground": true,
            "ticks": "",
            "zerolinecolor": "white"
           },
           "yaxis": {
            "backgroundcolor": "#E5ECF6",
            "gridcolor": "white",
            "gridwidth": 2,
            "linecolor": "white",
            "showbackground": true,
            "ticks": "",
            "zerolinecolor": "white"
           },
           "zaxis": {
            "backgroundcolor": "#E5ECF6",
            "gridcolor": "white",
            "gridwidth": 2,
            "linecolor": "white",
            "showbackground": true,
            "ticks": "",
            "zerolinecolor": "white"
           }
          },
          "shapedefaults": {
           "line": {
            "color": "#2a3f5f"
           }
          },
          "ternary": {
           "aaxis": {
            "gridcolor": "white",
            "linecolor": "white",
            "ticks": ""
           },
           "baxis": {
            "gridcolor": "white",
            "linecolor": "white",
            "ticks": ""
           },
           "bgcolor": "#E5ECF6",
           "caxis": {
            "gridcolor": "white",
            "linecolor": "white",
            "ticks": ""
           }
          },
          "title": {
           "x": 0.05
          },
          "xaxis": {
           "automargin": true,
           "gridcolor": "white",
           "linecolor": "white",
           "ticks": "",
           "title": {
            "standoff": 15
           },
           "zerolinecolor": "white",
           "zerolinewidth": 2
          },
          "yaxis": {
           "automargin": true,
           "gridcolor": "white",
           "linecolor": "white",
           "ticks": "",
           "title": {
            "standoff": 15
           },
           "zerolinecolor": "white",
           "zerolinewidth": 2
          }
         }
        },
        "width": 1600,
        "xaxis": {
         "anchor": "y",
         "domain": [
          0,
          0.1952
         ],
         "tickangle": 45,
         "tickfont": {
          "size": 12
         },
         "tickformat": ",f",
         "tickmode": "array",
         "tickvals": [
          64,
          256,
          1024,
          4096,
          16384,
          65536,
          262144,
          1048576,
          4194304,
          16777216,
          67108864
         ],
         "title": {
          "font": {
           "size": 20
          },
          "standoff": 0,
          "text": "Public Key (bytes)"
         },
         "type": "log"
        },
        "xaxis2": {
         "anchor": "y2",
         "domain": [
          0.20120000000000002,
          0.39640000000000003
         ],
         "matches": "x",
         "tickangle": 45,
         "tickfont": {
          "size": 12
         },
         "tickformat": ",f",
         "tickmode": "array",
         "tickvals": [
          64,
          256,
          1024,
          4096,
          16384,
          65536,
          262144,
          1048576,
          4194304,
          16777216,
          67108864
         ],
         "title": {
          "font": {
           "size": 20
          },
          "standoff": 0,
          "text": "Public Key (bytes)"
         },
         "type": "log"
        },
        "xaxis3": {
         "anchor": "y3",
         "domain": [
          0.40240000000000004,
          0.5976
         ],
         "matches": "x",
         "tickangle": 45,
         "tickfont": {
          "size": 12
         },
         "tickformat": ",f",
         "tickmode": "array",
         "tickvals": [
          64,
          256,
          1024,
          4096,
          16384,
          65536,
          262144,
          1048576,
          4194304,
          16777216,
          67108864
         ],
         "title": {
          "font": {
           "size": 20
          },
          "standoff": 0,
          "text": "Public Key (bytes)"
         },
         "type": "log"
        },
        "xaxis4": {
         "anchor": "y4",
         "domain": [
          0.6036,
          0.7988000000000001
         ],
         "matches": "x",
         "tickangle": 45,
         "tickfont": {
          "size": 12
         },
         "tickformat": ",f",
         "tickmode": "array",
         "tickvals": [
          64,
          256,
          1024,
          4096,
          16384,
          65536,
          262144,
          1048576,
          4194304,
          16777216,
          67108864
         ],
         "title": {
          "font": {
           "size": 20
          },
          "standoff": 0,
          "text": "Public Key (bytes)"
         },
         "type": "log"
        },
        "xaxis5": {
         "anchor": "y5",
         "domain": [
          0.8048000000000001,
          1
         ],
         "matches": "x",
         "tickangle": 45,
         "tickfont": {
          "size": 12
         },
         "tickformat": ",f",
         "tickmode": "array",
         "tickvals": [
          64,
          256,
          1024,
          4096,
          16384,
          65536,
          262144,
          1048576,
          4194304,
          16777216,
          67108864
         ],
         "title": {
          "font": {
           "size": 20
          },
          "standoff": 0,
          "text": "Public Key (bytes)"
         },
         "type": "log"
        },
        "yaxis": {
         "anchor": "x",
         "domain": [
          0,
          1
         ],
         "tickfont": {
          "size": 12
         },
         "tickformat": ",f",
         "tickmode": "array",
         "tickvals": [
          8,
          16,
          32,
          64,
          128,
          256,
          512,
          1024,
          2048,
          4096,
          8192,
          16384,
          32768,
          65536,
          131072,
          262144,
          524288,
          1048576
         ],
         "title": {
          "font": {
           "size": 20
          },
          "standoff": 0,
          "text": "Ciphertext (bytes)"
         },
         "type": "log"
        },
        "yaxis2": {
         "anchor": "x2",
         "domain": [
          0,
          1
         ],
         "matches": "y",
         "showticklabels": false,
         "tickfont": {
          "size": 12
         },
         "tickformat": ",f",
         "tickmode": "array",
         "tickvals": [
          8,
          16,
          32,
          64,
          128,
          256,
          512,
          1024,
          2048,
          4096,
          8192,
          16384,
          32768,
          65536,
          131072,
          262144,
          524288,
          1048576
         ],
         "title": {
          "font": {
           "size": 20
          },
          "standoff": 0
         },
         "type": "log"
        },
        "yaxis3": {
         "anchor": "x3",
         "domain": [
          0,
          1
         ],
         "matches": "y",
         "showticklabels": false,
         "tickfont": {
          "size": 12
         },
         "tickformat": ",f",
         "tickmode": "array",
         "tickvals": [
          8,
          16,
          32,
          64,
          128,
          256,
          512,
          1024,
          2048,
          4096,
          8192,
          16384,
          32768,
          65536,
          131072,
          262144,
          524288,
          1048576
         ],
         "title": {
          "font": {
           "size": 20
          },
          "standoff": 0
         },
         "type": "log"
        },
        "yaxis4": {
         "anchor": "x4",
         "domain": [
          0,
          1
         ],
         "matches": "y",
         "showticklabels": false,
         "tickfont": {
          "size": 12
         },
         "tickformat": ",f",
         "tickmode": "array",
         "tickvals": [
          8,
          16,
          32,
          64,
          128,
          256,
          512,
          1024,
          2048,
          4096,
          8192,
          16384,
          32768,
          65536,
          131072,
          262144,
          524288,
          1048576
         ],
         "title": {
          "font": {
           "size": 20
          },
          "standoff": 0
         },
         "type": "log"
        },
        "yaxis5": {
         "anchor": "x5",
         "domain": [
          0,
          1
         ],
         "matches": "y",
         "showticklabels": false,
         "tickfont": {
          "size": 12
         },
         "tickformat": ",f",
         "tickmode": "array",
         "tickvals": [
          8,
          16,
          32,
          64,
          128,
          256,
          512,
          1024,
          2048,
          4096,
          8192,
          16384,
          32768,
          65536,
          131072,
          262144,
          524288,
          1048576
         ],
         "title": {
          "font": {
           "size": 20
          },
          "standoff": 0
         },
         "type": "log"
        }
       }
      }
     },
     "metadata": {}
    },
    {
     "output_type": "display_data",
     "data": {
      "application/vnd.plotly.v1+json": {
       "config": {
        "displayModeBar": true,
        "displaylogo": false,
        "modeBarButtonsToRemove": [
         "hoverClosest3d",
         "hoverClosestCartesian",
         "hoverClosestGeo",
         "hoverClosestGl2d",
         "hoverClosestPie",
         "lasso2d",
         "toggleSpikelines",
         " hoverClosestCartesian",
         "hoverCompareCartesian"
        ],
        "plotlyServerURL": "https://plot.ly",
        "responsive": true
       },
       "data": [
        {
         "hovertemplate": "<b>%{hovertext}</b><br><br>Candidate=CRYSTALS-DILITHIUM<br>Security Level=1<br>Public Key (bytes)=%{x}<br>Signature Size (bytes)=%{y}<extra></extra>",
         "hovertext": [
          "CRYSTALS-DILITHIUM"
         ],
         "legendgroup": "CRYSTALS-DILITHIUM",
         "marker": {
          "color": "#4C78A8",
          "line": {
           "color": "black",
           "width": 0.5
          },
          "opacity": 1,
          "size": 12,
          "symbol": "circle"
         },
         "mode": "markers",
         "name": "CRYSTALS-DILITHIUM",
         "orientation": "v",
         "showlegend": true,
         "type": "scatter",
         "x": [
          1184
         ],
         "xaxis": "x",
         "y": [
          2044
         ],
         "yaxis": "y"
        },
        {
         "hovertemplate": "<b>%{hovertext}</b><br><br>Candidate=CRYSTALS-DILITHIUM<br>Security Level=2<br>Public Key (bytes)=%{x}<br>Signature Size (bytes)=%{y}<extra></extra>",
         "hovertext": [
          "CRYSTALS-DILITHIUM"
         ],
         "legendgroup": "CRYSTALS-DILITHIUM",
         "marker": {
          "color": "#4C78A8",
          "line": {
           "color": "black",
           "width": 0.5
          },
          "opacity": 1,
          "size": 12,
          "symbol": "circle"
         },
         "mode": "markers",
         "name": "CRYSTALS-DILITHIUM",
         "orientation": "v",
         "showlegend": false,
         "type": "scatter",
         "x": [
          1472
         ],
         "xaxis": "x2",
         "y": [
          2701
         ],
         "yaxis": "y2"
        },
        {
         "hovertemplate": "<b>%{hovertext}</b><br><br>Candidate=CRYSTALS-DILITHIUM<br>Security Level=3<br>Public Key (bytes)=%{x}<br>Signature Size (bytes)=%{y}<extra></extra>",
         "hovertext": [
          "CRYSTALS-DILITHIUM"
         ],
         "legendgroup": "CRYSTALS-DILITHIUM",
         "marker": {
          "color": "#4C78A8",
          "line": {
           "color": "black",
           "width": 0.5
          },
          "opacity": 1,
          "size": 12,
          "symbol": "circle"
         },
         "mode": "markers",
         "name": "CRYSTALS-DILITHIUM",
         "orientation": "v",
         "showlegend": false,
         "type": "scatter",
         "x": [
          1760
         ],
         "xaxis": "x3",
         "y": [
          3366
         ],
         "yaxis": "y3"
        },
        {
         "hovertemplate": "<b>%{hovertext}</b><br><br>Candidate=FALCON<br>Security Level=1<br>Public Key (bytes)=%{x}<br>Signature Size (bytes)=%{y}<extra></extra>",
         "hovertext": [
          "FALCON"
         ],
         "legendgroup": "FALCON",
         "marker": {
          "color": "#F58518",
          "line": {
           "color": "black",
           "width": 0.5
          },
          "opacity": 1,
          "size": 12,
          "symbol": "circle"
         },
         "mode": "markers",
         "name": "FALCON",
         "orientation": "v",
         "showlegend": true,
         "type": "scatter",
         "x": [
          897
         ],
         "xaxis": "x",
         "y": [
          657
         ],
         "yaxis": "y"
        },
        {
         "hovertemplate": "<b>%{hovertext}</b><br><br>Candidate=FALCON<br>Security Level=3<br>Public Key (bytes)=%{x}<br>Signature Size (bytes)=%{y}<extra></extra>",
         "hovertext": [
          "FALCON"
         ],
         "legendgroup": "FALCON",
         "marker": {
          "color": "#F58518",
          "line": {
           "color": "black",
           "width": 0.5
          },
          "opacity": 1,
          "size": 12,
          "symbol": "circle"
         },
         "mode": "markers",
         "name": "FALCON",
         "orientation": "v",
         "showlegend": false,
         "type": "scatter",
         "x": [
          1441
         ],
         "xaxis": "x3",
         "y": [
          994
         ],
         "yaxis": "y3"
        },
        {
         "hovertemplate": "<b>%{hovertext}</b><br><br>Candidate=FALCON<br>Security Level=5<br>Public Key (bytes)=%{x}<br>Signature Size (bytes)=%{y}<extra></extra>",
         "hovertext": [
          "FALCON"
         ],
         "legendgroup": "FALCON",
         "marker": {
          "color": "#F58518",
          "line": {
           "color": "black",
           "width": 0.5
          },
          "opacity": 1,
          "size": 12,
          "symbol": "circle"
         },
         "mode": "markers",
         "name": "FALCON",
         "orientation": "v",
         "showlegend": false,
         "type": "scatter",
         "x": [
          1793
         ],
         "xaxis": "x4",
         "y": [
          1273
         ],
         "yaxis": "y4"
        },
        {
         "hovertemplate": "<b>%{hovertext}</b><br><br>Candidate=GeMSS<br>Security Level=1<br>Public Key (bytes)=%{x}<br>Signature Size (bytes)=%{y}<extra></extra>",
         "hovertext": [
          "GeMSS",
          "GeMSS",
          "GeMSS"
         ],
         "legendgroup": "GeMSS",
         "marker": {
          "color": "#E45756",
          "line": {
           "color": "black",
           "width": 0.5
          },
          "opacity": 1,
          "size": 12,
          "symbol": "circle"
         },
         "mode": "markers",
         "name": "GeMSS",
         "orientation": "v",
         "showlegend": true,
         "type": "scatter",
         "x": [
          352190,
          363610,
          375210
         ],
         "xaxis": "x",
         "y": [
          32,
          34,
          35
         ],
         "yaxis": "y"
        },
        {
         "hovertemplate": "<b>%{hovertext}</b><br><br>Candidate=GeMSS<br>Security Level=3<br>Public Key (bytes)=%{x}<br>Signature Size (bytes)=%{y}<extra></extra>",
         "hovertext": [
          "GeMSS",
          "GeMSS",
          "GeMSS"
         ],
         "legendgroup": "GeMSS",
         "marker": {
          "color": "#E45756",
          "line": {
           "color": "black",
           "width": 0.5
          },
          "opacity": 1,
          "size": 12,
          "symbol": "circle"
         },
         "mode": "markers",
         "name": "GeMSS",
         "orientation": "v",
         "showlegend": false,
         "type": "scatter",
         "x": [
          1237960,
          1264120,
          1290540
         ],
         "xaxis": "x3",
         "y": [
          51,
          53,
          54
         ],
         "yaxis": "y3"
        },
        {
         "hovertemplate": "<b>%{hovertext}</b><br><br>Candidate=GeMSS<br>Security Level=5<br>Public Key (bytes)=%{x}<br>Signature Size (bytes)=%{y}<extra></extra>",
         "hovertext": [
          "GeMSS",
          "GeMSS",
          "GeMSS"
         ],
         "legendgroup": "GeMSS",
         "marker": {
          "color": "#E45756",
          "line": {
           "color": "black",
           "width": 0.5
          },
          "opacity": 1,
          "size": 12,
          "symbol": "circle"
         },
         "mode": "markers",
         "name": "GeMSS",
         "orientation": "v",
         "showlegend": false,
         "type": "scatter",
         "x": [
          3040700,
          3087960,
          3135590
         ],
         "xaxis": "x4",
         "y": [
          72,
          74,
          75
         ],
         "yaxis": "y4"
        },
        {
         "hovertemplate": "<b>%{hovertext}</b><br><br>Candidate=Picnic<br>Security Level=1<br>Public Key (bytes)=%{x}<br>Signature Size (bytes)=%{y}<extra></extra>",
         "hovertext": [
          "Picnic",
          "Picnic",
          "Picnic",
          "Picnic"
         ],
         "legendgroup": "Picnic",
         "marker": {
          "color": "#72B7B2",
          "line": {
           "color": "black",
           "width": 0.5
          },
          "opacity": 1,
          "size": 12,
          "symbol": "circle"
         },
         "mode": "markers",
         "name": "Picnic",
         "orientation": "v",
         "showlegend": true,
         "type": "scatter",
         "x": [
          32,
          32,
          34,
          34
         ],
         "xaxis": "x",
         "y": [
          34032,
          53961,
          320161,
          13802
         ],
         "yaxis": "y"
        },
        {
         "hovertemplate": "<b>%{hovertext}</b><br><br>Candidate=Picnic<br>Security Level=3<br>Public Key (bytes)=%{x}<br>Signature Size (bytes)=%{y}<extra></extra>",
         "hovertext": [
          "Picnic",
          "Picnic",
          "Picnic",
          "Picnic"
         ],
         "legendgroup": "Picnic",
         "marker": {
          "color": "#72B7B2",
          "line": {
           "color": "black",
           "width": 0.5
          },
          "opacity": 1,
          "size": 12,
          "symbol": "circle"
         },
         "mode": "markers",
         "name": "Picnic",
         "orientation": "v",
         "showlegend": false,
         "type": "scatter",
         "x": [
          48,
          48,
          48,
          48
         ],
         "xaxis": "x3",
         "y": [
          76772,
          121845,
          71179,
          29750
         ],
         "yaxis": "y3"
        },
        {
         "hovertemplate": "<b>%{hovertext}</b><br><br>Candidate=Picnic<br>Security Level=5<br>Public Key (bytes)=%{x}<br>Signature Size (bytes)=%{y}<extra></extra>",
         "hovertext": [
          "Picnic",
          "Picnic",
          "Picnic",
          "Picnic"
         ],
         "legendgroup": "Picnic",
         "marker": {
          "color": "#72B7B2",
          "line": {
           "color": "black",
           "width": 0.5
          },
          "opacity": 1,
          "size": 12,
          "symbol": "circle"
         },
         "mode": "markers",
         "name": "Picnic",
         "orientation": "v",
         "showlegend": false,
         "type": "scatter",
         "x": [
          64,
          64,
          64,
          64
         ],
         "xaxis": "x4",
         "y": [
          132856,
          209506,
          126286,
          54732
         ],
         "yaxis": "y4"
        },
        {
         "hovertemplate": "<b>%{hovertext}</b><br><br>Candidate=Rainbow<br>Security Level=1<br>Public Key (bytes)=%{x}<br>Signature Size (bytes)=%{y}<extra></extra>",
         "hovertext": [
          "Rainbow",
          "Rainbow"
         ],
         "legendgroup": "Rainbow",
         "marker": {
          "color": "#54A24B",
          "line": {
           "color": "black",
           "width": 0.5
          },
          "opacity": 1,
          "size": 12,
          "symbol": "circle"
         },
         "mode": "markers",
         "name": "Rainbow",
         "orientation": "v",
         "showlegend": true,
         "type": "scatter",
         "x": [
          149000,
          58100
         ],
         "xaxis": "x",
         "y": [
          64,
          64
         ],
         "yaxis": "y"
        },
        {
         "hovertemplate": "<b>%{hovertext}</b><br><br>Candidate=Rainbow<br>Security Level=3<br>Public Key (bytes)=%{x}<br>Signature Size (bytes)=%{y}<extra></extra>",
         "hovertext": [
          "Rainbow",
          "Rainbow"
         ],
         "legendgroup": "Rainbow",
         "marker": {
          "color": "#54A24B",
          "line": {
           "color": "black",
           "width": 0.5
          },
          "opacity": 1,
          "size": 12,
          "symbol": "circle"
         },
         "mode": "markers",
         "name": "Rainbow",
         "orientation": "v",
         "showlegend": false,
         "type": "scatter",
         "x": [
          710600,
          206700
         ],
         "xaxis": "x3",
         "y": [
          156,
          156
         ],
         "yaxis": "y3"
        },
        {
         "hovertemplate": "<b>%{hovertext}</b><br><br>Candidate=Rainbow<br>Security Level=5<br>Public Key (bytes)=%{x}<br>Signature Size (bytes)=%{y}<extra></extra>",
         "hovertext": [
          "Rainbow",
          "Rainbow"
         ],
         "legendgroup": "Rainbow",
         "marker": {
          "color": "#54A24B",
          "line": {
           "color": "black",
           "width": 0.5
          },
          "opacity": 1,
          "size": 12,
          "symbol": "circle"
         },
         "mode": "markers",
         "name": "Rainbow",
         "orientation": "v",
         "showlegend": false,
         "type": "scatter",
         "x": [
          1705500,
          491900
         ],
         "xaxis": "x4",
         "y": [
          204,
          204
         ],
         "yaxis": "y4"
        },
        {
         "hovertemplate": "<b>%{hovertext}</b><br><br>Candidate=SPHINCS+<br>Security Level=1<br>Public Key (bytes)=%{x}<br>Signature Size (bytes)=%{y}<extra></extra>",
         "hovertext": [
          "SPHINCS+",
          "SPHINCS+"
         ],
         "legendgroup": "SPHINCS+",
         "marker": {
          "color": "#EECA3B",
          "line": {
           "color": "black",
           "width": 0.5
          },
          "opacity": 1,
          "size": 12,
          "symbol": "circle"
         },
         "mode": "markers",
         "name": "SPHINCS+",
         "orientation": "v",
         "showlegend": true,
         "type": "scatter",
         "x": [
          32,
          32
         ],
         "xaxis": "x",
         "y": [
          8080,
          16976
         ],
         "yaxis": "y"
        },
        {
         "hovertemplate": "<b>%{hovertext}</b><br><br>Candidate=SPHINCS+<br>Security Level=3<br>Public Key (bytes)=%{x}<br>Signature Size (bytes)=%{y}<extra></extra>",
         "hovertext": [
          "SPHINCS+",
          "SPHINCS+"
         ],
         "legendgroup": "SPHINCS+",
         "marker": {
          "color": "#EECA3B",
          "line": {
           "color": "black",
           "width": 0.5
          },
          "opacity": 1,
          "size": 12,
          "symbol": "circle"
         },
         "mode": "markers",
         "name": "SPHINCS+",
         "orientation": "v",
         "showlegend": false,
         "type": "scatter",
         "x": [
          48,
          48
         ],
         "xaxis": "x3",
         "y": [
          17064,
          35664
         ],
         "yaxis": "y3"
        },
        {
         "hovertemplate": "<b>%{hovertext}</b><br><br>Candidate=SPHINCS+<br>Security Level=5<br>Public Key (bytes)=%{x}<br>Signature Size (bytes)=%{y}<extra></extra>",
         "hovertext": [
          "SPHINCS+",
          "SPHINCS+"
         ],
         "legendgroup": "SPHINCS+",
         "marker": {
          "color": "#EECA3B",
          "line": {
           "color": "black",
           "width": 0.5
          },
          "opacity": 1,
          "size": 12,
          "symbol": "circle"
         },
         "mode": "markers",
         "name": "SPHINCS+",
         "orientation": "v",
         "showlegend": false,
         "type": "scatter",
         "x": [
          64,
          64
         ],
         "xaxis": "x4",
         "y": [
          29792,
          49216
         ],
         "yaxis": "y4"
        }
       ],
       "layout": {
        "annotations": [
         {
          "font": {
           "color": "black",
           "size": 20
          },
          "showarrow": false,
          "text": "Security Level 1",
          "x": 0.12275,
          "xanchor": "center",
          "xref": "paper",
          "y": 1,
          "yanchor": "bottom",
          "yref": "paper"
         },
         {
          "font": {
           "color": "black",
           "size": 20
          },
          "showarrow": false,
          "text": "Security Level 2",
          "x": 0.37424999999999997,
          "xanchor": "center",
          "xref": "paper",
          "y": 1,
          "yanchor": "bottom",
          "yref": "paper"
         },
         {
          "font": {
           "color": "black",
           "size": 20
          },
          "showarrow": false,
          "text": "Security Level 3",
          "x": 0.62575,
          "xanchor": "center",
          "xref": "paper",
          "y": 1,
          "yanchor": "bottom",
          "yref": "paper"
         },
         {
          "font": {
           "color": "black",
           "size": 20
          },
          "showarrow": false,
          "text": "Security Level 5",
          "x": 0.87725,
          "xanchor": "center",
          "xref": "paper",
          "y": 1,
          "yanchor": "bottom",
          "yref": "paper"
         }
        ],
        "height": 800,
        "legend": {
         "bordercolor": "#ffffff",
         "borderwidth": 1,
         "font": {
          "color": "black",
          "size": 14
         },
         "title": {
          "text": ""
         },
         "tracegroupgap": 0,
         "x": 0.99,
         "xanchor": "right",
         "y": 0.6,
         "yanchor": "middle"
        },
        "margin": {
         "t": 60
        },
        "template": {
         "data": {
          "bar": [
           {
            "error_x": {
             "color": "#2a3f5f"
            },
            "error_y": {
             "color": "#2a3f5f"
            },
            "marker": {
             "line": {
              "color": "#E5ECF6",
              "width": 0.5
             }
            },
            "type": "bar"
           }
          ],
          "barpolar": [
           {
            "marker": {
             "line": {
              "color": "#E5ECF6",
              "width": 0.5
             }
            },
            "type": "barpolar"
           }
          ],
          "carpet": [
           {
            "aaxis": {
             "endlinecolor": "#2a3f5f",
             "gridcolor": "white",
             "linecolor": "white",
             "minorgridcolor": "white",
             "startlinecolor": "#2a3f5f"
            },
            "baxis": {
             "endlinecolor": "#2a3f5f",
             "gridcolor": "white",
             "linecolor": "white",
             "minorgridcolor": "white",
             "startlinecolor": "#2a3f5f"
            },
            "type": "carpet"
           }
          ],
          "choropleth": [
           {
            "colorbar": {
             "outlinewidth": 0,
             "ticks": ""
            },
            "type": "choropleth"
           }
          ],
          "contour": [
           {
            "colorbar": {
             "outlinewidth": 0,
             "ticks": ""
            },
            "colorscale": [
             [
              0,
              "#0d0887"
             ],
             [
              0.1111111111111111,
              "#46039f"
             ],
             [
              0.2222222222222222,
              "#7201a8"
             ],
             [
              0.3333333333333333,
              "#9c179e"
             ],
             [
              0.4444444444444444,
              "#bd3786"
             ],
             [
              0.5555555555555556,
              "#d8576b"
             ],
             [
              0.6666666666666666,
              "#ed7953"
             ],
             [
              0.7777777777777778,
              "#fb9f3a"
             ],
             [
              0.8888888888888888,
              "#fdca26"
             ],
             [
              1,
              "#f0f921"
             ]
            ],
            "type": "contour"
           }
          ],
          "contourcarpet": [
           {
            "colorbar": {
             "outlinewidth": 0,
             "ticks": ""
            },
            "type": "contourcarpet"
           }
          ],
          "heatmap": [
           {
            "colorbar": {
             "outlinewidth": 0,
             "ticks": ""
            },
            "colorscale": [
             [
              0,
              "#0d0887"
             ],
             [
              0.1111111111111111,
              "#46039f"
             ],
             [
              0.2222222222222222,
              "#7201a8"
             ],
             [
              0.3333333333333333,
              "#9c179e"
             ],
             [
              0.4444444444444444,
              "#bd3786"
             ],
             [
              0.5555555555555556,
              "#d8576b"
             ],
             [
              0.6666666666666666,
              "#ed7953"
             ],
             [
              0.7777777777777778,
              "#fb9f3a"
             ],
             [
              0.8888888888888888,
              "#fdca26"
             ],
             [
              1,
              "#f0f921"
             ]
            ],
            "type": "heatmap"
           }
          ],
          "heatmapgl": [
           {
            "colorbar": {
             "outlinewidth": 0,
             "ticks": ""
            },
            "colorscale": [
             [
              0,
              "#0d0887"
             ],
             [
              0.1111111111111111,
              "#46039f"
             ],
             [
              0.2222222222222222,
              "#7201a8"
             ],
             [
              0.3333333333333333,
              "#9c179e"
             ],
             [
              0.4444444444444444,
              "#bd3786"
             ],
             [
              0.5555555555555556,
              "#d8576b"
             ],
             [
              0.6666666666666666,
              "#ed7953"
             ],
             [
              0.7777777777777778,
              "#fb9f3a"
             ],
             [
              0.8888888888888888,
              "#fdca26"
             ],
             [
              1,
              "#f0f921"
             ]
            ],
            "type": "heatmapgl"
           }
          ],
          "histogram": [
           {
            "marker": {
             "colorbar": {
              "outlinewidth": 0,
              "ticks": ""
             }
            },
            "type": "histogram"
           }
          ],
          "histogram2d": [
           {
            "colorbar": {
             "outlinewidth": 0,
             "ticks": ""
            },
            "colorscale": [
             [
              0,
              "#0d0887"
             ],
             [
              0.1111111111111111,
              "#46039f"
             ],
             [
              0.2222222222222222,
              "#7201a8"
             ],
             [
              0.3333333333333333,
              "#9c179e"
             ],
             [
              0.4444444444444444,
              "#bd3786"
             ],
             [
              0.5555555555555556,
              "#d8576b"
             ],
             [
              0.6666666666666666,
              "#ed7953"
             ],
             [
              0.7777777777777778,
              "#fb9f3a"
             ],
             [
              0.8888888888888888,
              "#fdca26"
             ],
             [
              1,
              "#f0f921"
             ]
            ],
            "type": "histogram2d"
           }
          ],
          "histogram2dcontour": [
           {
            "colorbar": {
             "outlinewidth": 0,
             "ticks": ""
            },
            "colorscale": [
             [
              0,
              "#0d0887"
             ],
             [
              0.1111111111111111,
              "#46039f"
             ],
             [
              0.2222222222222222,
              "#7201a8"
             ],
             [
              0.3333333333333333,
              "#9c179e"
             ],
             [
              0.4444444444444444,
              "#bd3786"
             ],
             [
              0.5555555555555556,
              "#d8576b"
             ],
             [
              0.6666666666666666,
              "#ed7953"
             ],
             [
              0.7777777777777778,
              "#fb9f3a"
             ],
             [
              0.8888888888888888,
              "#fdca26"
             ],
             [
              1,
              "#f0f921"
             ]
            ],
            "type": "histogram2dcontour"
           }
          ],
          "mesh3d": [
           {
            "colorbar": {
             "outlinewidth": 0,
             "ticks": ""
            },
            "type": "mesh3d"
           }
          ],
          "parcoords": [
           {
            "line": {
             "colorbar": {
              "outlinewidth": 0,
              "ticks": ""
             }
            },
            "type": "parcoords"
           }
          ],
          "pie": [
           {
            "automargin": true,
            "type": "pie"
           }
          ],
          "scatter": [
           {
            "marker": {
             "colorbar": {
              "outlinewidth": 0,
              "ticks": ""
             }
            },
            "type": "scatter"
           }
          ],
          "scatter3d": [
           {
            "line": {
             "colorbar": {
              "outlinewidth": 0,
              "ticks": ""
             }
            },
            "marker": {
             "colorbar": {
              "outlinewidth": 0,
              "ticks": ""
             }
            },
            "type": "scatter3d"
           }
          ],
          "scattercarpet": [
           {
            "marker": {
             "colorbar": {
              "outlinewidth": 0,
              "ticks": ""
             }
            },
            "type": "scattercarpet"
           }
          ],
          "scattergeo": [
           {
            "marker": {
             "colorbar": {
              "outlinewidth": 0,
              "ticks": ""
             }
            },
            "type": "scattergeo"
           }
          ],
          "scattergl": [
           {
            "marker": {
             "colorbar": {
              "outlinewidth": 0,
              "ticks": ""
             }
            },
            "type": "scattergl"
           }
          ],
          "scattermapbox": [
           {
            "marker": {
             "colorbar": {
              "outlinewidth": 0,
              "ticks": ""
             }
            },
            "type": "scattermapbox"
           }
          ],
          "scatterpolar": [
           {
            "marker": {
             "colorbar": {
              "outlinewidth": 0,
              "ticks": ""
             }
            },
            "type": "scatterpolar"
           }
          ],
          "scatterpolargl": [
           {
            "marker": {
             "colorbar": {
              "outlinewidth": 0,
              "ticks": ""
             }
            },
            "type": "scatterpolargl"
           }
          ],
          "scatterternary": [
           {
            "marker": {
             "colorbar": {
              "outlinewidth": 0,
              "ticks": ""
             }
            },
            "type": "scatterternary"
           }
          ],
          "surface": [
           {
            "colorbar": {
             "outlinewidth": 0,
             "ticks": ""
            },
            "colorscale": [
             [
              0,
              "#0d0887"
             ],
             [
              0.1111111111111111,
              "#46039f"
             ],
             [
              0.2222222222222222,
              "#7201a8"
             ],
             [
              0.3333333333333333,
              "#9c179e"
             ],
             [
              0.4444444444444444,
              "#bd3786"
             ],
             [
              0.5555555555555556,
              "#d8576b"
             ],
             [
              0.6666666666666666,
              "#ed7953"
             ],
             [
              0.7777777777777778,
              "#fb9f3a"
             ],
             [
              0.8888888888888888,
              "#fdca26"
             ],
             [
              1,
              "#f0f921"
             ]
            ],
            "type": "surface"
           }
          ],
          "table": [
           {
            "cells": {
             "fill": {
              "color": "#EBF0F8"
             },
             "line": {
              "color": "white"
             }
            },
            "header": {
             "fill": {
              "color": "#C8D4E3"
             },
             "line": {
              "color": "white"
             }
            },
            "type": "table"
           }
          ]
         },
         "layout": {
          "annotationdefaults": {
           "arrowcolor": "#2a3f5f",
           "arrowhead": 0,
           "arrowwidth": 1
          },
          "coloraxis": {
           "colorbar": {
            "outlinewidth": 0,
            "ticks": ""
           }
          },
          "colorscale": {
           "diverging": [
            [
             0,
             "#8e0152"
            ],
            [
             0.1,
             "#c51b7d"
            ],
            [
             0.2,
             "#de77ae"
            ],
            [
             0.3,
             "#f1b6da"
            ],
            [
             0.4,
             "#fde0ef"
            ],
            [
             0.5,
             "#f7f7f7"
            ],
            [
             0.6,
             "#e6f5d0"
            ],
            [
             0.7,
             "#b8e186"
            ],
            [
             0.8,
             "#7fbc41"
            ],
            [
             0.9,
             "#4d9221"
            ],
            [
             1,
             "#276419"
            ]
           ],
           "sequential": [
            [
             0,
             "#0d0887"
            ],
            [
             0.1111111111111111,
             "#46039f"
            ],
            [
             0.2222222222222222,
             "#7201a8"
            ],
            [
             0.3333333333333333,
             "#9c179e"
            ],
            [
             0.4444444444444444,
             "#bd3786"
            ],
            [
             0.5555555555555556,
             "#d8576b"
            ],
            [
             0.6666666666666666,
             "#ed7953"
            ],
            [
             0.7777777777777778,
             "#fb9f3a"
            ],
            [
             0.8888888888888888,
             "#fdca26"
            ],
            [
             1,
             "#f0f921"
            ]
           ],
           "sequentialminus": [
            [
             0,
             "#0d0887"
            ],
            [
             0.1111111111111111,
             "#46039f"
            ],
            [
             0.2222222222222222,
             "#7201a8"
            ],
            [
             0.3333333333333333,
             "#9c179e"
            ],
            [
             0.4444444444444444,
             "#bd3786"
            ],
            [
             0.5555555555555556,
             "#d8576b"
            ],
            [
             0.6666666666666666,
             "#ed7953"
            ],
            [
             0.7777777777777778,
             "#fb9f3a"
            ],
            [
             0.8888888888888888,
             "#fdca26"
            ],
            [
             1,
             "#f0f921"
            ]
           ]
          },
          "colorway": [
           "#636efa",
           "#EF553B",
           "#00cc96",
           "#ab63fa",
           "#FFA15A",
           "#19d3f3",
           "#FF6692",
           "#B6E880",
           "#FF97FF",
           "#FECB52"
          ],
          "font": {
           "color": "#2a3f5f"
          },
          "geo": {
           "bgcolor": "white",
           "lakecolor": "white",
           "landcolor": "#E5ECF6",
           "showlakes": true,
           "showland": true,
           "subunitcolor": "white"
          },
          "hoverlabel": {
           "align": "left"
          },
          "hovermode": "closest",
          "mapbox": {
           "style": "light"
          },
          "paper_bgcolor": "white",
          "plot_bgcolor": "#E5ECF6",
          "polar": {
           "angularaxis": {
            "gridcolor": "white",
            "linecolor": "white",
            "ticks": ""
           },
           "bgcolor": "#E5ECF6",
           "radialaxis": {
            "gridcolor": "white",
            "linecolor": "white",
            "ticks": ""
           }
          },
          "scene": {
           "xaxis": {
            "backgroundcolor": "#E5ECF6",
            "gridcolor": "white",
            "gridwidth": 2,
            "linecolor": "white",
            "showbackground": true,
            "ticks": "",
            "zerolinecolor": "white"
           },
           "yaxis": {
            "backgroundcolor": "#E5ECF6",
            "gridcolor": "white",
            "gridwidth": 2,
            "linecolor": "white",
            "showbackground": true,
            "ticks": "",
            "zerolinecolor": "white"
           },
           "zaxis": {
            "backgroundcolor": "#E5ECF6",
            "gridcolor": "white",
            "gridwidth": 2,
            "linecolor": "white",
            "showbackground": true,
            "ticks": "",
            "zerolinecolor": "white"
           }
          },
          "shapedefaults": {
           "line": {
            "color": "#2a3f5f"
           }
          },
          "ternary": {
           "aaxis": {
            "gridcolor": "white",
            "linecolor": "white",
            "ticks": ""
           },
           "baxis": {
            "gridcolor": "white",
            "linecolor": "white",
            "ticks": ""
           },
           "bgcolor": "#E5ECF6",
           "caxis": {
            "gridcolor": "white",
            "linecolor": "white",
            "ticks": ""
           }
          },
          "title": {
           "x": 0.05
          },
          "xaxis": {
           "automargin": true,
           "gridcolor": "white",
           "linecolor": "white",
           "ticks": "",
           "title": {
            "standoff": 15
           },
           "zerolinecolor": "white",
           "zerolinewidth": 2
          },
          "yaxis": {
           "automargin": true,
           "gridcolor": "white",
           "linecolor": "white",
           "ticks": "",
           "title": {
            "standoff": 15
           },
           "zerolinecolor": "white",
           "zerolinewidth": 2
          }
         }
        },
        "width": 1600,
        "xaxis": {
         "anchor": "y",
         "domain": [
          0,
          0.2455
         ],
         "tickangle": 45,
         "tickfont": {
          "size": 12
         },
         "tickformat": ",f",
         "tickmode": "array",
         "tickvals": [
          64,
          256,
          1024,
          4096,
          16384,
          65536,
          262144,
          1048576,
          4194304,
          16777216,
          67108864
         ],
         "title": {
          "font": {
           "size": 20
          },
          "standoff": 0,
          "text": "Public Key (bytes)"
         },
         "type": "log"
        },
        "xaxis2": {
         "anchor": "y2",
         "domain": [
          0.2515,
          0.497
         ],
         "matches": "x",
         "tickangle": 45,
         "tickfont": {
          "size": 12
         },
         "tickformat": ",f",
         "tickmode": "array",
         "tickvals": [
          64,
          256,
          1024,
          4096,
          16384,
          65536,
          262144,
          1048576,
          4194304,
          16777216,
          67108864
         ],
         "title": {
          "font": {
           "size": 20
          },
          "standoff": 0,
          "text": "Public Key (bytes)"
         },
         "type": "log"
        },
        "xaxis3": {
         "anchor": "y3",
         "domain": [
          0.503,
          0.7484999999999999
         ],
         "matches": "x",
         "tickangle": 45,
         "tickfont": {
          "size": 12
         },
         "tickformat": ",f",
         "tickmode": "array",
         "tickvals": [
          64,
          256,
          1024,
          4096,
          16384,
          65536,
          262144,
          1048576,
          4194304,
          16777216,
          67108864
         ],
         "title": {
          "font": {
           "size": 20
          },
          "standoff": 0,
          "text": "Public Key (bytes)"
         },
         "type": "log"
        },
        "xaxis4": {
         "anchor": "y4",
         "domain": [
          0.7545,
          1
         ],
         "matches": "x",
         "tickangle": 45,
         "tickfont": {
          "size": 12
         },
         "tickformat": ",f",
         "tickmode": "array",
         "tickvals": [
          64,
          256,
          1024,
          4096,
          16384,
          65536,
          262144,
          1048576,
          4194304,
          16777216,
          67108864
         ],
         "title": {
          "font": {
           "size": 20
          },
          "standoff": 0,
          "text": "Public Key (bytes)"
         },
         "type": "log"
        },
        "xaxis5": {
         "tickangle": 45,
         "tickfont": {
          "size": 12
         },
         "tickformat": ",f",
         "tickmode": "array",
         "tickvals": [
          64,
          256,
          1024,
          4096,
          16384,
          65536,
          262144,
          1048576,
          4194304,
          16777216,
          67108864
         ],
         "title": {
          "font": {
           "size": 20
          },
          "standoff": 0
         }
        },
        "yaxis": {
         "anchor": "x",
         "domain": [
          0,
          1
         ],
         "tickfont": {
          "size": 12
         },
         "tickformat": ",f",
         "tickmode": "array",
         "tickvals": [
          8,
          16,
          32,
          64,
          128,
          256,
          512,
          1024,
          2048,
          4096,
          8192,
          16384,
          32768,
          65536,
          131072,
          262144,
          524288,
          1048576
         ],
         "title": {
          "font": {
           "size": 20
          },
          "standoff": 0,
          "text": "Signature Size (bytes)"
         },
         "type": "log"
        },
        "yaxis2": {
         "anchor": "x2",
         "domain": [
          0,
          1
         ],
         "matches": "y",
         "showticklabels": false,
         "tickfont": {
          "size": 12
         },
         "tickformat": ",f",
         "tickmode": "array",
         "tickvals": [
          8,
          16,
          32,
          64,
          128,
          256,
          512,
          1024,
          2048,
          4096,
          8192,
          16384,
          32768,
          65536,
          131072,
          262144,
          524288,
          1048576
         ],
         "title": {
          "font": {
           "size": 20
          },
          "standoff": 0
         },
         "type": "log"
        },
        "yaxis3": {
         "anchor": "x3",
         "domain": [
          0,
          1
         ],
         "matches": "y",
         "showticklabels": false,
         "tickfont": {
          "size": 12
         },
         "tickformat": ",f",
         "tickmode": "array",
         "tickvals": [
          8,
          16,
          32,
          64,
          128,
          256,
          512,
          1024,
          2048,
          4096,
          8192,
          16384,
          32768,
          65536,
          131072,
          262144,
          524288,
          1048576
         ],
         "title": {
          "font": {
           "size": 20
          },
          "standoff": 0
         },
         "type": "log"
        },
        "yaxis4": {
         "anchor": "x4",
         "domain": [
          0,
          1
         ],
         "matches": "y",
         "showticklabels": false,
         "tickfont": {
          "size": 12
         },
         "tickformat": ",f",
         "tickmode": "array",
         "tickvals": [
          8,
          16,
          32,
          64,
          128,
          256,
          512,
          1024,
          2048,
          4096,
          8192,
          16384,
          32768,
          65536,
          131072,
          262144,
          524288,
          1048576
         ],
         "title": {
          "font": {
           "size": 20
          },
          "standoff": 0
         },
         "type": "log"
        },
        "yaxis5": {
         "tickfont": {
          "size": 12
         },
         "tickformat": ",f",
         "tickmode": "array",
         "tickvals": [
          8,
          16,
          32,
          64,
          128,
          256,
          512,
          1024,
          2048,
          4096,
          8192,
          16384,
          32768,
          65536,
          131072,
          262144,
          524288,
          1048576
         ],
         "title": {
          "font": {
           "size": 20
          },
          "standoff": 0
         }
        }
       }
      }
     },
     "metadata": {}
    }
   ],
   "source": [
    "from plotly.subplots import make_subplots\n",
    "\n",
    "for sheet_name in ['KEM-PKE','DS']:\n",
    "    data = pd.read_excel('/Users/kamyar/Downloads/PQC_Round_3_Parameter_Sets.xlsx', sheet_name=sheet_name).sort_values(by=['Candidate', 'Level',])\n",
    "\n",
    "\n",
    "    subfamilies = data['Subfamily'].unique()\n",
    "\n",
    "    x_column = 'KEM Public Key Size' if sheet_name == 'KEM-PKE' else 'Public Key Size'\n",
    "    y_column = 'KEM Ciphertext Size' if sheet_name == 'KEM-PKE' else 'Signature Size'\n",
    "\n",
    "\n",
    "\n",
    "    fig = make_subplots(rows=1, cols=5)\n",
    "    # fig = go.Figure()\n",
    "    fig = px.scatter(data, \n",
    "        x=x_column, y=y_column,\n",
    "        log_x=True, log_y=True, \n",
    "        color=\"Candidate\",\n",
    "        opacity=1,\n",
    "        size_max=12,\n",
    "        # size=[12 for _ in range(0, len(data))],\n",
    "        facet_col=\"Level\",\n",
    "        # symbol = data['Level'].map(level_to_symbols_map),\n",
    "        # width=1600, height=800,\n",
    "        facet_col_spacing=0.006,\n",
    "        color_discrete_sequence=px.colors.qualitative.T10, \n",
    "        hover_name='Candidate',\n",
    "        # name=f\"{cnd} ({trace_data.iloc[0]['Subfamily']})\",\n",
    "        # title='KEM Ciphertext size vs Public Key size',\n",
    "        labels={\n",
    "            x_column: \"Public Key (bytes)\" ,\n",
    "            y_column: 'Ciphertext (bytes)' if sheet_name == 'KEM-PKE' else 'Signature Size (bytes)',\n",
    "            \"Level\": \"Security Level\",\n",
    "        },\n",
    "        # category_orders={'Candidate': ['SIKE', 'CRYSTALS-KYBER', 'NTRU', 'NTRU Prime', 'BIKE', 'HQC', 'FrodoKEM', 'Classic McEliece'], 'Level': ['3','1','2','4','5']}\n",
    "        # template='seaborn',\n",
    "\n",
    "    )\n",
    "\n",
    "    # candidates = data['Candidate'].unique()\n",
    "    # levels = range(1,6)\n",
    "\n",
    "    # candidate_colors = data['Candidate'].map( {v:k for k,v in enumerate(candidates)} )\n",
    "\n",
    "    # for lvl in levels:\n",
    "    #     for cnd_idx,cnd in enumerate(candidates):\n",
    "    #         trace_data = data[(data['Level'] == lvl) & (data['Candidate'] == cnd)]\n",
    "    #         if len(trace_data) > 0:\n",
    "    #             fig.add_trace(\n",
    "    #                 go.Scatter(\n",
    "    #                     x=trace_data[x_column], y=trace_data[y_column],\n",
    "    #                     mode = \"markers\",\n",
    "    #                     showlegend=True,\n",
    "    #                     legendgroup=cnd,\n",
    "    #                     name=f\"{cnd} ({trace_data.iloc[0]['Subfamily']})\",\n",
    "    #                     # color_discrete_sequence=px.colors.qualitative.T10, \n",
    "    #                     # hover_name='Candidate',\n",
    "    #                     marker_size = 12, #[ s*2 + 12  for s in  data['Level']],\n",
    "    #                     marker_symbol = trace_data['Level'].map(level_to_symbols_map),\n",
    "    #                     marker_color= px.colors.qualitative.T10[cnd_idx],\n",
    "    #                     text = trace_data['Parameter Set'],\n",
    "    #                     # marker_size = trace_data['Level'].map(level_to_size_map),\n",
    "    #                     marker=dict(\n",
    "    #                         # size=trace_data['Level'],\n",
    "    #                         # sizemin=7,\n",
    "    #                         # color=cnd_idx,\n",
    "    #                         # sizeref=0.5,\n",
    "    #                         opacity=1,\n",
    "    #                         line=dict(width=0.5, color='black')\n",
    "    #                     ),\n",
    "    #                 ),\n",
    "    #                 row=1, col=lvl\n",
    "    #             )\n",
    "\n",
    "\n",
    "    xaxis = dict(\n",
    "            tickmode = 'array',\n",
    "            tickvals =[ 2**(i) for i in range(6,28,2) ],\n",
    "            tickformat = ',f'\n",
    "    )\n",
    "\n",
    "    yaxis = dict(\n",
    "            tickmode = 'array',\n",
    "            tickvals =[ 2**(3+i) for i in range(0,18) ],\n",
    "            tickformat = ',f'\n",
    "        )\n",
    "\n",
    "    fig.update_layout(\n",
    "        # xaxis_type=\"log\", yaxis_type=\"log\",\n",
    "        width=1600, height=800,\n",
    "        xaxis = xaxis,\n",
    "        xaxis2 = xaxis,\n",
    "        xaxis3 = xaxis,\n",
    "        xaxis4 = xaxis,\n",
    "        xaxis5 = xaxis,\n",
    "        yaxis = yaxis,\n",
    "        yaxis2 = yaxis,\n",
    "        yaxis3 = yaxis,\n",
    "        yaxis4 = yaxis,\n",
    "        yaxis5 = yaxis,\n",
    "\n",
    "    )\n",
    "\n",
    "    fig.update_traces(marker=dict(size=12,line=dict(width=0.5,\n",
    "                                        color='black')),\n",
    "                                        selector=dict(mode='markers'))\n",
    "\n",
    "    fig.for_each_annotation(\n",
    "        lambda a: a.update(\n",
    "            text=' '.join(a.text.split(\"=\")),\n",
    "            font=dict(\n",
    "                # family=\"Courier\",\n",
    "                size=20,\n",
    "                color=\"black\"\n",
    "            ),\n",
    "        )\n",
    "    )\n",
    "\n",
    "    fig.update_xaxes(\n",
    "        tickangle=45,\n",
    "        # title_text = 'Public Key (bytes)',\n",
    "        title_standoff = 0,\n",
    "        title_font=dict(\n",
    "            size=20, \n",
    "            # family='Courier',\n",
    "            # color='crimson'\n",
    "        ),\n",
    "        tickfont=dict(\n",
    "            # family='Rockwell', \n",
    "            # color='crimson', \n",
    "            size=12\n",
    "        ),\n",
    "\n",
    "    )\n",
    "\n",
    "    fig.update_yaxes(\n",
    "        # title_text = 'Ciphertext (bytes)' if sheet_name == 'KEM-PKE' else 'Signature Size (bytes)',\n",
    "        title_standoff = 0,\n",
    "        title_font=dict(\n",
    "            size=20,\n",
    "            # family='Courier', \n",
    "            # color='crimson'\n",
    "        ),\n",
    "        tickfont=dict(\n",
    "            # family='Rockwell', \n",
    "            # color='crimson', \n",
    "            size=12\n",
    "        ),\n",
    "    )\n",
    "\n",
    "    # fig.update_layout(\n",
    "    #     margin=dict(l=0, r=0, t=0, b=0),\n",
    "    # #     paper_bgcolor=\"LightSteelBlue\",\n",
    "    # )\n",
    "\n",
    "    config={\n",
    "        'displaylogo': False,\n",
    "        'displayModeBar': True,\n",
    "        'modeBarButtonsToRemove': ['hoverClosest3d', 'hoverClosestCartesian', 'hoverClosestGeo' , 'hoverClosestGl2d', 'hoverClosestPie' , \n",
    "            'lasso2d','toggleSpikelines',' hoverClosestCartesian', 'hoverCompareCartesian'], \n",
    "        'responsive': True\n",
    "    }\n",
    "\n",
    "    fig.update_layout(\n",
    "        legend=dict(\n",
    "            yanchor=\"middle\",\n",
    "            y=0.60,\n",
    "            xanchor=\"right\",\n",
    "            x=0.99,\n",
    "            # itemsizing='constant',\n",
    "            # traceorder='reversed+grouped',\n",
    "            borderwidth=1,\n",
    "            bordercolor='#ffffff',\n",
    "            # title_font_family=\"Times New Roman\",\n",
    "            title_font_size=20,\n",
    "            title = '',\n",
    "            font=dict(\n",
    "                # family=\"Courier\",\n",
    "                size=14,\n",
    "                color=\"black\"\n",
    "            ),\n",
    "        )\n",
    "    )\n",
    "\n",
    "    plot_name = f'plot_facets_{sheet_name.lower()}'\n",
    "\n",
    "    fig.show(config=config)\n",
    "    fig.write_html(f\"{plot_name}.html\", include_plotlyjs='directory',config=config)\n",
    "    fig.write_image(f\"{plot_name}.svg\")\n",
    "    fig.write_image(f\"{plot_name}.pdf\")"
   ]
  },
  {
   "cell_type": "code",
   "execution_count": 476,
   "metadata": {},
   "outputs": [
    {
     "output_type": "display_data",
     "data": {
      "text/html": "        <script type=\"text/javascript\">\n        window.PlotlyConfig = {MathJaxConfig: 'local'};\n        if (window.MathJax) {MathJax.Hub.Config({SVG: {font: \"STIX-Web\"}});}\n        if (typeof require !== 'undefined') {\n        require.undef(\"plotly\");\n        requirejs.config({\n            paths: {\n                'plotly': ['https://cdn.plot.ly/plotly-latest.min']\n            }\n        });\n        require(['plotly'], function(Plotly) {\n            window._Plotly = Plotly;\n        });\n        }\n        </script>\n        "
     },
     "metadata": {}
    },
    {
     "output_type": "display_data",
     "data": {
      "application/vnd.plotly.v1+json": {
       "config": {
        "linkText": "Export to plot.ly",
        "plotlyServerURL": "https://plot.ly",
        "showLink": false
       },
       "data": [
        {
         "legendgroup": "stock",
         "name": "AAPL",
         "type": "scatter",
         "x": [
          "2018-01-01T00:00:00",
          "2018-01-02T00:00:00",
          "2018-01-03T00:00:00",
          "2018-01-04T00:00:00",
          "2018-01-05T00:00:00"
         ],
         "y": [
          100,
          120,
          130,
          120,
          150
         ]
        },
        {
         "hoverinfo": "text",
         "legendgroup": "Buy",
         "marker": {
          "color": "green",
          "size": 10
         },
         "mode": "markers",
         "name": "Buy",
         "showlegend": false,
         "text": [
          "Amount 2"
         ],
         "type": "scatter",
         "x": [
          "2018-01-02T00:00:00"
         ],
         "y": [
          120
         ]
        },
        {
         "hoverinfo": "text",
         "legendgroup": "Sell",
         "marker": {
          "color": "red",
          "size": 10
         },
         "mode": "markers",
         "name": "Sell",
         "showlegend": false,
         "text": [
          "Amount 1"
         ],
         "type": "scatter",
         "x": [
          "2018-01-05T00:00:00"
         ],
         "y": [
          150
         ]
        },
        {
         "legendgroup": "stock",
         "name": "MSFT",
         "type": "scatter",
         "x": [
          "2018-01-01T00:00:00",
          "2018-01-02T00:00:00",
          "2018-01-03T00:00:00",
          "2018-01-04T00:00:00",
          "2018-01-05T00:00:00"
         ],
         "y": [
          80,
          70,
          90,
          100,
          99
         ]
        },
        {
         "hoverinfo": "text",
         "legendgroup": "Buy",
         "marker": {
          "color": "green",
          "size": 10
         },
         "mode": "markers",
         "name": "Buy",
         "showlegend": false,
         "text": [
          "Amount 3"
         ],
         "type": "scatter",
         "x": [
          "2018-01-02T00:00:00"
         ],
         "y": [
          70
         ]
        },
        {
         "hoverinfo": "text",
         "legendgroup": "Sell",
         "marker": {
          "color": "red",
          "size": 10
         },
         "mode": "markers",
         "name": "Sell",
         "showlegend": false,
         "text": [
          "Amount 1"
         ],
         "type": "scatter",
         "x": [
          "2018-01-04T00:00:00"
         ],
         "y": [
          100
         ]
        },
        {
         "legendgroup": "Buy",
         "marker": {
          "color": "green",
          "size": 10
         },
         "mode": "markers",
         "name": "Buy",
         "showlegend": true,
         "type": "scatter",
         "x": [
          null
         ],
         "y": [
          null
         ]
        },
        {
         "legendgroup": "Sell",
         "marker": {
          "color": "red",
          "size": 10
         },
         "mode": "markers",
         "name": "Sell",
         "showlegend": true,
         "type": "scatter",
         "x": [
          null
         ],
         "y": [
          null
         ]
        }
       ],
       "layout": {
        "showlegend": true,
        "template": {
         "data": {
          "bar": [
           {
            "error_x": {
             "color": "#2a3f5f"
            },
            "error_y": {
             "color": "#2a3f5f"
            },
            "marker": {
             "line": {
              "color": "#E5ECF6",
              "width": 0.5
             }
            },
            "type": "bar"
           }
          ],
          "barpolar": [
           {
            "marker": {
             "line": {
              "color": "#E5ECF6",
              "width": 0.5
             }
            },
            "type": "barpolar"
           }
          ],
          "carpet": [
           {
            "aaxis": {
             "endlinecolor": "#2a3f5f",
             "gridcolor": "white",
             "linecolor": "white",
             "minorgridcolor": "white",
             "startlinecolor": "#2a3f5f"
            },
            "baxis": {
             "endlinecolor": "#2a3f5f",
             "gridcolor": "white",
             "linecolor": "white",
             "minorgridcolor": "white",
             "startlinecolor": "#2a3f5f"
            },
            "type": "carpet"
           }
          ],
          "choropleth": [
           {
            "colorbar": {
             "outlinewidth": 0,
             "ticks": ""
            },
            "type": "choropleth"
           }
          ],
          "contour": [
           {
            "colorbar": {
             "outlinewidth": 0,
             "ticks": ""
            },
            "colorscale": [
             [
              0,
              "#0d0887"
             ],
             [
              0.1111111111111111,
              "#46039f"
             ],
             [
              0.2222222222222222,
              "#7201a8"
             ],
             [
              0.3333333333333333,
              "#9c179e"
             ],
             [
              0.4444444444444444,
              "#bd3786"
             ],
             [
              0.5555555555555556,
              "#d8576b"
             ],
             [
              0.6666666666666666,
              "#ed7953"
             ],
             [
              0.7777777777777778,
              "#fb9f3a"
             ],
             [
              0.8888888888888888,
              "#fdca26"
             ],
             [
              1,
              "#f0f921"
             ]
            ],
            "type": "contour"
           }
          ],
          "contourcarpet": [
           {
            "colorbar": {
             "outlinewidth": 0,
             "ticks": ""
            },
            "type": "contourcarpet"
           }
          ],
          "heatmap": [
           {
            "colorbar": {
             "outlinewidth": 0,
             "ticks": ""
            },
            "colorscale": [
             [
              0,
              "#0d0887"
             ],
             [
              0.1111111111111111,
              "#46039f"
             ],
             [
              0.2222222222222222,
              "#7201a8"
             ],
             [
              0.3333333333333333,
              "#9c179e"
             ],
             [
              0.4444444444444444,
              "#bd3786"
             ],
             [
              0.5555555555555556,
              "#d8576b"
             ],
             [
              0.6666666666666666,
              "#ed7953"
             ],
             [
              0.7777777777777778,
              "#fb9f3a"
             ],
             [
              0.8888888888888888,
              "#fdca26"
             ],
             [
              1,
              "#f0f921"
             ]
            ],
            "type": "heatmap"
           }
          ],
          "heatmapgl": [
           {
            "colorbar": {
             "outlinewidth": 0,
             "ticks": ""
            },
            "colorscale": [
             [
              0,
              "#0d0887"
             ],
             [
              0.1111111111111111,
              "#46039f"
             ],
             [
              0.2222222222222222,
              "#7201a8"
             ],
             [
              0.3333333333333333,
              "#9c179e"
             ],
             [
              0.4444444444444444,
              "#bd3786"
             ],
             [
              0.5555555555555556,
              "#d8576b"
             ],
             [
              0.6666666666666666,
              "#ed7953"
             ],
             [
              0.7777777777777778,
              "#fb9f3a"
             ],
             [
              0.8888888888888888,
              "#fdca26"
             ],
             [
              1,
              "#f0f921"
             ]
            ],
            "type": "heatmapgl"
           }
          ],
          "histogram": [
           {
            "marker": {
             "colorbar": {
              "outlinewidth": 0,
              "ticks": ""
             }
            },
            "type": "histogram"
           }
          ],
          "histogram2d": [
           {
            "colorbar": {
             "outlinewidth": 0,
             "ticks": ""
            },
            "colorscale": [
             [
              0,
              "#0d0887"
             ],
             [
              0.1111111111111111,
              "#46039f"
             ],
             [
              0.2222222222222222,
              "#7201a8"
             ],
             [
              0.3333333333333333,
              "#9c179e"
             ],
             [
              0.4444444444444444,
              "#bd3786"
             ],
             [
              0.5555555555555556,
              "#d8576b"
             ],
             [
              0.6666666666666666,
              "#ed7953"
             ],
             [
              0.7777777777777778,
              "#fb9f3a"
             ],
             [
              0.8888888888888888,
              "#fdca26"
             ],
             [
              1,
              "#f0f921"
             ]
            ],
            "type": "histogram2d"
           }
          ],
          "histogram2dcontour": [
           {
            "colorbar": {
             "outlinewidth": 0,
             "ticks": ""
            },
            "colorscale": [
             [
              0,
              "#0d0887"
             ],
             [
              0.1111111111111111,
              "#46039f"
             ],
             [
              0.2222222222222222,
              "#7201a8"
             ],
             [
              0.3333333333333333,
              "#9c179e"
             ],
             [
              0.4444444444444444,
              "#bd3786"
             ],
             [
              0.5555555555555556,
              "#d8576b"
             ],
             [
              0.6666666666666666,
              "#ed7953"
             ],
             [
              0.7777777777777778,
              "#fb9f3a"
             ],
             [
              0.8888888888888888,
              "#fdca26"
             ],
             [
              1,
              "#f0f921"
             ]
            ],
            "type": "histogram2dcontour"
           }
          ],
          "mesh3d": [
           {
            "colorbar": {
             "outlinewidth": 0,
             "ticks": ""
            },
            "type": "mesh3d"
           }
          ],
          "parcoords": [
           {
            "line": {
             "colorbar": {
              "outlinewidth": 0,
              "ticks": ""
             }
            },
            "type": "parcoords"
           }
          ],
          "pie": [
           {
            "automargin": true,
            "type": "pie"
           }
          ],
          "scatter": [
           {
            "marker": {
             "colorbar": {
              "outlinewidth": 0,
              "ticks": ""
             }
            },
            "type": "scatter"
           }
          ],
          "scatter3d": [
           {
            "line": {
             "colorbar": {
              "outlinewidth": 0,
              "ticks": ""
             }
            },
            "marker": {
             "colorbar": {
              "outlinewidth": 0,
              "ticks": ""
             }
            },
            "type": "scatter3d"
           }
          ],
          "scattercarpet": [
           {
            "marker": {
             "colorbar": {
              "outlinewidth": 0,
              "ticks": ""
             }
            },
            "type": "scattercarpet"
           }
          ],
          "scattergeo": [
           {
            "marker": {
             "colorbar": {
              "outlinewidth": 0,
              "ticks": ""
             }
            },
            "type": "scattergeo"
           }
          ],
          "scattergl": [
           {
            "marker": {
             "colorbar": {
              "outlinewidth": 0,
              "ticks": ""
             }
            },
            "type": "scattergl"
           }
          ],
          "scattermapbox": [
           {
            "marker": {
             "colorbar": {
              "outlinewidth": 0,
              "ticks": ""
             }
            },
            "type": "scattermapbox"
           }
          ],
          "scatterpolar": [
           {
            "marker": {
             "colorbar": {
              "outlinewidth": 0,
              "ticks": ""
             }
            },
            "type": "scatterpolar"
           }
          ],
          "scatterpolargl": [
           {
            "marker": {
             "colorbar": {
              "outlinewidth": 0,
              "ticks": ""
             }
            },
            "type": "scatterpolargl"
           }
          ],
          "scatterternary": [
           {
            "marker": {
             "colorbar": {
              "outlinewidth": 0,
              "ticks": ""
             }
            },
            "type": "scatterternary"
           }
          ],
          "surface": [
           {
            "colorbar": {
             "outlinewidth": 0,
             "ticks": ""
            },
            "colorscale": [
             [
              0,
              "#0d0887"
             ],
             [
              0.1111111111111111,
              "#46039f"
             ],
             [
              0.2222222222222222,
              "#7201a8"
             ],
             [
              0.3333333333333333,
              "#9c179e"
             ],
             [
              0.4444444444444444,
              "#bd3786"
             ],
             [
              0.5555555555555556,
              "#d8576b"
             ],
             [
              0.6666666666666666,
              "#ed7953"
             ],
             [
              0.7777777777777778,
              "#fb9f3a"
             ],
             [
              0.8888888888888888,
              "#fdca26"
             ],
             [
              1,
              "#f0f921"
             ]
            ],
            "type": "surface"
           }
          ],
          "table": [
           {
            "cells": {
             "fill": {
              "color": "#EBF0F8"
             },
             "line": {
              "color": "white"
             }
            },
            "header": {
             "fill": {
              "color": "#C8D4E3"
             },
             "line": {
              "color": "white"
             }
            },
            "type": "table"
           }
          ]
         },
         "layout": {
          "annotationdefaults": {
           "arrowcolor": "#2a3f5f",
           "arrowhead": 0,
           "arrowwidth": 1
          },
          "coloraxis": {
           "colorbar": {
            "outlinewidth": 0,
            "ticks": ""
           }
          },
          "colorscale": {
           "diverging": [
            [
             0,
             "#8e0152"
            ],
            [
             0.1,
             "#c51b7d"
            ],
            [
             0.2,
             "#de77ae"
            ],
            [
             0.3,
             "#f1b6da"
            ],
            [
             0.4,
             "#fde0ef"
            ],
            [
             0.5,
             "#f7f7f7"
            ],
            [
             0.6,
             "#e6f5d0"
            ],
            [
             0.7,
             "#b8e186"
            ],
            [
             0.8,
             "#7fbc41"
            ],
            [
             0.9,
             "#4d9221"
            ],
            [
             1,
             "#276419"
            ]
           ],
           "sequential": [
            [
             0,
             "#0d0887"
            ],
            [
             0.1111111111111111,
             "#46039f"
            ],
            [
             0.2222222222222222,
             "#7201a8"
            ],
            [
             0.3333333333333333,
             "#9c179e"
            ],
            [
             0.4444444444444444,
             "#bd3786"
            ],
            [
             0.5555555555555556,
             "#d8576b"
            ],
            [
             0.6666666666666666,
             "#ed7953"
            ],
            [
             0.7777777777777778,
             "#fb9f3a"
            ],
            [
             0.8888888888888888,
             "#fdca26"
            ],
            [
             1,
             "#f0f921"
            ]
           ],
           "sequentialminus": [
            [
             0,
             "#0d0887"
            ],
            [
             0.1111111111111111,
             "#46039f"
            ],
            [
             0.2222222222222222,
             "#7201a8"
            ],
            [
             0.3333333333333333,
             "#9c179e"
            ],
            [
             0.4444444444444444,
             "#bd3786"
            ],
            [
             0.5555555555555556,
             "#d8576b"
            ],
            [
             0.6666666666666666,
             "#ed7953"
            ],
            [
             0.7777777777777778,
             "#fb9f3a"
            ],
            [
             0.8888888888888888,
             "#fdca26"
            ],
            [
             1,
             "#f0f921"
            ]
           ]
          },
          "colorway": [
           "#636efa",
           "#EF553B",
           "#00cc96",
           "#ab63fa",
           "#FFA15A",
           "#19d3f3",
           "#FF6692",
           "#B6E880",
           "#FF97FF",
           "#FECB52"
          ],
          "font": {
           "color": "#2a3f5f"
          },
          "geo": {
           "bgcolor": "white",
           "lakecolor": "white",
           "landcolor": "#E5ECF6",
           "showlakes": true,
           "showland": true,
           "subunitcolor": "white"
          },
          "hoverlabel": {
           "align": "left"
          },
          "hovermode": "closest",
          "mapbox": {
           "style": "light"
          },
          "paper_bgcolor": "white",
          "plot_bgcolor": "#E5ECF6",
          "polar": {
           "angularaxis": {
            "gridcolor": "white",
            "linecolor": "white",
            "ticks": ""
           },
           "bgcolor": "#E5ECF6",
           "radialaxis": {
            "gridcolor": "white",
            "linecolor": "white",
            "ticks": ""
           }
          },
          "scene": {
           "xaxis": {
            "backgroundcolor": "#E5ECF6",
            "gridcolor": "white",
            "gridwidth": 2,
            "linecolor": "white",
            "showbackground": true,
            "ticks": "",
            "zerolinecolor": "white"
           },
           "yaxis": {
            "backgroundcolor": "#E5ECF6",
            "gridcolor": "white",
            "gridwidth": 2,
            "linecolor": "white",
            "showbackground": true,
            "ticks": "",
            "zerolinecolor": "white"
           },
           "zaxis": {
            "backgroundcolor": "#E5ECF6",
            "gridcolor": "white",
            "gridwidth": 2,
            "linecolor": "white",
            "showbackground": true,
            "ticks": "",
            "zerolinecolor": "white"
           }
          },
          "shapedefaults": {
           "line": {
            "color": "#2a3f5f"
           }
          },
          "ternary": {
           "aaxis": {
            "gridcolor": "white",
            "linecolor": "white",
            "ticks": ""
           },
           "baxis": {
            "gridcolor": "white",
            "linecolor": "white",
            "ticks": ""
           },
           "bgcolor": "#E5ECF6",
           "caxis": {
            "gridcolor": "white",
            "linecolor": "white",
            "ticks": ""
           }
          },
          "title": {
           "x": 0.05
          },
          "xaxis": {
           "automargin": true,
           "gridcolor": "white",
           "linecolor": "white",
           "ticks": "",
           "title": {
            "standoff": 15
           },
           "zerolinecolor": "white",
           "zerolinewidth": 2
          },
          "yaxis": {
           "automargin": true,
           "gridcolor": "white",
           "linecolor": "white",
           "ticks": "",
           "title": {
            "standoff": 15
           },
           "zerolinecolor": "white",
           "zerolinewidth": 2
          }
         }
        },
        "title": {
         "text": "Feed"
        },
        "updatemenus": [
         {
          "active": -1,
          "buttons": [
           {
            "args": [
             {
              "visible": [
               true
              ]
             },
             {
              "title": "all"
             }
            ],
            "label": "All",
            "method": "update"
           },
           {
            "args": [
             {
              "visible": [
               true,
               true,
               true,
               false,
               false,
               false,
               true,
               true
              ]
             },
             {
              "title": "titleAAPL"
             }
            ],
            "label": "AAPL",
            "method": "update"
           },
           {
            "args": [
             {
              "visible": [
               false,
               false,
               false,
               true,
               true,
               true,
               true,
               true
              ]
             },
             {
              "title": "titleMSFT"
             }
            ],
            "label": "MSFT",
            "method": "update"
           }
          ]
         }
        ]
       }
      },
      "text/html": "<div>\n        \n        \n            <div id=\"4d9fac1a-f907-4005-92b8-d2a728245fbe\" class=\"plotly-graph-div\" style=\"height:525px; width:100%;\"></div>\n            <script type=\"text/javascript\">\n                require([\"plotly\"], function(Plotly) {\n                    window.PLOTLYENV=window.PLOTLYENV || {};\n                    \n                if (document.getElementById(\"4d9fac1a-f907-4005-92b8-d2a728245fbe\")) {\n                    Plotly.newPlot(\n                        '4d9fac1a-f907-4005-92b8-d2a728245fbe',\n                        [{\"legendgroup\": \"stock\", \"name\": \"AAPL\", \"type\": \"scatter\", \"x\": [\"2018-01-01T00:00:00\", \"2018-01-02T00:00:00\", \"2018-01-03T00:00:00\", \"2018-01-04T00:00:00\", \"2018-01-05T00:00:00\"], \"y\": [100, 120, 130, 120, 150]}, {\"hoverinfo\": \"text\", \"legendgroup\": \"Buy\", \"marker\": {\"color\": \"green\", \"size\": 10}, \"mode\": \"markers\", \"name\": \"Buy\", \"showlegend\": false, \"text\": [\"Amount 2\"], \"type\": \"scatter\", \"x\": [\"2018-01-02T00:00:00\"], \"y\": [120]}, {\"hoverinfo\": \"text\", \"legendgroup\": \"Sell\", \"marker\": {\"color\": \"red\", \"size\": 10}, \"mode\": \"markers\", \"name\": \"Sell\", \"showlegend\": false, \"text\": [\"Amount 1\"], \"type\": \"scatter\", \"x\": [\"2018-01-05T00:00:00\"], \"y\": [150]}, {\"legendgroup\": \"stock\", \"name\": \"MSFT\", \"type\": \"scatter\", \"x\": [\"2018-01-01T00:00:00\", \"2018-01-02T00:00:00\", \"2018-01-03T00:00:00\", \"2018-01-04T00:00:00\", \"2018-01-05T00:00:00\"], \"y\": [80, 70, 90, 100, 99]}, {\"hoverinfo\": \"text\", \"legendgroup\": \"Buy\", \"marker\": {\"color\": \"green\", \"size\": 10}, \"mode\": \"markers\", \"name\": \"Buy\", \"showlegend\": false, \"text\": [\"Amount 3\"], \"type\": \"scatter\", \"x\": [\"2018-01-02T00:00:00\"], \"y\": [70]}, {\"hoverinfo\": \"text\", \"legendgroup\": \"Sell\", \"marker\": {\"color\": \"red\", \"size\": 10}, \"mode\": \"markers\", \"name\": \"Sell\", \"showlegend\": false, \"text\": [\"Amount 1\"], \"type\": \"scatter\", \"x\": [\"2018-01-04T00:00:00\"], \"y\": [100]}, {\"legendgroup\": \"Buy\", \"marker\": {\"color\": \"green\", \"size\": 10}, \"mode\": \"markers\", \"name\": \"Buy\", \"showlegend\": true, \"type\": \"scatter\", \"x\": [null], \"y\": [null]}, {\"legendgroup\": \"Sell\", \"marker\": {\"color\": \"red\", \"size\": 10}, \"mode\": \"markers\", \"name\": \"Sell\", \"showlegend\": true, \"type\": \"scatter\", \"x\": [null], \"y\": [null]}],\n                        {\"showlegend\": true, \"template\": {\"data\": {\"bar\": [{\"error_x\": {\"color\": \"#2a3f5f\"}, \"error_y\": {\"color\": \"#2a3f5f\"}, \"marker\": {\"line\": {\"color\": \"#E5ECF6\", \"width\": 0.5}}, \"type\": \"bar\"}], \"barpolar\": [{\"marker\": {\"line\": {\"color\": \"#E5ECF6\", \"width\": 0.5}}, \"type\": \"barpolar\"}], \"carpet\": [{\"aaxis\": {\"endlinecolor\": \"#2a3f5f\", \"gridcolor\": \"white\", \"linecolor\": \"white\", \"minorgridcolor\": \"white\", \"startlinecolor\": \"#2a3f5f\"}, \"baxis\": {\"endlinecolor\": \"#2a3f5f\", \"gridcolor\": \"white\", \"linecolor\": \"white\", \"minorgridcolor\": \"white\", \"startlinecolor\": \"#2a3f5f\"}, \"type\": \"carpet\"}], \"choropleth\": [{\"colorbar\": {\"outlinewidth\": 0, \"ticks\": \"\"}, \"type\": \"choropleth\"}], \"contour\": [{\"colorbar\": {\"outlinewidth\": 0, \"ticks\": \"\"}, \"colorscale\": [[0.0, \"#0d0887\"], [0.1111111111111111, \"#46039f\"], [0.2222222222222222, \"#7201a8\"], [0.3333333333333333, \"#9c179e\"], [0.4444444444444444, \"#bd3786\"], [0.5555555555555556, \"#d8576b\"], [0.6666666666666666, \"#ed7953\"], [0.7777777777777778, \"#fb9f3a\"], [0.8888888888888888, \"#fdca26\"], [1.0, \"#f0f921\"]], \"type\": \"contour\"}], \"contourcarpet\": [{\"colorbar\": {\"outlinewidth\": 0, \"ticks\": \"\"}, \"type\": \"contourcarpet\"}], \"heatmap\": [{\"colorbar\": {\"outlinewidth\": 0, \"ticks\": \"\"}, \"colorscale\": [[0.0, \"#0d0887\"], [0.1111111111111111, \"#46039f\"], [0.2222222222222222, \"#7201a8\"], [0.3333333333333333, \"#9c179e\"], [0.4444444444444444, \"#bd3786\"], [0.5555555555555556, \"#d8576b\"], [0.6666666666666666, \"#ed7953\"], [0.7777777777777778, \"#fb9f3a\"], [0.8888888888888888, \"#fdca26\"], [1.0, \"#f0f921\"]], \"type\": \"heatmap\"}], \"heatmapgl\": [{\"colorbar\": {\"outlinewidth\": 0, \"ticks\": \"\"}, \"colorscale\": [[0.0, \"#0d0887\"], [0.1111111111111111, \"#46039f\"], [0.2222222222222222, \"#7201a8\"], [0.3333333333333333, \"#9c179e\"], [0.4444444444444444, \"#bd3786\"], [0.5555555555555556, \"#d8576b\"], [0.6666666666666666, \"#ed7953\"], [0.7777777777777778, \"#fb9f3a\"], [0.8888888888888888, \"#fdca26\"], [1.0, \"#f0f921\"]], \"type\": \"heatmapgl\"}], \"histogram\": [{\"marker\": {\"colorbar\": {\"outlinewidth\": 0, \"ticks\": \"\"}}, \"type\": \"histogram\"}], \"histogram2d\": [{\"colorbar\": {\"outlinewidth\": 0, \"ticks\": \"\"}, \"colorscale\": [[0.0, \"#0d0887\"], [0.1111111111111111, \"#46039f\"], [0.2222222222222222, \"#7201a8\"], [0.3333333333333333, \"#9c179e\"], [0.4444444444444444, \"#bd3786\"], [0.5555555555555556, \"#d8576b\"], [0.6666666666666666, \"#ed7953\"], [0.7777777777777778, \"#fb9f3a\"], [0.8888888888888888, \"#fdca26\"], [1.0, \"#f0f921\"]], \"type\": \"histogram2d\"}], \"histogram2dcontour\": [{\"colorbar\": {\"outlinewidth\": 0, \"ticks\": \"\"}, \"colorscale\": [[0.0, \"#0d0887\"], [0.1111111111111111, \"#46039f\"], [0.2222222222222222, \"#7201a8\"], [0.3333333333333333, \"#9c179e\"], [0.4444444444444444, \"#bd3786\"], [0.5555555555555556, \"#d8576b\"], [0.6666666666666666, \"#ed7953\"], [0.7777777777777778, \"#fb9f3a\"], [0.8888888888888888, \"#fdca26\"], [1.0, \"#f0f921\"]], \"type\": \"histogram2dcontour\"}], \"mesh3d\": [{\"colorbar\": {\"outlinewidth\": 0, \"ticks\": \"\"}, \"type\": \"mesh3d\"}], \"parcoords\": [{\"line\": {\"colorbar\": {\"outlinewidth\": 0, \"ticks\": \"\"}}, \"type\": \"parcoords\"}], \"pie\": [{\"automargin\": true, \"type\": \"pie\"}], \"scatter\": [{\"marker\": {\"colorbar\": {\"outlinewidth\": 0, \"ticks\": \"\"}}, \"type\": \"scatter\"}], \"scatter3d\": [{\"line\": {\"colorbar\": {\"outlinewidth\": 0, \"ticks\": \"\"}}, \"marker\": {\"colorbar\": {\"outlinewidth\": 0, \"ticks\": \"\"}}, \"type\": \"scatter3d\"}], \"scattercarpet\": [{\"marker\": {\"colorbar\": {\"outlinewidth\": 0, \"ticks\": \"\"}}, \"type\": \"scattercarpet\"}], \"scattergeo\": [{\"marker\": {\"colorbar\": {\"outlinewidth\": 0, \"ticks\": \"\"}}, \"type\": \"scattergeo\"}], \"scattergl\": [{\"marker\": {\"colorbar\": {\"outlinewidth\": 0, \"ticks\": \"\"}}, \"type\": \"scattergl\"}], \"scattermapbox\": [{\"marker\": {\"colorbar\": {\"outlinewidth\": 0, \"ticks\": \"\"}}, \"type\": \"scattermapbox\"}], \"scatterpolar\": [{\"marker\": {\"colorbar\": {\"outlinewidth\": 0, \"ticks\": \"\"}}, \"type\": \"scatterpolar\"}], \"scatterpolargl\": [{\"marker\": {\"colorbar\": {\"outlinewidth\": 0, \"ticks\": \"\"}}, \"type\": \"scatterpolargl\"}], \"scatterternary\": [{\"marker\": {\"colorbar\": {\"outlinewidth\": 0, \"ticks\": \"\"}}, \"type\": \"scatterternary\"}], \"surface\": [{\"colorbar\": {\"outlinewidth\": 0, \"ticks\": \"\"}, \"colorscale\": [[0.0, \"#0d0887\"], [0.1111111111111111, \"#46039f\"], [0.2222222222222222, \"#7201a8\"], [0.3333333333333333, \"#9c179e\"], [0.4444444444444444, \"#bd3786\"], [0.5555555555555556, \"#d8576b\"], [0.6666666666666666, \"#ed7953\"], [0.7777777777777778, \"#fb9f3a\"], [0.8888888888888888, \"#fdca26\"], [1.0, \"#f0f921\"]], \"type\": \"surface\"}], \"table\": [{\"cells\": {\"fill\": {\"color\": \"#EBF0F8\"}, \"line\": {\"color\": \"white\"}}, \"header\": {\"fill\": {\"color\": \"#C8D4E3\"}, \"line\": {\"color\": \"white\"}}, \"type\": \"table\"}]}, \"layout\": {\"annotationdefaults\": {\"arrowcolor\": \"#2a3f5f\", \"arrowhead\": 0, \"arrowwidth\": 1}, \"coloraxis\": {\"colorbar\": {\"outlinewidth\": 0, \"ticks\": \"\"}}, \"colorscale\": {\"diverging\": [[0, \"#8e0152\"], [0.1, \"#c51b7d\"], [0.2, \"#de77ae\"], [0.3, \"#f1b6da\"], [0.4, \"#fde0ef\"], [0.5, \"#f7f7f7\"], [0.6, \"#e6f5d0\"], [0.7, \"#b8e186\"], [0.8, \"#7fbc41\"], [0.9, \"#4d9221\"], [1, \"#276419\"]], \"sequential\": [[0.0, \"#0d0887\"], [0.1111111111111111, \"#46039f\"], [0.2222222222222222, \"#7201a8\"], [0.3333333333333333, \"#9c179e\"], [0.4444444444444444, \"#bd3786\"], [0.5555555555555556, \"#d8576b\"], [0.6666666666666666, \"#ed7953\"], [0.7777777777777778, \"#fb9f3a\"], [0.8888888888888888, \"#fdca26\"], [1.0, \"#f0f921\"]], \"sequentialminus\": [[0.0, \"#0d0887\"], [0.1111111111111111, \"#46039f\"], [0.2222222222222222, \"#7201a8\"], [0.3333333333333333, \"#9c179e\"], [0.4444444444444444, \"#bd3786\"], [0.5555555555555556, \"#d8576b\"], [0.6666666666666666, \"#ed7953\"], [0.7777777777777778, \"#fb9f3a\"], [0.8888888888888888, \"#fdca26\"], [1.0, \"#f0f921\"]]}, \"colorway\": [\"#636efa\", \"#EF553B\", \"#00cc96\", \"#ab63fa\", \"#FFA15A\", \"#19d3f3\", \"#FF6692\", \"#B6E880\", \"#FF97FF\", \"#FECB52\"], \"font\": {\"color\": \"#2a3f5f\"}, \"geo\": {\"bgcolor\": \"white\", \"lakecolor\": \"white\", \"landcolor\": \"#E5ECF6\", \"showlakes\": true, \"showland\": true, \"subunitcolor\": \"white\"}, \"hoverlabel\": {\"align\": \"left\"}, \"hovermode\": \"closest\", \"mapbox\": {\"style\": \"light\"}, \"paper_bgcolor\": \"white\", \"plot_bgcolor\": \"#E5ECF6\", \"polar\": {\"angularaxis\": {\"gridcolor\": \"white\", \"linecolor\": \"white\", \"ticks\": \"\"}, \"bgcolor\": \"#E5ECF6\", \"radialaxis\": {\"gridcolor\": \"white\", \"linecolor\": \"white\", \"ticks\": \"\"}}, \"scene\": {\"xaxis\": {\"backgroundcolor\": \"#E5ECF6\", \"gridcolor\": \"white\", \"gridwidth\": 2, \"linecolor\": \"white\", \"showbackground\": true, \"ticks\": \"\", \"zerolinecolor\": \"white\"}, \"yaxis\": {\"backgroundcolor\": \"#E5ECF6\", \"gridcolor\": \"white\", \"gridwidth\": 2, \"linecolor\": \"white\", \"showbackground\": true, \"ticks\": \"\", \"zerolinecolor\": \"white\"}, \"zaxis\": {\"backgroundcolor\": \"#E5ECF6\", \"gridcolor\": \"white\", \"gridwidth\": 2, \"linecolor\": \"white\", \"showbackground\": true, \"ticks\": \"\", \"zerolinecolor\": \"white\"}}, \"shapedefaults\": {\"line\": {\"color\": \"#2a3f5f\"}}, \"ternary\": {\"aaxis\": {\"gridcolor\": \"white\", \"linecolor\": \"white\", \"ticks\": \"\"}, \"baxis\": {\"gridcolor\": \"white\", \"linecolor\": \"white\", \"ticks\": \"\"}, \"bgcolor\": \"#E5ECF6\", \"caxis\": {\"gridcolor\": \"white\", \"linecolor\": \"white\", \"ticks\": \"\"}}, \"title\": {\"x\": 0.05}, \"xaxis\": {\"automargin\": true, \"gridcolor\": \"white\", \"linecolor\": \"white\", \"ticks\": \"\", \"title\": {\"standoff\": 15}, \"zerolinecolor\": \"white\", \"zerolinewidth\": 2}, \"yaxis\": {\"automargin\": true, \"gridcolor\": \"white\", \"linecolor\": \"white\", \"ticks\": \"\", \"title\": {\"standoff\": 15}, \"zerolinecolor\": \"white\", \"zerolinewidth\": 2}}}, \"title\": {\"text\": \"Feed\"}, \"updatemenus\": [{\"active\": -1, \"buttons\": [{\"args\": [{\"visible\": [true]}, {\"title\": \"all\"}], \"label\": \"All\", \"method\": \"update\"}, {\"args\": [{\"visible\": [true, true, true, false, false, false, true, true]}, {\"title\": \"titleAAPL\"}], \"label\": \"AAPL\", \"method\": \"update\"}, {\"args\": [{\"visible\": [false, false, false, true, true, true, true, true]}, {\"title\": \"titleMSFT\"}], \"label\": \"MSFT\", \"method\": \"update\"}]}]},\n                        {\"responsive\": true}\n                    ).then(function(){\n                            \nvar gd = document.getElementById('4d9fac1a-f907-4005-92b8-d2a728245fbe');\nvar x = new MutationObserver(function (mutations, observer) {{\n        var display = window.getComputedStyle(gd).display;\n        if (!display || display === 'none') {{\n            console.log([gd, 'removed!']);\n            Plotly.purge(gd);\n            observer.disconnect();\n        }}\n}});\n\n// Listen for the removal of the full notebook cells\nvar notebookContainer = gd.closest('#notebook-container');\nif (notebookContainer) {{\n    x.observe(notebookContainer, {childList: true});\n}}\n\n// Listen for the clearing of the current output cell\nvar outputEl = gd.closest('.output');\nif (outputEl) {{\n    x.observe(outputEl, {childList: true});\n}}\n\n                        })\n                };\n                });\n            </script>\n        </div>"
     },
     "metadata": {}
    }
   ],
   "source": [
    "from plotly.offline import download_plotlyjs, init_notebook_mode, plot, iplot\n",
    "import plotly.graph_objs as go\n",
    "import pandas as pd\n",
    "init_notebook_mode(connected=True)\n",
    "\n",
    "feed = pd.DataFrame({'AAPL': [100, 120, 130, 120, 150],\n",
    "                     'MSFT': [80, 70, 90, 100, 99]}, index = pd.date_range('2018-01-01', '2018-01-05'))\n",
    "\n",
    "trans = pd.DataFrame({'Symbol': ['AAPL', 'AAPL', 'MSFT', 'MSFT'],\n",
    "                        'Amount': [2, 1, 3, 1],\n",
    "                        'Action': ['buy', 'sell', 'buy', 'sell'],\n",
    "                        'Price': [120, 150, 70, 100],\n",
    "                        'Date': [pd.to_datetime(i) for i in ['2018-01-02', '2018-01-05', '2018-01-02', '2018-01-04']]\n",
    "                       })\n",
    "\n",
    "data = []\n",
    "\n",
    "# Add \"All\" button\n",
    "all_but = dict(label = 'All',\n",
    "               method = 'update',\n",
    "                  args = [{'visible': [True]},\n",
    "                          {'title': 'all'}\n",
    "                           ])\n",
    "\n",
    "buttonlist = [all_but]\n",
    "for i, col in enumerate(feed.columns.tolist()):\n",
    "    stock = go.Scatter(x=feed.index,\n",
    "                       y=feed.loc[:, col],\n",
    "                       name=col,\n",
    "                       legendgroup='stock'\n",
    "                      )\n",
    "    # actions\n",
    "    success = trans.loc[trans.Symbol == col]\n",
    "    \n",
    "    # Buy\n",
    "    success_buy = success[success.Action == 'buy']\n",
    "    action_buy = go.Scatter(x=success_buy.Date,\n",
    "                         y=success_buy.Price,\n",
    "                         name='Buy',\n",
    "                         mode = 'markers',\n",
    "                         text = ['Amount ' + str(amount) for amount in success_buy.Amount],\n",
    "                         hoverinfo = 'text',\n",
    "                         showlegend=False,\n",
    "                         marker = dict(\n",
    "                             size=10,\n",
    "                             color = 'green'\n",
    "                         ),\n",
    "                         legendgroup='Buy',\n",
    "                        )\n",
    "    \n",
    "    # Sell\n",
    "    success_sell = success[success.Action == 'sell']\n",
    "    action_sell = go.Scatter(x=success_sell.Date,\n",
    "                         y=success_sell.Price,\n",
    "                         name='Sell',\n",
    "                         mode = 'markers',\n",
    "                         text = ['Amount ' + str(amount) for amount in success_sell.Amount],\n",
    "                         hoverinfo = 'text',\n",
    "                         showlegend=False,\n",
    "                         marker = dict(\n",
    "                             size=10,\n",
    "                             color = 'red'\n",
    "                         ),\n",
    "                         legendgroup='Sell',\n",
    "                        )\n",
    "    data.append(stock)\n",
    "    data.append(action_buy)\n",
    "    data.append(action_sell)\n",
    "    button = dict(label = col,\n",
    "                  method = 'update',\n",
    "                  args = [{'visible': [col == i for i in feed.columns.tolist() for _ in range(3)] + [True, True]},\n",
    "                          {'title': 'title' + col}\n",
    "                           ])\n",
    "    buttonlist.append(button)\n",
    "\n",
    "# Add single buy and sell traces for legend\n",
    "data.append(go.Scatter(x=[None], y=[None], mode='markers',\n",
    "                       marker=dict(size=10, color='green'),\n",
    "                       legendgroup='Buy', showlegend=True, name='Buy'))\n",
    "\n",
    "data.append(go.Scatter(x=[None], y=[None], mode='markers',\n",
    "                       marker=dict(size=10, color='red'),\n",
    "                       legendgroup='Sell', showlegend=True, name='Sell'))\n",
    "    \n",
    "updatemenus = list([\n",
    "    dict(active=-1,\n",
    "         buttons=buttonlist,\n",
    "    )\n",
    "])\n",
    "layout = dict(title='Feed', showlegend=True,\n",
    "              updatemenus=updatemenus)\n",
    "\n",
    "fig = dict(data=data, layout=layout)\n",
    "iplot(fig)"
   ]
  },
  {
   "cell_type": "code",
   "execution_count": null,
   "metadata": {},
   "outputs": [],
   "source": []
  }
 ]
}